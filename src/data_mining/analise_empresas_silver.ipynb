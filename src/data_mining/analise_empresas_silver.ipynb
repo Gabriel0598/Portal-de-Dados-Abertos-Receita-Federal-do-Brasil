{
 "cells": [
  {
   "cell_type": "code",
   "execution_count": 0,
   "metadata": {
    "application/vnd.databricks.v1+cell": {
     "cellMetadata": {
      "byteLimit": 2048000,
      "rowLimit": 10000
     },
     "inputWidgets": {},
     "nuid": "cdbe5b6e-6a33-43a2-8d61-918dac90e916",
     "showTitle": false,
     "tableResultSettingsMap": {},
     "title": ""
    }
   },
   "outputs": [],
   "source": [
    "# libs\n",
    "import os\n",
    "from pyspark.sql.types import StructType, StructField, StringType, IntegerType, FloatType\n",
    "from pyspark.sql.functions import col, split\n",
    "from pyspark.sql import functions as F\n",
    "\n",
    "# paths\n",
    "path_bronze_empre = \"dbfs:/FileStore/shared_uploads/default_user/bronze/*EMPRECSV\""
   ]
  },
  {
   "cell_type": "code",
   "execution_count": 0,
   "metadata": {
    "application/vnd.databricks.v1+cell": {
     "cellMetadata": {
      "byteLimit": 2048000,
      "rowLimit": 10000
     },
     "inputWidgets": {},
     "nuid": "3ecc5cdc-dae5-4f69-b7d9-2378ce80fce2",
     "showTitle": false,
     "tableResultSettingsMap": {},
     "title": ""
    }
   },
   "outputs": [],
   "source": [
    "df_raw_emp = spark.read.options(header=False, inferSchema=True, sep=';').format(\"csv\").load(path_bronze_empre)\n",
    "df_raw_emp.printSchema()"
   ]
  },
  {
   "cell_type": "code",
   "execution_count": 0,
   "metadata": {
    "application/vnd.databricks.v1+cell": {
     "cellMetadata": {
      "byteLimit": 2048000,
      "rowLimit": 10000
     },
     "inputWidgets": {},
     "nuid": "48385620-1ceb-4418-ae72-36877c6ddb1b",
     "showTitle": false,
     "tableResultSettingsMap": {},
     "title": ""
    }
   },
   "outputs": [],
   "source": [
    "df_raw_emp.count()"
   ]
  },
  {
   "cell_type": "code",
   "execution_count": 0,
   "metadata": {
    "application/vnd.databricks.v1+cell": {
     "cellMetadata": {
      "byteLimit": 2048000,
      "rowLimit": 10000
     },
     "inputWidgets": {},
     "nuid": "e9df9c5b-08dd-453f-9c99-ff50a5548a6b",
     "showTitle": false,
     "tableResultSettingsMap": {},
     "title": ""
    }
   },
   "outputs": [],
   "source": [
    "df_raw_emp.limit(20).display()"
   ]
  },
  {
   "cell_type": "code",
   "execution_count": 0,
   "metadata": {
    "application/vnd.databricks.v1+cell": {
     "cellMetadata": {
      "byteLimit": 2048000,
      "rowLimit": 10000
     },
     "inputWidgets": {},
     "nuid": "1e2ceae8-7289-436a-8ca8-e7d88c15b191",
     "showTitle": false,
     "tableResultSettingsMap": {},
     "title": ""
    }
   },
   "outputs": [],
   "source": [
    "# Analisar estrutura de registros\n",
    "# razao social\n",
    "df_raw_emp.select(\"_c1\").distinct().orderBy(\"_c1\", how=\"asc\").limit(100).display()"
   ]
  },
  {
   "cell_type": "code",
   "execution_count": 0,
   "metadata": {
    "application/vnd.databricks.v1+cell": {
     "cellMetadata": {
      "byteLimit": 2048000,
      "rowLimit": 10000
     },
     "inputWidgets": {},
     "nuid": "7287f035-453b-4354-8ecd-64fce9b1df31",
     "showTitle": false,
     "tableResultSettingsMap": {},
     "title": ""
    }
   },
   "outputs": [],
   "source": [
    "# Analisar estrutura de registros\n",
    "# capital social\n",
    "df_raw_emp.select(\"_c4\").distinct().orderBy(\"_c4\", how=\"asc\").limit(100).display()"
   ]
  },
  {
   "cell_type": "code",
   "execution_count": 0,
   "metadata": {
    "application/vnd.databricks.v1+cell": {
     "cellMetadata": {
      "byteLimit": 2048000,
      "rowLimit": 10000
     },
     "inputWidgets": {},
     "nuid": "e13b2da6-c362-469b-9d52-e73659a70051",
     "showTitle": false,
     "tableResultSettingsMap": {},
     "title": ""
    }
   },
   "outputs": [],
   "source": [
    "# Analisar estrutura de registros\n",
    "# natureza juridica\n",
    "df_raw_emp.select(\"_c2\").distinct().orderBy(\"_c2\", how=\"asc\").limit(100).display()"
   ]
  },
  {
   "cell_type": "code",
   "execution_count": 0,
   "metadata": {
    "application/vnd.databricks.v1+cell": {
     "cellMetadata": {
      "byteLimit": 2048000,
      "rowLimit": 10000
     },
     "inputWidgets": {},
     "nuid": "927aa1ce-8764-4b33-8c08-2e4a77db067b",
     "showTitle": false,
     "tableResultSettingsMap": {},
     "title": ""
    }
   },
   "outputs": [],
   "source": [
    "# Analisar estrutura de registros\n",
    "# codigo porte\n",
    "df_raw_emp.select(\"_c5\").distinct().orderBy(\"_c5\", how=\"asc\").limit(100).display()"
   ]
  },
  {
   "cell_type": "code",
   "execution_count": 0,
   "metadata": {
    "application/vnd.databricks.v1+cell": {
     "cellMetadata": {
      "byteLimit": 2048000,
      "rowLimit": 10000
     },
     "inputWidgets": {},
     "nuid": "9704bb87-53f8-4c76-bbb5-6e240f81c559",
     "showTitle": false,
     "tableResultSettingsMap": {},
     "title": ""
    }
   },
   "outputs": [],
   "source": [
    "# Empresas de porte 1 com maior capital social\n",
    "df_raw_emp.select(\"*\").filter(col(\"_c5\") == 1).orderBy(col(\"_c4\").desc()).limit(50).display()"
   ]
  },
  {
   "cell_type": "code",
   "execution_count": 0,
   "metadata": {
    "application/vnd.databricks.v1+cell": {
     "cellMetadata": {
      "byteLimit": 2048000,
      "rowLimit": 10000
     },
     "inputWidgets": {},
     "nuid": "cc2c80e1-baf5-423a-8e8b-054f129c5d14",
     "showTitle": false,
     "tableResultSettingsMap": {},
     "title": ""
    }
   },
   "outputs": [],
   "source": [
    "# Empresas de porte 3 com maior capital social\n",
    "df_raw_emp.select(\"*\").filter(col(\"_c5\") == 3).orderBy(col(\"_c4\").desc()).limit(50).display()"
   ]
  },
  {
   "cell_type": "code",
   "execution_count": 0,
   "metadata": {
    "application/vnd.databricks.v1+cell": {
     "cellMetadata": {
      "byteLimit": 2048000,
      "rowLimit": 10000
     },
     "inputWidgets": {},
     "nuid": "f96f3c6a-2dca-4ce5-b58f-a1df8bad7748",
     "showTitle": false,
     "tableResultSettingsMap": {},
     "title": ""
    }
   },
   "outputs": [],
   "source": [
    "# Empresas de porte 5 com maior capital social\n",
    "df_raw_emp.select(\"*\").filter(col(\"_c5\") == 5).orderBy(col(\"_c4\").desc()).limit(50).display()"
   ]
  },
  {
   "cell_type": "code",
   "execution_count": 0,
   "metadata": {
    "application/vnd.databricks.v1+cell": {
     "cellMetadata": {
      "byteLimit": 2048000,
      "rowLimit": 10000
     },
     "inputWidgets": {},
     "nuid": "1c961954-2e32-4ff6-bf7c-51c80e8ed81f",
     "showTitle": false,
     "tableResultSettingsMap": {},
     "title": ""
    }
   },
   "outputs": [],
   "source": [
    "# qualificacao do responsavel\n",
    "df_raw_emp.select(\"_c3\").distinct().orderBy(\"_c3\", ascending=True).limit(100).display()"
   ]
  },
  {
   "cell_type": "code",
   "execution_count": 0,
   "metadata": {
    "application/vnd.databricks.v1+cell": {
     "cellMetadata": {
      "byteLimit": 2048000,
      "rowLimit": 10000
     },
     "inputWidgets": {},
     "nuid": "68c584d5-e56b-48b3-8620-ece4856550de",
     "showTitle": false,
     "tableResultSettingsMap": {},
     "title": ""
    }
   },
   "outputs": [],
   "source": [
    "# Validacao da estrutura de qualificacao\n",
    "df_raw_emp \\\n",
    "    .select(\"_c1\", \"_c2\",\"_c3\", \"_c5\") \\\n",
    "        .filter((col(\"_c3\") == \"0,00\")) \\\n",
    "            .limit(100) \\\n",
    "                .display()"
   ]
  },
  {
   "cell_type": "code",
   "execution_count": 0,
   "metadata": {
    "application/vnd.databricks.v1+cell": {
     "cellMetadata": {
      "byteLimit": 2048000,
      "rowLimit": 10000
     },
     "inputWidgets": {},
     "nuid": "f0c522f5-592d-47a7-9b19-ef26784c1c34",
     "showTitle": false,
     "tableResultSettingsMap": {},
     "title": ""
    }
   },
   "outputs": [],
   "source": [
    "df_raw_emp.select(\"*\").filter(col(\"_c1\") == '\"RONALD RIBEIRO CARDOSO\";\"2135\"').display()"
   ]
  },
  {
   "cell_type": "code",
   "execution_count": 0,
   "metadata": {
    "application/vnd.databricks.v1+cell": {
     "cellMetadata": {
      "byteLimit": 2048000,
      "rowLimit": 10000
     },
     "inputWidgets": {},
     "nuid": "d6e26c47-7453-4300-a403-16108de50b9b",
     "showTitle": false,
     "tableResultSettingsMap": {},
     "title": ""
    }
   },
   "outputs": [],
   "source": [
    "df_raw_emp.select(\"_c1\").filter(col(\"_c1\").like('%\"%')).limit(1000).display()"
   ]
  },
  {
   "cell_type": "code",
   "execution_count": 0,
   "metadata": {
    "application/vnd.databricks.v1+cell": {
     "cellMetadata": {
      "byteLimit": 2048000,
      "rowLimit": 10000
     },
     "inputWidgets": {},
     "nuid": "d11cd12a-442b-4738-a54f-e950ae6fcee2",
     "showTitle": false,
     "tableResultSettingsMap": {},
     "title": ""
    }
   },
   "outputs": [],
   "source": [
    "df_raw_emp.select(\"_c1\").filter(col(\"_c1\").like(' %')).limit(1000).display()"
   ]
  },
  {
   "cell_type": "code",
   "execution_count": 0,
   "metadata": {
    "application/vnd.databricks.v1+cell": {
     "cellMetadata": {
      "byteLimit": 2048000,
      "rowLimit": 10000
     },
     "inputWidgets": {},
     "nuid": "105142be-8769-4e20-88d4-f2c20d00ad23",
     "showTitle": false,
     "tableResultSettingsMap": {},
     "title": ""
    }
   },
   "outputs": [],
   "source": [
    "# cidade e estado\n",
    "df_raw_emp.select(\"_c6\").distinct().orderBy(\"_c6\", ascending=True).limit(100).display()"
   ]
  },
  {
   "cell_type": "code",
   "execution_count": 0,
   "metadata": {
    "application/vnd.databricks.v1+cell": {
     "cellMetadata": {
      "byteLimit": 2048000,
      "rowLimit": 10000
     },
     "inputWidgets": {},
     "nuid": "33c41058-13ec-4e1c-8d57-23f346279600",
     "showTitle": false,
     "tableResultSettingsMap": {
      "0": {
       "filterBlob": "{\"filterGroups\":[],\"syncTimestamp\":1738896691315}",
       "tableResultIndex": 0
      }
     },
     "title": ""
    }
   },
   "outputs": [],
   "source": [
    "# empresas localizadas em sao paulo\n",
    "\n",
    "df_raw_emp \\\n",
    "    .select(\"*\") \\\n",
    "        .filter((col(\"_c6\") == \"SAO PAULO - SP\")) \\\n",
    "            .limit(100) \\\n",
    "                    .display()"
   ]
  },
  {
   "cell_type": "code",
   "execution_count": 0,
   "metadata": {
    "application/vnd.databricks.v1+cell": {
     "cellMetadata": {
      "byteLimit": 2048000,
      "rowLimit": 10000
     },
     "inputWidgets": {},
     "nuid": "ef4793ca-8879-43a1-b431-47aa584ad417",
     "showTitle": false,
     "tableResultSettingsMap": {},
     "title": ""
    }
   },
   "outputs": [],
   "source": [
    "df_raw_emp.select(\"_c0\").distinct().orderBy(\"_c0\", ascending=False).limit(100).display()"
   ]
  },
  {
   "cell_type": "code",
   "execution_count": 0,
   "metadata": {
    "application/vnd.databricks.v1+cell": {
     "cellMetadata": {
      "byteLimit": 2048000,
      "rowLimit": 10000
     },
     "inputWidgets": {},
     "nuid": "c5b92597-3e05-4f57-ac49-a1976be15039",
     "showTitle": false,
     "tableResultSettingsMap": {},
     "title": ""
    }
   },
   "outputs": [],
   "source": [
    "df_raw_emp.limit(10).display()"
   ]
  },
  {
   "cell_type": "code",
   "execution_count": 0,
   "metadata": {
    "application/vnd.databricks.v1+cell": {
     "cellMetadata": {
      "byteLimit": 2048000,
      "rowLimit": 10000
     },
     "inputWidgets": {},
     "nuid": "0cd41913-bcd4-404a-9650-05f082d8f83b",
     "showTitle": false,
     "tableResultSettingsMap": {},
     "title": ""
    }
   },
   "outputs": [],
   "source": [
    "# definicao de schema\n",
    "schemaEmpresas = StructType([\n",
    "    StructField(\"id\", IntegerType(), True),\n",
    "    StructField(\"razao_social\", StringType(), True),\n",
    "    StructField(\"cod_natureza_juridica\", IntegerType(), True),\n",
    "    StructField(\"cod_qualificao_responsavel\", IntegerType(), True),\n",
    "    StructField(\"capital_social\", FloatType(), True),\n",
    "    StructField(\"cod_porte\", StringType(), True),\n",
    "    StructField(\"localizacao\", StringType(), True)\n",
    "])\n",
    "\n",
    "df_list_emp = spark.read.options(header=False, inferSchema=True, sep=';') \\\n",
    "                .format(\"csv\") \\\n",
    "                    .schema(schemaEmpresas) \\\n",
    "                        .load(path_bronze_empre)\n",
    "\n",
    "df_list_emp.printSchema()"
   ]
  },
  {
   "cell_type": "code",
   "execution_count": 0,
   "metadata": {
    "application/vnd.databricks.v1+cell": {
     "cellMetadata": {
      "byteLimit": 2048000,
      "rowLimit": 10000
     },
     "inputWidgets": {},
     "nuid": "38247c81-6364-4956-9ede-edd36455200d",
     "showTitle": false,
     "tableResultSettingsMap": {},
     "title": ""
    }
   },
   "outputs": [],
   "source": [
    "df_list_emp.limit(20).display()"
   ]
  },
  {
   "cell_type": "code",
   "execution_count": 0,
   "metadata": {
    "application/vnd.databricks.v1+cell": {
     "cellMetadata": {
      "byteLimit": 2048000,
      "rowLimit": 10000
     },
     "inputWidgets": {},
     "nuid": "0e661570-1494-45fc-aa22-2aeee31de2e6",
     "showTitle": false,
     "tableResultSettingsMap": {},
     "title": ""
    }
   },
   "outputs": [],
   "source": [
    "# lista de referencia para qualificação do responsável consta na documentação\n",
    "df_emp_quali_resp = df_list_emp.withColumn(\"desc_qualificacao_responsavel\",\n",
    "                       F.when(col(\"cod_qualificao_responsavel\") == 5, \"Administrador\")\n",
    "                       .when(col(\"cod_qualificao_responsavel\") == 10, \"Diretor\")\n",
    "                       .when(col(\"cod_qualificao_responsavel\") == 16, \"Presidente\")\n",
    "                       .when(col(\"cod_qualificao_responsavel\") == 17, \"Procurador\")\n",
    "                       .when(col(\"cod_qualificao_responsavel\") == 19, \"Síndico (Condomínio)\")\n",
    "                       .when(col(\"cod_qualificao_responsavel\") == 24, \"Sócio Comanditado\")\n",
    "                       .when(col(\"cod_qualificao_responsavel\") == 31, \"Sócio Ostensivo\")\n",
    "                       .when(col(\"cod_qualificao_responsavel\") == 32, \"Tabelião\")\n",
    "                       .when(col(\"cod_qualificao_responsavel\") == 34, \"Titular de Empresa Individual Imobiliária\")\n",
    "                       .when(col(\"cod_qualificao_responsavel\") == 39, \"Diplomata\")\n",
    "                       .when(col(\"cod_qualificao_responsavel\") == 40, \"Cônsul\")\n",
    "                       .when(col(\"cod_qualificao_responsavel\") == 41, \"Representante de Organização Internacional\")\n",
    "                       .when(col(\"cod_qualificao_responsavel\") == 42, \"Oficial de Registro\")\n",
    "                       .when(col(\"cod_qualificao_responsavel\") == 43, \"Responsável\")\n",
    "                       .when(col(\"cod_qualificao_responsavel\") == 46, \"Ministro de Estado das Relações Exteriores\")\n",
    "                       .when(col(\"cod_qualificao_responsavel\") == 49, \"Sócio- Administrador\")\n",
    "                       .when(col(\"cod_qualificao_responsavel\") == 50, \"Empresário\")\n",
    "                       .when(col(\"cod_qualificao_responsavel\") == 51, \"Candidato a Cargo Político Eletivo\")\n",
    "                       .when(col(\"cod_qualificao_responsavel\") == 54, \"Fundador\")\n",
    "                       .when(col(\"cod_qualificao_responsavel\") == 59, \"Produtor Rural\")\n",
    "                       .when(col(\"cod_qualificao_responsavel\") == 60, \"Cônsul Honorário\")\n",
    "                       .when(col(\"cod_qualificao_responsavel\") == 61, \"Responsável Indígena\")\n",
    "                       .when(col(\"cod_qualificao_responsavel\") == 62, \"Representante da Instituição Extraterritorial\")\n",
    "                       .when(col(\"cod_qualificao_responsavel\") == 65, \"Titular Pessoa Física Residente ou Domiciliado no Brasil\")\n",
    "                       .otherwise(\"Qualificação Indefinida\")\n",
    "                       )"
   ]
  },
  {
   "cell_type": "code",
   "execution_count": 0,
   "metadata": {
    "application/vnd.databricks.v1+cell": {
     "cellMetadata": {
      "byteLimit": 2048000,
      "rowLimit": 10000
     },
     "inputWidgets": {},
     "nuid": "aae34e76-d0c9-4ea2-9c9c-2b538ca306b1",
     "showTitle": false,
     "tableResultSettingsMap": {},
     "title": ""
    }
   },
   "outputs": [],
   "source": [
    "df_emp_quali_resp.limit(30).display()"
   ]
  },
  {
   "cell_type": "code",
   "execution_count": 0,
   "metadata": {
    "application/vnd.databricks.v1+cell": {
     "cellMetadata": {
      "byteLimit": 2048000,
      "rowLimit": 10000
     },
     "inputWidgets": {},
     "nuid": "2b25e99b-5dfa-487e-a16a-55f27052ffc9",
     "showTitle": false,
     "tableResultSettingsMap": {},
     "title": ""
    }
   },
   "outputs": [],
   "source": [
    "df_list_emp = (df_list_emp\n",
    "               .withColumn(\"razao_social_format\",\n",
    "                           F.regexp_replace(col(\"razao_social\"), \"^\\\\s+\", \"\"))\n",
    "                    .drop(\"razao_social\")\n",
    "                        .withColumnRenamed(\"razao_social_format\", \"razao_social\")\n",
    "                        ).select(\n",
    "                            'id'\n",
    "                            , 'razao_social'\n",
    "                            , 'cod_natureza_juridica'\n",
    "                            , 'cod_qualificao_responsavel'\n",
    "                            , 'capital_social'\n",
    "                            , 'cod_porte'\n",
    "                            , 'localizacao'\n",
    "                        )"
   ]
  },
  {
   "cell_type": "code",
   "execution_count": 0,
   "metadata": {
    "application/vnd.databricks.v1+cell": {
     "cellMetadata": {
      "byteLimit": 2048000,
      "rowLimit": 10000
     },
     "inputWidgets": {},
     "nuid": "6536b56d-6a0b-4f6f-846b-6cf88970cf6b",
     "showTitle": false,
     "tableResultSettingsMap": {},
     "title": ""
    }
   },
   "outputs": [],
   "source": [
    "df_list_emp.limit(20).display()"
   ]
  },
  {
   "cell_type": "code",
   "execution_count": 0,
   "metadata": {
    "application/vnd.databricks.v1+cell": {
     "cellMetadata": {
      "byteLimit": 2048000,
      "rowLimit": 10000
     },
     "inputWidgets": {},
     "nuid": "f4851b93-c8c5-4842-8175-dd2886ce225f",
     "showTitle": false,
     "tableResultSettingsMap": {},
     "title": ""
    }
   },
   "outputs": [],
   "source": [
    "df_list_emp.select(\"razao_social\").filter(col(\"razao_social_format\").like(' %')).display()"
   ]
  },
  {
   "cell_type": "code",
   "execution_count": 0,
   "metadata": {
    "application/vnd.databricks.v1+cell": {
     "cellMetadata": {
      "byteLimit": 2048000,
      "rowLimit": 10000
     },
     "inputWidgets": {},
     "nuid": "ba8bf330-11a6-4a89-991c-1785a3b095a9",
     "showTitle": false,
     "tableResultSettingsMap": {},
     "title": ""
    }
   },
   "outputs": [],
   "source": [
    "df_list_emp.select(\"razao_social_format\").limit(30).display()"
   ]
  },
  {
   "cell_type": "code",
   "execution_count": 0,
   "metadata": {
    "application/vnd.databricks.v1+cell": {
     "cellMetadata": {
      "byteLimit": 2048000,
      "rowLimit": 10000
     },
     "inputWidgets": {},
     "nuid": "020c89d2-e8f4-40b6-898f-8dfb0e624100",
     "showTitle": false,
     "tableResultSettingsMap": {},
     "title": ""
    }
   },
   "outputs": [],
   "source": [
    "df_list_emp.select(\"razao_social\").filter(col(\"razao_social\").like('%\";\"%')).limit(100).display()"
   ]
  },
  {
   "cell_type": "code",
   "execution_count": 0,
   "metadata": {
    "application/vnd.databricks.v1+cell": {
     "cellMetadata": {
      "byteLimit": 2048000,
      "rowLimit": 10000
     },
     "inputWidgets": {},
     "nuid": "2429eecf-d857-4ec8-95e0-221fe9f4554c",
     "showTitle": false,
     "tableResultSettingsMap": {},
     "title": ""
    }
   },
   "outputs": [],
   "source": [
    "split_df = (df_list_emp.filter(col(\"razao_social\").like('%\";\"%'))\n",
    "            .select([split(col(c), ';').alias(c) for c in df_list_emp.columns]))\n",
    "\n",
    "display(split_df)"
   ]
  },
  {
   "cell_type": "code",
   "execution_count": 0,
   "metadata": {
    "application/vnd.databricks.v1+cell": {
     "cellMetadata": {
      "byteLimit": 2048000,
      "rowLimit": 10000
     },
     "inputWidgets": {},
     "nuid": "6b4a8d47-422e-4e56-b0be-bddd5fcb8eb9",
     "showTitle": false,
     "tableResultSettingsMap": {},
     "title": ""
    }
   },
   "outputs": [],
   "source": [
    "%python\n",
    "from pyspark.sql.functions import col, split, regexp_replace\n",
    "\n",
    "# Split all columns by ';'\n",
    "split_df = (df_list_emp.filter(col(\"razao_social\").like('%\";\"%'))\n",
    "            .select([split(col(c), ';').alias(c) for c in df_list_emp.columns]))\n",
    "\n",
    "# Remove square brackets from all columns\n",
    "cleaned_df = split_df.select([regexp_replace(col(c).cast(\"string\"), r'[\\[\\]]', '').alias(c) for c in split_df.columns])\n",
    "\n",
    "display(cleaned_df)"
   ]
  },
  {
   "cell_type": "code",
   "execution_count": 0,
   "metadata": {
    "application/vnd.databricks.v1+cell": {
     "cellMetadata": {
      "byteLimit": 2048000,
      "rowLimit": 10000
     },
     "inputWidgets": {},
     "nuid": "d3b3f96b-c6cc-4ecb-a1f7-7878854e105d",
     "showTitle": false,
     "tableResultSettingsMap": {},
     "title": ""
    }
   },
   "outputs": [],
   "source": [
    "df_list_emp.limit(20).display()"
   ]
  },
  {
   "cell_type": "code",
   "execution_count": 0,
   "metadata": {
    "application/vnd.databricks.v1+cell": {
     "cellMetadata": {
      "byteLimit": 2048000,
      "rowLimit": 10000
     },
     "inputWidgets": {},
     "nuid": "087471f9-d405-424b-a51c-f61c0681d5cf",
     "showTitle": false,
     "tableResultSettingsMap": {},
     "title": ""
    }
   },
   "outputs": [],
   "source": [
    "# Criar schema no metastore\n",
    "spark.sql(\"CREATE SCHEMA IF NOT EXISTS hive_metastore.db_rfb\")\n",
    "# Salvar tabela delta\n",
    "df_list_emp.write.mode(\"append\").format(\"delta\").saveAsTable(\"hive_metastore.db_rfb.tbl_slv_empresas\")"
   ]
  },
  {
   "cell_type": "code",
   "execution_count": 0,
   "metadata": {
    "application/vnd.databricks.v1+cell": {
     "cellMetadata": {
      "byteLimit": 2048000,
      "rowLimit": 10000
     },
     "inputWidgets": {},
     "nuid": "52415ee8-2762-47b5-acf0-93cb21f7da3a",
     "showTitle": false,
     "tableResultSettingsMap": {},
     "title": ""
    }
   },
   "outputs": [],
   "source": [
    "# Path source\n",
    "path_bronze_empre = \"dbfs:/FileStore/shared_uploads/default_user/bronze/*EMPRECSV\"\n",
    "\n",
    "# definicao de schema\n",
    "schemaEmpresas = StructType([\n",
    "    StructField(\"cnpj\", IntegerType(), True),\n",
    "    StructField(\"razao_social\", StringType(), True),\n",
    "    StructField(\"natureza_juridica\", IntegerType(), True),\n",
    "    StructField(\"qualificao_responsavel\", IntegerType(), True),\n",
    "    StructField(\"capital_social\", FloatType(), True),\n",
    "    StructField(\"cod_porte\", StringType(), True),\n",
    "    StructField(\"localizacao\", StringType(), True)\n",
    "])\n",
    "\n",
    "# Leitura de arquivo bruto\n",
    "df_list_emp = spark.read.options(header=False, inferSchema=True, sep=';') \\\n",
    "                .format(\"csv\") \\\n",
    "                    .schema(schemaEmpresas) \\\n",
    "                        .load(path_bronze_empre)\n",
    "\n",
    "# Remoção de espaços em branco                       \n",
    "df_list_emp = (df_list_emp\n",
    "               .withColumn(\"razao_social_format\",\n",
    "                           F.regexp_replace(col(\"razao_social\"), \"^\\\\s+\", \"\"))\n",
    "                    .drop(\"razao_social\")\n",
    "                        .withColumnRenamed(\"razao_social_format\", \"razao_social\")\n",
    "                        ).select(\n",
    "                            'cnpj'\n",
    "                            , 'razao_social'\n",
    "                            , 'natureza_juridica'\n",
    "                            , 'qualificao_responsavel'\n",
    "                            , 'capital_social'\n",
    "                            , 'cod_porte'\n",
    "                        )"
   ]
  },
  {
   "cell_type": "code",
   "execution_count": 0,
   "metadata": {
    "application/vnd.databricks.v1+cell": {
     "cellMetadata": {
      "byteLimit": 2048000,
      "rowLimit": 10000
     },
     "inputWidgets": {},
     "nuid": "048780de-5fb1-4f73-93c9-4ef438968a66",
     "showTitle": false,
     "tableResultSettingsMap": {},
     "title": ""
    }
   },
   "outputs": [],
   "source": [
    "# Criar schema no metastore\n",
    "spark.sql(\"CREATE SCHEMA IF NOT EXISTS hive_metastore.db_rfb\")\n",
    "# Salvar tabela delta\n",
    "df_list_emp.write.mode(\"append\").format(\"delta\").saveAsTable(\"hive_metastore.db_rfb.tbl_slv_empresas\")"
   ]
  }
 ],
 "metadata": {
  "application/vnd.databricks.v1+notebook": {
   "computePreferences": null,
   "dashboards": [],
   "environmentMetadata": {
    "base_environment": "",
    "environment_version": "2"
   },
   "language": "python",
   "notebookMetadata": {
    "mostRecentlyExecutedCommandWithImplicitDF": {
     "commandId": 6880638831654468,
     "dataframes": [
      "_sqldf"
     ]
    },
    "pythonIndentUnit": 4
   },
   "notebookName": "analise_empresas_silver",
   "widgets": {}
  },
  "language_info": {
   "name": "python"
  }
 },
 "nbformat": 4,
 "nbformat_minor": 0
}
