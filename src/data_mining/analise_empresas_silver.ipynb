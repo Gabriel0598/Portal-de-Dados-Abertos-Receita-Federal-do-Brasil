{
 "cells": [
  {
   "cell_type": "code",
   "execution_count": 0,
   "metadata": {
    "application/vnd.databricks.v1+cell": {
     "cellMetadata": {
      "byteLimit": 2048000,
      "rowLimit": 10000
     },
     "inputWidgets": {},
     "nuid": "cdbe5b6e-6a33-43a2-8d61-918dac90e916",
     "showTitle": false,
     "tableResultSettingsMap": {},
     "title": ""
    }
   },
   "outputs": [],
   "source": [
    "# libs\n",
    "import os\n",
    "from pyspark.sql.types import StructType, StructField, StringType, IntegerType, FloatType\n",
    "from pyspark.sql.functions import col, split\n",
    "from pyspark.sql import functions as F\n",
    "\n",
    "# paths\n",
    "path_bronze_empre = \"dbfs:/FileStore/shared_uploads/default_user/bronze/*EMPRECSV\""
   ]
  },
  {
   "cell_type": "code",
   "execution_count": 0,
   "metadata": {
    "application/vnd.databricks.v1+cell": {
     "cellMetadata": {
      "byteLimit": 2048000,
      "rowLimit": 10000
     },
     "inputWidgets": {},
     "nuid": "3ecc5cdc-dae5-4f69-b7d9-2378ce80fce2",
     "showTitle": false,
     "tableResultSettingsMap": {},
     "title": ""
    }
   },
   "outputs": [
    {
     "output_type": "stream",
     "name": "stdout",
     "output_type": "stream",
     "text": [
      "root\n |-- _c0: integer (nullable = true)\n |-- _c1: string (nullable = true)\n |-- _c2: integer (nullable = true)\n |-- _c3: string (nullable = true)\n |-- _c4: string (nullable = true)\n |-- _c5: integer (nullable = true)\n |-- _c6: string (nullable = true)\n\n"
     ]
    }
   ],
   "source": [
    "df_raw_emp = spark.read.options(header=False, inferSchema=True, sep=';').format(\"csv\").load(path_bronze_empre)\n",
    "df_raw_emp.printSchema()"
   ]
  },
  {
   "cell_type": "code",
   "execution_count": 0,
   "metadata": {
    "application/vnd.databricks.v1+cell": {
     "cellMetadata": {
      "byteLimit": 2048000,
      "rowLimit": 10000
     },
     "inputWidgets": {},
     "nuid": "48385620-1ceb-4418-ae72-36877c6ddb1b",
     "showTitle": false,
     "tableResultSettingsMap": {},
     "title": ""
    }
   },
   "outputs": [
    {
     "output_type": "execute_result",
     "data": {
      "text/plain": [
       "4494860"
      ]
     },
     "execution_count": 64,
     "metadata": {},
     "output_type": "execute_result"
    }
   ],
   "source": [
    "df_raw_emp.count()"
   ]
  },
  {
   "cell_type": "code",
   "execution_count": 0,
   "metadata": {
    "application/vnd.databricks.v1+cell": {
     "cellMetadata": {
      "byteLimit": 2048000,
      "rowLimit": 10000
     },
     "inputWidgets": {},
     "nuid": "e9df9c5b-08dd-453f-9c99-ff50a5548a6b",
     "showTitle": false,
     "tableResultSettingsMap": {},
     "title": ""
    }
   },
   "outputs": [
    {
     "output_type": "display_data",
     "data": {
      "text/html": [
       "<style scoped>\n",
       "  .table-result-container {\n",
       "    max-height: 300px;\n",
       "    overflow: auto;\n",
       "  }\n",
       "  table, th, td {\n",
       "    border: 1px solid black;\n",
       "    border-collapse: collapse;\n",
       "  }\n",
       "  th, td {\n",
       "    padding: 5px;\n",
       "  }\n",
       "  th {\n",
       "    text-align: left;\n",
       "  }\n",
       "</style><div class='table-result-container'><table class='table-result'><thead style='background-color: white'><tr><th>_c0</th><th>_c1</th><th>_c2</th><th>_c3</th><th>_c4</th><th>_c5</th><th>_c6</th></tr></thead><tbody><tr><td>0</td><td>BANCO DO BRASIL SA</td><td>2038</td><td>10</td><td>120000000000,00</td><td>5</td><td>null</td></tr><tr><td>1</td><td>ASSOCIACAO DE AMIGOS DE BAIRRO DO CONJ PAULISTANO</td><td>3999</td><td>16</td><td>0,00</td><td>5</td><td>null</td></tr><tr><td>2</td><td>WM&R EMPREITEIRA DE CONSTRUCAO CIVIL LIMITADA</td><td>2240</td><td>49</td><td>0,00</td><td>5</td><td>null</td></tr><tr><td>3</td><td>CASA CARIDADE LUZETE ROBERTA DE MORAIS CONJ PAULISTANO</td><td>3999</td><td>16</td><td>0,00</td><td>5</td><td>null</td></tr><tr><td>4</td><td>ASSOCIACAO DO PEQUENO ADOLECENTE DO CONJ PAULISTANO</td><td>3999</td><td>16</td><td>0,00</td><td>5</td><td>null</td></tr><tr><td>5</td><td>SERRALHERIA PORTA DE ACO REAL S/C LTDA</td><td>2240</td><td>28</td><td>0,00</td><td>5</td><td>null</td></tr><tr><td>6</td><td>ACADEMIA DE BALLET PAULA FIRETTI LTDA</td><td>2062</td><td>49</td><td>1000,00</td><td>1</td><td>null</td></tr><tr><td>7</td><td>ADVOCACIA BERGANTIN E ASSOCIADOS</td><td>2240</td><td>49</td><td>0,00</td><td>1</td><td>null</td></tr><tr><td>8</td><td>A.R. ZANOTI E SILVA S/C LTDA</td><td>2240</td><td>49</td><td>0,00</td><td>1</td><td>null</td></tr><tr><td>9</td><td>SUWAN REPRESENTACOES LTDA</td><td>2240</td><td>49</td><td>0,00</td><td>1</td><td>null</td></tr><tr><td>10</td><td>ADUB SERVICOS GERAIS DE AUTOS LTDA</td><td>2240</td><td>28</td><td>0,00</td><td>5</td><td>null</td></tr><tr><td>11</td><td>KAWANISHI MANUTENCAO ELETRICA INDUSTRIAL S/C LTDA</td><td>2240</td><td>49</td><td>0,00</td><td>1</td><td>null</td></tr><tr><td>12</td><td>APARTH ADMINISTRACAO S/C LTDA</td><td>2240</td><td>49</td><td>0,00</td><td>5</td><td>null</td></tr><tr><td>13</td><td>SAMPAIO SERVICOS CONTABEIS LTDA</td><td>2240</td><td>49</td><td>0,00</td><td>1</td><td>null</td></tr><tr><td>14</td><td>CLUBE DE MAES DA CASA VERDE ALTA E ADJACENCIAS</td><td>3999</td><td>16</td><td>0,00</td><td>5</td><td>null</td></tr><tr><td>15</td><td>DOS - INSTALACAO DE SISTEMAS DE AUDIO E VIDEO S/S LTDA</td><td>2240</td><td>49</td><td>0,00</td><td>1</td><td>null</td></tr><tr><td>16</td><td>MICRO-ARTE COMUNICACOES VISUAIS LTDA</td><td>2062</td><td>49</td><td>10000,00</td><td>5</td><td>null</td></tr><tr><td>17</td><td>ASSOCIACAO VIVER EM CRISTO</td><td>3999</td><td>16</td><td>0,00</td><td>5</td><td>null</td></tr><tr><td>18</td><td>AUTOMAR AGROPECUARIA DO URUCUIA LIMITADA</td><td>2062</td><td>49</td><td>0,00</td><td>5</td><td>null</td></tr><tr><td>19</td><td>DOCENA & DOCENA CONSULTORES EM INFORMATICA E ASSOCIADOS LTDA</td><td>2062</td><td>49</td><td>362,00</td><td>5</td><td>null</td></tr></tbody></table></div>"
      ]
     },
     "metadata": {
      "application/vnd.databricks.v1+output": {
       "addedWidgets": {},
       "aggData": [],
       "aggError": "",
       "aggOverflow": false,
       "aggSchema": [],
       "aggSeriesLimitReached": false,
       "aggType": "",
       "arguments": {},
       "columnCustomDisplayInfos": {},
       "data": [
        [
         0,
         "BANCO DO BRASIL SA",
         2038,
         "10",
         "120000000000,00",
         5,
         null
        ],
        [
         1,
         "ASSOCIACAO DE AMIGOS DE BAIRRO DO CONJ PAULISTANO",
         3999,
         "16",
         "0,00",
         5,
         null
        ],
        [
         2,
         "WM&R EMPREITEIRA DE CONSTRUCAO CIVIL LIMITADA",
         2240,
         "49",
         "0,00",
         5,
         null
        ],
        [
         3,
         "CASA CARIDADE LUZETE ROBERTA DE MORAIS CONJ PAULISTANO",
         3999,
         "16",
         "0,00",
         5,
         null
        ],
        [
         4,
         "ASSOCIACAO DO PEQUENO ADOLECENTE DO CONJ PAULISTANO",
         3999,
         "16",
         "0,00",
         5,
         null
        ],
        [
         5,
         "SERRALHERIA PORTA DE ACO REAL S/C LTDA",
         2240,
         "28",
         "0,00",
         5,
         null
        ],
        [
         6,
         "ACADEMIA DE BALLET PAULA FIRETTI LTDA",
         2062,
         "49",
         "1000,00",
         1,
         null
        ],
        [
         7,
         "ADVOCACIA BERGANTIN E ASSOCIADOS",
         2240,
         "49",
         "0,00",
         1,
         null
        ],
        [
         8,
         "A.R. ZANOTI E SILVA S/C LTDA",
         2240,
         "49",
         "0,00",
         1,
         null
        ],
        [
         9,
         "SUWAN REPRESENTACOES LTDA",
         2240,
         "49",
         "0,00",
         1,
         null
        ],
        [
         10,
         "ADUB SERVICOS GERAIS DE AUTOS LTDA",
         2240,
         "28",
         "0,00",
         5,
         null
        ],
        [
         11,
         "KAWANISHI MANUTENCAO ELETRICA INDUSTRIAL S/C LTDA",
         2240,
         "49",
         "0,00",
         1,
         null
        ],
        [
         12,
         "APARTH ADMINISTRACAO S/C LTDA",
         2240,
         "49",
         "0,00",
         5,
         null
        ],
        [
         13,
         "SAMPAIO SERVICOS CONTABEIS LTDA",
         2240,
         "49",
         "0,00",
         1,
         null
        ],
        [
         14,
         "CLUBE DE MAES DA CASA VERDE ALTA E ADJACENCIAS",
         3999,
         "16",
         "0,00",
         5,
         null
        ],
        [
         15,
         "DOS - INSTALACAO DE SISTEMAS DE AUDIO E VIDEO S/S LTDA",
         2240,
         "49",
         "0,00",
         1,
         null
        ],
        [
         16,
         "MICRO-ARTE COMUNICACOES VISUAIS LTDA",
         2062,
         "49",
         "10000,00",
         5,
         null
        ],
        [
         17,
         "ASSOCIACAO VIVER EM CRISTO",
         3999,
         "16",
         "0,00",
         5,
         null
        ],
        [
         18,
         "AUTOMAR AGROPECUARIA DO URUCUIA LIMITADA",
         2062,
         "49",
         "0,00",
         5,
         null
        ],
        [
         19,
         "DOCENA & DOCENA CONSULTORES EM INFORMATICA E ASSOCIADOS LTDA",
         2062,
         "49",
         "362,00",
         5,
         null
        ]
       ],
       "datasetInfos": [],
       "dbfsResultPath": null,
       "isJsonSchema": true,
       "metadata": {},
       "overflow": false,
       "plotOptions": {
        "customPlotOptions": {},
        "displayType": "table",
        "pivotAggregation": null,
        "pivotColumns": null,
        "xColumns": null,
        "yColumns": null
       },
       "removedWidgets": [],
       "schema": [
        {
         "metadata": "{}",
         "name": "_c0",
         "type": "\"integer\""
        },
        {
         "metadata": "{}",
         "name": "_c1",
         "type": "\"string\""
        },
        {
         "metadata": "{}",
         "name": "_c2",
         "type": "\"integer\""
        },
        {
         "metadata": "{}",
         "name": "_c3",
         "type": "\"string\""
        },
        {
         "metadata": "{}",
         "name": "_c4",
         "type": "\"string\""
        },
        {
         "metadata": "{}",
         "name": "_c5",
         "type": "\"integer\""
        },
        {
         "metadata": "{}",
         "name": "_c6",
         "type": "\"string\""
        }
       ],
       "type": "table"
      }
     },
     "output_type": "display_data"
    }
   ],
   "source": [
    "df_raw_emp.limit(20).display()"
   ]
  },
  {
   "cell_type": "code",
   "execution_count": 0,
   "metadata": {
    "application/vnd.databricks.v1+cell": {
     "cellMetadata": {
      "byteLimit": 2048000,
      "rowLimit": 10000
     },
     "inputWidgets": {},
     "nuid": "1e2ceae8-7289-436a-8ca8-e7d88c15b191",
     "showTitle": false,
     "tableResultSettingsMap": {},
     "title": ""
    }
   },
   "outputs": [
    {
     "output_type": "display_data",
     "data": {
      "text/html": [
       "<style scoped>\n",
       "  .table-result-container {\n",
       "    max-height: 300px;\n",
       "    overflow: auto;\n",
       "  }\n",
       "  table, th, td {\n",
       "    border: 1px solid black;\n",
       "    border-collapse: collapse;\n",
       "  }\n",
       "  th, td {\n",
       "    padding: 5px;\n",
       "  }\n",
       "  th {\n",
       "    text-align: left;\n",
       "  }\n",
       "</style><div class='table-result-container'><table class='table-result'><thead style='background-color: white'><tr><th>_c1</th></tr></thead><tbody><tr><td>                     C.A.M. CONSULTORIA EM ENGENHARIA LTDA.</td></tr><tr><td>  NOVA  IMUNI  DESINSETIZACAO  LTDA ME</td></tr><tr><td>  R J F BRASIL COMERCIAL LTDA</td></tr><tr><td> 1  IGREJA BATISTA BRASILEIRA DE LUCAS DO RIO VERDE-MT</td></tr><tr><td> 1097 THERMAS LTDA</td></tr><tr><td> A.TOMOKO IWAKURA NASCIMENTO</td></tr><tr><td> AAE CENTRO DE ENSINO INTEGRADO AGROECOLOGICO BARAO  DE LANGSDORFF</td></tr><tr><td> ADO SERVICOS ADMINISTRATIVOS ME LTDA</td></tr><tr><td> AGRIMAR EMPREITEIRA, PAVIMENTACAO E TERRAPLANAGEM LTDA.</td></tr><tr><td> ALEXANDRE APARECIDO ANTUNES</td></tr><tr><td> ALFANDEGA 31 - RESTAURANTE EIRELI</td></tr><tr><td> ASSOCIACAO DE APOIO A ESCOLA DO CIEP BRIZOLAO 271 JOSE BONIFACIO TASSARA</td></tr><tr><td> B RAMOS BAZAR</td></tr><tr><td> BEL DA VILA RESTAURANTE - LTDA</td></tr><tr><td> C S DE ANDRADE FLESCH</td></tr><tr><td> CASA PROPRIA CONSTRUCOES LTDA.</td></tr><tr><td> CGK PARTICIPACOES LTDA.</td></tr><tr><td> COMERCIAL AD GOMES LTDA-ME</td></tr><tr><td> CONSELHO ESCOLA COMUNIDADE DA ESCOLA MUNICIPAL MARIA ISABEL BIVAR</td></tr><tr><td> CONSELHO ESCOLA-COMUNIDADE DA ESCOLA MUNICIPAL CLEMENTINO FRAGA</td></tr><tr><td> CONSELHO ESCOLA-COMUNIDADE DA ESCOLA MUNICIPAL MATO GROSSO</td></tr><tr><td> D'OLIM TRANSPORTES E LOGISTICA INTEGRADA LTDA. EM LIQUIDACAO</td></tr><tr><td> D.D. MALHAS - SERVICOS DE CHAPISCO LTDA</td></tr><tr><td> EM LIQUIDACAO</td></tr><tr><td> EMPREENDIMENTOS OLIVEIRA SILVA LTDA</td></tr><tr><td> F.GOMES & GOMES ASSESSORIA E REPRESENTACOES COMERCIAIS LTDA</td></tr><tr><td> FARMACIA DE MANIPULACAO BEZERRA DA SILVA LTDA</td></tr><tr><td> G M E - GARCA MOTORES ELETRICOS LTDA -</td></tr><tr><td> GRAMADO PARKS INVESTIMENTOS E INTERMEDIACOES S.A - EM RECUPERACAO JUDICIAL</td></tr><tr><td> INDUSTRIA E COMERCIO IMPORTACAO E EXPORTACAO DE MADEIRAS SOUZA MARTINS EIRELI</td></tr><tr><td> JMC STOPPIGLIA ADMINISTRACAO DE BENS PROPRIOS LTDA</td></tr><tr><td> JOSE LOURENCO DE SOUZA PALMA & CIA LTDA</td></tr><tr><td> L & J  ENGENHARIA LTDA</td></tr><tr><td> LACERDA & LACERDA LTDA.</td></tr><tr><td> M & P ASSESSORIA CONTABIL LTDA</td></tr><tr><td> M G ANDRADE SERVICOS</td></tr><tr><td> M G C SERRARIA LTDA</td></tr><tr><td> M. CUNHA FERREIRA & PADILHA LTDA</td></tr><tr><td> MARIA DE FATIMA OLIVEIRA - CONFECCOES</td></tr><tr><td> MARINEIDE FERREIRA RAMOS</td></tr><tr><td> MARTINS & MARTINS LTDA</td></tr><tr><td> MOZELI COMERCIAL DE ROUPAS E MERCEARIA LTDA.</td></tr><tr><td> NOSSO GESSO DECORACOES EIRELI</td></tr><tr><td> NOVA GLOBALTOUR SANTOS AGENCIA DE VIAGENS E EVENTOS LTDA</td></tr><tr><td> P F CUIDADOS AUTOMOTIVOS LTDA</td></tr><tr><td> PARTIDO DA SOCIAL DEMOCRACIA BRASILEIRA DE POMBAL DIRETORIO MUNICIPAL DE POMBAL</td></tr><tr><td> PARTIDO DOS TRABALHADORES - COMISSAO PROVISORIA MUNICIPAL  DE SAO JOAO DA PONTE MG</td></tr><tr><td> PAULO CAETANO PINTO & CIA LTDA</td></tr><tr><td> PERFIL PLUG BUSCA E CONEXAO LTDA</td></tr><tr><td> R C FRANCO & CIA LTDA</td></tr><tr><td> R C RODRIGUES UTILIDADES  IMPORTACAO E EXPORTACAO</td></tr><tr><td> ROGERIO LIMA DE REZENDE CPF 833.417.226-53</td></tr><tr><td> SINDICATO DOS EMPREGADOS EM EMPRESAS DE CARRO FORTE E TRANSPORTE DE VALORES DO ESTADO DA BAHIA SINDFORTE</td></tr><tr><td> T & T INDUSTRIA DE VIDROS E SERVICOS LTDA</td></tr><tr><td> T R H ARAKIAN LTDA</td></tr><tr><td> TECPOLO MANUTENCAO E MONTAGENS LTDA</td></tr><tr><td> TOLEDO REPRESENTACOES S/S LTDA</td></tr><tr><td> TRANSCETRO LOG E SERVICOS LTDA</td></tr><tr><td> V C DOS SANTOS BAR</td></tr><tr><td> V M  DA  SILVA</td></tr><tr><td> V. G. SALVADOR REPRESENTACOES</td></tr><tr><td> WILMERS REPRESENTACOES COMERCIAIS LTDA</td></tr><tr><td>!GENIAL PROJETOS E PRODUCOES DE ARTE LTDA</td></tr><tr><td>\"\"\" DOHITA BORBELY\"</td></tr><tr><td>\"\"\" ENIO JESUS PEREIRA\"</td></tr><tr><td>\"\"\" GRUPO NOSSA SENHORA DA SALETE \"\".\"</td></tr><tr><td>\"\"\" J.KAR-VEICULOS LTDA\"</td></tr><tr><td>\"\"\" JET GAS COMERCIAL LTDA \"\"\"</td></tr><tr><td>\"\"\" LEILA MARIA M PEREIRA\"</td></tr><tr><td>\"\"\"28\"\" - LIMPEZA E CONSERVACAO DE VEICULOS LTDA\"</td></tr><tr><td>\"\"\"A & R \"\"- MOTO COURIERS LTDA\"</td></tr><tr><td>\"\"\"A E C\"\" ASSOCIACAO ESCOLA COMUNIDADE DA EPG XIII DE SETEMBRO\"</td></tr><tr><td>\"\"\"AGRO CENTERCAO\"\" LTDA\"</td></tr><tr><td>\"\"\"AMARAL E PIEDADE REPRESENTACOES LTDA\"\"\"</td></tr><tr><td>\"\"\"ASP TECNOLOGIA E SISTEMAS LTDA\"\"\"</td></tr><tr><td>\"\"\"ATIVA\"\" - ASSOCIACAO DE MUNICIPIOS\"</td></tr><tr><td>\"\"\"BOBISUL\"\"IND.E COMERCIO DEEMBALAGENS DE MADEIRA LTDA\"</td></tr><tr><td>\"\"\"CAIXA COMUNIDADE DO CENTRO DE CONVIVENCIA PERPETUO SOCORRO\"\"\"</td></tr><tr><td>\"\"\"CENTEL\"\" CENTRAL TELEMARKETING MOCOCA LTDA\"</td></tr><tr><td>\"\"\"CORACAO PARA CORACAO\"\"-COMERCIO DE DISCOS LTDA\"</td></tr><tr><td>\"\"\"DA LUCRIS \"\" - EMBALAGENS LTDA MICROEMPRESA\"</td></tr><tr><td>\"\"\"DATA-ECO\"\" PROCESSAMENTO DE DADOS S/C LTDA\"</td></tr><tr><td>\"\"\"DIBRASAL\"\" DISTRIBUIDORA BRASILEIRA DE ALIMENTOS LTDA\"</td></tr><tr><td>\"\"\"DIGITA - PROCESSAMENTOS DE JUAZEIRO LTDA\"\"\"</td></tr><tr><td>\"\"\"DOLCE SONNO LTDA\"</td></tr><tr><td>\"\"\"ELITE CONSULTORIA E TREINAMENTO EM SEGURANCA,HIGIENE E MEDICINA DO TRABALHO LTDA\"\"\"</td></tr><tr><td>\"\"\"ERGA OMNES\"\" LIVRARIA LTDA\"</td></tr><tr><td>\"\"\"GRAPHUS SUL FIF 60\"\"\"</td></tr><tr><td>\"\"\"J.C.\"\" - MOTO EXPRESS S/C LTDA\"</td></tr><tr><td>\"\"\"JM\"\" REPRESENTACOES LTDA\"</td></tr><tr><td>\"\"\"JOAO GILBERTO ROSA VICTORIANO\"</td></tr><tr><td>\"\"\"K. & F. TRANSPORTES LTDA\"\"\"</td></tr><tr><td>\"\"\"K.O.\"\" INDUSTRIA E COMERCIO DE BRINDES LTDA\"</td></tr><tr><td>\"\"\"KALOPETE CONFECCOES LTDA\"</td></tr><tr><td>\"\"\"L. RAMOS PRODUTOS VETERINARIOS LTDA\"\"\"</td></tr><tr><td>\"\"\"LUQUES & MAGNOLO CENTRO AUTOMOTIVOS LTDA\"</td></tr><tr><td>\"\"\"MAISON DUE\"\" CONFECCOES LIMITADA\"</td></tr><tr><td>\"\"\"MAZZEI\"\"-ROTISSERIE & AVICOLA LTDA\"</td></tr><tr><td>\"\"\"ME\"\"PETALAS,COMERCIAL DE MIUDEZAS LTDA\"</td></tr><tr><td>\"\"\"NAIR MENDES DE ARAUJO\"\"\"</td></tr></tbody></table></div>"
      ]
     },
     "metadata": {
      "application/vnd.databricks.v1+output": {
       "addedWidgets": {},
       "aggData": [],
       "aggError": "",
       "aggOverflow": false,
       "aggSchema": [],
       "aggSeriesLimitReached": false,
       "aggType": "",
       "arguments": {},
       "columnCustomDisplayInfos": {},
       "data": [
        [
         "                     C.A.M. CONSULTORIA EM ENGENHARIA LTDA."
        ],
        [
         "  NOVA  IMUNI  DESINSETIZACAO  LTDA ME"
        ],
        [
         "  R J F BRASIL COMERCIAL LTDA"
        ],
        [
         " 1  IGREJA BATISTA BRASILEIRA DE LUCAS DO RIO VERDE-MT"
        ],
        [
         " 1097 THERMAS LTDA"
        ],
        [
         " A.TOMOKO IWAKURA NASCIMENTO"
        ],
        [
         " AAE CENTRO DE ENSINO INTEGRADO AGROECOLOGICO BARAO  DE LANGSDORFF"
        ],
        [
         " ADO SERVICOS ADMINISTRATIVOS ME LTDA"
        ],
        [
         " AGRIMAR EMPREITEIRA, PAVIMENTACAO E TERRAPLANAGEM LTDA."
        ],
        [
         " ALEXANDRE APARECIDO ANTUNES"
        ],
        [
         " ALFANDEGA 31 - RESTAURANTE EIRELI"
        ],
        [
         " ASSOCIACAO DE APOIO A ESCOLA DO CIEP BRIZOLAO 271 JOSE BONIFACIO TASSARA"
        ],
        [
         " B RAMOS BAZAR"
        ],
        [
         " BEL DA VILA RESTAURANTE - LTDA"
        ],
        [
         " C S DE ANDRADE FLESCH"
        ],
        [
         " CASA PROPRIA CONSTRUCOES LTDA."
        ],
        [
         " CGK PARTICIPACOES LTDA."
        ],
        [
         " COMERCIAL AD GOMES LTDA-ME"
        ],
        [
         " CONSELHO ESCOLA COMUNIDADE DA ESCOLA MUNICIPAL MARIA ISABEL BIVAR"
        ],
        [
         " CONSELHO ESCOLA-COMUNIDADE DA ESCOLA MUNICIPAL CLEMENTINO FRAGA"
        ],
        [
         " CONSELHO ESCOLA-COMUNIDADE DA ESCOLA MUNICIPAL MATO GROSSO"
        ],
        [
         " D'OLIM TRANSPORTES E LOGISTICA INTEGRADA LTDA. EM LIQUIDACAO"
        ],
        [
         " D.D. MALHAS - SERVICOS DE CHAPISCO LTDA"
        ],
        [
         " EM LIQUIDACAO"
        ],
        [
         " EMPREENDIMENTOS OLIVEIRA SILVA LTDA"
        ],
        [
         " F.GOMES & GOMES ASSESSORIA E REPRESENTACOES COMERCIAIS LTDA"
        ],
        [
         " FARMACIA DE MANIPULACAO BEZERRA DA SILVA LTDA"
        ],
        [
         " G M E - GARCA MOTORES ELETRICOS LTDA -"
        ],
        [
         " GRAMADO PARKS INVESTIMENTOS E INTERMEDIACOES S.A - EM RECUPERACAO JUDICIAL"
        ],
        [
         " INDUSTRIA E COMERCIO IMPORTACAO E EXPORTACAO DE MADEIRAS SOUZA MARTINS EIRELI"
        ],
        [
         " JMC STOPPIGLIA ADMINISTRACAO DE BENS PROPRIOS LTDA"
        ],
        [
         " JOSE LOURENCO DE SOUZA PALMA & CIA LTDA"
        ],
        [
         " L & J  ENGENHARIA LTDA"
        ],
        [
         " LACERDA & LACERDA LTDA."
        ],
        [
         " M & P ASSESSORIA CONTABIL LTDA"
        ],
        [
         " M G ANDRADE SERVICOS"
        ],
        [
         " M G C SERRARIA LTDA"
        ],
        [
         " M. CUNHA FERREIRA & PADILHA LTDA"
        ],
        [
         " MARIA DE FATIMA OLIVEIRA - CONFECCOES"
        ],
        [
         " MARINEIDE FERREIRA RAMOS"
        ],
        [
         " MARTINS & MARTINS LTDA"
        ],
        [
         " MOZELI COMERCIAL DE ROUPAS E MERCEARIA LTDA."
        ],
        [
         " NOSSO GESSO DECORACOES EIRELI"
        ],
        [
         " NOVA GLOBALTOUR SANTOS AGENCIA DE VIAGENS E EVENTOS LTDA"
        ],
        [
         " P F CUIDADOS AUTOMOTIVOS LTDA"
        ],
        [
         " PARTIDO DA SOCIAL DEMOCRACIA BRASILEIRA DE POMBAL DIRETORIO MUNICIPAL DE POMBAL"
        ],
        [
         " PARTIDO DOS TRABALHADORES - COMISSAO PROVISORIA MUNICIPAL  DE SAO JOAO DA PONTE MG"
        ],
        [
         " PAULO CAETANO PINTO & CIA LTDA"
        ],
        [
         " PERFIL PLUG BUSCA E CONEXAO LTDA"
        ],
        [
         " R C FRANCO & CIA LTDA"
        ],
        [
         " R C RODRIGUES UTILIDADES  IMPORTACAO E EXPORTACAO"
        ],
        [
         " ROGERIO LIMA DE REZENDE CPF 833.417.226-53"
        ],
        [
         " SINDICATO DOS EMPREGADOS EM EMPRESAS DE CARRO FORTE E TRANSPORTE DE VALORES DO ESTADO DA BAHIA SINDFORTE"
        ],
        [
         " T & T INDUSTRIA DE VIDROS E SERVICOS LTDA"
        ],
        [
         " T R H ARAKIAN LTDA"
        ],
        [
         " TECPOLO MANUTENCAO E MONTAGENS LTDA"
        ],
        [
         " TOLEDO REPRESENTACOES S/S LTDA"
        ],
        [
         " TRANSCETRO LOG E SERVICOS LTDA"
        ],
        [
         " V C DOS SANTOS BAR"
        ],
        [
         " V M  DA  SILVA"
        ],
        [
         " V. G. SALVADOR REPRESENTACOES"
        ],
        [
         " WILMERS REPRESENTACOES COMERCIAIS LTDA"
        ],
        [
         "!GENIAL PROJETOS E PRODUCOES DE ARTE LTDA"
        ],
        [
         "\"\"\" DOHITA BORBELY\""
        ],
        [
         "\"\"\" ENIO JESUS PEREIRA\""
        ],
        [
         "\"\"\" GRUPO NOSSA SENHORA DA SALETE \"\".\""
        ],
        [
         "\"\"\" J.KAR-VEICULOS LTDA\""
        ],
        [
         "\"\"\" JET GAS COMERCIAL LTDA \"\"\""
        ],
        [
         "\"\"\" LEILA MARIA M PEREIRA\""
        ],
        [
         "\"\"\"28\"\" - LIMPEZA E CONSERVACAO DE VEICULOS LTDA\""
        ],
        [
         "\"\"\"A & R \"\"- MOTO COURIERS LTDA\""
        ],
        [
         "\"\"\"A E C\"\" ASSOCIACAO ESCOLA COMUNIDADE DA EPG XIII DE SETEMBRO\""
        ],
        [
         "\"\"\"AGRO CENTERCAO\"\" LTDA\""
        ],
        [
         "\"\"\"AMARAL E PIEDADE REPRESENTACOES LTDA\"\"\""
        ],
        [
         "\"\"\"ASP TECNOLOGIA E SISTEMAS LTDA\"\"\""
        ],
        [
         "\"\"\"ATIVA\"\" - ASSOCIACAO DE MUNICIPIOS\""
        ],
        [
         "\"\"\"BOBISUL\"\"IND.E COMERCIO DEEMBALAGENS DE MADEIRA LTDA\""
        ],
        [
         "\"\"\"CAIXA COMUNIDADE DO CENTRO DE CONVIVENCIA PERPETUO SOCORRO\"\"\""
        ],
        [
         "\"\"\"CENTEL\"\" CENTRAL TELEMARKETING MOCOCA LTDA\""
        ],
        [
         "\"\"\"CORACAO PARA CORACAO\"\"-COMERCIO DE DISCOS LTDA\""
        ],
        [
         "\"\"\"DA LUCRIS \"\" - EMBALAGENS LTDA MICROEMPRESA\""
        ],
        [
         "\"\"\"DATA-ECO\"\" PROCESSAMENTO DE DADOS S/C LTDA\""
        ],
        [
         "\"\"\"DIBRASAL\"\" DISTRIBUIDORA BRASILEIRA DE ALIMENTOS LTDA\""
        ],
        [
         "\"\"\"DIGITA - PROCESSAMENTOS DE JUAZEIRO LTDA\"\"\""
        ],
        [
         "\"\"\"DOLCE SONNO LTDA\""
        ],
        [
         "\"\"\"ELITE CONSULTORIA E TREINAMENTO EM SEGURANCA,HIGIENE E MEDICINA DO TRABALHO LTDA\"\"\""
        ],
        [
         "\"\"\"ERGA OMNES\"\" LIVRARIA LTDA\""
        ],
        [
         "\"\"\"GRAPHUS SUL FIF 60\"\"\""
        ],
        [
         "\"\"\"J.C.\"\" - MOTO EXPRESS S/C LTDA\""
        ],
        [
         "\"\"\"JM\"\" REPRESENTACOES LTDA\""
        ],
        [
         "\"\"\"JOAO GILBERTO ROSA VICTORIANO\""
        ],
        [
         "\"\"\"K. & F. TRANSPORTES LTDA\"\"\""
        ],
        [
         "\"\"\"K.O.\"\" INDUSTRIA E COMERCIO DE BRINDES LTDA\""
        ],
        [
         "\"\"\"KALOPETE CONFECCOES LTDA\""
        ],
        [
         "\"\"\"L. RAMOS PRODUTOS VETERINARIOS LTDA\"\"\""
        ],
        [
         "\"\"\"LUQUES & MAGNOLO CENTRO AUTOMOTIVOS LTDA\""
        ],
        [
         "\"\"\"MAISON DUE\"\" CONFECCOES LIMITADA\""
        ],
        [
         "\"\"\"MAZZEI\"\"-ROTISSERIE & AVICOLA LTDA\""
        ],
        [
         "\"\"\"ME\"\"PETALAS,COMERCIAL DE MIUDEZAS LTDA\""
        ],
        [
         "\"\"\"NAIR MENDES DE ARAUJO\"\"\""
        ]
       ],
       "datasetInfos": [],
       "dbfsResultPath": null,
       "isJsonSchema": true,
       "metadata": {},
       "overflow": false,
       "plotOptions": {
        "customPlotOptions": {},
        "displayType": "table",
        "pivotAggregation": null,
        "pivotColumns": null,
        "xColumns": null,
        "yColumns": null
       },
       "removedWidgets": [],
       "schema": [
        {
         "metadata": "{}",
         "name": "_c1",
         "type": "\"string\""
        }
       ],
       "type": "table"
      }
     },
     "output_type": "display_data"
    }
   ],
   "source": [
    "# Analisar estrutura de registros\n",
    "# razao social\n",
    "df_raw_emp.select(\"_c1\").distinct().orderBy(\"_c1\", how=\"asc\").limit(100).display()"
   ]
  },
  {
   "cell_type": "code",
   "execution_count": 0,
   "metadata": {
    "application/vnd.databricks.v1+cell": {
     "cellMetadata": {
      "byteLimit": 2048000,
      "rowLimit": 10000
     },
     "inputWidgets": {},
     "nuid": "7287f035-453b-4354-8ecd-64fce9b1df31",
     "showTitle": false,
     "tableResultSettingsMap": {},
     "title": ""
    }
   },
   "outputs": [
    {
     "output_type": "display_data",
     "data": {
      "text/html": [
       "<style scoped>\n",
       "  .table-result-container {\n",
       "    max-height: 300px;\n",
       "    overflow: auto;\n",
       "  }\n",
       "  table, th, td {\n",
       "    border: 1px solid black;\n",
       "    border-collapse: collapse;\n",
       "  }\n",
       "  th, td {\n",
       "    padding: 5px;\n",
       "  }\n",
       "  th {\n",
       "    text-align: left;\n",
       "  }\n",
       "</style><div class='table-result-container'><table class='table-result'><thead style='background-color: white'><tr><th>_c4</th></tr></thead><tbody><tr><td>0,00</td></tr><tr><td>0,01</td></tr><tr><td>0,02</td></tr><tr><td>0,03</td></tr><tr><td>0,04</td></tr><tr><td>0,05</td></tr><tr><td>0,07</td></tr><tr><td>0,08</td></tr><tr><td>0,10</td></tr><tr><td>0,11</td></tr><tr><td>0,14</td></tr><tr><td>0,17</td></tr><tr><td>0,18</td></tr><tr><td>0,20</td></tr><tr><td>0,22</td></tr><tr><td>0,29</td></tr><tr><td>0,30</td></tr><tr><td>0,35</td></tr><tr><td>0,36</td></tr><tr><td>0,43</td></tr><tr><td>0,50</td></tr><tr><td>0,54</td></tr><tr><td>0,55</td></tr><tr><td>0,58</td></tr><tr><td>0,60</td></tr><tr><td>0,72</td></tr><tr><td>0,76</td></tr><tr><td>0,99</td></tr><tr><td>01</td></tr><tr><td>05</td></tr><tr><td>1,00</td></tr><tr><td>1,01</td></tr><tr><td>1,08</td></tr><tr><td>1,09</td></tr><tr><td>1,11</td></tr><tr><td>1,23</td></tr><tr><td>1,27</td></tr><tr><td>1,35</td></tr><tr><td>1,44</td></tr><tr><td>1,45</td></tr><tr><td>1,50</td></tr><tr><td>1,60</td></tr><tr><td>1,70</td></tr><tr><td>1,80</td></tr><tr><td>1,81</td></tr><tr><td>1,82</td></tr><tr><td>10,00</td></tr><tr><td>10,50</td></tr><tr><td>10,53</td></tr><tr><td>10,90</td></tr><tr><td>10,91</td></tr><tr><td>100,00</td></tr><tr><td>1000,00</td></tr><tr><td>1000,31</td></tr><tr><td>10000,00</td></tr><tr><td>10000,01</td></tr><tr><td>10000,80</td></tr><tr><td>100000,00</td></tr><tr><td>100000,20</td></tr><tr><td>1000000,00</td></tr><tr><td>10000000,00</td></tr><tr><td>10000000,50</td></tr><tr><td>100000000,00</td></tr><tr><td>1000000000,00</td></tr><tr><td>10000002,00</td></tr><tr><td>1000001,00</td></tr><tr><td>1000002,00</td></tr><tr><td>10000051,20</td></tr><tr><td>100001,00</td></tr><tr><td>1000010,00</td></tr><tr><td>10000100,00</td></tr><tr><td>100002,00</td></tr><tr><td>1000020,00</td></tr><tr><td>1000023,00</td></tr><tr><td>100003,00</td></tr><tr><td>100005,00</td></tr><tr><td>1000050,00</td></tr><tr><td>100006,00</td></tr><tr><td>100009,00</td></tr><tr><td>10001,00</td></tr><tr><td>100010,00</td></tr><tr><td>1000100,00</td></tr><tr><td>10001000,00</td></tr><tr><td>10001561,00</td></tr><tr><td>10001569,00</td></tr><tr><td>100016,00</td></tr><tr><td>10002,00</td></tr><tr><td>100020,00</td></tr><tr><td>100021,00</td></tr><tr><td>100024,00</td></tr><tr><td>100025000,00</td></tr><tr><td>10003,00</td></tr><tr><td>10003,60</td></tr><tr><td>100030,00</td></tr><tr><td>100030,74</td></tr><tr><td>1000388,00</td></tr><tr><td>10003950,00</td></tr><tr><td>100040,00</td></tr><tr><td>100050,00</td></tr><tr><td>10005000,00</td></tr></tbody></table></div>"
      ]
     },
     "metadata": {
      "application/vnd.databricks.v1+output": {
       "addedWidgets": {},
       "aggData": [],
       "aggError": "",
       "aggOverflow": false,
       "aggSchema": [],
       "aggSeriesLimitReached": false,
       "aggType": "",
       "arguments": {},
       "columnCustomDisplayInfos": {},
       "data": [
        [
         "0,00"
        ],
        [
         "0,01"
        ],
        [
         "0,02"
        ],
        [
         "0,03"
        ],
        [
         "0,04"
        ],
        [
         "0,05"
        ],
        [
         "0,07"
        ],
        [
         "0,08"
        ],
        [
         "0,10"
        ],
        [
         "0,11"
        ],
        [
         "0,14"
        ],
        [
         "0,17"
        ],
        [
         "0,18"
        ],
        [
         "0,20"
        ],
        [
         "0,22"
        ],
        [
         "0,29"
        ],
        [
         "0,30"
        ],
        [
         "0,35"
        ],
        [
         "0,36"
        ],
        [
         "0,43"
        ],
        [
         "0,50"
        ],
        [
         "0,54"
        ],
        [
         "0,55"
        ],
        [
         "0,58"
        ],
        [
         "0,60"
        ],
        [
         "0,72"
        ],
        [
         "0,76"
        ],
        [
         "0,99"
        ],
        [
         "01"
        ],
        [
         "05"
        ],
        [
         "1,00"
        ],
        [
         "1,01"
        ],
        [
         "1,08"
        ],
        [
         "1,09"
        ],
        [
         "1,11"
        ],
        [
         "1,23"
        ],
        [
         "1,27"
        ],
        [
         "1,35"
        ],
        [
         "1,44"
        ],
        [
         "1,45"
        ],
        [
         "1,50"
        ],
        [
         "1,60"
        ],
        [
         "1,70"
        ],
        [
         "1,80"
        ],
        [
         "1,81"
        ],
        [
         "1,82"
        ],
        [
         "10,00"
        ],
        [
         "10,50"
        ],
        [
         "10,53"
        ],
        [
         "10,90"
        ],
        [
         "10,91"
        ],
        [
         "100,00"
        ],
        [
         "1000,00"
        ],
        [
         "1000,31"
        ],
        [
         "10000,00"
        ],
        [
         "10000,01"
        ],
        [
         "10000,80"
        ],
        [
         "100000,00"
        ],
        [
         "100000,20"
        ],
        [
         "1000000,00"
        ],
        [
         "10000000,00"
        ],
        [
         "10000000,50"
        ],
        [
         "100000000,00"
        ],
        [
         "1000000000,00"
        ],
        [
         "10000002,00"
        ],
        [
         "1000001,00"
        ],
        [
         "1000002,00"
        ],
        [
         "10000051,20"
        ],
        [
         "100001,00"
        ],
        [
         "1000010,00"
        ],
        [
         "10000100,00"
        ],
        [
         "100002,00"
        ],
        [
         "1000020,00"
        ],
        [
         "1000023,00"
        ],
        [
         "100003,00"
        ],
        [
         "100005,00"
        ],
        [
         "1000050,00"
        ],
        [
         "100006,00"
        ],
        [
         "100009,00"
        ],
        [
         "10001,00"
        ],
        [
         "100010,00"
        ],
        [
         "1000100,00"
        ],
        [
         "10001000,00"
        ],
        [
         "10001561,00"
        ],
        [
         "10001569,00"
        ],
        [
         "100016,00"
        ],
        [
         "10002,00"
        ],
        [
         "100020,00"
        ],
        [
         "100021,00"
        ],
        [
         "100024,00"
        ],
        [
         "100025000,00"
        ],
        [
         "10003,00"
        ],
        [
         "10003,60"
        ],
        [
         "100030,00"
        ],
        [
         "100030,74"
        ],
        [
         "1000388,00"
        ],
        [
         "10003950,00"
        ],
        [
         "100040,00"
        ],
        [
         "100050,00"
        ],
        [
         "10005000,00"
        ]
       ],
       "datasetInfos": [],
       "dbfsResultPath": null,
       "isJsonSchema": true,
       "metadata": {},
       "overflow": false,
       "plotOptions": {
        "customPlotOptions": {},
        "displayType": "table",
        "pivotAggregation": null,
        "pivotColumns": null,
        "xColumns": null,
        "yColumns": null
       },
       "removedWidgets": [],
       "schema": [
        {
         "metadata": "{}",
         "name": "_c4",
         "type": "\"string\""
        }
       ],
       "type": "table"
      }
     },
     "output_type": "display_data"
    }
   ],
   "source": [
    "# Analisar estrutura de registros\n",
    "# capital social\n",
    "df_raw_emp.select(\"_c4\").distinct().orderBy(\"_c4\", how=\"asc\").limit(100).display()"
   ]
  },
  {
   "cell_type": "code",
   "execution_count": 0,
   "metadata": {
    "application/vnd.databricks.v1+cell": {
     "cellMetadata": {
      "byteLimit": 2048000,
      "rowLimit": 10000
     },
     "inputWidgets": {},
     "nuid": "e13b2da6-c362-469b-9d52-e73659a70051",
     "showTitle": false,
     "tableResultSettingsMap": {},
     "title": ""
    }
   },
   "outputs": [
    {
     "output_type": "display_data",
     "data": {
      "text/html": [
       "<style scoped>\n",
       "  .table-result-container {\n",
       "    max-height: 300px;\n",
       "    overflow: auto;\n",
       "  }\n",
       "  table, th, td {\n",
       "    border: 1px solid black;\n",
       "    border-collapse: collapse;\n",
       "  }\n",
       "  th, td {\n",
       "    padding: 5px;\n",
       "  }\n",
       "  th {\n",
       "    text-align: left;\n",
       "  }\n",
       "</style><div class='table-result-container'><table class='table-result'><thead style='background-color: white'><tr><th>_c2</th></tr></thead><tbody><tr><td>16</td></tr><tr><td>49</td></tr><tr><td>50</td></tr><tr><td>1015</td></tr><tr><td>1023</td></tr><tr><td>1031</td></tr><tr><td>1040</td></tr><tr><td>1058</td></tr><tr><td>1066</td></tr><tr><td>1074</td></tr><tr><td>1082</td></tr><tr><td>1104</td></tr><tr><td>1112</td></tr><tr><td>1120</td></tr><tr><td>1139</td></tr><tr><td>1147</td></tr><tr><td>1155</td></tr><tr><td>1163</td></tr><tr><td>1171</td></tr><tr><td>1180</td></tr><tr><td>1210</td></tr><tr><td>1228</td></tr><tr><td>1236</td></tr><tr><td>1244</td></tr><tr><td>1252</td></tr><tr><td>1279</td></tr><tr><td>1317</td></tr><tr><td>1325</td></tr><tr><td>1333</td></tr><tr><td>2011</td></tr><tr><td>2038</td></tr><tr><td>2046</td></tr><tr><td>2054</td></tr><tr><td>2062</td></tr><tr><td>2070</td></tr><tr><td>2089</td></tr><tr><td>2097</td></tr><tr><td>2100</td></tr><tr><td>2127</td></tr><tr><td>2135</td></tr><tr><td>2143</td></tr><tr><td>2151</td></tr><tr><td>2160</td></tr><tr><td>2178</td></tr><tr><td>2224</td></tr><tr><td>2232</td></tr><tr><td>2240</td></tr><tr><td>2259</td></tr><tr><td>2267</td></tr><tr><td>2275</td></tr><tr><td>2283</td></tr><tr><td>2305</td></tr><tr><td>2313</td></tr><tr><td>2321</td></tr><tr><td>2330</td></tr><tr><td>3034</td></tr><tr><td>3069</td></tr><tr><td>3077</td></tr><tr><td>3085</td></tr><tr><td>3107</td></tr><tr><td>3115</td></tr><tr><td>3131</td></tr><tr><td>3204</td></tr><tr><td>3212</td></tr><tr><td>3220</td></tr><tr><td>3255</td></tr><tr><td>3263</td></tr><tr><td>3271</td></tr><tr><td>3301</td></tr><tr><td>3999</td></tr><tr><td>4014</td></tr><tr><td>5010</td></tr><tr><td>5029</td></tr><tr><td>8885</td></tr></tbody></table></div>"
      ]
     },
     "metadata": {
      "application/vnd.databricks.v1+output": {
       "addedWidgets": {},
       "aggData": [],
       "aggError": "",
       "aggOverflow": false,
       "aggSchema": [],
       "aggSeriesLimitReached": false,
       "aggType": "",
       "arguments": {},
       "columnCustomDisplayInfos": {},
       "data": [
        [
         16
        ],
        [
         49
        ],
        [
         50
        ],
        [
         1015
        ],
        [
         1023
        ],
        [
         1031
        ],
        [
         1040
        ],
        [
         1058
        ],
        [
         1066
        ],
        [
         1074
        ],
        [
         1082
        ],
        [
         1104
        ],
        [
         1112
        ],
        [
         1120
        ],
        [
         1139
        ],
        [
         1147
        ],
        [
         1155
        ],
        [
         1163
        ],
        [
         1171
        ],
        [
         1180
        ],
        [
         1210
        ],
        [
         1228
        ],
        [
         1236
        ],
        [
         1244
        ],
        [
         1252
        ],
        [
         1279
        ],
        [
         1317
        ],
        [
         1325
        ],
        [
         1333
        ],
        [
         2011
        ],
        [
         2038
        ],
        [
         2046
        ],
        [
         2054
        ],
        [
         2062
        ],
        [
         2070
        ],
        [
         2089
        ],
        [
         2097
        ],
        [
         2100
        ],
        [
         2127
        ],
        [
         2135
        ],
        [
         2143
        ],
        [
         2151
        ],
        [
         2160
        ],
        [
         2178
        ],
        [
         2224
        ],
        [
         2232
        ],
        [
         2240
        ],
        [
         2259
        ],
        [
         2267
        ],
        [
         2275
        ],
        [
         2283
        ],
        [
         2305
        ],
        [
         2313
        ],
        [
         2321
        ],
        [
         2330
        ],
        [
         3034
        ],
        [
         3069
        ],
        [
         3077
        ],
        [
         3085
        ],
        [
         3107
        ],
        [
         3115
        ],
        [
         3131
        ],
        [
         3204
        ],
        [
         3212
        ],
        [
         3220
        ],
        [
         3255
        ],
        [
         3263
        ],
        [
         3271
        ],
        [
         3301
        ],
        [
         3999
        ],
        [
         4014
        ],
        [
         5010
        ],
        [
         5029
        ],
        [
         8885
        ]
       ],
       "datasetInfos": [],
       "dbfsResultPath": null,
       "isJsonSchema": true,
       "metadata": {},
       "overflow": false,
       "plotOptions": {
        "customPlotOptions": {},
        "displayType": "table",
        "pivotAggregation": null,
        "pivotColumns": null,
        "xColumns": null,
        "yColumns": null
       },
       "removedWidgets": [],
       "schema": [
        {
         "metadata": "{}",
         "name": "_c2",
         "type": "\"integer\""
        }
       ],
       "type": "table"
      }
     },
     "output_type": "display_data"
    }
   ],
   "source": [
    "# Analisar estrutura de registros\n",
    "# natureza juridica\n",
    "df_raw_emp.select(\"_c2\").distinct().orderBy(\"_c2\", how=\"asc\").limit(100).display()"
   ]
  },
  {
   "cell_type": "code",
   "execution_count": 0,
   "metadata": {
    "application/vnd.databricks.v1+cell": {
     "cellMetadata": {
      "byteLimit": 2048000,
      "rowLimit": 10000
     },
     "inputWidgets": {},
     "nuid": "927aa1ce-8764-4b33-8c08-2e4a77db067b",
     "showTitle": false,
     "tableResultSettingsMap": {},
     "title": ""
    }
   },
   "outputs": [
    {
     "output_type": "display_data",
     "data": {
      "text/html": [
       "<style scoped>\n",
       "  .table-result-container {\n",
       "    max-height: 300px;\n",
       "    overflow: auto;\n",
       "  }\n",
       "  table, th, td {\n",
       "    border: 1px solid black;\n",
       "    border-collapse: collapse;\n",
       "  }\n",
       "  th, td {\n",
       "    padding: 5px;\n",
       "  }\n",
       "  th {\n",
       "    text-align: left;\n",
       "  }\n",
       "</style><div class='table-result-container'><table class='table-result'><thead style='background-color: white'><tr><th>_c5</th></tr></thead><tbody><tr><td>null</td></tr><tr><td>1</td></tr><tr><td>3</td></tr><tr><td>5</td></tr></tbody></table></div>"
      ]
     },
     "metadata": {
      "application/vnd.databricks.v1+output": {
       "addedWidgets": {},
       "aggData": [],
       "aggError": "",
       "aggOverflow": false,
       "aggSchema": [],
       "aggSeriesLimitReached": false,
       "aggType": "",
       "arguments": {},
       "columnCustomDisplayInfos": {},
       "data": [
        [
         null
        ],
        [
         1
        ],
        [
         3
        ],
        [
         5
        ]
       ],
       "datasetInfos": [],
       "dbfsResultPath": null,
       "isJsonSchema": true,
       "metadata": {},
       "overflow": false,
       "plotOptions": {
        "customPlotOptions": {},
        "displayType": "table",
        "pivotAggregation": null,
        "pivotColumns": null,
        "xColumns": null,
        "yColumns": null
       },
       "removedWidgets": [],
       "schema": [
        {
         "metadata": "{}",
         "name": "_c5",
         "type": "\"integer\""
        }
       ],
       "type": "table"
      }
     },
     "output_type": "display_data"
    }
   ],
   "source": [
    "# Analisar estrutura de registros\n",
    "# codigo porte\n",
    "df_raw_emp.select(\"_c5\").distinct().orderBy(\"_c5\", how=\"asc\").limit(100).display()"
   ]
  },
  {
   "cell_type": "code",
   "execution_count": 0,
   "metadata": {
    "application/vnd.databricks.v1+cell": {
     "cellMetadata": {
      "byteLimit": 2048000,
      "rowLimit": 10000
     },
     "inputWidgets": {},
     "nuid": "9704bb87-53f8-4c76-bbb5-6e240f81c559",
     "showTitle": false,
     "tableResultSettingsMap": {},
     "title": ""
    }
   },
   "outputs": [
    {
     "output_type": "display_data",
     "data": {
      "text/html": [
       "<style scoped>\n",
       "  .table-result-container {\n",
       "    max-height: 300px;\n",
       "    overflow: auto;\n",
       "  }\n",
       "  table, th, td {\n",
       "    border: 1px solid black;\n",
       "    border-collapse: collapse;\n",
       "  }\n",
       "  th, td {\n",
       "    padding: 5px;\n",
       "  }\n",
       "  th {\n",
       "    text-align: left;\n",
       "  }\n",
       "</style><div class='table-result-container'><table class='table-result'><thead style='background-color: white'><tr><th>_c0</th><th>_c1</th><th>_c2</th><th>_c3</th><th>_c4</th><th>_c5</th><th>_c6</th></tr></thead><tbody><tr><td>559632</td><td>RONINE CONFECCOES LTDA</td><td>2062</td><td>49</td><td>99990,00</td><td>1</td><td>null</td></tr><tr><td>2532621</td><td>DERMALASER - LOCACAO DE APARELHOS S/C LTDA</td><td>2240</td><td>49</td><td>99990,00</td><td>1</td><td>null</td></tr><tr><td>1706625</td><td>DORE COMERCIO DE ROUPAS LTDA</td><td>2062</td><td>49</td><td>99990,00</td><td>1</td><td>null</td></tr><tr><td>2389692</td><td>INDUSTRIA, COMERCIO, IMPORTACAO E EXPORTACAO DE ALIMENTOS MULTLAC LTDA</td><td>2062</td><td>49</td><td>99990,00</td><td>1</td><td>null</td></tr><tr><td>3836842</td><td>RPENA INFORMATICA LTDA</td><td>2062</td><td>49</td><td>9999,00</td><td>1</td><td>null</td></tr><tr><td>1733636</td><td>CENTRO EDUCACIONAL INTEGRADO V.E.R.LTDA</td><td>2062</td><td>49</td><td>9999,00</td><td>1</td><td>null</td></tr><tr><td>2470266</td><td>T. TOZATO LTDA</td><td>2062</td><td>49</td><td>99980,00</td><td>1</td><td>null</td></tr><tr><td>3262184</td><td>JCA SERVICE - SERVICOS ESPECIALIZADOS LTDA</td><td>2062</td><td>49</td><td>999000,00</td><td>1</td><td>null</td></tr><tr><td>326841</td><td>C2V ADMINISTRACAO DE BENS LTDA</td><td>2062</td><td>49</td><td>99900,00</td><td>1</td><td>null</td></tr><tr><td>3088543</td><td>M. MELO COMUNICACOES LTDA</td><td>2062</td><td>49</td><td>99900,00</td><td>1</td><td>null</td></tr><tr><td>1327126</td><td>CLAPP SOLUCOES EM PRODUCAO GRAFICA E FOTOGRAFICA LTDA</td><td>2240</td><td>49</td><td>99900,00</td><td>1</td><td>null</td></tr><tr><td>3337558</td><td>REVESTIR COMERCIO DE MATERIAIS DE CONSTRUCAO DE BICAS LTDA</td><td>2062</td><td>49</td><td>99900,00</td><td>1</td><td>null</td></tr><tr><td>1722043</td><td>REGALITA METAIS E INTERIOR DESIGNERS LTDA</td><td>2062</td><td>49</td><td>99900,00</td><td>1</td><td>null</td></tr><tr><td>3385185</td><td>ALMIR ALVES URBANIZACAO</td><td>2135</td><td>50</td><td>99900,00</td><td>1</td><td>null</td></tr><tr><td>3404609</td><td>JVMAQ COMERCIO E SERVICOS DE MAQUINAS LTDA</td><td>2062</td><td>49</td><td>99900,00</td><td>1</td><td>null</td></tr><tr><td>940813</td><td>ALTERNATIVA DISTRIBUIDORA DE LIVROS E VESTIB LTDA</td><td>2062</td><td>49</td><td>9990,56</td><td>1</td><td>null</td></tr><tr><td>1213641</td><td>BROADWAY PROMOCOES E EVENTOS LTDA</td><td>2232</td><td>49</td><td>999,00</td><td>1</td><td>null</td></tr><tr><td>4007387</td><td>RADIANCY DO BRASIL LTDA</td><td>2062</td><td>49</td><td>998762,00</td><td>1</td><td>null</td></tr><tr><td>2791677</td><td>AMERICO ALVES DA MOTA LTDA</td><td>2062</td><td>49</td><td>99850,00</td><td>1</td><td>null</td></tr><tr><td>2102570</td><td>ARAUJO COMERCIO DIGITAL LTDA</td><td>2062</td><td>49</td><td>99850,00</td><td>1</td><td>null</td></tr><tr><td>2852883</td><td>TDC EXPRESS E SERVICOS AUXILIARES LTDA</td><td>2062</td><td>49</td><td>9982,00</td><td>1</td><td>null</td></tr><tr><td>3758211</td><td>ESTACIONAMENTO PADRE ROLIM LTDA.</td><td>2062</td><td>49</td><td>99801,00</td><td>1</td><td>null</td></tr><tr><td>2660021</td><td>ASTE SERVICOS DE ENGENHARIA LTDA</td><td>2062</td><td>49</td><td>99801,00</td><td>1</td><td>null</td></tr><tr><td>1592654</td><td>LAMG SERVICOS E CONSTRUCOES LTDA.</td><td>2062</td><td>49</td><td>998000,00</td><td>1</td><td>null</td></tr><tr><td>2544250</td><td>FARMACIA ENTERPRISE LTDA</td><td>2062</td><td>49</td><td>99800,00</td><td>1</td><td>null</td></tr><tr><td>535777</td><td>MARCIA OLIVEIRA MAGALHAES LTDA</td><td>2062</td><td>49</td><td>99800,00</td><td>1</td><td>null</td></tr><tr><td>2378085</td><td>EVOLUTION HAIR CABELEIREIROS LTDA</td><td>2062</td><td>49</td><td>99800,00</td><td>1</td><td>null</td></tr><tr><td>1384263</td><td>FARIAS DISTRIBUIDORA DE MADEIRA LTDA</td><td>2062</td><td>49</td><td>99800,00</td><td>1</td><td>null</td></tr><tr><td>2545539</td><td>OPTICA INDAIATUBA LTDA</td><td>2062</td><td>49</td><td>99800,00</td><td>1</td><td>null</td></tr><tr><td>3777675</td><td>ART FER MOVEIS E DECORACOES LTDA</td><td>2062</td><td>49</td><td>99800,00</td><td>1</td><td>null</td></tr><tr><td>2386179</td><td>PADARIA E CONFEITARIA DALTRO LONGUI LTDA</td><td>2062</td><td>49</td><td>99800,00</td><td>1</td><td>null</td></tr><tr><td>1210634</td><td>PILAR CONSULTORIA E ASSESSORIA CONTABIL LTDA</td><td>2062</td><td>49</td><td>99800,00</td><td>1</td><td>null</td></tr><tr><td>2563577</td><td>COMERCIAL UNA ELETRODOS EIRELI</td><td>2305</td><td>65</td><td>99800,00</td><td>1</td><td>null</td></tr><tr><td>255629</td><td>K L REPRESENTACOES LTDA</td><td>2062</td><td>49</td><td>99800,00</td><td>1</td><td>null</td></tr><tr><td>2388622</td><td>SANNAR COMERCIO E ASSISTENCIA TECNICA LTDA</td><td>2062</td><td>49</td><td>99800,00</td><td>1</td><td>null</td></tr><tr><td>1387537</td><td>KITEM MODAS LTDA</td><td>2062</td><td>49</td><td>99800,00</td><td>1</td><td>null</td></tr><tr><td>2564231</td><td>ATROL INDUSTRIA E COMERCIO DE CONFECCOES, IMPORTACAO E EXPORTACAO LTDA</td><td>2062</td><td>49</td><td>99800,00</td><td>1</td><td>null</td></tr><tr><td>3651447</td><td>CONFECCOES BONINHO EIRELI</td><td>2305</td><td>65</td><td>99800,00</td><td>1</td><td>null</td></tr><tr><td>2395000</td><td>RESTAUBAR BAR E RESTAURANTE LTDA</td><td>2062</td><td>49</td><td>99800,00</td><td>1</td><td>null</td></tr><tr><td>1196815</td><td>BAZAR E PAPELARIA DA DANY LTDA</td><td>2062</td><td>49</td><td>99800,00</td><td>1</td><td>null</td></tr><tr><td>2564889</td><td>CONTATE CONTABILIDADE SANJOANENSE LTDA</td><td>2062</td><td>49</td><td>99800,00</td><td>1</td><td>null</td></tr><tr><td>255185</td><td>PALHARINI SERVICOS DE MARMITEX LTDA</td><td>2062</td><td>49</td><td>99800,00</td><td>1</td><td>null</td></tr><tr><td>2402027</td><td>DROGARIA KARINE LTDA</td><td>2062</td><td>49</td><td>99800,00</td><td>1</td><td>null</td></tr><tr><td>1394601</td><td>F J CASA LOTERICA LTDA</td><td>2062</td><td>49</td><td>99800,00</td><td>1</td><td>null</td></tr><tr><td>2402907</td><td>L. FERNANDO NERIS LTDA</td><td>2062</td><td>49</td><td>99800,00</td><td>1</td><td>null</td></tr><tr><td>3649372</td><td>NOVAMIX RESTAURANTE LTDA</td><td>2062</td><td>49</td><td>99800,00</td><td>1</td><td>null</td></tr><tr><td>2673388</td><td>CENTRO DE ESTUDOS E ORIENTACAO DE RELACOES DE VIDA LTDA</td><td>2062</td><td>49</td><td>99800,00</td><td>1</td><td>null</td></tr><tr><td>1235076</td><td>I. M. DA COSTA SILVA EIRELI</td><td>2305</td><td>65</td><td>99800,00</td><td>1</td><td>null</td></tr><tr><td>2409715</td><td>DISTRIBUIDORA DE AGUA MINERAL SAO CARLOS LTDA</td><td>2062</td><td>49</td><td>99800,00</td><td>1</td><td>null</td></tr><tr><td>257466</td><td>ALGOFIO COMERCIO DE FIOS LTDA</td><td>2062</td><td>49</td><td>99800,00</td><td>1</td><td>null</td></tr></tbody></table></div>"
      ]
     },
     "metadata": {
      "application/vnd.databricks.v1+output": {
       "addedWidgets": {},
       "aggData": [],
       "aggError": "",
       "aggOverflow": false,
       "aggSchema": [],
       "aggSeriesLimitReached": false,
       "aggType": "",
       "arguments": {},
       "columnCustomDisplayInfos": {},
       "data": [
        [
         559632,
         "RONINE CONFECCOES LTDA",
         2062,
         "49",
         "99990,00",
         1,
         null
        ],
        [
         2532621,
         "DERMALASER - LOCACAO DE APARELHOS S/C LTDA",
         2240,
         "49",
         "99990,00",
         1,
         null
        ],
        [
         1706625,
         "DORE COMERCIO DE ROUPAS LTDA",
         2062,
         "49",
         "99990,00",
         1,
         null
        ],
        [
         2389692,
         "INDUSTRIA, COMERCIO, IMPORTACAO E EXPORTACAO DE ALIMENTOS MULTLAC LTDA",
         2062,
         "49",
         "99990,00",
         1,
         null
        ],
        [
         3836842,
         "RPENA INFORMATICA LTDA",
         2062,
         "49",
         "9999,00",
         1,
         null
        ],
        [
         1733636,
         "CENTRO EDUCACIONAL INTEGRADO V.E.R.LTDA",
         2062,
         "49",
         "9999,00",
         1,
         null
        ],
        [
         2470266,
         "T. TOZATO LTDA",
         2062,
         "49",
         "99980,00",
         1,
         null
        ],
        [
         3262184,
         "JCA SERVICE - SERVICOS ESPECIALIZADOS LTDA",
         2062,
         "49",
         "999000,00",
         1,
         null
        ],
        [
         326841,
         "C2V ADMINISTRACAO DE BENS LTDA",
         2062,
         "49",
         "99900,00",
         1,
         null
        ],
        [
         3088543,
         "M. MELO COMUNICACOES LTDA",
         2062,
         "49",
         "99900,00",
         1,
         null
        ],
        [
         1327126,
         "CLAPP SOLUCOES EM PRODUCAO GRAFICA E FOTOGRAFICA LTDA",
         2240,
         "49",
         "99900,00",
         1,
         null
        ],
        [
         3337558,
         "REVESTIR COMERCIO DE MATERIAIS DE CONSTRUCAO DE BICAS LTDA",
         2062,
         "49",
         "99900,00",
         1,
         null
        ],
        [
         1722043,
         "REGALITA METAIS E INTERIOR DESIGNERS LTDA",
         2062,
         "49",
         "99900,00",
         1,
         null
        ],
        [
         3385185,
         "ALMIR ALVES URBANIZACAO",
         2135,
         "50",
         "99900,00",
         1,
         null
        ],
        [
         3404609,
         "JVMAQ COMERCIO E SERVICOS DE MAQUINAS LTDA",
         2062,
         "49",
         "99900,00",
         1,
         null
        ],
        [
         940813,
         "ALTERNATIVA DISTRIBUIDORA DE LIVROS E VESTIB LTDA",
         2062,
         "49",
         "9990,56",
         1,
         null
        ],
        [
         1213641,
         "BROADWAY PROMOCOES E EVENTOS LTDA",
         2232,
         "49",
         "999,00",
         1,
         null
        ],
        [
         4007387,
         "RADIANCY DO BRASIL LTDA",
         2062,
         "49",
         "998762,00",
         1,
         null
        ],
        [
         2791677,
         "AMERICO ALVES DA MOTA LTDA",
         2062,
         "49",
         "99850,00",
         1,
         null
        ],
        [
         2102570,
         "ARAUJO COMERCIO DIGITAL LTDA",
         2062,
         "49",
         "99850,00",
         1,
         null
        ],
        [
         2852883,
         "TDC EXPRESS E SERVICOS AUXILIARES LTDA",
         2062,
         "49",
         "9982,00",
         1,
         null
        ],
        [
         3758211,
         "ESTACIONAMENTO PADRE ROLIM LTDA.",
         2062,
         "49",
         "99801,00",
         1,
         null
        ],
        [
         2660021,
         "ASTE SERVICOS DE ENGENHARIA LTDA",
         2062,
         "49",
         "99801,00",
         1,
         null
        ],
        [
         1592654,
         "LAMG SERVICOS E CONSTRUCOES LTDA.",
         2062,
         "49",
         "998000,00",
         1,
         null
        ],
        [
         2544250,
         "FARMACIA ENTERPRISE LTDA",
         2062,
         "49",
         "99800,00",
         1,
         null
        ],
        [
         535777,
         "MARCIA OLIVEIRA MAGALHAES LTDA",
         2062,
         "49",
         "99800,00",
         1,
         null
        ],
        [
         2378085,
         "EVOLUTION HAIR CABELEIREIROS LTDA",
         2062,
         "49",
         "99800,00",
         1,
         null
        ],
        [
         1384263,
         "FARIAS DISTRIBUIDORA DE MADEIRA LTDA",
         2062,
         "49",
         "99800,00",
         1,
         null
        ],
        [
         2545539,
         "OPTICA INDAIATUBA LTDA",
         2062,
         "49",
         "99800,00",
         1,
         null
        ],
        [
         3777675,
         "ART FER MOVEIS E DECORACOES LTDA",
         2062,
         "49",
         "99800,00",
         1,
         null
        ],
        [
         2386179,
         "PADARIA E CONFEITARIA DALTRO LONGUI LTDA",
         2062,
         "49",
         "99800,00",
         1,
         null
        ],
        [
         1210634,
         "PILAR CONSULTORIA E ASSESSORIA CONTABIL LTDA",
         2062,
         "49",
         "99800,00",
         1,
         null
        ],
        [
         2563577,
         "COMERCIAL UNA ELETRODOS EIRELI",
         2305,
         "65",
         "99800,00",
         1,
         null
        ],
        [
         255629,
         "K L REPRESENTACOES LTDA",
         2062,
         "49",
         "99800,00",
         1,
         null
        ],
        [
         2388622,
         "SANNAR COMERCIO E ASSISTENCIA TECNICA LTDA",
         2062,
         "49",
         "99800,00",
         1,
         null
        ],
        [
         1387537,
         "KITEM MODAS LTDA",
         2062,
         "49",
         "99800,00",
         1,
         null
        ],
        [
         2564231,
         "ATROL INDUSTRIA E COMERCIO DE CONFECCOES, IMPORTACAO E EXPORTACAO LTDA",
         2062,
         "49",
         "99800,00",
         1,
         null
        ],
        [
         3651447,
         "CONFECCOES BONINHO EIRELI",
         2305,
         "65",
         "99800,00",
         1,
         null
        ],
        [
         2395000,
         "RESTAUBAR BAR E RESTAURANTE LTDA",
         2062,
         "49",
         "99800,00",
         1,
         null
        ],
        [
         1196815,
         "BAZAR E PAPELARIA DA DANY LTDA",
         2062,
         "49",
         "99800,00",
         1,
         null
        ],
        [
         2564889,
         "CONTATE CONTABILIDADE SANJOANENSE LTDA",
         2062,
         "49",
         "99800,00",
         1,
         null
        ],
        [
         255185,
         "PALHARINI SERVICOS DE MARMITEX LTDA",
         2062,
         "49",
         "99800,00",
         1,
         null
        ],
        [
         2402027,
         "DROGARIA KARINE LTDA",
         2062,
         "49",
         "99800,00",
         1,
         null
        ],
        [
         1394601,
         "F J CASA LOTERICA LTDA",
         2062,
         "49",
         "99800,00",
         1,
         null
        ],
        [
         2402907,
         "L. FERNANDO NERIS LTDA",
         2062,
         "49",
         "99800,00",
         1,
         null
        ],
        [
         3649372,
         "NOVAMIX RESTAURANTE LTDA",
         2062,
         "49",
         "99800,00",
         1,
         null
        ],
        [
         2673388,
         "CENTRO DE ESTUDOS E ORIENTACAO DE RELACOES DE VIDA LTDA",
         2062,
         "49",
         "99800,00",
         1,
         null
        ],
        [
         1235076,
         "I. M. DA COSTA SILVA EIRELI",
         2305,
         "65",
         "99800,00",
         1,
         null
        ],
        [
         2409715,
         "DISTRIBUIDORA DE AGUA MINERAL SAO CARLOS LTDA",
         2062,
         "49",
         "99800,00",
         1,
         null
        ],
        [
         257466,
         "ALGOFIO COMERCIO DE FIOS LTDA",
         2062,
         "49",
         "99800,00",
         1,
         null
        ]
       ],
       "datasetInfos": [],
       "dbfsResultPath": null,
       "isJsonSchema": true,
       "metadata": {},
       "overflow": false,
       "plotOptions": {
        "customPlotOptions": {},
        "displayType": "table",
        "pivotAggregation": null,
        "pivotColumns": null,
        "xColumns": null,
        "yColumns": null
       },
       "removedWidgets": [],
       "schema": [
        {
         "metadata": "{}",
         "name": "_c0",
         "type": "\"integer\""
        },
        {
         "metadata": "{}",
         "name": "_c1",
         "type": "\"string\""
        },
        {
         "metadata": "{}",
         "name": "_c2",
         "type": "\"integer\""
        },
        {
         "metadata": "{}",
         "name": "_c3",
         "type": "\"string\""
        },
        {
         "metadata": "{}",
         "name": "_c4",
         "type": "\"string\""
        },
        {
         "metadata": "{}",
         "name": "_c5",
         "type": "\"integer\""
        },
        {
         "metadata": "{}",
         "name": "_c6",
         "type": "\"string\""
        }
       ],
       "type": "table"
      }
     },
     "output_type": "display_data"
    }
   ],
   "source": [
    "# Empresas de porte 1 com maior capital social\n",
    "df_raw_emp.select(\"*\").filter(col(\"_c5\") == 1).orderBy(col(\"_c4\").desc()).limit(50).display()"
   ]
  },
  {
   "cell_type": "code",
   "execution_count": 0,
   "metadata": {
    "application/vnd.databricks.v1+cell": {
     "cellMetadata": {
      "byteLimit": 2048000,
      "rowLimit": 10000
     },
     "inputWidgets": {},
     "nuid": "cc2c80e1-baf5-423a-8e8b-054f129c5d14",
     "showTitle": false,
     "tableResultSettingsMap": {},
     "title": ""
    }
   },
   "outputs": [
    {
     "output_type": "display_data",
     "data": {
      "text/html": [
       "<style scoped>\n",
       "  .table-result-container {\n",
       "    max-height: 300px;\n",
       "    overflow: auto;\n",
       "  }\n",
       "  table, th, td {\n",
       "    border: 1px solid black;\n",
       "    border-collapse: collapse;\n",
       "  }\n",
       "  th, td {\n",
       "    padding: 5px;\n",
       "  }\n",
       "  th {\n",
       "    text-align: left;\n",
       "  }\n",
       "</style><div class='table-result-container'><table class='table-result'><thead style='background-color: white'><tr><th>_c0</th><th>_c1</th><th>_c2</th><th>_c3</th><th>_c4</th><th>_c5</th><th>_c6</th></tr></thead><tbody><tr><td>2248795</td><td>SIBOLGA EMPREENDIMENTOS E PARTICIPACOES LTDA</td><td>2062</td><td>49</td><td>999999,00</td><td>3</td><td>null</td></tr><tr><td>1315197</td><td>NORTHGRAPH GRAFICA, EDITORA E EMBALAGENS LTDA</td><td>2062</td><td>49</td><td>999900,00</td><td>3</td><td>null</td></tr><tr><td>1682489</td><td>KOMILA'W BUFFET RESTAURANTE E ROTISSERIA LTDA</td><td>2062</td><td>49</td><td>99975,93</td><td>3</td><td>null</td></tr><tr><td>1498386</td><td>CORNIDE EMPREENDIMENTOS IMOBILIARIOS LTDA</td><td>2062</td><td>49</td><td>999600,00</td><td>3</td><td>null</td></tr><tr><td>4026276</td><td>H.KOR ADMINISTRACAO E PARTICIPACOES LTDA</td><td>2062</td><td>49</td><td>999000,00</td><td>3</td><td>null</td></tr><tr><td>4328497</td><td>M L DANTAS CONSTRUCOES LTDA</td><td>2062</td><td>49</td><td>999000,00</td><td>3</td><td>null</td></tr><tr><td>2800166</td><td>RMG SERVICOS CONSTRUTIVOS LTDA</td><td>2062</td><td>49</td><td>99900,00</td><td>3</td><td>null</td></tr><tr><td>3191612</td><td>VMD SERVICOS E NEGOCIOS LTDA</td><td>2062</td><td>49</td><td>99900,00</td><td>3</td><td>null</td></tr><tr><td>3395679</td><td>CASSIO GIACOMELLI LOCACAO DE EQUIPAMENTOS PARA CONSTRUCAO LTDA</td><td>2062</td><td>49</td><td>99900,00</td><td>3</td><td>null</td></tr><tr><td>315083</td><td>GUERRA & GISLOTI SERVICOS ESPECIALIZADOS DE ENFERMAGEM S/S LTDA</td><td>2240</td><td>49</td><td>999,99</td><td>3</td><td>null</td></tr><tr><td>2798073</td><td>PROMARK SP SERVICOS DE COBRANCA E INFORMACOES CADASTRAIS LTDA</td><td>2062</td><td>49</td><td>99800,00</td><td>3</td><td>null</td></tr><tr><td>3875410</td><td>CF COMERCIO DE PRODUTOS ALIMENTICIOS LTDA</td><td>2062</td><td>49</td><td>99800,00</td><td>3</td><td>null</td></tr><tr><td>3064937</td><td>OFTALMICA CLINICA DE DIAGNOSE E TRATAMENTO DE OLHOS LTDA</td><td>2240</td><td>49</td><td>99800,00</td><td>3</td><td>null</td></tr><tr><td>1600127</td><td>AGAPE - PRODUCOES DIDATICAS E LITERARIAS LTDA</td><td>2062</td><td>49</td><td>99800,00</td><td>3</td><td>null</td></tr><tr><td>2369517</td><td>F&R ASSISTENCIA ELETROMECANICA LTDA</td><td>2062</td><td>49</td><td>99800,00</td><td>3</td><td>null</td></tr><tr><td>3570539</td><td>UNIVERSITARIA COMERCIO DE PAPEIS LTDA</td><td>2062</td><td>49</td><td>99800,00</td><td>3</td><td>null</td></tr><tr><td>2383060</td><td>KCM LOCACAO DE MAQUINAS LTDA</td><td>2062</td><td>49</td><td>99800,00</td><td>3</td><td>null</td></tr><tr><td>1069336</td><td>TUSCOLHE REFEICOES - EIRELI</td><td>2305</td><td>65</td><td>99800,00</td><td>3</td><td>null</td></tr><tr><td>2800379</td><td>TRANSPORTADORA AGUIA OESTE LTDA</td><td>2062</td><td>49</td><td>99800,00</td><td>3</td><td>null</td></tr><tr><td>3887311</td><td>SIMULATE TECNOLOGIA DE SIMULACAO LTDA</td><td>2240</td><td>49</td><td>99800,00</td><td>3</td><td>null</td></tr><tr><td>2441959</td><td>M.C. ACESSORIOS PARA VIDROS LTDA</td><td>2062</td><td>49</td><td>99800,00</td><td>3</td><td>null</td></tr><tr><td>1695405</td><td>CORPO E AGUA LTDA</td><td>2062</td><td>49</td><td>99800,00</td><td>3</td><td>null</td></tr><tr><td>2806031</td><td>PARTEL PARAFUSOS LTDA</td><td>2062</td><td>49</td><td>99800,00</td><td>3</td><td>null</td></tr><tr><td>3548665</td><td>SERLI INDUSTRIA E COMERCIO IMPORTACAO E EXPORTACAO LTDA</td><td>2062</td><td>49</td><td>99800,00</td><td>3</td><td>null</td></tr><tr><td>2414071</td><td>ENGENHARIA E CONSTRUCAO BOCAIUVA LTDA</td><td>2062</td><td>49</td><td>99800,00</td><td>3</td><td>null</td></tr><tr><td>467286</td><td>CANEDO MARCOS DE RESENDE LTDA</td><td>2062</td><td>49</td><td>99800,00</td><td>3</td><td>null</td></tr><tr><td>2812095</td><td>ANEXO  - SOLUCOES INDUSTRIAIS EM METAIS E PLASTICOS LTDA</td><td>2062</td><td>49</td><td>99800,00</td><td>3</td><td>null</td></tr><tr><td>3888461</td><td>RANGBEM NUTRICAO COMERCIO DE ALIMENTOS E REFEICOES LTDA</td><td>2062</td><td>49</td><td>99800,00</td><td>3</td><td>null</td></tr><tr><td>2446661</td><td>PAULO ALVES MACIEL</td><td>2135</td><td>50</td><td>99800,00</td><td>3</td><td>null</td></tr><tr><td>1640816</td><td>MAO AMIGA CORRETORA DE SEGUROS EIRELI</td><td>2305</td><td>65</td><td>99800,00</td><td>3</td><td>null</td></tr><tr><td>2816425</td><td>LE GALIZA ASSESSORIA EM DOCUMENTACAO DE VEICULOS LTDA</td><td>2062</td><td>49</td><td>99800,00</td><td>3</td><td>null</td></tr><tr><td>3551643</td><td>COMPENSADOS 2000 LTDA</td><td>2062</td><td>49</td><td>99800,00</td><td>3</td><td>null</td></tr><tr><td>2466537</td><td>VITRA INDUSTRIA E COMERCIO DE MAQUINARIO PARA RAFIA LTDA</td><td>2062</td><td>49</td><td>99800,00</td><td>3</td><td>null</td></tr><tr><td>458118</td><td>CLEIDE MARIA DE SENE FERREIRA</td><td>2135</td><td>50</td><td>99800,00</td><td>3</td><td>null</td></tr><tr><td>3055938</td><td>SPACE SERVICOS APOIO CENTRALIZADO LTDA</td><td>2062</td><td>49</td><td>99800,00</td><td>3</td><td>null</td></tr><tr><td>3895452</td><td>MARCOS DONIZETI AIDAR</td><td>2135</td><td>50</td><td>99800,00</td><td>3</td><td>null</td></tr><tr><td>2833944</td><td>L ROSE OTICA, CINE, FOTO E SOM LTDA</td><td>2062</td><td>49</td><td>99800,00</td><td>3</td><td>null</td></tr><tr><td>1703365</td><td>ESPERANTO COMERCIAL LTDA</td><td>2062</td><td>49</td><td>99800,00</td><td>3</td><td>null</td></tr><tr><td>2498959</td><td>CLINICA MELCHIOR LTDA</td><td>2240</td><td>49</td><td>99800,00</td><td>3</td><td>null</td></tr><tr><td>3556475</td><td>CONSTRUARTE EMPREITEIRA LTDA</td><td>2062</td><td>49</td><td>99800,00</td><td>3</td><td>null</td></tr><tr><td>2846835</td><td>CAMPESTRE EMPREENDIMENTOS RURAIS LTDA</td><td>2062</td><td>49</td><td>99800,00</td><td>3</td><td>null</td></tr><tr><td>496873</td><td>COMPENSADOS LAPAZ LTDA</td><td>2062</td><td>49</td><td>99800,00</td><td>3</td><td>null</td></tr><tr><td>2525163</td><td>BIZ RESTAURANTE E ROTISSERIE LTDA</td><td>2062</td><td>49</td><td>99800,00</td><td>3</td><td>null</td></tr><tr><td>3908008</td><td>DELMONTEC MONTAGENS ELETRICAS LTDA</td><td>2062</td><td>49</td><td>99800,00</td><td>3</td><td>null</td></tr><tr><td>2873885</td><td>EBM SOFTWARES LTDA</td><td>2062</td><td>49</td><td>99800,00</td><td>3</td><td>null</td></tr><tr><td>1243037</td><td>TECNUFFIX SERVICOS DE ASSISTENCIA TECNICA E MONTAGEM DE MOBILIARIOS LTDA</td><td>2062</td><td>49</td><td>99800,00</td><td>3</td><td>null</td></tr><tr><td>2532914</td><td>MERCADO ADRIANO FIRMIANO LTDA</td><td>2062</td><td>49</td><td>99800,00</td><td>3</td><td>null</td></tr><tr><td>3582166</td><td>TIZONI COMERCIO LTDA</td><td>2062</td><td>49</td><td>99800,00</td><td>3</td><td>null</td></tr><tr><td>2881499</td><td>KLASSVOUGH DESIGN ACESSORIOS PARA BELEZA LTDA</td><td>2062</td><td>49</td><td>99800,00</td><td>3</td><td>null</td></tr><tr><td>1062979</td><td>KCAL ENGENHARIA EM AR COMPRIMIDO LTDA</td><td>2062</td><td>49</td><td>99800,00</td><td>3</td><td>null</td></tr></tbody></table></div>"
      ]
     },
     "metadata": {
      "application/vnd.databricks.v1+output": {
       "addedWidgets": {},
       "aggData": [],
       "aggError": "",
       "aggOverflow": false,
       "aggSchema": [],
       "aggSeriesLimitReached": false,
       "aggType": "",
       "arguments": {},
       "columnCustomDisplayInfos": {},
       "data": [
        [
         2248795,
         "SIBOLGA EMPREENDIMENTOS E PARTICIPACOES LTDA",
         2062,
         "49",
         "999999,00",
         3,
         null
        ],
        [
         1315197,
         "NORTHGRAPH GRAFICA, EDITORA E EMBALAGENS LTDA",
         2062,
         "49",
         "999900,00",
         3,
         null
        ],
        [
         1682489,
         "KOMILA'W BUFFET RESTAURANTE E ROTISSERIA LTDA",
         2062,
         "49",
         "99975,93",
         3,
         null
        ],
        [
         1498386,
         "CORNIDE EMPREENDIMENTOS IMOBILIARIOS LTDA",
         2062,
         "49",
         "999600,00",
         3,
         null
        ],
        [
         4026276,
         "H.KOR ADMINISTRACAO E PARTICIPACOES LTDA",
         2062,
         "49",
         "999000,00",
         3,
         null
        ],
        [
         4328497,
         "M L DANTAS CONSTRUCOES LTDA",
         2062,
         "49",
         "999000,00",
         3,
         null
        ],
        [
         2800166,
         "RMG SERVICOS CONSTRUTIVOS LTDA",
         2062,
         "49",
         "99900,00",
         3,
         null
        ],
        [
         3191612,
         "VMD SERVICOS E NEGOCIOS LTDA",
         2062,
         "49",
         "99900,00",
         3,
         null
        ],
        [
         3395679,
         "CASSIO GIACOMELLI LOCACAO DE EQUIPAMENTOS PARA CONSTRUCAO LTDA",
         2062,
         "49",
         "99900,00",
         3,
         null
        ],
        [
         315083,
         "GUERRA & GISLOTI SERVICOS ESPECIALIZADOS DE ENFERMAGEM S/S LTDA",
         2240,
         "49",
         "999,99",
         3,
         null
        ],
        [
         2798073,
         "PROMARK SP SERVICOS DE COBRANCA E INFORMACOES CADASTRAIS LTDA",
         2062,
         "49",
         "99800,00",
         3,
         null
        ],
        [
         3875410,
         "CF COMERCIO DE PRODUTOS ALIMENTICIOS LTDA",
         2062,
         "49",
         "99800,00",
         3,
         null
        ],
        [
         3064937,
         "OFTALMICA CLINICA DE DIAGNOSE E TRATAMENTO DE OLHOS LTDA",
         2240,
         "49",
         "99800,00",
         3,
         null
        ],
        [
         1600127,
         "AGAPE - PRODUCOES DIDATICAS E LITERARIAS LTDA",
         2062,
         "49",
         "99800,00",
         3,
         null
        ],
        [
         2369517,
         "F&R ASSISTENCIA ELETROMECANICA LTDA",
         2062,
         "49",
         "99800,00",
         3,
         null
        ],
        [
         3570539,
         "UNIVERSITARIA COMERCIO DE PAPEIS LTDA",
         2062,
         "49",
         "99800,00",
         3,
         null
        ],
        [
         2383060,
         "KCM LOCACAO DE MAQUINAS LTDA",
         2062,
         "49",
         "99800,00",
         3,
         null
        ],
        [
         1069336,
         "TUSCOLHE REFEICOES - EIRELI",
         2305,
         "65",
         "99800,00",
         3,
         null
        ],
        [
         2800379,
         "TRANSPORTADORA AGUIA OESTE LTDA",
         2062,
         "49",
         "99800,00",
         3,
         null
        ],
        [
         3887311,
         "SIMULATE TECNOLOGIA DE SIMULACAO LTDA",
         2240,
         "49",
         "99800,00",
         3,
         null
        ],
        [
         2441959,
         "M.C. ACESSORIOS PARA VIDROS LTDA",
         2062,
         "49",
         "99800,00",
         3,
         null
        ],
        [
         1695405,
         "CORPO E AGUA LTDA",
         2062,
         "49",
         "99800,00",
         3,
         null
        ],
        [
         2806031,
         "PARTEL PARAFUSOS LTDA",
         2062,
         "49",
         "99800,00",
         3,
         null
        ],
        [
         3548665,
         "SERLI INDUSTRIA E COMERCIO IMPORTACAO E EXPORTACAO LTDA",
         2062,
         "49",
         "99800,00",
         3,
         null
        ],
        [
         2414071,
         "ENGENHARIA E CONSTRUCAO BOCAIUVA LTDA",
         2062,
         "49",
         "99800,00",
         3,
         null
        ],
        [
         467286,
         "CANEDO MARCOS DE RESENDE LTDA",
         2062,
         "49",
         "99800,00",
         3,
         null
        ],
        [
         2812095,
         "ANEXO  - SOLUCOES INDUSTRIAIS EM METAIS E PLASTICOS LTDA",
         2062,
         "49",
         "99800,00",
         3,
         null
        ],
        [
         3888461,
         "RANGBEM NUTRICAO COMERCIO DE ALIMENTOS E REFEICOES LTDA",
         2062,
         "49",
         "99800,00",
         3,
         null
        ],
        [
         2446661,
         "PAULO ALVES MACIEL",
         2135,
         "50",
         "99800,00",
         3,
         null
        ],
        [
         1640816,
         "MAO AMIGA CORRETORA DE SEGUROS EIRELI",
         2305,
         "65",
         "99800,00",
         3,
         null
        ],
        [
         2816425,
         "LE GALIZA ASSESSORIA EM DOCUMENTACAO DE VEICULOS LTDA",
         2062,
         "49",
         "99800,00",
         3,
         null
        ],
        [
         3551643,
         "COMPENSADOS 2000 LTDA",
         2062,
         "49",
         "99800,00",
         3,
         null
        ],
        [
         2466537,
         "VITRA INDUSTRIA E COMERCIO DE MAQUINARIO PARA RAFIA LTDA",
         2062,
         "49",
         "99800,00",
         3,
         null
        ],
        [
         458118,
         "CLEIDE MARIA DE SENE FERREIRA",
         2135,
         "50",
         "99800,00",
         3,
         null
        ],
        [
         3055938,
         "SPACE SERVICOS APOIO CENTRALIZADO LTDA",
         2062,
         "49",
         "99800,00",
         3,
         null
        ],
        [
         3895452,
         "MARCOS DONIZETI AIDAR",
         2135,
         "50",
         "99800,00",
         3,
         null
        ],
        [
         2833944,
         "L ROSE OTICA, CINE, FOTO E SOM LTDA",
         2062,
         "49",
         "99800,00",
         3,
         null
        ],
        [
         1703365,
         "ESPERANTO COMERCIAL LTDA",
         2062,
         "49",
         "99800,00",
         3,
         null
        ],
        [
         2498959,
         "CLINICA MELCHIOR LTDA",
         2240,
         "49",
         "99800,00",
         3,
         null
        ],
        [
         3556475,
         "CONSTRUARTE EMPREITEIRA LTDA",
         2062,
         "49",
         "99800,00",
         3,
         null
        ],
        [
         2846835,
         "CAMPESTRE EMPREENDIMENTOS RURAIS LTDA",
         2062,
         "49",
         "99800,00",
         3,
         null
        ],
        [
         496873,
         "COMPENSADOS LAPAZ LTDA",
         2062,
         "49",
         "99800,00",
         3,
         null
        ],
        [
         2525163,
         "BIZ RESTAURANTE E ROTISSERIE LTDA",
         2062,
         "49",
         "99800,00",
         3,
         null
        ],
        [
         3908008,
         "DELMONTEC MONTAGENS ELETRICAS LTDA",
         2062,
         "49",
         "99800,00",
         3,
         null
        ],
        [
         2873885,
         "EBM SOFTWARES LTDA",
         2062,
         "49",
         "99800,00",
         3,
         null
        ],
        [
         1243037,
         "TECNUFFIX SERVICOS DE ASSISTENCIA TECNICA E MONTAGEM DE MOBILIARIOS LTDA",
         2062,
         "49",
         "99800,00",
         3,
         null
        ],
        [
         2532914,
         "MERCADO ADRIANO FIRMIANO LTDA",
         2062,
         "49",
         "99800,00",
         3,
         null
        ],
        [
         3582166,
         "TIZONI COMERCIO LTDA",
         2062,
         "49",
         "99800,00",
         3,
         null
        ],
        [
         2881499,
         "KLASSVOUGH DESIGN ACESSORIOS PARA BELEZA LTDA",
         2062,
         "49",
         "99800,00",
         3,
         null
        ],
        [
         1062979,
         "KCAL ENGENHARIA EM AR COMPRIMIDO LTDA",
         2062,
         "49",
         "99800,00",
         3,
         null
        ]
       ],
       "datasetInfos": [],
       "dbfsResultPath": null,
       "isJsonSchema": true,
       "metadata": {},
       "overflow": false,
       "plotOptions": {
        "customPlotOptions": {},
        "displayType": "table",
        "pivotAggregation": null,
        "pivotColumns": null,
        "xColumns": null,
        "yColumns": null
       },
       "removedWidgets": [],
       "schema": [
        {
         "metadata": "{}",
         "name": "_c0",
         "type": "\"integer\""
        },
        {
         "metadata": "{}",
         "name": "_c1",
         "type": "\"string\""
        },
        {
         "metadata": "{}",
         "name": "_c2",
         "type": "\"integer\""
        },
        {
         "metadata": "{}",
         "name": "_c3",
         "type": "\"string\""
        },
        {
         "metadata": "{}",
         "name": "_c4",
         "type": "\"string\""
        },
        {
         "metadata": "{}",
         "name": "_c5",
         "type": "\"integer\""
        },
        {
         "metadata": "{}",
         "name": "_c6",
         "type": "\"string\""
        }
       ],
       "type": "table"
      }
     },
     "output_type": "display_data"
    }
   ],
   "source": [
    "# Empresas de porte 3 com maior capital social\n",
    "df_raw_emp.select(\"*\").filter(col(\"_c5\") == 3).orderBy(col(\"_c4\").desc()).limit(50).display()"
   ]
  },
  {
   "cell_type": "code",
   "execution_count": 0,
   "metadata": {
    "application/vnd.databricks.v1+cell": {
     "cellMetadata": {
      "byteLimit": 2048000,
      "rowLimit": 10000
     },
     "inputWidgets": {},
     "nuid": "f96f3c6a-2dca-4ce5-b58f-a1df8bad7748",
     "showTitle": false,
     "tableResultSettingsMap": {},
     "title": ""
    }
   },
   "outputs": [
    {
     "output_type": "display_data",
     "data": {
      "text/html": [
       "<style scoped>\n",
       "  .table-result-container {\n",
       "    max-height: 300px;\n",
       "    overflow: auto;\n",
       "  }\n",
       "  table, th, td {\n",
       "    border: 1px solid black;\n",
       "    border-collapse: collapse;\n",
       "  }\n",
       "  th, td {\n",
       "    padding: 5px;\n",
       "  }\n",
       "  th {\n",
       "    text-align: left;\n",
       "  }\n",
       "</style><div class='table-result-container'><table class='table-result'><thead style='background-color: white'><tr><th>_c0</th><th>_c1</th><th>_c2</th><th>_c3</th><th>_c4</th><th>_c5</th><th>_c6</th></tr></thead><tbody><tr><td>4487133</td><td>SUPER CAR VEICULOS LTDA</td><td>2062</td><td>49</td><td>99999,00</td><td>5</td><td>null</td></tr><tr><td>2020392</td><td>KRMA - COMERCIO E MANUTENCAO DE EQUIPAMENTOS INDUSTRIAIS LTDA</td><td>2062</td><td>49</td><td>99999,00</td><td>5</td><td>null</td></tr><tr><td>3524778</td><td>IPE INCORPORACOES, PARTICIPACOES E EMPREENDIMENTOS LTDA</td><td>2062</td><td>05</td><td>999840,00</td><td>5</td><td>null</td></tr><tr><td>1347379</td><td>SALUM ADVOGADOS ASSOCIADOS</td><td>2232</td><td>49</td><td>9998,00</td><td>5</td><td>null</td></tr><tr><td>2511693</td><td>R.TRUSSARDI EMPREENDIMENTOS SA</td><td>2054</td><td>10</td><td>999628,66</td><td>5</td><td>null</td></tr><tr><td>2390435</td><td>ECOPORTO SANTOS S.A.</td><td>2054</td><td>10</td><td>999613932,82</td><td>5</td><td>null</td></tr><tr><td>3921486</td><td>TRAMA ESTUDIOS LTDA</td><td>2062</td><td>49</td><td>9995901,00</td><td>5</td><td>null</td></tr><tr><td>3950108</td><td>HABITACO PARTICIPACOES LTDA</td><td>2062</td><td>49</td><td>9992580,00</td><td>5</td><td>null</td></tr><tr><td>1360601</td><td>CINCO ESTRELAS AGROPECUARIA E PARTICIPACAO LTDA</td><td>2062</td><td>49</td><td>999250,00</td><td>5</td><td>null</td></tr><tr><td>4224779</td><td>LOCALVERDE PRODUTOS AMBIENTAIS LTDA</td><td>2062</td><td>49</td><td>999227,00</td><td>5</td><td>null</td></tr><tr><td>4616802</td><td>LA FAMIGLIA DI GIULIO LTDA</td><td>2062</td><td>49</td><td>9990600,00</td><td>5</td><td>null</td></tr><tr><td>4530990</td><td>ANDRITA MANUTENCAO E SERVICOS LTDA</td><td>2062</td><td>49</td><td>999000,00</td><td>5</td><td>null</td></tr><tr><td>1528658</td><td>PRESIDENTE JUQUITIBA AUTO POSTO LTDA</td><td>2062</td><td>49</td><td>99900,00</td><td>5</td><td>null</td></tr><tr><td>2848437</td><td>MORAES MATOS ADVOGADOS</td><td>2232</td><td>49</td><td>99900,00</td><td>5</td><td>null</td></tr><tr><td>3002931</td><td>CLINICA SAO VICENTE LTDA</td><td>2062</td><td>49</td><td>9990,00</td><td>5</td><td>null</td></tr><tr><td>3935003</td><td>INTELCAV TECNOLOGIAS E CARTOES S.A.</td><td>2054</td><td>10</td><td>99883699,10</td><td>5</td><td>null</td></tr><tr><td>4613107</td><td>ALFA ERB TELECOMUNICACOES LTDA</td><td>2062</td><td>49</td><td>998800,00</td><td>5</td><td>null</td></tr><tr><td>1209109</td><td>DISAQ FARMACEUTICA LTDA</td><td>2062</td><td>49</td><td>9985000,00</td><td>5</td><td>null</td></tr><tr><td>4219621</td><td>RODOPOSTO COMERCIO DE COMBUSTIVEIS LTDA</td><td>2062</td><td>49</td><td>998400,00</td><td>5</td><td>null</td></tr><tr><td>2728362</td><td>HEMATOLOGICA PRESTACAO DE SERVICOS MEDICOS LTDA</td><td>2062</td><td>49</td><td>99840,00</td><td>5</td><td>null</td></tr><tr><td>374544</td><td>AMARAL PARTICIPACOES LTDA</td><td>2062</td><td>49</td><td>998250,00</td><td>5</td><td>null</td></tr><tr><td>2997528</td><td>BORTOLINI & SILVA ADMINISTRACAO DE BENS E PARTICIPACOES LTDA</td><td>2062</td><td>49</td><td>998001,00</td><td>5</td><td>null</td></tr><tr><td>3846708</td><td>LAGUNA PARTICIPACOES LTDA</td><td>2062</td><td>49</td><td>9980000,00</td><td>5</td><td>null</td></tr><tr><td>2120911</td><td>INSTITUTO CATARINENSE DE OTORRINOLARINGOLOGIA LTDA</td><td>2062</td><td>49</td><td>998000,00</td><td>5</td><td>null</td></tr><tr><td>531228</td><td>HEIL ASSESSORIA IMOBILIARIA LTDA</td><td>2062</td><td>05</td><td>998000,00</td><td>5</td><td>null</td></tr><tr><td>2442823</td><td>CLINICA SCHMILLEVITCH - DIAGNOSTICO POR IMAGEM S/S LTDA</td><td>2240</td><td>49</td><td>998000,00</td><td>5</td><td>null</td></tr><tr><td>1264099</td><td>BSC CORPORATIVO LTDA</td><td>2062</td><td>49</td><td>99800,00</td><td>5</td><td>null</td></tr><tr><td>3914374</td><td>CHARM CONFECCAO, COMERCIO, IMPORTACAO E EXPORTACAO DE ARTIGOS DO VESTUARIO, CALCADOS E ACESSORIOS LTDA</td><td>2062</td><td>05</td><td>99800,00</td><td>5</td><td>null</td></tr><tr><td>1293891</td><td>MIT- MOBILE INFORMATION TECHNOLOGIES, SERVICOS DE COMPUTACAO MOVEL LTDA</td><td>2062</td><td>49</td><td>99800,00</td><td>5</td><td>null</td></tr><tr><td>28669</td><td>AKJ CONSULTORIA E SISTEMAS LTDA</td><td>2062</td><td>49</td><td>99800,00</td><td>5</td><td>null</td></tr><tr><td>1412262</td><td>USONET INTERNET TECNOLOGIC LTDA</td><td>2062</td><td>05</td><td>99800,00</td><td>5</td><td>null</td></tr><tr><td>3579230</td><td>SAPIENS COMERCIO DE INSTRUMENTOS E INFORMATICA LTDA</td><td>2062</td><td>49</td><td>99800,00</td><td>5</td><td>null</td></tr><tr><td>1420046</td><td>TRANSPOTENCIAL LTDA</td><td>2062</td><td>49</td><td>99800,00</td><td>5</td><td>null</td></tr><tr><td>2465685</td><td>AIR POINT AR CONDICIONADO LTDA</td><td>2062</td><td>49</td><td>99800,00</td><td>5</td><td>null</td></tr><tr><td>1316278</td><td>SOLVE SYSTEM INFORMATICA EIRELI</td><td>2305</td><td>65</td><td>99800,00</td><td>5</td><td>null</td></tr><tr><td>3596757</td><td>FUMEF FUNDICAO E MECANICA DE FERROS LTDA</td><td>2062</td><td>49</td><td>99800,00</td><td>5</td><td>null</td></tr><tr><td>1384165</td><td>NORSCENT - HOLDINGS DE INSTITUICOES NAO-FINANCEIRAS LTDA</td><td>2062</td><td>05</td><td>99800,00</td><td>5</td><td>null</td></tr><tr><td>66081</td><td>MAGICEL CORRETORA DE SEGUROS LTDA</td><td>2062</td><td>05</td><td>99800,00</td><td>5</td><td>null</td></tr><tr><td>1405200</td><td>FLP ALIMENTOS E BAZAR LTDA</td><td>2062</td><td>49</td><td>99800,00</td><td>5</td><td>null</td></tr><tr><td>3667807</td><td>FM17 PROPAGANDA E MARKETING LTDA</td><td>2062</td><td>49</td><td>99800,00</td><td>5</td><td>null</td></tr><tr><td>1446449</td><td>PINHO COBRANCAS E TELEMARKETING LTDA</td><td>2062</td><td>49</td><td>99800,00</td><td>5</td><td>null</td></tr><tr><td>2421867</td><td>ROSIN TRANSPORTES E COMERCIO DE PLANTAS E FLORES LTDA</td><td>2062</td><td>49</td><td>99800,00</td><td>5</td><td>null</td></tr><tr><td>1478079</td><td>BLACK MARIA FILME VIDEO DIGITAL LTDA</td><td>2062</td><td>49</td><td>99800,00</td><td>5</td><td>null</td></tr><tr><td>3681254</td><td>UNICROM COMERCIO DE PECAS INJETADAS LTDA</td><td>2062</td><td>49</td><td>99800,00</td><td>5</td><td>null</td></tr><tr><td>1482464</td><td>GIRA GRAOS TRANSPORTES LTDA</td><td>2062</td><td>49</td><td>99800,00</td><td>5</td><td>null</td></tr><tr><td>89190</td><td>V.S. PLANEJAMENTO HOSPITALAR LTDA</td><td>2240</td><td>49</td><td>99800,00</td><td>5</td><td>null</td></tr><tr><td>1487288</td><td>POUSADA E HOTEL SUITES DO PELO LTDA</td><td>2062</td><td>49</td><td>99800,00</td><td>5</td><td>null</td></tr><tr><td>3689530</td><td>COMERCIO DE COMBUSTIVEIS MANGUEIRINHA LTDA</td><td>2062</td><td>49</td><td>99800,00</td><td>5</td><td>null</td></tr><tr><td>1647720</td><td>POGGIO SPORTS E SERVICOS LTDA</td><td>2240</td><td>49</td><td>99800,00</td><td>5</td><td>null</td></tr><tr><td>2499477</td><td>CLINICA DR. VALMIR MALERBA LTDA</td><td>2240</td><td>49</td><td>99800,00</td><td>5</td><td>null</td></tr></tbody></table></div>"
      ]
     },
     "metadata": {
      "application/vnd.databricks.v1+output": {
       "addedWidgets": {},
       "aggData": [],
       "aggError": "",
       "aggOverflow": false,
       "aggSchema": [],
       "aggSeriesLimitReached": false,
       "aggType": "",
       "arguments": {},
       "columnCustomDisplayInfos": {},
       "data": [
        [
         4487133,
         "SUPER CAR VEICULOS LTDA",
         2062,
         "49",
         "99999,00",
         5,
         null
        ],
        [
         2020392,
         "KRMA - COMERCIO E MANUTENCAO DE EQUIPAMENTOS INDUSTRIAIS LTDA",
         2062,
         "49",
         "99999,00",
         5,
         null
        ],
        [
         3524778,
         "IPE INCORPORACOES, PARTICIPACOES E EMPREENDIMENTOS LTDA",
         2062,
         "05",
         "999840,00",
         5,
         null
        ],
        [
         1347379,
         "SALUM ADVOGADOS ASSOCIADOS",
         2232,
         "49",
         "9998,00",
         5,
         null
        ],
        [
         2511693,
         "R.TRUSSARDI EMPREENDIMENTOS SA",
         2054,
         "10",
         "999628,66",
         5,
         null
        ],
        [
         2390435,
         "ECOPORTO SANTOS S.A.",
         2054,
         "10",
         "999613932,82",
         5,
         null
        ],
        [
         3921486,
         "TRAMA ESTUDIOS LTDA",
         2062,
         "49",
         "9995901,00",
         5,
         null
        ],
        [
         3950108,
         "HABITACO PARTICIPACOES LTDA",
         2062,
         "49",
         "9992580,00",
         5,
         null
        ],
        [
         1360601,
         "CINCO ESTRELAS AGROPECUARIA E PARTICIPACAO LTDA",
         2062,
         "49",
         "999250,00",
         5,
         null
        ],
        [
         4224779,
         "LOCALVERDE PRODUTOS AMBIENTAIS LTDA",
         2062,
         "49",
         "999227,00",
         5,
         null
        ],
        [
         4616802,
         "LA FAMIGLIA DI GIULIO LTDA",
         2062,
         "49",
         "9990600,00",
         5,
         null
        ],
        [
         4530990,
         "ANDRITA MANUTENCAO E SERVICOS LTDA",
         2062,
         "49",
         "999000,00",
         5,
         null
        ],
        [
         1528658,
         "PRESIDENTE JUQUITIBA AUTO POSTO LTDA",
         2062,
         "49",
         "99900,00",
         5,
         null
        ],
        [
         2848437,
         "MORAES MATOS ADVOGADOS",
         2232,
         "49",
         "99900,00",
         5,
         null
        ],
        [
         3002931,
         "CLINICA SAO VICENTE LTDA",
         2062,
         "49",
         "9990,00",
         5,
         null
        ],
        [
         3935003,
         "INTELCAV TECNOLOGIAS E CARTOES S.A.",
         2054,
         "10",
         "99883699,10",
         5,
         null
        ],
        [
         4613107,
         "ALFA ERB TELECOMUNICACOES LTDA",
         2062,
         "49",
         "998800,00",
         5,
         null
        ],
        [
         1209109,
         "DISAQ FARMACEUTICA LTDA",
         2062,
         "49",
         "9985000,00",
         5,
         null
        ],
        [
         4219621,
         "RODOPOSTO COMERCIO DE COMBUSTIVEIS LTDA",
         2062,
         "49",
         "998400,00",
         5,
         null
        ],
        [
         2728362,
         "HEMATOLOGICA PRESTACAO DE SERVICOS MEDICOS LTDA",
         2062,
         "49",
         "99840,00",
         5,
         null
        ],
        [
         374544,
         "AMARAL PARTICIPACOES LTDA",
         2062,
         "49",
         "998250,00",
         5,
         null
        ],
        [
         2997528,
         "BORTOLINI & SILVA ADMINISTRACAO DE BENS E PARTICIPACOES LTDA",
         2062,
         "49",
         "998001,00",
         5,
         null
        ],
        [
         3846708,
         "LAGUNA PARTICIPACOES LTDA",
         2062,
         "49",
         "9980000,00",
         5,
         null
        ],
        [
         2120911,
         "INSTITUTO CATARINENSE DE OTORRINOLARINGOLOGIA LTDA",
         2062,
         "49",
         "998000,00",
         5,
         null
        ],
        [
         531228,
         "HEIL ASSESSORIA IMOBILIARIA LTDA",
         2062,
         "05",
         "998000,00",
         5,
         null
        ],
        [
         2442823,
         "CLINICA SCHMILLEVITCH - DIAGNOSTICO POR IMAGEM S/S LTDA",
         2240,
         "49",
         "998000,00",
         5,
         null
        ],
        [
         1264099,
         "BSC CORPORATIVO LTDA",
         2062,
         "49",
         "99800,00",
         5,
         null
        ],
        [
         3914374,
         "CHARM CONFECCAO, COMERCIO, IMPORTACAO E EXPORTACAO DE ARTIGOS DO VESTUARIO, CALCADOS E ACESSORIOS LTDA",
         2062,
         "05",
         "99800,00",
         5,
         null
        ],
        [
         1293891,
         "MIT- MOBILE INFORMATION TECHNOLOGIES, SERVICOS DE COMPUTACAO MOVEL LTDA",
         2062,
         "49",
         "99800,00",
         5,
         null
        ],
        [
         28669,
         "AKJ CONSULTORIA E SISTEMAS LTDA",
         2062,
         "49",
         "99800,00",
         5,
         null
        ],
        [
         1412262,
         "USONET INTERNET TECNOLOGIC LTDA",
         2062,
         "05",
         "99800,00",
         5,
         null
        ],
        [
         3579230,
         "SAPIENS COMERCIO DE INSTRUMENTOS E INFORMATICA LTDA",
         2062,
         "49",
         "99800,00",
         5,
         null
        ],
        [
         1420046,
         "TRANSPOTENCIAL LTDA",
         2062,
         "49",
         "99800,00",
         5,
         null
        ],
        [
         2465685,
         "AIR POINT AR CONDICIONADO LTDA",
         2062,
         "49",
         "99800,00",
         5,
         null
        ],
        [
         1316278,
         "SOLVE SYSTEM INFORMATICA EIRELI",
         2305,
         "65",
         "99800,00",
         5,
         null
        ],
        [
         3596757,
         "FUMEF FUNDICAO E MECANICA DE FERROS LTDA",
         2062,
         "49",
         "99800,00",
         5,
         null
        ],
        [
         1384165,
         "NORSCENT - HOLDINGS DE INSTITUICOES NAO-FINANCEIRAS LTDA",
         2062,
         "05",
         "99800,00",
         5,
         null
        ],
        [
         66081,
         "MAGICEL CORRETORA DE SEGUROS LTDA",
         2062,
         "05",
         "99800,00",
         5,
         null
        ],
        [
         1405200,
         "FLP ALIMENTOS E BAZAR LTDA",
         2062,
         "49",
         "99800,00",
         5,
         null
        ],
        [
         3667807,
         "FM17 PROPAGANDA E MARKETING LTDA",
         2062,
         "49",
         "99800,00",
         5,
         null
        ],
        [
         1446449,
         "PINHO COBRANCAS E TELEMARKETING LTDA",
         2062,
         "49",
         "99800,00",
         5,
         null
        ],
        [
         2421867,
         "ROSIN TRANSPORTES E COMERCIO DE PLANTAS E FLORES LTDA",
         2062,
         "49",
         "99800,00",
         5,
         null
        ],
        [
         1478079,
         "BLACK MARIA FILME VIDEO DIGITAL LTDA",
         2062,
         "49",
         "99800,00",
         5,
         null
        ],
        [
         3681254,
         "UNICROM COMERCIO DE PECAS INJETADAS LTDA",
         2062,
         "49",
         "99800,00",
         5,
         null
        ],
        [
         1482464,
         "GIRA GRAOS TRANSPORTES LTDA",
         2062,
         "49",
         "99800,00",
         5,
         null
        ],
        [
         89190,
         "V.S. PLANEJAMENTO HOSPITALAR LTDA",
         2240,
         "49",
         "99800,00",
         5,
         null
        ],
        [
         1487288,
         "POUSADA E HOTEL SUITES DO PELO LTDA",
         2062,
         "49",
         "99800,00",
         5,
         null
        ],
        [
         3689530,
         "COMERCIO DE COMBUSTIVEIS MANGUEIRINHA LTDA",
         2062,
         "49",
         "99800,00",
         5,
         null
        ],
        [
         1647720,
         "POGGIO SPORTS E SERVICOS LTDA",
         2240,
         "49",
         "99800,00",
         5,
         null
        ],
        [
         2499477,
         "CLINICA DR. VALMIR MALERBA LTDA",
         2240,
         "49",
         "99800,00",
         5,
         null
        ]
       ],
       "datasetInfos": [],
       "dbfsResultPath": null,
       "isJsonSchema": true,
       "metadata": {},
       "overflow": false,
       "plotOptions": {
        "customPlotOptions": {},
        "displayType": "table",
        "pivotAggregation": null,
        "pivotColumns": null,
        "xColumns": null,
        "yColumns": null
       },
       "removedWidgets": [],
       "schema": [
        {
         "metadata": "{}",
         "name": "_c0",
         "type": "\"integer\""
        },
        {
         "metadata": "{}",
         "name": "_c1",
         "type": "\"string\""
        },
        {
         "metadata": "{}",
         "name": "_c2",
         "type": "\"integer\""
        },
        {
         "metadata": "{}",
         "name": "_c3",
         "type": "\"string\""
        },
        {
         "metadata": "{}",
         "name": "_c4",
         "type": "\"string\""
        },
        {
         "metadata": "{}",
         "name": "_c5",
         "type": "\"integer\""
        },
        {
         "metadata": "{}",
         "name": "_c6",
         "type": "\"string\""
        }
       ],
       "type": "table"
      }
     },
     "output_type": "display_data"
    }
   ],
   "source": [
    "# Empresas de porte 5 com maior capital social\n",
    "df_raw_emp.select(\"*\").filter(col(\"_c5\") == 5).orderBy(col(\"_c4\").desc()).limit(50).display()"
   ]
  },
  {
   "cell_type": "code",
   "execution_count": 0,
   "metadata": {
    "application/vnd.databricks.v1+cell": {
     "cellMetadata": {
      "byteLimit": 2048000,
      "rowLimit": 10000
     },
     "inputWidgets": {},
     "nuid": "1c961954-2e32-4ff6-bf7c-51c80e8ed81f",
     "showTitle": false,
     "tableResultSettingsMap": {},
     "title": ""
    }
   },
   "outputs": [
    {
     "output_type": "display_data",
     "data": {
      "text/html": [
       "<style scoped>\n",
       "  .table-result-container {\n",
       "    max-height: 300px;\n",
       "    overflow: auto;\n",
       "  }\n",
       "  table, th, td {\n",
       "    border: 1px solid black;\n",
       "    border-collapse: collapse;\n",
       "  }\n",
       "  th, td {\n",
       "    padding: 5px;\n",
       "  }\n",
       "  th {\n",
       "    text-align: left;\n",
       "  }\n",
       "</style><div class='table-result-container'><table class='table-result'><thead style='background-color: white'><tr><th>_c3</th></tr></thead><tbody><tr><td>0,00</td></tr><tr><td>00</td></tr><tr><td>05</td></tr><tr><td>10</td></tr><tr><td>11</td></tr><tr><td>12</td></tr><tr><td>13</td></tr><tr><td>16</td></tr><tr><td>17</td></tr><tr><td>19</td></tr><tr><td>23</td></tr><tr><td>24</td></tr><tr><td>28</td></tr><tr><td>31</td></tr><tr><td>32</td></tr><tr><td>34</td></tr><tr><td>36</td></tr><tr><td>39</td></tr><tr><td>40</td></tr><tr><td>41</td></tr><tr><td>42</td></tr><tr><td>43</td></tr><tr><td>46</td></tr><tr><td>49</td></tr><tr><td>50</td></tr><tr><td>54</td></tr><tr><td>60</td></tr><tr><td>64</td></tr><tr><td>65</td></tr></tbody></table></div>"
      ]
     },
     "metadata": {
      "application/vnd.databricks.v1+output": {
       "addedWidgets": {},
       "aggData": [],
       "aggError": "",
       "aggOverflow": false,
       "aggSchema": [],
       "aggSeriesLimitReached": false,
       "aggType": "",
       "arguments": {},
       "columnCustomDisplayInfos": {},
       "data": [
        [
         "0,00"
        ],
        [
         "00"
        ],
        [
         "05"
        ],
        [
         "10"
        ],
        [
         "11"
        ],
        [
         "12"
        ],
        [
         "13"
        ],
        [
         "16"
        ],
        [
         "17"
        ],
        [
         "19"
        ],
        [
         "23"
        ],
        [
         "24"
        ],
        [
         "28"
        ],
        [
         "31"
        ],
        [
         "32"
        ],
        [
         "34"
        ],
        [
         "36"
        ],
        [
         "39"
        ],
        [
         "40"
        ],
        [
         "41"
        ],
        [
         "42"
        ],
        [
         "43"
        ],
        [
         "46"
        ],
        [
         "49"
        ],
        [
         "50"
        ],
        [
         "54"
        ],
        [
         "60"
        ],
        [
         "64"
        ],
        [
         "65"
        ]
       ],
       "datasetInfos": [],
       "dbfsResultPath": null,
       "isJsonSchema": true,
       "metadata": {},
       "overflow": false,
       "plotOptions": {
        "customPlotOptions": {},
        "displayType": "table",
        "pivotAggregation": null,
        "pivotColumns": null,
        "xColumns": null,
        "yColumns": null
       },
       "removedWidgets": [],
       "schema": [
        {
         "metadata": "{}",
         "name": "_c3",
         "type": "\"string\""
        }
       ],
       "type": "table"
      }
     },
     "output_type": "display_data"
    }
   ],
   "source": [
    "# qualificacao do responsavel\n",
    "df_raw_emp.select(\"_c3\").distinct().orderBy(\"_c3\", ascending=True).limit(100).display()"
   ]
  },
  {
   "cell_type": "code",
   "execution_count": 0,
   "metadata": {
    "application/vnd.databricks.v1+cell": {
     "cellMetadata": {
      "byteLimit": 2048000,
      "rowLimit": 10000
     },
     "inputWidgets": {},
     "nuid": "68c584d5-e56b-48b3-8620-ece4856550de",
     "showTitle": false,
     "tableResultSettingsMap": {},
     "title": ""
    }
   },
   "outputs": [
    {
     "output_type": "display_data",
     "data": {
      "text/html": [
       "<style scoped>\n",
       "  .table-result-container {\n",
       "    max-height: 300px;\n",
       "    overflow: auto;\n",
       "  }\n",
       "  table, th, td {\n",
       "    border: 1px solid black;\n",
       "    border-collapse: collapse;\n",
       "  }\n",
       "  th, td {\n",
       "    padding: 5px;\n",
       "  }\n",
       "  th {\n",
       "    text-align: left;\n",
       "  }\n",
       "</style><div class='table-result-container'><table class='table-result'><thead style='background-color: white'><tr><th>_c1</th><th>_c2</th><th>_c3</th><th>_c5</th></tr></thead><tbody><tr><td>\"RONALD RIBEIRO CARDOSO\";\"2135\"</td><td>50</td><td>0,00</td><td>null</td></tr><tr><td>\"FRIOPAN FRIOS & CONDIMENTOS LTDA\";\"2062\"</td><td>49</td><td>0,00</td><td>null</td></tr><tr><td>\"CAIXA ESCOLAR DORGIVAL PINHEIRO DE SOUSA\";\"3999\"</td><td>16</td><td>0,00</td><td>null</td></tr><tr><td>\"SOLANGE DA S.LEITE GOES\";\"2135\"</td><td>50</td><td>0,00</td><td>null</td></tr><tr><td>\"AMARILDO ANACLETO DA COSTA\";\"2135\"</td><td>50</td><td>0,00</td><td>null</td></tr></tbody></table></div>"
      ]
     },
     "metadata": {
      "application/vnd.databricks.v1+output": {
       "addedWidgets": {},
       "aggData": [],
       "aggError": "",
       "aggOverflow": false,
       "aggSchema": [],
       "aggSeriesLimitReached": false,
       "aggType": "",
       "arguments": {},
       "columnCustomDisplayInfos": {},
       "data": [
        [
         "\"RONALD RIBEIRO CARDOSO\";\"2135\"",
         50,
         "0,00",
         null
        ],
        [
         "\"FRIOPAN FRIOS & CONDIMENTOS LTDA\";\"2062\"",
         49,
         "0,00",
         null
        ],
        [
         "\"CAIXA ESCOLAR DORGIVAL PINHEIRO DE SOUSA\";\"3999\"",
         16,
         "0,00",
         null
        ],
        [
         "\"SOLANGE DA S.LEITE GOES\";\"2135\"",
         50,
         "0,00",
         null
        ],
        [
         "\"AMARILDO ANACLETO DA COSTA\";\"2135\"",
         50,
         "0,00",
         null
        ]
       ],
       "datasetInfos": [],
       "dbfsResultPath": null,
       "isJsonSchema": true,
       "metadata": {},
       "overflow": false,
       "plotOptions": {
        "customPlotOptions": {},
        "displayType": "table",
        "pivotAggregation": null,
        "pivotColumns": null,
        "xColumns": null,
        "yColumns": null
       },
       "removedWidgets": [],
       "schema": [
        {
         "metadata": "{}",
         "name": "_c1",
         "type": "\"string\""
        },
        {
         "metadata": "{}",
         "name": "_c2",
         "type": "\"integer\""
        },
        {
         "metadata": "{}",
         "name": "_c3",
         "type": "\"string\""
        },
        {
         "metadata": "{}",
         "name": "_c5",
         "type": "\"integer\""
        }
       ],
       "type": "table"
      }
     },
     "output_type": "display_data"
    }
   ],
   "source": [
    "# Validacao da estrutura de qualificacao\n",
    "df_raw_emp \\\n",
    "    .select(\"_c1\", \"_c2\",\"_c3\", \"_c5\") \\\n",
    "        .filter((col(\"_c3\") == \"0,00\")) \\\n",
    "            .limit(100) \\\n",
    "                .display()"
   ]
  },
  {
   "cell_type": "code",
   "execution_count": 0,
   "metadata": {
    "application/vnd.databricks.v1+cell": {
     "cellMetadata": {
      "byteLimit": 2048000,
      "rowLimit": 10000
     },
     "inputWidgets": {},
     "nuid": "f0c522f5-592d-47a7-9b19-ef26784c1c34",
     "showTitle": false,
     "tableResultSettingsMap": {},
     "title": ""
    }
   },
   "outputs": [
    {
     "output_type": "display_data",
     "data": {
      "text/html": [
       "<style scoped>\n",
       "  .table-result-container {\n",
       "    max-height: 300px;\n",
       "    overflow: auto;\n",
       "  }\n",
       "  table, th, td {\n",
       "    border: 1px solid black;\n",
       "    border-collapse: collapse;\n",
       "  }\n",
       "  th, td {\n",
       "    padding: 5px;\n",
       "  }\n",
       "  th {\n",
       "    text-align: left;\n",
       "  }\n",
       "</style><div class='table-result-container'><table class='table-result'><thead style='background-color: white'><tr><th>_c0</th><th>_c1</th><th>_c2</th><th>_c3</th><th>_c4</th><th>_c5</th><th>_c6</th></tr></thead><tbody><tr><td>1718532</td><td>\"RONALD RIBEIRO CARDOSO\";\"2135\"</td><td>50</td><td>0,00</td><td>01</td><td>null</td><td>null</td></tr></tbody></table></div>"
      ]
     },
     "metadata": {
      "application/vnd.databricks.v1+output": {
       "addedWidgets": {},
       "aggData": [],
       "aggError": "",
       "aggOverflow": false,
       "aggSchema": [],
       "aggSeriesLimitReached": false,
       "aggType": "",
       "arguments": {},
       "columnCustomDisplayInfos": {},
       "data": [
        [
         1718532,
         "\"RONALD RIBEIRO CARDOSO\";\"2135\"",
         50,
         "0,00",
         "01",
         null,
         null
        ]
       ],
       "datasetInfos": [],
       "dbfsResultPath": null,
       "isJsonSchema": true,
       "metadata": {},
       "overflow": false,
       "plotOptions": {
        "customPlotOptions": {},
        "displayType": "table",
        "pivotAggregation": null,
        "pivotColumns": null,
        "xColumns": null,
        "yColumns": null
       },
       "removedWidgets": [],
       "schema": [
        {
         "metadata": "{}",
         "name": "_c0",
         "type": "\"integer\""
        },
        {
         "metadata": "{}",
         "name": "_c1",
         "type": "\"string\""
        },
        {
         "metadata": "{}",
         "name": "_c2",
         "type": "\"integer\""
        },
        {
         "metadata": "{}",
         "name": "_c3",
         "type": "\"string\""
        },
        {
         "metadata": "{}",
         "name": "_c4",
         "type": "\"string\""
        },
        {
         "metadata": "{}",
         "name": "_c5",
         "type": "\"integer\""
        },
        {
         "metadata": "{}",
         "name": "_c6",
         "type": "\"string\""
        }
       ],
       "type": "table"
      }
     },
     "output_type": "display_data"
    }
   ],
   "source": [
    "df_raw_emp.select(\"*\").filter(col(\"_c1\") == '\"RONALD RIBEIRO CARDOSO\";\"2135\"').display()"
   ]
  },
  {
   "cell_type": "code",
   "execution_count": 0,
   "metadata": {
    "application/vnd.databricks.v1+cell": {
     "cellMetadata": {
      "byteLimit": 2048000,
      "rowLimit": 10000
     },
     "inputWidgets": {},
     "nuid": "d6e26c47-7453-4300-a403-16108de50b9b",
     "showTitle": false,
     "tableResultSettingsMap": {},
     "title": ""
    }
   },
   "outputs": [
    {
     "output_type": "display_data",
     "data": {
      "text/html": [
       "<style scoped>\n",
       "  .table-result-container {\n",
       "    max-height: 300px;\n",
       "    overflow: auto;\n",
       "  }\n",
       "  table, th, td {\n",
       "    border: 1px solid black;\n",
       "    border-collapse: collapse;\n",
       "  }\n",
       "  th, td {\n",
       "    padding: 5px;\n",
       "  }\n",
       "  th {\n",
       "    text-align: left;\n",
       "  }\n",
       "</style><div class='table-result-container'><table class='table-result'><thead style='background-color: white'><tr><th>_c1</th></tr></thead><tbody><tr><td>\"NIGTH CLUB \"\"TUTU\"\" LTDA\"</td></tr><tr><td>\"\"\"MAISON DUE\"\" CONFECCOES LIMITADA\"</td></tr><tr><td>\"\"\"CORACAO PARA CORACAO\"\"-COMERCIO DE DISCOS LTDA\"</td></tr><tr><td>\"ECO \"\"60\"\" COMERCIO DE ROUPAS LTDA\"</td></tr><tr><td>\"COMERCIAL D\"\"ANGELLO LTDA\"</td></tr><tr><td>\"\"\"TC\"\"-ELETRONICA LTDA\"</td></tr><tr><td>\"\"\"DIBRASAL\"\" DISTRIBUIDORA BRASILEIRA DE ALIMENTOS LTDA\"</td></tr><tr><td>\"\"\"LUQUES & MAGNOLO CENTRO AUTOMOTIVOS LTDA\"</td></tr><tr><td>\"\"\"BOBISUL\"\"IND.E COMERCIO DEEMBALAGENS DE MADEIRA LTDA\"</td></tr><tr><td>\"MOVEIS E DECORACOES \"\"AGMA\"\" LTDA\"</td></tr><tr><td>\"MARCENARIA \"\"SUPORTE\"\" LTDA\"</td></tr><tr><td>\"VAL\"\"EL COM DE MATERIAL DE CONST. E MAO DE OBRA LTDA\"</td></tr><tr><td>\"BORRACHARIA \"\"PRIMUS\"\" LTDA\"</td></tr><tr><td>\"MEDIDA \"\"T\"\" MODAS LTDA\"</td></tr><tr><td>\"\"\"MAZZEI\"\"-ROTISSERIE & AVICOLA LTDA\"</td></tr><tr><td>\"BAR E LANCHES \"\"DAS PRIMAS\"\" LTDA\"</td></tr><tr><td>\"\"\"O COMPANHEIRO AUTO PECAS LTDA\"</td></tr><tr><td>\"\"\"AMARAL E PIEDADE REPRESENTACOES LTDA\"\"\"</td></tr><tr><td>\"COLT \"\"45\"\" DIVERSOES ELETRONICAS LTDA\"</td></tr><tr><td>\"IQT - CONSULTORES \"\"K\"\" LTDA\"</td></tr><tr><td>\"CONCRECAIXA \"\"IN LOCO\"\" LTDA\"</td></tr><tr><td>\"CLUBE RECREATIVO E ESPORTIVO SAO SIMAO \"\"CRESSI\"\"\"</td></tr><tr><td>\"IGREJA PENTECOSTAL JESUS CRISTO \"\"PRINCIPE DA PAZ\"\"\"</td></tr><tr><td>\"INDUSTRIA DE BOLSAS \"\" YANKY \"\" LTDA\"</td></tr><tr><td>\"CONFECCOES \"\"NE\"\" LTDA\"</td></tr><tr><td>\"COMISSAO DA CAMPANHA DE SOLEDARIEDADE \"\"SOS LUCIENE\"\"\"</td></tr><tr><td>\"PIZZAS \"\"EXPRESS\"\" DE SANTOS LTDA\"</td></tr><tr><td>\"BUFFET INFANTIL \"\"FESTA PARCK\"\" S/C LTDA\"</td></tr><tr><td>\"GRUPO DE SERESTA ESTRELA D\"\"ALVA DE JEQUITAI\"</td></tr><tr><td>\"CANTINA \"\"DA VILLA\"\" LTDA\"</td></tr><tr><td>\"CONDOMINIO DO RESIDENCIAL JARDIM KARINA QUADRA \"\"F\"\"\"</td></tr><tr><td>\"NIVALDO PEREIRA ARANHA \"\"JARAGUA\"</td></tr><tr><td>\"BAR E MERCEARIA DA \"\"MA\"\" LTDA\"</td></tr><tr><td>\"AGROPECUARIA \"\"G10\"\" LTDA\"</td></tr><tr><td>\"ASSOCIACAO DE MORADORES DA RUA \"\"E\"\" E ADJACENCIAS\"</td></tr><tr><td>\"COMERCIAL \"\"RAGA\"\" LTDA\"</td></tr><tr><td>\"CLUBE DE MAES \"\"SANTA ANA\"\".\"</td></tr><tr><td>\"CLUBE DE MAES \"\"SO O AMOR CONSTROI\"\".\"</td></tr><tr><td>\"BAR E RESTAURANTE LATINO\"\"S LTDA\"</td></tr><tr><td>\"ALIANCA DEMOCRATICA CRISTA \"\"A D C\"\"\"</td></tr><tr><td>\"CENTRO CATEQUETICO COMUNITARIO CRISTAO \"\" TIA ELCE \"\"\"</td></tr><tr><td>\"JOSE A P AGOSTINHO - \"\"BUFFET\"</td></tr><tr><td>\"TELHEIRO\"\"S REFEICOES LTDA\"</td></tr><tr><td>\"IGREJA EVANGELICA PENTECOSTAL \"\"UNIDOS POR CRISTO\"\"\"</td></tr><tr><td>MARIA BARBOSA DOS SANTOS DIAS 'DEDOS MAGICOS\"\"</td></tr><tr><td>\"LIVRARIA E PAPELARIA EVANGELICA \"\"O NAZARENO\"\" LTDA\"</td></tr><tr><td>\"CIGANO\"\"S BAR E LANCHONETE LTDA\"</td></tr><tr><td>\"DAFNE\"\"S NEW COMERCIO E CONFECCOES LTDA\"</td></tr><tr><td>\"CAIXA DE CUSTEIO ESCOLAR DA ESCOLA \"\"21 DE ABRIL\"\"\"</td></tr><tr><td>\"GRANITO\"\"S COMERCIO E INDUSTRIA DE PIPOCAS LTDA\"</td></tr><tr><td>\"ENSINO EDUCACIONAL \"\"A ESTRELINHA\"\" S/C LTDA\"</td></tr><tr><td>\"PRODUTOS ALIMENTICIOS \"\"LA PASTA\"\" LTDA\"</td></tr><tr><td>\"COM E DISTRIB DE PRODS ALIM \"\"ANASTACIA\"\" LTDA\"</td></tr><tr><td>\"TURBO \"\"4\"\" COMERCIO DE MADEIRAS LTDA\"</td></tr><tr><td>\"MIGUEL ALCIDES SANCHES \"\"VASSOURAS\"</td></tr><tr><td>\"CLUBE DA PIZZA \"\"US FAMOSU DA LICENCA\"\"\"</td></tr><tr><td>\"BAR \"\"SEM FRESCURA\"\" LTDA\"</td></tr><tr><td>\"ESCOLA CRISTA \"\"MARIA DE NAZARETH\"\"\"</td></tr><tr><td>\"ASSOCIACAO D.E.S.C.A. \"\"LAIS CALAZANS DE FREITAS\"\"\"</td></tr><tr><td>\"FUNDO DESTAK DE INVESTIMENTOS EM \"\"COMMODITIES\"\"\"</td></tr><tr><td>\"PLAY \"\"N\"\" LEARN CENTRO DE ESTUDOS S/C LTDA\"</td></tr><tr><td>\"VILA \"\"A\"\" CENTRO ODONTOLOGICO LTDA\"</td></tr><tr><td>\"ESCOLA CRISTA EVANGELICA \"\" O SEMEADOR\"\" LTDA\"</td></tr><tr><td>\"D\"\"SARON INDUSTRIA E COMERCIO DE CONFECCOES LTDA\"</td></tr><tr><td>\"ZU\"\"ARTS\"\"INDUSTRIA E COMERCIO DE ROUP.E ACESSORIOS LTDA\"</td></tr><tr><td>\"ZU\"\"ARTS\"\"INDUSTRIA E COMERCIO DE ROUP.E ACESSORIOS LTDA\"</td></tr><tr><td>\"ASSOCIACAO COMUNITARIA \"\"COCALINHO, TALHADA E CHAPADINHA\"</td></tr><tr><td>\"JOSE PEREIRA DA SILVA \"\"O CARIOCA\"\"\"</td></tr><tr><td>\"ASSOC COMUNITARIA \"\"YTAY YPUKU\"\" DA ALDEIA LAGOA COMPRIDA\"</td></tr><tr><td>\"BELAIN\"\"S-TUR AGENCIA DE VIAGENS E TURISMO LTDA\"</td></tr><tr><td>\"CAIXA DE CUSTEIO DA EEPSG \"\"PROF DALVA VIEIRA ITAVO\"\"\"</td></tr><tr><td>\"CLUBE DE MAES \"\"RESERVA INDIGENA DORKAS\"\"\"</td></tr><tr><td>\"ILE D\"\"ORIXA ARTS RELIGS LTDA\"</td></tr><tr><td>\"FRANCISCO PEREIRA DE SILVA \"\"O PIAUI\"</td></tr><tr><td>\"SOCIEDADE CIVIL BENEFICENTE \"\"MAHATMA GANDHI\"\"\"</td></tr><tr><td>\"D\"\"NAPOLI SORVETES LTDA\"</td></tr><tr><td>\"CENTRO EST.PESQ.ASS.CONS.\"\"REFORMA URBANA E CIDADANIA\"\"\"</td></tr><tr><td>\"STUDIO \"\"S\"\" DESIGN LTDA\"</td></tr><tr><td>\"SOCIEDADE ACAO SOCIAL DE SAO FRANCISCO \"\"AGUA VIVA\"\"\"</td></tr><tr><td>\"CENTRO DE TRADICOES GAUCHAS \"\"BETO SALLES\"\"\"</td></tr><tr><td>\"UPDOOR\"\"S REPRESENTACOES LTDA\"</td></tr><tr><td>\"TRAN\"\"SET TRANSFORMADORES LTDA\"</td></tr><tr><td>\"ZEKA\"\"S BAR LTDA\"</td></tr><tr><td>\"FUNDO UNIBANCO \"\"F\"\" DE RENDA FIXA\"</td></tr><tr><td>\"APM DA EEPG \"\"A\"\" PROF APARECIDA MARIA DE SOUZA\"</td></tr><tr><td>\"ASSOCIACAO DE CAPOERIA \"\"S\"\" DOBRADO\"</td></tr><tr><td>\"GRUPO DE IDOSOS \"\"ALEGRIA E VIVER\"\"\"</td></tr><tr><td>\"ASSOC ASSIST TEC AGROP AO CAMPO GUAR D\"\"OESTE\"</td></tr><tr><td>\"CURSO DE INGLES \"\"I LOVE ENGLISH\"\" LTDA\"</td></tr><tr><td>\"ASSOCIACAO DE JUDO DO \"\"TIO ZEZINHO\"\"\"</td></tr><tr><td>\"LAVA RAPIDO \"\"HP-699\"\" S/C LTDA\"</td></tr><tr><td>\"CLUBE ESCOLA \"\" FUM JUMP \"\" DE PARA-QUEDISMO\"</td></tr><tr><td>\"URUPA \"\"HAUS\"\" CASAS ESPECIAIS LTDA\"</td></tr><tr><td>\"ASSOCIACAO DE MORADORES DO CONDOMINIO AMARALINA \"\"B\"\"\"</td></tr><tr><td>\"SUPLETIVO \"\"A DISTANCIA\"\" DE 1 E 2 GRAU LTDA\"</td></tr><tr><td>\"ACADEMIRO\"\"S ACADEMIA DE GINASTICA E MUSCULACAO LTDA\"</td></tr><tr><td>\"ANTONIO CARLOS DE OLIVEIRA SANTA BARBARA D\"\"OESTE\"</td></tr><tr><td>\"CLUBE DE MAES \"\"S.O.S. NAVAL\"\"\"</td></tr><tr><td>\"LIBERAL-FIRST FUNDO DE INVESTIMENTO EM \"\"COMMODITIES\"\"\"</td></tr><tr><td>\"LIBERAL-STAR FUNDO DE INVESTIMENTO EM \"\"COMMODITIES\"\"\"</td></tr><tr><td>\"SOS SANTA CASA \"\"UMA QUESTAO DE MISERICORDIA\"\"\"</td></tr><tr><td>\"HOTEL DE LAZER \"\"RECANTO DAS AGUIAS\"\" LTDA\"</td></tr><tr><td>\"CLUBE DE MAES \"\"SERVIR E VIVER\"\"\"</td></tr><tr><td>\"GRUPO \"\"OS VERSATEIS\"\"\"</td></tr><tr><td>\"ASSOCIACAO BRASILEIRA DE FISCAIS DE TRIBUTOS \"\"ABRAFIST\"\"\"</td></tr><tr><td>\"APP DO CIEP \"\"RODESINDO PAVAN\"\"\"</td></tr><tr><td>\"CONDOMINIO RESIDENCIAL JARDIM CONTINENTAL \"\"D\"\"\"</td></tr><tr><td>\"FRATERNIDADE DE AMPARO A CRIANCA \"\"AMOR E CARIDADE\"\"\"</td></tr><tr><td>\"BAR MELLOW \"\"C\"\" LTDA\"</td></tr><tr><td>\"ASSOCIACAO DE PAIS E PROFESSORES E.I. \"\"COLONIA TIGRE\"\"\"</td></tr><tr><td>\"CONDOMINIO EDIFICIO PAU D \"\"ARCO III\"</td></tr><tr><td>\"DJELOU\"\"S COMERCIO DE VESTUARIO LTDA\"</td></tr><tr><td>\"EMPREITEIRA DE MAO DE OBRA DI\"\"HUSO LTDA\"</td></tr><tr><td>\"SENADOR \"\"MARCOS FREIRE\"\"\"</td></tr><tr><td>\"ASSOCIACAO GRUPO GIRASSOL \"\"AGGIR\"\"\"</td></tr><tr><td>\"BREADTH DUNDEE\"\"S BAR LTDA\"</td></tr><tr><td>\"GRUPO DE IDOSOS \"\"VIDA E AMOR\"\"\"</td></tr><tr><td>\"LANCHONETE DU\"\"PEQUENO LTDA\"</td></tr><tr><td>\"CONDOMINIO DO EDIFICIO \"\"DONA CARLOTA\"\"\"</td></tr><tr><td>\"SOCIEDADE BENEFICENTE \"\"FLOR GLORIOSA\"\"\"</td></tr><tr><td>\"RHOLD\"\"S EMPREITEIRA LTDA\"</td></tr><tr><td>\"BAR E LANCHES \"\"KARICA\"\" LTDA\"</td></tr><tr><td>\"CLUBE DE RODEIOS E ESPORTES \"\"OS SERTANEJOS\"\"\"</td></tr><tr><td>\"EURIPEDES MARTINS \"\"S\"\"\"</td></tr><tr><td>\"ASSOCIACAO \"\"DONA MARIA DO CARMO\"\"\"</td></tr><tr><td>\"NUK\"\"S COMERCIO DE ALIMENTOS LTDA\"</td></tr><tr><td>\"MAGAZINE DOS CALCADOS \"\"F & R\"\" LTDA\"</td></tr><tr><td>\"GREMIO RECREATIVO ESCOLA DE SAMBA \"\"FLOR DE MAIO\"\"\"</td></tr><tr><td>\"JOSE CARLOS DA COSTA \"\"O JOTACAR\"</td></tr><tr><td>\"ASSOCIACAO DE APOIO A ESCOLA ESTADUAL \"\"TABUINHA\"\"\"</td></tr><tr><td>\"HALLEY\"\"S EXPRESS SERVICOS LTDA\"</td></tr><tr><td>\"ASSOCIACAO PEQ. PRODUTORES RURAIS \"\"CHICO MENDES\"\"\"</td></tr><tr><td>\"ASSOCIACAO DE PEQ. PROD. RURAIS \"\"CHICO MENDES\"\"\"</td></tr><tr><td>\"EZEQUIAS GONCALVES \"\"KIAS\"</td></tr><tr><td>\"OSNI PEREIRA \"\"O EBENEZER\"</td></tr><tr><td>\"ASSOCIACAO DO CONJUNTO RESIDENCIAL \"\"PE. MARIO LANO \"\"\"</td></tr><tr><td>\"SOCIEDADE DE APOIO AO LAR CARENTE \"\"FRANCISCA CELIRA\"\"\"</td></tr><tr><td>\"SORVECHUR\"\"S LTDA\"</td></tr><tr><td>\"\"\"SAO FRANCISCO RACOES LTDA\"</td></tr><tr><td>\"COM. E PRESTACAO DE SERVICOS \"\"LOPES & SILVA\"\" LTDA\"</td></tr><tr><td>\"ASSOCIACAO DE MORADORES DO CONDOMINIO \"\"OS POETAS\"\"\"</td></tr><tr><td>\"FUNDO DE INVESTIMENTO FINANCEIRO CONFIANCA \"\"A\"\"\"</td></tr><tr><td>\"NAUTILL\"\"US TURISMO E LAZER LTDA\"</td></tr><tr><td>\"CENTRO DE ESTUDOS \"\" DR. MARIO LUIZ MACCA \"\" DO COMPLEXO HOSPITALAR PADRE BENTO DE GUARULHOS\"</td></tr><tr><td>\"CENTRO DE EDUCACAO PRE-ESCOLAR \"\"PASSO A PASSO\"\" LTDA\"</td></tr><tr><td>\"LAVAJATO \"\"CAR WASH\"\" S/C LTDA\"</td></tr><tr><td>\"PEDRO GOULART \"\" BILHAR OESTE\"</td></tr><tr><td>\"FUNDO DE INVESTIMENTO FINANCEIRO CONFIANCA \"\"D\"\"\"</td></tr><tr><td>\"ASSOCIACAO DOS PEQUENOS PRODUTORES RURAIS DO FORMOSO\"\"A\"\"\"</td></tr><tr><td>\"ASSOCIACAO FRATERNIDADE \"\"MAOS DE LUZ\"\" DO EST. S. PAULO\"</td></tr><tr><td>\"ASSISTENCIA SOCIAL AMIGOS ORGANIZADOS \"\"SO AMOR\"\"\"</td></tr><tr><td>\"ASSOCIACAO PASTORAL JUNENIL \"\"MJCO\"\"\"</td></tr><tr><td>\"CLUBE DE MAES\"\"EM BUSCA DA PAZ\"\"\"</td></tr><tr><td>\"SEVERINO ROBERTO DA SILVA \"\"CARTONAGEM\"</td></tr><tr><td>\"ASSOCIACAO BENEFICENTE \"\"COMECAR DE NOVO\"\"\"</td></tr><tr><td>\"ASSOCIACAO UNIVERSITARIA DE PALMARES DO SUL \"\"AUPS\"\"\"</td></tr><tr><td>\"LAR ASSISTENCIAL A CRIANCA \"\"O CAMINHO\"\"\"</td></tr><tr><td>\"CENTRO EDUCACIONAL \"\"CONTO DE FADAS\"\" SC LTDA\"</td></tr><tr><td>\"FUNDO DE INVESTIMENTO FINANCEIRO CONFIANCA \"\"H\"\"\"</td></tr><tr><td>\"NET PART\"\"S COMERCIO E IMPORTACAO LTDA\"</td></tr><tr><td>\"ASSOCIACAO CULTURAL \"\"BANDA DE MUS. FILADELFO J SILVA\"</td></tr><tr><td>\"ASSOCIACAO DE MORADORES DO CONJ HABIT \"\"SANENGE III\"\"\"</td></tr><tr><td>\"FUNDO DE INVESTIMENTO FINANCEIRO CONFIANCA \"\"O\"\"\"</td></tr><tr><td>\"FUNDO DE INVESTIMENTO FINANCEIRO CONFIANCA \"\"Q\"\"\"</td></tr><tr><td>\"FUNDO DE INVESTIMENTO FINANCEIRO CONFIANCA \"\"T\"\"\"</td></tr><tr><td>\"ASS DO PROJETO SEM TETO \"\"B\"\" PRO-MORADIA DE UBERABA/MG\"</td></tr><tr><td>\"\"\"KALOPETE CONFECCOES LTDA\"</td></tr><tr><td>\"ASSOCIACAO DE AMIGOS \"\"CONFRARIA CLUB\"\"\"</td></tr><tr><td>\"ASSOCIACAO DE PAIS E MESTRES DA EMPG \"\"GUAIBA\"\"\"</td></tr><tr><td>\"MERCADO \"\"DO DENE \"\" LTDA\"</td></tr><tr><td>\"NILL\"\"S BAR LTDA\"</td></tr><tr><td>\"MERCADINHO \"\"LOS LOBOS\"\" LTDA\"</td></tr><tr><td>\"RECREACAO E EDUCACAO INFANTIL \"\"MINDINHO\"\"\"</td></tr><tr><td>\"ASSOCIACAO ATLETICA ACADEMICA \"\"08 DE DEZEMBRO\"\"\"</td></tr><tr><td>\"CENTRO DE ORIENT. PROFIS. DE ADOLESCENTES \"\"COPA\"\"\"</td></tr><tr><td>\"COMPANHIA TEATRAL \"\"CADE OTELO\"\"\"</td></tr><tr><td>\"SOCIEDADE ILE \"\"AXE\"\" DE OBALUAE\"</td></tr><tr><td>\"DEPOSITO \"\"O GRANDE\"\" LTDA\"</td></tr><tr><td>\"FRANCA\"\"S CAR LOCADORA DE VEICULOS LTDA\"</td></tr><tr><td>\"ASSOCIACAO DOS MORADORES DO JARDIM GUAPIRA \"\"AMOJAGUA\"\"\"</td></tr><tr><td>\"FUNDO DE INVESTIMENTO FINANCEIRO FIDELIDADE \"\"A\"\"\"</td></tr><tr><td>\"FUNDO DE INVESTIMENTO FINANCEIRO FIDELIDADE \"\"C\"\"\"</td></tr><tr><td>\"ASSOCIACAO PRO-QUEIMADOS DE GUARATINGUETA \"\"O BOM PASTOR\"</td></tr><tr><td>\"ASSOCIACAO DE \"\"MULHERES DO JARDIM SILVIA E ADJACENCIAS\"\"\"</td></tr><tr><td>\"ASSOCIACAO \"\"CHAMA VIVA\"\" DE S.PAULO POR UM BRASIL MELHOR\"</td></tr><tr><td>\"ASSOCIACAO DE PAIS E MESTRES APM DO CAIC \"\"WALTER FUCHS\"\"\"</td></tr><tr><td>\"COLIGACAO \"\" UNIDOS PELO POCO\"\"\"</td></tr><tr><td>\"SOCIETA TALIANA \"\"TALIANI SU I MONTI\"\"\"</td></tr><tr><td>\"FUNDO DE INVESTIMENTO FINANCEIRO FIDELIDADE \"\"N\"\"\"</td></tr><tr><td>\"FUNDO DE INVESTIMENTO FINANCEIRO FIDELIDADE \"\"M\"\"\"</td></tr><tr><td>\"FUNDO DE INVESTIMENTO FINANCEIRO FIDELIDADE \"\"K\"\"\"</td></tr><tr><td>\"FUNDO DE INVESTIMENTO FINANCEIRO FIDELIDADE \"\"J\"\"\"</td></tr><tr><td>\"FUNDO DE INVESTIMENTO FINANCEIRO FIDELIDADE \"\"H\"\"\"</td></tr><tr><td>\"FUNDO DE INVESTIMENTO FINANCEIRO FIDELIDADE \"\"F\"\"\"</td></tr><tr><td>\"FUNDO DE INVESTIMENTO FINANCEIRO FIDELIDADE \"\"E\"\"\"</td></tr><tr><td>\"FUNDO DE INVESTIMENTO FINANCEIRO FIDELIDADE \"\"I\"\"\"</td></tr><tr><td>\"PANIFICADORA E CONFEITARIA \"\"DOCES SONHOS\"\" LTDA\"</td></tr><tr><td>\"POLICLINICA VETERINARIA \"\"UNIVET\"\" LTDA.\"</td></tr><tr><td>\"ASSOCIACAO COMUNIT DE MORADORES UNIDOS DA QUADRA \"\"S\"\"\"</td></tr><tr><td>\"ASSOC PROP CENTRAL TELEFONICA DO \"\"GRUPO DOS NOVE\"\"\"</td></tr><tr><td>\"RIKA\"\"S COMERCIAL E IMPORTADORA LTDA\"</td></tr><tr><td>\"IGREJA EVANG. PENTECOSTAL\"\"AS FONTES DAS AGUAS DA VIDA\"\"\"</td></tr><tr><td>\"ASSOCIACAO DOS PRODUTORES RURAIS \"\"NOVA ESPERANCA\"\"\"</td></tr><tr><td>\"ADRIANO DE DEUS COUTINHO \"\"MICROEMPRESA\"\"\"</td></tr><tr><td>\"IGREJA EVANGELICA \"\"MINHA IGREJA - MT. 16:18\"\"\"</td></tr><tr><td>\"APM DOS EXCEPCIONAIS EM APOIO AO ARCO IRIS \"\"APAME\"\"\"</td></tr><tr><td>\"LIONS CLUBE PIUMA \"\"CIDADE DAS CONCHAS\"\"\"</td></tr><tr><td>\"ESCOLA INFANTIL OS \"\"PIRILAMPOS\"\" LTDA\"</td></tr><tr><td>\"APM DA EEPG(R) \"\"PROF. JOSE NEGRIN\"\"\"</td></tr><tr><td>\"QUITANDA E MERCEARIA IRMAOS \"\"R\"\" LTDA\"</td></tr><tr><td>\"BAR E LANCHES \"\"EDFRAN\"\" S LTDA\"</td></tr><tr><td>\"ESPORTE CLUBE D\"\"AGOSTINE\"</td></tr><tr><td>\"VIDEO \"\"IN HOUSE\"\" LTDA\"</td></tr><tr><td>\"UPC. - \"\" UNIAO PAULISTA DE COBRANCA S/C LTDA. \"\"\"</td></tr><tr><td>\"NUCLEO DE EDUCACAO INFANTIL \"\"ESTACAO CRIANCA\"\" S/C LTDA\"</td></tr><tr><td>\"ADEMILDE DA PAIXAO SANT\"\"ANNA\"</td></tr><tr><td>\"FUNDO DE INVESTIMENTO FINANCEIRO FIDELIDADE \"\"O\"\"\"</td></tr><tr><td>\"FUNDO DE INVESTIMENTO FINANCEIRO FIDELIDADE \"\"P\"\"\"</td></tr><tr><td>\"FUNDO DE INVESTIMENTO FINANCEIRO FIDELIDADE \"\"T\"\"\"</td></tr><tr><td>\"CENTRO ESPIRITA E NUCLEO ASSIST \"\"IRMA MARIA BERNARDETE\"\"\"</td></tr><tr><td>\"IGREJA EVANGELICA PENTECOSTAL \"\"SERVOS DE DEUS\"\"\"</td></tr><tr><td>\"RETIFICA PRIMU\"\"S DE PILARES LTDA\"</td></tr><tr><td>\"SOUZA & D\"\"ALESSANDRE ROSSI LTDA\"</td></tr><tr><td>\"IGREJA EVANGELICA ASSEMBLEIA DE DEUS \"\"A NOVA JERUSALEM\"\"\"</td></tr><tr><td>\"ESCOLA DE 1\"\" GRAU PROFESSORA CATARINA TAVARES\"</td></tr><tr><td>\"IGREJA PENTECOSTAL \"\"O SENHOR E A NOSSA BANDEIRA\"\"\"</td></tr><tr><td>\"IGREJA EVAN.PENTECOSTAL \"\"PROMESSA DE CRISTO P/O BRASIL\"\"\"</td></tr><tr><td>\"ASS.DOS USUA.DA CENT-PABX DO COND.PALMEIRAL II BL.\"\"A\"\"\"</td></tr><tr><td>\"NATATALLYU\"\"S COMERCIO E REPRESENTACOES DE SEGUROS LTDA\"</td></tr><tr><td>\"ESPACO \"\"B\"\" COMUNICACAO E MARKETING LTDA\"</td></tr><tr><td>\"CENTRO ACADEMICO DE ENGENHARIA CIVIL \"\"11 DE DEZEMBRO\"\"\"</td></tr><tr><td>\"FUNDO DE INVESTIMENTO FINANCEIRO FIDELIDADE \"\"Y\"\"\"</td></tr><tr><td>\"FUNDO DE INVESTIMENTO FINANCEIRO FIDELIDADE \"\"X\"\"\"</td></tr><tr><td>\"FUNDO DE INVESTIMENTO FINANCEIRO FIDELIDADE \"\"V\"\"\"</td></tr><tr><td>\"ASSOCIACAO BRAS DE PILOTOS E EQUIP DE CATEG \"\"STOCK CAR\"\"\"</td></tr><tr><td>\"NUCLEO EDUCACIONAL \"\" MEU FILHOTE \"\" S/C LTDA\"</td></tr><tr><td>\"FABIANA DE MATOS \"\" A HONORARY\"</td></tr><tr><td>\"DONN\"\"ITA CONFEITARIA LTDA\"</td></tr><tr><td>\"FUNDO DE APL EM QTAS DE FDOS DE INVEST TRADICAO \"\"A\"\"\"</td></tr><tr><td>\"FUNDO DE APL EM QTAS DE FDOS DE INVEST TRADICAO \"\"B\"\"\"</td></tr><tr><td>\"FUNDO DE APL EM QTAS DE FDOS DE INVEST TRADICAO \"\"C\"\"\"</td></tr><tr><td>\"FUNDO DE APL EM QTAS DE FDOS DE INVEST TRADICAO \"\"D\"\"\"</td></tr><tr><td>\"FUNDO DE APL EM QTAS DE FDOS DE INVEST TRADICAO \"\"E\"\"\"</td></tr><tr><td>\"FUNDO DE APL EM QTAS DE FDOS DE INVEST TRADICAO \"\"F\"\"\"</td></tr><tr><td>\"FUNDO DE APL EM QTAS DE FDOS DE INVEST TRADICAO \"\"H\"\"\"</td></tr><tr><td>\"FUNDO DE APL EM QTAS DE FDOS DE INVESTIMENTO TARGET \"\"B\"\"\"</td></tr><tr><td>\"FUNDO DE APL EM QTAS DE FDOS DE INVESTIMENTO TARGET \"\"C\"\"\"</td></tr><tr><td>\"FUNDO DE APL EM QTAS DE FDOS DE INVESTIMENTO TARGET \"\"E\"\"\"</td></tr><tr><td>\"FUNDO DE APL EM QTAS DE FDOS DE INVESTIMENTO TARGET \"\"F\"\"\"</td></tr><tr><td>\"F\"\"DE A\"\" DO CARMO SILVA DANCETERIA\"</td></tr><tr><td>\"ROZANE GONCALVES FELIX \"\"AVENIL\"\"\"</td></tr><tr><td>\"ZOTTIS E GRAL\"\" ADVOGADOS ASSOCIADOS\"</td></tr><tr><td>\"ELETRON \"\"SP\"\" COMERCIO INFORMATICA LTDA\"</td></tr><tr><td>\"SOCIEDADE CIVIL \"\"ESCOLA VIVA\"\" LTDA\"</td></tr><tr><td>\"ASSOCIACAO AMIGOS DO PARQUE NATURAL \"\"CHICO MENDES\"\"\"</td></tr><tr><td>\"CORAL PALMEIRENSE \"\"PE. JOSE MAURICIO NUNES GARCIA\"</td></tr><tr><td>\"HAWKS\"\" CAR SOUND LTDA\"</td></tr><tr><td>\"GRUPO DA TERCEIRA IDADE \"\"NOVA ESPERANCA\"\"\"</td></tr><tr><td>\"BERCARIO \"\"BEIJA-FLOR\"\" S/C LTDA\"</td></tr><tr><td>\"ASSOCIACAO ESPORTIVA \"\" GERACAO FUTURO \"\"\"</td></tr><tr><td>\"CONDOMINIO DO BLOCO \"\"C\"\"\"</td></tr><tr><td>\"SOCIEDADE CRISTA DE EDUCACAO \"\"O MESTRE\"\"\"</td></tr><tr><td>\"AGREMIACAO CARNAVALESCA \"\" TOMBO DA ILHA \"\"\"</td></tr><tr><td>\"ASSOCIACAO CULTURAL E COMUNITARIA \"\"SAMUEL HAHNEMANN\"\"\"</td></tr><tr><td>\"LAK \"\"W\"\" COMERCIO DE MOVEIS LTDA\"</td></tr><tr><td>\"JOSE PINHEIRO \"\"O ZECA\"\"\"</td></tr><tr><td>\"FUNDO DE APLIC EM QUOTAS DE FUNDOS DE INVEST TARGET \"\"R\"\"\"</td></tr><tr><td>\"CLASSE \"\"A\"\" PERSIANAS LTDA\"</td></tr><tr><td>\"FUNDO DE APLIC EM QUOTAS DE FDOS DE INV TRADICAO \"\"J\"\"\"</td></tr><tr><td>\"FUNDO DE APLIC EM QTAS DE FDOS DE INVEST TRADICAO \"\"K\"\"\"</td></tr><tr><td>\"FUNDO DE APLIC EM QTAS DE FDOS DE INVEST TRADICAO \"\"L\"\"\"</td></tr><tr><td>\"FUNDO DE APLIC EM QTAS DE FUNDOS DE INV TRADICAO \"\"M\"\"\"</td></tr><tr><td>\"FDO DE APLIC EM QTAS DE FUNDOS DE INV TRADICAO \"\"R\"\"\"</td></tr><tr><td>\"ASSOCIACAO DOS LOJISTAS DO SHOP \"\"GE\"\"\"</td></tr><tr><td>\"ASSOCIACAO DE GRUPO DE IDOSOS \"\" GENTE FELIZ \"\" DO BAIRRO\"</td></tr><tr><td>\"CONSELHO ESCOLAR \"\"UNIDADE ESCOLAR MINISTRO PEDRO BORGES\"</td></tr><tr><td>\"KELLY CRISTINA DOS SANTOS \"\"BAR\"</td></tr><tr><td>\"CENTRO ESPIRITA \"\"CASA DE CARIDADE CONGO E MANO \"\"\"</td></tr><tr><td>\"BAR E LANCHES \"\"DAMA DE OURO\"\" LTDA\"</td></tr><tr><td>\"RECUPERADORA DE DISCOS \"\"2-J\"\" LTDA\"</td></tr><tr><td>\"COOPERATIVA DE PRODUCAO E SERVICOS \"\"LUIS BRAILLE\"\" COOPE\"</td></tr><tr><td>\"ASSOCIACAO CULTURAL COMUNITARIA AMIGA \"\"ACCA\"\"\"</td></tr><tr><td>\"CONSELHO ESCOLAR UNIDADE ESCOLAR \"\"DOMINGOS JORGE VELHO\"\"\"</td></tr><tr><td>\"ROGERIO DA SILVA \"\"O DORIVAN\"</td></tr><tr><td>\"DIRETORIO ACADEMICO \"\"PONTES DE MIRANDA\"\"\"</td></tr><tr><td>\"COMERCIAL DE FRUTAS E VERDURAS \"\"H.H.\"\"LTDA\"</td></tr><tr><td>\"ASSOCIACAO DAS MICRO E PEQUENAS EMPRESARIAS DO \"\"MUTIRAO\"</td></tr><tr><td>\"\"\"T\"\" COMERCIAL DE FRUTAS E VERDURAS LTDA\"</td></tr><tr><td>\"ASSOCIACAO DOS TRAVALHADORES SEM TERRA DA ZONA OESTE \"\"R\"</td></tr><tr><td>\"TAN\"\"SAFETY COMERCIO E REPRESENTACOES LTDA\"</td></tr><tr><td>\"GREMIO RECREATIVO CULTURAL ESCOLA DE SAMBA \"\"DRAGOES DO\"</td></tr><tr><td>\"JOANA D\"\"ARC PEREIRA DE OLIVEIRA\"</td></tr><tr><td>\"TEMPLO UMBANDISTA DE CARIDADE \"\"REINO DE OXUM/TIA CATARI\"</td></tr><tr><td>ASSOCIACAO DE MORADORES DE CEILANDIA NORTE\"\"</td></tr><tr><td>\"RONALD RIBEIRO CARDOSO\";\"2135\"</td></tr><tr><td>\"CLINICA DE ODONTOLOGIA PREVENTIVA E RESTAURADORA \"\"R.S\"\"\"</td></tr><tr><td>\"FRIOPAN FRIOS & CONDIMENTOS LTDA\";\"2062\"</td></tr><tr><td>\"ASSOCIACAO DOS PROPRIETARIOS DO CONDOMINIO \"\" EL CONDORO\"</td></tr><tr><td>\"CENTRO ESPIRITA DE UMBANDA\"\"AMIGOS DE JESUS'\"</td></tr><tr><td>\"GRUPO DE TEATRO \"\"BACCO PARI\"\"\"</td></tr><tr><td>\"ALBINO D\"\"AGHETTI\"</td></tr><tr><td>\"ASSOCIACAO DE PAIS E MESTRES DA ESCOLA MUNICIPAL \"\"DOM P\"</td></tr><tr><td>\"CENTRO ACADEMICO DE ZOOTECNIA \"\"13 DE MAIO\"\"\"</td></tr><tr><td>\"CENTRO ESPIRITA \"\"PAI MUNDIM\"\"\"</td></tr><tr><td>\"CORAL MUNICIPAL DE RIO CLARO \"\"O MENSAGEIRO\"\"\"</td></tr><tr><td>\"CLUBE DE RODEIO \"\"SUL DAS GERAIS\"\"\"</td></tr><tr><td>\"ASSOCIACAO DE RADIOAMADORES E FAIXA DO CIDADAO \"\"SENTINE\"</td></tr><tr><td>\"ASSOCIACAO ESCOLA COMUNIDADE- AEC \"\"CLOVIS BORGES MIGUEL\"</td></tr><tr><td>\"ASSOCIACAO ESCOLA COMUNIDADE \"\"ANTONIO LUIZ VALIATI\"\"\"</td></tr><tr><td>\"LA\"\" BIRILLA COMERCIO DE PAES E DOCES LTDA\"</td></tr><tr><td>\"CLUBE DE PARA-QUEDISMO \"\"SKYLIMITS\"\"\"</td></tr><tr><td>\"ASSOCIACAO PILARENSE DOS CAMINHONEIROS - \"\"A.P.C.\"\"\"</td></tr><tr><td>\"ASSOCIACAO ESCOLA COMUNIDADE (AEC) \"\"EPSG\"\" \"\"CORREGO DE S\"</td></tr><tr><td>\"IGREJA EVANGELICA \"\"O SENHOR JUSTICA NOSSA\"\"\"</td></tr><tr><td>\"ASSOCIACAO \"\"V\"\" UNIAO\"</td></tr><tr><td>\"ASSOCIACAO CULTURAL E INFORMATIVA \"\"O SERTANEJO\"\"\"</td></tr><tr><td>\"DALMA\"\"S CONFECCOES LTDA\"</td></tr><tr><td>\"GRUPO DE MULHERES \"\"BERTHA LUTZ\"\"\"</td></tr><tr><td>\"ASSOCIACAO DOS TRABALHADORES SEM TERRA DA ZONA OESTE \"\"R\"</td></tr><tr><td>\"ASSOCIACAO DE MORADORES DO BAIRRO CAIXA D\"\"AGUA\"</td></tr><tr><td>\"ASSOC. ESCOLA COMUNIDADE \"\"JUNTOS VENCEREMOS\"\"\"</td></tr><tr><td>\"CAIXA ESCOLAR DORGIVAL PINHEIRO DE SOUSA\";\"3999\"</td></tr><tr><td>\"JOAO BEZERRA DA SILVA \"\"BEBIDAS\"</td></tr><tr><td>\"ASSOCIACAO\"\"2000 SEM GUERRAS\"\"\"</td></tr><tr><td>\"CONSELHO ESCOLAR DA E E DE 1 GRAU \"\"AUGUSTO MONTENEGRO\"\"\"</td></tr><tr><td>\"\"\"ERGA OMNES\"\" LIVRARIA LTDA\"</td></tr><tr><td>\"CAIXA ESCOLAR \"\"JOSE AVELINO DE ALMEIDA\"\"\"</td></tr><tr><td>\"CAIXA ESCOLAR \"\"DR. TELMO MAGALHAES FERNANDES\"\"\"</td></tr><tr><td>\"ASSOCIACAO ESCOLA COMUNIDADE AEC DE 1 GRAU\"\"CIPRIANO COC\"</td></tr><tr><td>\"ASSOCIACAO DOS LOGISTAS DO \"\"TATUI CENTER SHOP\"\"\"</td></tr><tr><td>\"ASSOCIACAO ATLETA CAIXA D\"\"AGUA\"</td></tr><tr><td>\"ASSOCIACAO ESCOLA COMUNIDADE - E.P.G. \"\"MARIA ELEONORA D\"</td></tr><tr><td>\"ASSOCIACAO DE PRODUTORES RURAIS \"\"SEGURA NA MAO DE DEUS\"\"\"</td></tr><tr><td>\"CONSELHO ESCOLAR DA ESCOLA ESTADUAL DE 1 GRAU \"\"DR AGOST\"</td></tr><tr><td>\"GRUPO DE JOVENS: \"\"JUVENTUDE EM ACAO\"\"- JUA\"</td></tr><tr><td>\"LANCHONETE E MERCEARIA DA \"\"ZU\"\" LTDA\"</td></tr><tr><td>\"ASSOCIACAO ESCOLA COMUNIDADE \"\"NATALIA VIEIRA LOPES\"\"\"</td></tr><tr><td>\"COMERCIO E CONFECCOES \"\"SETE MARES\"\" LTDA.\"</td></tr><tr><td>\"ASSOCIACAO COMUNITARIA DA VIA EXPRESSA \"\"ASCAPE\"\"\"</td></tr><tr><td>\"CLUBE DE MAES \"\"SAGRADO CORACAO DE JESUS\"\"\"</td></tr><tr><td>\"CAIXA ESCOLAR \"\"PROFESSOR OLIVEIRA ROMA\"\"\"</td></tr><tr><td>\"CONSELHO ESCOLAR E R C \"\"14 DE ABRIL\"\"\"</td></tr><tr><td>\"INSTITUICAO \"\"CAMINHO DO BEM\"\"\"</td></tr><tr><td>\"ASSOCIACAO DA RADIO COMUNITARIA E CULTURAL \"\"ATALAIA\"\" -\"</td></tr><tr><td>\"ML.\"\"98\"\"SERVICOS MEDICOS S/C LTDA\"</td></tr><tr><td>\"CONSELHO ESCOLAR DA E R C \"\"NOSSA SENHORA DO CARMO\"\"\"</td></tr><tr><td>\"CONSELHO ESCOLAR DA ERC CENTRO EDUCACIONAL \"\"TURMA DA MO\"</td></tr><tr><td>\"MARLI DA ROSA \"\"LUDINIL\"</td></tr><tr><td>\"CONSELHO ESCOLAR DA E R C \"\"MANOEL ANTONIO DA COSTA\"\"\"</td></tr><tr><td>\"CONSELHO ESCOLAR E E DE 1 GRAU \"\"PROF BELA AURORA DE JES\"</td></tr><tr><td>\"CONSELHO ESCOLAR DA E R C \"\"MARIA LUIZA\"\"\"</td></tr><tr><td>\"CONSELHO ESCOLAR DA ESCOLA R C \"\"UNIDOS VENCEREMOS\"\"\"</td></tr><tr><td>\"CONSELHO ESCOLAR DA E E DE 1 E 2 GRAUS \"\"PROF MARIA ELIZ\"</td></tr><tr><td>\"IMOBILIARIA \"\"MR\"\" LTDA\"</td></tr><tr><td>\"GRUPO DE IDOSOS\"\"SAO PEDRO\"\"\"</td></tr><tr><td>\"ASSOCIACAO DOS MORADORES DA AREA LIVRE \"\"A2\"\"\"</td></tr><tr><td>\"CAIXA ESCOLAR \"\"MONICA\"\"\"</td></tr><tr><td>\"CONSELHO ESCOLAR DA ESCOLA ESTADUAL DE 1 GRAU ANEXO \"\"PR\"</td></tr><tr><td>\"CONSELHO ESCOLAR DA E R C ESCOLA DE 1 GRAU \"\"DISNEYLANDI\"</td></tr><tr><td>\"CAIXA ESCOLAR \"\"ESTADO DO PARANA\"\"\"</td></tr><tr><td>\"CAIXA ESCOLAR \"\"PROFESSORA MARIA ONILZA BORGES\"\"\"</td></tr><tr><td>\"CAIXA ESCOLAR \"\"AMERICO VERANO DA CRUZ\"\"\"</td></tr><tr><td>\"CAIXA ESCOLAR \"\"CRIANCA FELIZ\"\"\"</td></tr><tr><td>\"CAIXA ESCOLAR \"\"MARCELINO FREITAS\"\"\"</td></tr><tr><td>\"CAIXA ESCOLAR \"\"PEQUENO PRINCIPE\"\"\"</td></tr><tr><td>\"ASSOCIACAO ESCOLA COMUNIDADE (AEC) \"\"UNIDADE EXECUTORA D\"</td></tr><tr><td>\"ASSSOCIACAO DOS MORADORES DO EDIFICIO \"\"MORADA DO SOL \"\"\"</td></tr><tr><td>\"CONSELHO ESCOLAR DA ESCOLA ESTADUAL DE 1 GRAU \"\"MAJOR JOAO RODRIGUES SOUTO\"\"\"</td></tr><tr><td>\"ASSOCIACAO DE MORADORES DO EDIFICIO \"\"POR DO SOL\"\"\"</td></tr><tr><td>\"CAIXA ESCOLAR \"\"JOAO LISBOA\"\"\"</td></tr><tr><td>\"ASSOCIACAO DOS TRABALHADORES EM CONFECCOES COHAB \"\"B\"\"\"</td></tr><tr><td>\"CONSELHO ESCOLAR \"\"ARCA DE NOE\"\"\"</td></tr><tr><td>\"DELTA \"\"S\"\" ESCOLA PROFISSIONALIZANTE LTDA\"</td></tr><tr><td>\"CENTRAL DE DOCUMENTOS \"\"CIDADE SORRISO\"\" SC LTDA\"</td></tr><tr><td>\"CAIXA ESCOLAR DA ESCOLA MUNICIPAL \"\"GINO ANDRE BARBOSA\"\"\"</td></tr><tr><td>\"CENTRAL DE DOCUMENTOS \"\"CIDADE SORRISO\"\"SC LTDA\"</td></tr><tr><td>\"ASSOCIACAO DOS TRABALHADORES EM CONFECCOES BARRETO \"\"A\"\"\"</td></tr><tr><td>\"CAIXA ESCOLAR \"\"SAO BERNARDO\"\"\"</td></tr><tr><td>\"ASSOCIACAO DOS TRABALHADORES EM CONFECCOES BARRETO \"\"B\"\"\"</td></tr><tr><td>\"WAND\"\"AS MODAS COMERCIO LTDA\"</td></tr><tr><td>\"ASSOCIACAO DOS USUARIOS DO SISTEMA DE TELEFONIA DO CONJUNTO HABITACIONAL C.D.H.U. CUBATAO \"\"F\"\" SAO JUDAS II\"</td></tr><tr><td>\"PEIXARIA & LANCHONETE \"\"ALASKA\"\" LTDA\"</td></tr><tr><td>\"AUTO ELETRICA TRIANGULO LTDA \"\"MICROEMPRESA\"\"\"</td></tr><tr><td>\"ASSOCIACAO DOS TRABALHADORES EM CONFECCOES COHAB \"\"A\"\"\"</td></tr><tr><td>\"GRUPO DE DANCAS GERMANICAS \"\"FROHLICHE JUGEND\"\"\"</td></tr><tr><td>\"AEC DA ESCOLA DE 1 GRAU \"\"SANTA RITA DE CASSIA\"\"\"</td></tr><tr><td>\"ASSOCIACAO DOS MORADORES - ASSENTADOS \"\" BOA ESPERANCA \"\"\"</td></tr><tr><td>\"ORGANIZACAO DA MULHER \"\"MENSAGEIRAS DA ALEGRIA\"\"\"</td></tr><tr><td>\"J. D\"\"ARC RODRIGUES\"</td></tr><tr><td>\"COOPERATIVA DE TRAB.DOS MOT.NOS SEG.TRANSP.\"\"B.GUARATIBA\"\"\"</td></tr><tr><td>\"GRUPO FRATERNO \"\"OS MENSAGEIROS\"\"\"</td></tr><tr><td>\"UNIDADE EXECUTORA CAIXA ESCOLAR \"\"SAO FRANCISCO DAS CHAGAS\"\"\"</td></tr><tr><td>\"CONSELHO E.DA E.E.DE 1 GRAU\"\"JULIAO BERTOLDO DE CASTRO\"\"\"</td></tr><tr><td>\"ASSOCIACAO PRESBITERIANA BENEFICENTE \"\"MORIA\"\"\"</td></tr><tr><td>\"ASSOCIACAO COMUNITARIA STUDIO PARA O DESENVOLVIMENTO CULTURAL E ARTISTICO \"\" STUDIO \"\"\"</td></tr><tr><td>\"ASSOCIACAO DA MAIORIDADE DE MANDURI \"\"ASSOMA\"\"\"</td></tr><tr><td>\"CLUBE DE JOVEM \"\"JUVENTUDE E CORAGEM\"\"\"</td></tr><tr><td>\"ACAO SOCIAL COMUNITARIA SETELAGOANA \"\"ASCOSEL\"\"\"</td></tr><tr><td>\"COMISSAO DE FORMATURA \"\"CONTA ATIVA/99\"\"\"</td></tr><tr><td>BIANCHI\"\"</td></tr><tr><td>\"CONSELHO ESCOLAR DA E.E. \"\"DIVINO ESPIRITO SANTO\"\"\"</td></tr><tr><td>\"CONSELHO ESCOLAR DA ESCOLA ESTADUAL \"\"FORTUNATO CERDEIRA\"\"\"</td></tr><tr><td>\"ASSOCIACAO ESCOLA-COMUNIDADE (AEC) DA ESCOLA DE 1 GRAU MU-NICIPAL \"\"PROFA. IZAURA DE ALMEIDA SILVA\"\"\"</td></tr><tr><td>\"CENTRO CULTURAL E ESPORTIVO \"\"CLUBINHO 110\"\"\"</td></tr><tr><td>\"CAIXA ESCOLAR \"\"BETEL DA ASSEMBLEIA DE DEUS\"\"\"</td></tr><tr><td>\"CONSELHO ESCOLAR DA E.E. DE 1.GRAU \"\"SAO JOSE\"\"\"</td></tr><tr><td>\"GRUPO DE DIVULGACAO MARIANA \"\"MILICIA DA PAZ\"\"\"</td></tr><tr><td>\"ASSOCIACAO ESCOLA-COMUNIDADE (AEC) \"\" ESCOLA DE 1. GRAU PONTAL \"\"\"</td></tr><tr><td>\"ASSOCIACAO ESCOLA-COMUNIDADE (AEC) DA ESCOLA DE PRIMEIRO GRAU \"\" ATILIO PIZZOL \"\"\"</td></tr><tr><td>\"CAIXA ESCOLAR \"\"LUCIA PINILLOS\"\" DO GRUPO ESCOLAR DR. PEDRO CATALAO\"</td></tr><tr><td>\"CREPERIA \"\"DATA VENIA\"\" LTDA.\"</td></tr><tr><td>\"CAIXA ESCOLAR DA E. M. \"\"JOSE CAMPOS\"\"\"</td></tr><tr><td>\"CAIXA ESCOLAR DA E. M. \"\"JOSE TRIUNFO LOBATO\"\"\"</td></tr><tr><td>\"CAIXA ESCOLAR DA E. M. \"\"D. JOSE MEDEIROS LEITE\"\"\"</td></tr><tr><td>\"CAIXA ESCOLAR DA E. M. \"\"JOAO PINHEIRO\"\"\"</td></tr><tr><td>\"CAIXA ESCOLAR DA E. M. \"\"FRANCISCO M. SOBRINHO\"\"\"</td></tr><tr><td>\"CAIXA ESCOLAR DA E. M. \"\"JOSE LEANDRO\"</td></tr><tr><td>\"CAIXA ESCOLAR DA E. M. \"\"GERALDO FERREIRA PACHECO\"\"\"</td></tr><tr><td>\"CAIXA ESCOLAR DA E. M. \"\"JOAO DE PAULA FREIRE\"</td></tr><tr><td>\"ANDRE SANT\"\"ANA MUNIZ\"</td></tr><tr><td>\"PONTO NO \"\"I\"\" COMERCIO E REPRESENTACOES LTDA\"</td></tr><tr><td>\"CAIXA ESCOLAR \"\"ACADEMICO ABGAR RENAULT\"\"\"</td></tr><tr><td>\"CAIXA ESCOLAR \"\"EMBAIXATRIZ CORINA ANDRADA\"\"\"</td></tr><tr><td>\"ASSOCIACAO DE MULHERES \"\"PROJETO CONVIVER\"\"\"</td></tr><tr><td>\"FUNDACAO \"\"ATELIER - H\"\"ATENCAO,LIBERDADE E REDIMENSAO HUMANA\"</td></tr><tr><td>\"CAIXA ESCOLAR DA ESCOLA MUNICIPAL \"\"SANTA CRUZ\"\"\"</td></tr><tr><td>CAIXA ESCOLAR DA ESCOLA MUNICIPAL SAO SEBASTIAO\"\"</td></tr><tr><td>\"CAIXA ESCOLAR DA ESCOLA MUNICIPAL \"\"SAO BERNARDO\"\"\"</td></tr><tr><td>\"CAIXA ESCOLAR DA ESCOLA MUNICIPAL \"\"SAO FRANCISCO\"\"\"</td></tr><tr><td>\"TENDA DE UMBANDA \"\"CACIQUE URUNA\"\"\"</td></tr><tr><td>\"UNIDADE EXECUTORA CAIXA ESCOALR COLEGIO MUNICIPAL \"\"LUCAS COELHO\"\"\"</td></tr><tr><td>\"TENDA DE UMBANDA \"\"O REINO DOS PRETOS VELHOS\"\"\"</td></tr><tr><td>\"TENDA DE UMBANDA \"\"OGUM ROMPE MATO\"\"\"</td></tr><tr><td>\"CLUBE DE MAES \"\"VILA ALMEIDA\"\"\"</td></tr><tr><td>CLUBE DE MAES EULALIA PIRRES\"\"</td></tr><tr><td>\"ASSOCIACAO DE DEFESA DO MEIO AMBIENTE \"\"GAIVOTAS ATLANTICO SUL\"\" - EDUCACAO AMBIENTAL/ECOTURISMO\"</td></tr><tr><td>\"AEC- ASSOCIACAO ESCOLA COMUNIDADE-EPSG \"\"FRANCISCA PEIXOTO MIGUEL\"\"\"</td></tr><tr><td>GRAPHUS ENERGIA FUNDO DE INVESTIMENTO FINANCEIRO - 60\"\"</td></tr><tr><td>\"UNIDADE EXECUTORA \"\"UNIAO DE PAIS E MESTRES\"\" DA ESCOLA JARDIM DE INFANCIA PARAISO DAS CRIANCAS\"</td></tr><tr><td>\"RETIRO ESPIRITUAL \"\"AMOR E PAZ\"\"\"</td></tr><tr><td>\"CONSELHO ESCOLAR DA ESCOLA \"\"SANTO ANTONIO DE LISBOA\"\"\"</td></tr><tr><td>\"ASSOCIACAO DE MOTORISTAS AUTONOMOS HIPERTAXI \"\" AMAHT \"\"\"</td></tr><tr><td>\"IGREJA PENTECOSTAL \"\"JESUS JA VEM\"\"\"</td></tr><tr><td>\"CLASSE \"\"A\"\" CALCADOS LTDA\"</td></tr><tr><td>\"ASSOCIACAO DE MULHERES \"\" OLIVIA SALAMONI\"\"\"</td></tr><tr><td>\"NUCLEO RECREATIVO \"\"JOSE MARTI\"\" LTDA\"</td></tr><tr><td>\"EMPORIO \"\"K\"\" LTDA\"</td></tr><tr><td>\"ASSOCIACAO \"\"EULER PARANHOS\"\"\"</td></tr><tr><td>\"CLUBE DE MAES \"\"UNIAO DE MAES\"\" DO SETOR V CPA III\"</td></tr><tr><td>\"CONSELHO ESCOLAR DA ESCOLA MUNICIPAL DE 1 GRAU \"\"DOM GUIDO\"\"\"</td></tr><tr><td>\"ASSOCIACAO PARA O BEM ESTAR SOCIAL \"\"LUZ VERDE\"\"\"</td></tr><tr><td>\"ASSOCIACAO ESCOLA COMUNIDADE DA ESCOLA DE 1.GRAU \"\"MARIO CASANOVA\"\"\"</td></tr><tr><td>\"CLINICA DE FISIOTERAPIA \"\"FERNANDA CHICONELI\"\" S/C LTDA\"</td></tr><tr><td>\"ASSOCIACAO COMUNITARIA DESENVOLVIMENTO SOCIAL,CULTURAL E ARTISTICO-PROJETO \"\"VIDATIVA\"\"\"</td></tr><tr><td>\"ESTUDIO \"\"A\"\" PRODUCOES S/C LTDA\"</td></tr><tr><td>\"AEC - RENASCER DA EPG \"\" MINISTRO PETRONIO PORTELLA\"\"\"</td></tr><tr><td>\"CONSELHO ESCOLAR DO GINASIO ESTADUAL \"\"NOSSA SENHORA DA CONCEICAO\"\"\"</td></tr><tr><td>\"ABCA - ASSOCIACAO DO BAIRRO \"\"CHACARAS AVEIRO\"\"\"</td></tr><tr><td>\"ASSOCIACAO ATLETICA ACADEMICA \"\"LUCAS MACHADO\"\"\"</td></tr><tr><td>\"ASSOCIACAO DE MORADORES DO EDIFICIO \"\"ALVORADA\"\"\"</td></tr><tr><td>\"ASSOCIACAO DE PROPRIETARIOS DO DISTRITO INDUSTRIAL SANTA ANTONIETA \"\"A.P.D.I.\"\"\"</td></tr><tr><td>\"ASSOCIACAO DOS MORADORES DE BOA VISTA \"\"DEUS PROVEERA\"\"\"</td></tr><tr><td>\"AEC - ASSOCIACAO ESCOLA COMUNIDADE DA ESCOLA DE 1.GRAU \"\"PROFESSOR ANTONIO AZEREDO COUTINHO\"\"\"</td></tr><tr><td>\"ASSOCIACAO DOS USUARIOS DO SISTEMA DE TELEFONIA DO CONJUNTO HABITACIONAL C.D.H.U. - CUBATAO \"\"F\"\" - SAO JUDAS I\"</td></tr><tr><td>\"ASSOCIACAO DE USUARIOS DO CENTRO EDUCACIONAL E ESPORTIVO \"\"ALFREDO IGNACIO TRINDADE\"\"\"</td></tr><tr><td>\"CONSELHO ESCOLAR E.R.C. CENT.COMUNIT.\"\"SAO FRANCISCO DE ASSIS\"\"\"</td></tr><tr><td>\"V S P SALVAREZ - CENTRO EDUCACIONAL \"\"ABC\"\"\"</td></tr><tr><td>\"RITO\"\"S CABELEIREIROS LTDA\"</td></tr><tr><td>\"CONSELHO ESCOLAR DA ESCOLA ESTADUAL DE 1 GRAU \"\"CORONEL NO-VAES\"\"\"</td></tr><tr><td>\"MARIA DE LOURDES SERAFIM \"\"A LOURDINHA\"</td></tr><tr><td>\"ESCOLA \"\"ALEGRIA DE SABER\"\"\"</td></tr><tr><td>\"HUGO CESAR MARTINS PEIXOTO \"\"CONSTRUCAO\"</td></tr><tr><td>\"BUFFET \"\"LA PAELLA\"\" LTDA\"</td></tr><tr><td>\"COMERCIO DE PNEUS\"\"GRAN PNEUS\"\"LTDA\"</td></tr><tr><td>\"CAIXA ESCOLAR \"\"PREFEITO ANTONIO DIAS DE MEDEIROS\"\"\"</td></tr><tr><td>\"CAIXA ESCOLAR \"\"ARNALDINO PERES DOS SANTOS\"\"\"</td></tr><tr><td>\"CENTRO DE FACILITACAO DE NEGOCIOS-\"\"TRADE POINT MANAUS\"\"\"</td></tr><tr><td>\"ACAO SOCIAL COMUNITARIA PIRAPAMENSE \"\"ASCOP\"\"\"</td></tr><tr><td>\"ASSOCIACAO DOS PEQUENOS PRODUTORES RURAIS \"\" RENASCER \"\"\"</td></tr><tr><td>\"ASSOCIACAO CULTURAL \"\"FRANKLIN DE CARVALHO\"\"\"</td></tr><tr><td>\"CLUBE DE MAES \"\"PAZ E AMOR\"\"\"</td></tr><tr><td>\"C.E.ESC.EST.1.GRAU \"\"JADER BARBALHO\"\"\"</td></tr><tr><td>\"CASA DE TRADICAO E CULTURA AFRO-BRASILEIRA-\"\"ILE ASE OMO OYA ONIRA LECY E OBA SONGO\"\"\"</td></tr><tr><td>\"CLUBE DE MAES \"\"NOSSA SENHORA APARECIDA\"\" DDO POVOADO CENTRODOS RODRIGUES\"</td></tr><tr><td>\"ASSOCIACAO DOS MORADORES \"\"UNIDA PELO POVO DO JAPAO\"\"\"</td></tr><tr><td>\"CAIXA ESCOLAR \"\"BENEDITO RIBEIRO DA SILVA\"\"\"</td></tr><tr><td>\"CONSELHO ESCOLAR DA E E DE 1 GRAU \"\"ANGELO NASCIMENTO\"\"\"</td></tr><tr><td>\"MAROMBA\"\"S REPAROS NAVAIS LTDA\"</td></tr><tr><td>\"ALFA DOIS \"\"J\"\"SERVICOS GERAIS LTDA\"</td></tr><tr><td>\"CENTRO ED. DE ASSIST. SOCIAL A INFANCIA, ADOLESCENCIA E IDOSO \"\"NOSSA SENHORA MAE DOS HOMENS\"\"\"</td></tr><tr><td>\"CENTRO DE DESENVOLVIMENTO INFANTIL \"\"RABISCO\"\" LTDA\"</td></tr><tr><td>\"CONSELHO ESCOLAR DA E E DE 1 GRAU \"\"DR JOSE MALCHER\"\"\"</td></tr><tr><td>\"SISTEMA DE EDUCACAO \"\"BEITH ISRAEL\"\" LTDA\"</td></tr><tr><td>\"ASSOCIACAO ESCOLA COMUNIDADE (AEC) EPG \"\"FEU ROSA\"\"\"</td></tr><tr><td>\"A E C JARDIM DE INFANCIA \"\" NOSSA ESPERANCA \"\"\"</td></tr><tr><td>\"IGREJA MISSIONARIA \"\"OS GUERREIROS DE JEOVA\"\" DO BRASIL\"</td></tr><tr><td>\"D\"\"ALLGAS RESTAURANTE LTDA.\"</td></tr><tr><td>\"CAIXA ESCOLAR \"\"OSORIO EVANGELISTA DOS SANTOS\"\" E.E. OSORIO EVANGELISTA DOS SANTOS\"</td></tr><tr><td>\"D\"\" GONZAGA LTDA.\"</td></tr><tr><td>\"ASSOCIACAO DOS MORADORES DA COMUNIDADE DE SANTA IZABEL - \"\"AMSIBEL\"\"\"</td></tr><tr><td>\"CAIXA ESCOLAR \"\"JESSICA CASSIA RUELA\"\"\"</td></tr><tr><td>\"APM DA ESCOLA MUNICIPAL DE PRIMEIRO E SEGUNDO GRAUS \"\"DR. NAUFAL ANTONIO MOURANI\"\"\"</td></tr><tr><td>\"DIRETORIO ACADEMICO \"\"XXV DE MAIO\"\"\"</td></tr><tr><td>\"GRUPO DE JOVENS \"\"NOEL\"\" DE SEARA\"</td></tr><tr><td>\"ASSOCIACAO DOS PEQUENOS PRODUTORES DO SITIO BARRO BRANCO \"\"ANTONIO PEREIRA DA SILVA\"</td></tr><tr><td>\"ASSOCIACAO DE MORADORES DO CONJUNTO HABITACIONAL \"\"JOAO BATISTA PAIXAO\"\"\"</td></tr><tr><td>\"FRATERNIDADE ESPIRITA \"\"CAMINHO DA LUZ\"\"\"</td></tr><tr><td>\"ASSOC. MOBILIZADORA DE ORIENTACAO E RESGATE-PROJETO \"\"AMOR\"\"\"</td></tr><tr><td>\"COOPERATIVA TECNICA DE PRESTACAO DE SERVICOS DE APUI \"\"COOTEPRASA\"\"\"</td></tr><tr><td>\"CONSELHO ESCOLAR DA E.E.DE 1 GRAU ANEXO \"\"DR.ANTONIO T. GUEIROS\"\"\"</td></tr><tr><td>\"CONSELHO ESCOLAR DO CENTRO COMUNITARIO JUVENTUDE \"\"LA PAZ\"\"\"</td></tr><tr><td>\"ASSOCIACAO ESCOLA COMUNIDADE (AEC)-E.P.S.C.-\"\"ALVARO CASTE-LO\"\"\"</td></tr><tr><td>\"STEMP\"\"S MODAS LTDA\"</td></tr><tr><td>\"POINT RIO \"\"72\"\" - COMERCIO DE INFORMATICA LTDA.\"</td></tr><tr><td>\"NEUSA MARIA DE OLIVEIRA \"\"A MINEIRA\"\"\"</td></tr><tr><td>\"ASSOCIACAO AGRICOLA \"\"ESTRELA DO PONTAL\"\" DO MUNICIPIO DE SANDOVALINA\"</td></tr><tr><td>\"GRUPO DO LAR \"\"SOL NASCENTE\"\"\"</td></tr><tr><td>\"ASSOC COMUNITARIA \"\"NOVO PARAISO\"\" DA BOCA DO TUPANA\"</td></tr><tr><td>\"PADARIA \"\"VIA NORTE\"\"LTDA\"</td></tr><tr><td>\"ICOM\"\"ART INDUSTRIA E COMERCIO DE ARTEFATOS DE RESINA LTDA\"</td></tr><tr><td>\"CONFEITARIA E PADARIA \"\"BOM DIA\"\" LTDA\"</td></tr><tr><td>\"CONSELHO DE ESCOLA MUNICIPAL JARDIM DE INFANCIA \"\"LUIZ DALLA BERNARDINA\"\"\"</td></tr><tr><td>\"ASSOCIACAO DOS PRODUTORES RURAIS \"\"RODEIO BONITO\"\"\"</td></tr><tr><td>\"\"\"K.O.\"\" INDUSTRIA E COMERCIO DE BRINDES LTDA\"</td></tr><tr><td>\"CLUBE DE DAMAS \"\"UNIDAS VENCEREMOS\"\".\"</td></tr><tr><td>\"CLUBE DE MAES \"\"LUTAR PARA VENCER\"\"\"</td></tr><tr><td>\"TEQUILA\"\"S ABC LAVA RAPIDO LANCHONETE LTDA\"</td></tr><tr><td>\"INDUSTRIA E COMERCIO DE MASSAS \"\"PASTA DI PRIMA\"\" LTDA\"</td></tr><tr><td>\"JORGE FRANCISCO DE SOUZA \"\"MECANICA\"</td></tr><tr><td>\"ASSOCIACAO DE BENEMERENCIA ITAPOLITANA \"\"CHICO ALVES\"\"\"</td></tr><tr><td>\"PRIMO\"\"S CAR SERVICOS DE LAVAGEM DE CARROS S/C LTDA\"</td></tr><tr><td>\"SOLANGE DA S.LEITE GOES\";\"2135\"</td></tr><tr><td>\"IGREJA EVANGELICA \"\"CHAMADA MISSIONARIA \"\"\"</td></tr><tr><td>\"INSTITUTO DE PESQUISA \"\"DR. MARCUS PEREIRA HONDA\"\" S/C LTDA\"</td></tr><tr><td>\"PISCICULTURA \"\"PESQUE E PAGUE\"\" PALACIO LTDA\"</td></tr><tr><td>\"GRUPO DE IDOSOS \"\" TERCEIRO MILENIO\"\"\"</td></tr><tr><td>\"TV O ESTADO \"\"ON LINE\"\" LTDA\"</td></tr><tr><td>\"ASSOCIACAO DE MORADORES DAS LOCALIDADES \"\"CHAPADINHA E NOVAVIDA\"\"\"</td></tr><tr><td>\"\"\"DOLCE SONNO LTDA\"</td></tr><tr><td>\"COMISSAO DE FORMATURA DOS ESTUDANTES DE ODONTOLOGIA DA TURMA \"\"A\"\" 97/01-PUC PR\"</td></tr><tr><td>\"ASSOCIACAO BENEFICIENTE \"\"POVO DE DEUS\"\"\"</td></tr><tr><td>\"CONSELHO ESCOLAR DA ESCOLA ESTADUAL DE 1 GRAU DE PERIMETRO\"\"B\"\"\"</td></tr><tr><td>\"ASSOCIACAO \"\"CHE GUEVARA\"\"\"</td></tr><tr><td>\"CENTRO DE ENSINO SUPERIOR \"\"AFIRMATIVO\"\" DE MARINGA\"</td></tr><tr><td>\"CAIXA ESCOLAR \"\"IZANIRA RIBEIRO COSTA\"\"\"</td></tr><tr><td>\"CAIXA ESCOLAR \"\"OSWALDO CAMPOS DO AMARAL\"\"\"</td></tr><tr><td>\"CAIXA ESCOLAR \"\"FELICIANO MARQUES TELES\"\"\"</td></tr><tr><td>\"CAIXA ESCOLAR \"\"LUZIA RENNO MOREIRA\"\"\"</td></tr><tr><td>\"CAIXA ESCOLAR \"\"FRANCISCO BALBINO PEREIRA\"\"\"</td></tr><tr><td>\"CAIXA ESCOLAR \"\"JOAO DE FARIA CARDOSO\"\"\"</td></tr><tr><td>\"CAIXA ESCOLAR \"\"JOAO DE CAMARGO\"\"\"</td></tr><tr><td>\"CAIXA ESCOLAR \"\"MARIA JOSE RAPOSO\"\"\"</td></tr><tr><td>\"\"\"RAQUEL & RESENDE LTDA\"</td></tr><tr><td>\"ASSOCIACAO DA TERCEIRA IDADE \"\"BOM JESUS DOS PASSOS\"\"\"</td></tr><tr><td>\"INSTITUTO DE ARTES E CULTURA JAPONESA \"\"DOJO ZEMBUKAY\"\"\"</td></tr><tr><td>\"CORAL MUNICIPAL INFANTO JUVENIL \"\"SAO JOAO BATISTA\"\".\"</td></tr><tr><td>\"\"\"QUERENCA CLUBE - PRODUCAO PROMOCAO E DIVULGACOES ARTISTICAS LTDA\"</td></tr><tr><td>\"ASSOCIACAO DOS PEQUENOS PRODUTORES DO SITIO BELEZA \"\"FRANCISCA PEREIRA DA SILVA\"\"\"</td></tr><tr><td>\"ASSOCIACAO DE MORADORES \"\"NOSSA SENHORA DO LIVRAMENTO\"\" PO VOADO BARRIGUDA DO INSONO\"</td></tr><tr><td>\"\"\"PANIFICADORA GOLDEN PARK LTDA\"</td></tr><tr><td>\"\"\"A & R \"\"- MOTO COURIERS LTDA\"</td></tr><tr><td>\"CONSELHO ESCOLAR DA E.R.C. \"\"ELCIONE BARBALHO\"\"\"</td></tr><tr><td>\"\"\"T.C.S\"\" CONSTRUCOES E SERVICOS LTDA\"</td></tr><tr><td>\"CLUBE ESCOLA DE PARAQUEDISMO \"\"SONHO AZUL\"\"\"</td></tr><tr><td>\"ASSOCIACAO DOS PEQUENOS PRODUTORES RURAIS DE OLHO D\"\"AGUA GRANDE\"</td></tr><tr><td>\"DOUBLE \"\"C\"\" TRAVEL & TOURS LTDA\"</td></tr><tr><td>\"SOCIEDADE \"\"PROJETO ABRACO \"\"\"</td></tr><tr><td>\"CASA DE CARNES \"\"ESQUINA TIETE\"\" LTDA\"</td></tr><tr><td>\"ASSOC.DE MULHERES,PAIS,JOVENS E CRIANCAS DE PERIQUITO-MG \"\"AMPJCP\"\"\"</td></tr><tr><td>\"\"\"SIME\"\" PROPAGANDA E MARKETING S/C LTDA\"</td></tr><tr><td>\"ASSOCIACAO COMUNITARIA DE MORADORES DO POLIGONO \"\"D\"\" - QUATRO IRMAOS.\"</td></tr><tr><td>\"ASSOCIACAO ESCOLA COMUNIDADE (AEC) \"\"PARQUE INFANTIL MARIA QUEIROZ LINDEMBERG\"\"\"</td></tr><tr><td>\"ASSOCIACAO ESCOLA COMUNIDADE AEC JARDIM DE INFANCIA PUPILEIRA \"\"ZELIA VIANA DE AGUIAR \"\"\"</td></tr><tr><td>\"ASSOCIACAO DE MORADORES DO POVOADO \"\"ABAIS E ADJACENCIAS\"\"\"</td></tr><tr><td>\"COMERCIAL DE FERRAMENTAS \"\"BRINCO DE OURO\"\" LTDA\"</td></tr><tr><td>\"\"\"DIGITA - PROCESSAMENTOS DE JUAZEIRO LTDA\"\"\"</td></tr><tr><td>\"\"\"J.C.\"\" - MOTO EXPRESS S/C LTDA\"</td></tr><tr><td>\"AUTO MECANICA \"\"L CAR\"\" S/C LTDA\"</td></tr><tr><td>\"\"\"QUALY COMERCIO DE OVOS LTDA \"\"\"</td></tr><tr><td>\"\"\"JOAO GILBERTO ROSA VICTORIANO\"</td></tr><tr><td>\"MARLENE BORBA\"\"A LEGMAR\"</td></tr><tr><td>\"BELA CINTRA \"\"460\"\" DISTRIBUIDORA LTDA\"</td></tr><tr><td>\"ASSOCIACAO \"\"SAO FRANCISCO\"\" DOS TRABALHADORES E PRODUTORES RURAIS DA REGIAO CENTRO DO OSVALDO\"</td></tr><tr><td>\"\"\"SALTENHA LANCHONETE LTDA\"</td></tr><tr><td>\"ASSOCIACAO \"\"PADRE CICERO\"\" DE MORADORES DO POVOADO AZEDO E ADJACENCIAS\"</td></tr><tr><td>\"\"\"A E C\"\" ASSOCIACAO ESCOLA COMUNIDADE DA EPG XIII DE SETEMBRO\"</td></tr><tr><td>\"IGREJA EVANGELICA PENTECOSTAL DE CRISTO \"\"OS PIONEIROS DA FE\"\"\"</td></tr><tr><td>\"\"\"TOME SUCO\"\" - COMERCIO DE SUCOS E LANCHES LTDA\"</td></tr><tr><td>\"\"\" DOHITA BORBELY\"</td></tr><tr><td>\"ASSOCIACAO CULTURAL BENEFICIENTE E COMUNITARIA \"\"CAMINHOS DA VIDA\"\"\"</td></tr><tr><td>\"ASSOCIACAO DOS MORADORES E AMIGOS DO BAIRRO VILA DO SOL \"\"AMAVISOL\"\"\"</td></tr><tr><td>\"\"\"ELITE CONSULTORIA E TREINAMENTO EM SEGURANCA,HIGIENE E MEDICINA DO TRABALHO LTDA\"\"\"</td></tr><tr><td>\"IGREJA EVANGELICA PENTECOSTAL - \"\"DEUS ESTA PRESENTE\"\"\"</td></tr><tr><td>\"\"\"DATA-ECO\"\" PROCESSAMENTO DE DADOS S/C LTDA\"</td></tr><tr><td>\"GREMIO ESCOLAR RECREATIVO \"\"PROFESSOR PAULO FREIRE\"\"\"</td></tr><tr><td>\"\"\" LEILA MARIA M PEREIRA\"</td></tr><tr><td>\"\"\" ENIO JESUS PEREIRA\"</td></tr><tr><td>\"SOCIEDADE BENEFICENTE \"\"CASA 22 DE JULHO\"\"\"</td></tr><tr><td>\"AMBVD-ASSOCIACAO DOS MORADORES DO BAIRRO \"\"VILA DIAMANTINA\"\"\"</td></tr><tr><td>\"ASSOCIACAO COMUNITARIA \"\"UNIDOS PARA VENCER\"\" DE PORTO BELO I\"</td></tr><tr><td>\"ASSOCIACAO DE ADOLESCENTES \"\" OS INOCENTES \"\" DE POCO BRANCO\"</td></tr><tr><td>\"ASSOCIACAO COMUNITARIA LOGRADOR RIACHO DA PINHEIRA XIQUE- XIQUE \"\"JUVENCIO ALMEIDA COSTA\"\"\"</td></tr><tr><td>\"CLUBE DE MAES \"\"MARIA FIOREZZE\"\"\"</td></tr><tr><td>\"CENTRO DE UMBANDA \"\"MANE BAIANO PAI\"\"\"</td></tr><tr><td>\"TROCA CARNAVALESCA MISTA \"\"O FRAGOSAO\"\"\"</td></tr><tr><td>\"\"\"PMG ASSISTENCIA TECNICA LTDA\"</td></tr><tr><td>\"ASS.\"\"PAZ RURAL\"\" DA ESCOLA MUNICIPAL SAO JOAO BATISTA\"</td></tr><tr><td>\"INDUSTRIA DE REFRIGERANTES \"\"TROPICAL\"\" LTDA.\"</td></tr><tr><td>\"ASSOCIACAO BENEFICENTE DE SANTA FILOMENA - \"\"A.B.S.F.\"\"\"</td></tr><tr><td>\"ASSOCIACAO COMUNITARIA DE VARZEA DO MEIO - \"\"A.C.V.M.\"\"\"</td></tr><tr><td>\"GRUPO DE CANDIDATOS DE CAMPINAS E REGIAO DO INST.DE PSICANALISE \"\"DURVAL MARCONDES\"\"DA SOC.BRAS.DE PSICAN.DE S. PAULO\"</td></tr><tr><td>\"ASSOCIACAO COMUNITARIA SOCIO CULTURAL \"\"FRANCISCO SALES DE MENEZES\"\"\"</td></tr><tr><td>\"COMISSAO DE REPRESENTANTES DOS COMPROMISSARIOS COMPRADORESUNID.RES.CONDOMINIO EDIF. \"\"LONDON PALACE\"\" EM CONSTRUCAO.\"</td></tr><tr><td>\"ASSOCIACAO \"\"ATIVIDADES ORNITOLOGICAS\"\"\"</td></tr><tr><td>\"ASSOCIACAO DOS PRODUTORES RURAIS DE CARNE D\"\"ANTA\"</td></tr><tr><td>\"CENTRO SOCIAL DE INTEGRACAO DO MENOR CARENTE \"\"MONTE DAS OLIVEIRAS\"\"\"</td></tr><tr><td>\"COMERCIAL \"\"DENERAL\"\" LTDA\"</td></tr><tr><td>\"ASSOCIACAO COMUNITARIA \"\"A CORAGEM FEMININA\"\"\"</td></tr><tr><td>\"CONSELHO ESCOLAR DA ESCOLA ESTADUAL MEC/SEDUC KM 60 \"\"A\"\"\"</td></tr><tr><td>\"JOANA D\"\"ARC\"</td></tr><tr><td>\"CONDOMINIO MARES DO SUL - BLOCO \"\"F\"\"\"</td></tr><tr><td>\"CONSELHO ESCOLAR DA ESCOLA ESTADUAL MEC/SEDUC KM 172 \"\"B\"\"\"</td></tr><tr><td>\"CENTRO DE CONVIVENCIA DO IDOSO\"\"VEREADOR BATISTA MARCARI\"\"DEFLORINEA-SP\"</td></tr><tr><td>\"\"\"NOSSO LAR\"\" ASSOCIACAO DE MORADORES\"</td></tr><tr><td>\"ASSOCIACAO DE ASSISTENCIA E AJUDA MUTUA \"\"CEU AZUL\"\"\"</td></tr><tr><td>\"CONDOMINIO RESIDENCIAL PRODUBAN - BLOCO \"\"C\"\"\"</td></tr><tr><td>\"LA\"\" COMIDEIRA COMERCIO DE COMIDA CASEIRA LTDA\"</td></tr><tr><td>\"ASSOCIACAO DE INTEGRACAO SOCIAL \"\"LOS GAROTOS\"\"\"</td></tr><tr><td>\"NUCLEO DE FORMACAO HUMANA \"\"N.F.H\"</td></tr><tr><td>\"ASSOCIACAO DE PAIS E MESTRES - EMEI \"\"SITIO DO PICA- PAU-AMARELO\"\"\"</td></tr><tr><td>\"\"\"CENTEL\"\" CENTRAL TELEMARKETING MOCOCA LTDA\"</td></tr><tr><td>\"IGREJA PENTECOSTAL \"\"JEOVA JIREH\"\"\"</td></tr><tr><td>\"RADIO COMUNITARIA PARAIZO DE GUIDOVAL \"\"RCPG\"\"\"</td></tr><tr><td>\"\"\"JM\"\" REPRESENTACOES LTDA\"</td></tr><tr><td>\"ALBERTO VITALINO DE CAMPOS\"\"MICROEMPRESA\"\"\"</td></tr><tr><td>\"ASSOCIACAO DOS MORADORES DO LOTEAMENTO \"\"OSMAR CABRAL\"\"\"</td></tr><tr><td>\"CONDOMINIO DO EDIFICIO \"\"UMARI BLOCO A\"\"\"</td></tr><tr><td>\"CLUBE DE MAES CARENTES \"\"MARIA DE NAZARE\"\"\"</td></tr><tr><td>\"\"\"GRAPHUS SUL FIF 60\"\"\"</td></tr><tr><td>\"IGREJA EVANGELICA PENTENCOSTAL \"\"JESUS CRISTO FONTE DE RENOVACAO\"\"\"</td></tr><tr><td>\"ESCOLA DE RECREACAO INFANTIL \"\" SONHO ENCANTADO \"\"\"</td></tr><tr><td>\"\"\"K. & F. TRANSPORTES LTDA\"\"\"</td></tr><tr><td>\"ASSOCIACAO COMUNITARIA DA VILA RURAL \"\"NOVA ESPERANCA\"\"\"</td></tr><tr><td>\"CLUBE DE MAES: \"\"MAE APARECIDA\"\"\"</td></tr><tr><td>\"ASSOCIACAO DOS MORADORES \"\"BELA VISTA DO PLACIDO\"\"\"</td></tr><tr><td>\"CENTRO DE RECREACAO INFANTIL \"\"OS PEQUENINOS\"\" S/C LTDA\"</td></tr><tr><td>\"\"\"AGRO CENTERCAO\"\" LTDA\"</td></tr><tr><td>\"ASSOCIACAO \"\"NATAL CRIANCA FELIZ\"\" NACRIFE\"</td></tr><tr><td>\"\"\"CAIXA COMUNIDADE DO CENTRO DE CONVIVENCIA PERPETUO SOCORRO\"\"\"</td></tr><tr><td>\"ASSOCIACAO DOS MORADORES DO GAVIAO \"\"BENEDITO MOREIRA MENDES\"\"\"</td></tr><tr><td>\"\"\"28\"\" - LIMPEZA E CONSERVACAO DE VEICULOS LTDA\"</td></tr><tr><td>\"BAR E RESTAURANTE \"\"DA BIZA\"\" LTDA\"</td></tr><tr><td>\"\"\"DA LUCRIS \"\" - EMBALAGENS LTDA MICROEMPRESA\"</td></tr><tr><td>\"MARCIA REGINA DOS SANTOS \"\"RESAN\"</td></tr><tr><td>\"COOPERATIVA AGRICOLA DOS PEQUENOS PRODUTORES RURAIS DE CAMPO AZUL \"\"COOPERCAMPO\"\"\"</td></tr><tr><td>\"ASSOCIACAO COMUNITARIA VILA RURAL \"\"PROF.JUDITE DE OLIVEIRARODRIGUES \"\"\"</td></tr><tr><td>\"APM DA ESCOLA MUNICIPAL \"\"NOVO MUNDO POLO\"\" -SALA OUROLANDIA\"</td></tr><tr><td>\"ASSOCIACAO DOS EX-ALUNOS DA FACULDADE DE COMUNICACAO SOCIAL \"\"CASPER LIBERO\"\"\"</td></tr><tr><td>\"COOPERATIVA MIST.DE TRABALHO E PROD.DOS ALUNOS E FUNC. DA ESC.AGROINDUSTRIAL \"\"JUSCELINO KUBIT.DE OLIVEIRA - CEAJUK\"</td></tr><tr><td>\"\"\" GRUPO NOSSA SENHORA DA SALETE \"\".\"</td></tr><tr><td>\"E M E I - \"\"SANTO GARBIN\"\"\"</td></tr><tr><td>\"E.M.E.I PAULO \"\"BIMBO\"\" GOMES\"</td></tr><tr><td>\"ESCOLA MUNICIPAL DE EDUCACAO INFANTIL \"\"PROF. MARIA LUCIA BERTI\"\".\"</td></tr><tr><td>\"E.M.E.I. \"\"ENFERMEIRA MARIA MAGDALENA BRASIL\"\"\"</td></tr><tr><td>\"ESCOLA MUNICIPAL DE EDUCACAO INFANTIL \"\"PROFA. IRMA DE MIRANDA MELLO\"\"\"</td></tr><tr><td>\"E.M.E.I. \"\"PROFA. ELAINE MARIA ALVES SILVEIRA\"\"\"</td></tr><tr><td>\"E.M.E.I. \"\"DR. ARLINDO MORANDINI\"\"\"</td></tr><tr><td>\"ALIRIO DE CARVALHO \"\"MICROEMPRESA\"\"\"</td></tr><tr><td>\"MARIA MARLENE DE SOUZA SILVA \"\"MICROEMPRESA\"</td></tr><tr><td>\"JOSE MENDONCA FILHO \"\"MICROEMPRESA\"\"\"</td></tr><tr><td>\"ASSOCIACAO COMUNITARIA AGRICOLA \"\"SAO FRANCISCO\"\" COMUNIDADESAO FRANCISCO DO MASTRO\"</td></tr><tr><td>\"CRECHE E PRE ESCOLA \"\"ISAURA ROQUE QUERCIA\"\"\"</td></tr><tr><td>\"CRECHE E PRE-ESCOLA \"\"IZOLINA ZANCOPE MUNARI\"\"\"</td></tr><tr><td>\"\"\"ATIVA\"\" - ASSOCIACAO DE MUNICIPIOS\"</td></tr><tr><td>\"CRECHE E PRE-ESCOLA \"\"ODETE LEITE DE MORAES\"\"\"</td></tr><tr><td>\"IGREJA EVANGELICA PENTECOSTAL \"\"DEUS E ESPERANCA\"\"\"</td></tr><tr><td>\"ASSOCIACAO COMUNITARIA \"\"JOSE FLAUZINO FRANCO\"\"\"</td></tr><tr><td>\"ASSOCIACAO COMUNITARIA VILA RURAL \"\"PORTA DO CEU\"\"\"</td></tr><tr><td>\"CLUBE DE MAES \"\"TIA ORFILA\"\"\"</td></tr><tr><td>\"CLUBE DE MAES \"\"NOSSA SENHORA DO PERPETUO SOCORRO\"\"\"</td></tr><tr><td>\"APM DA ESCOLA MUNICIPAL DE EDUCACAO INFANTIL \"\"JARDIM CAROLINA \"\"\"</td></tr><tr><td>\"FRANCISCO DAS CHAGAS DE LIMA \"\"VESTUARIO\"</td></tr><tr><td>\"CLUBE DE MAES \"\" NOVO HORIZONTE \"\"\"</td></tr><tr><td>\"\"\"ASP TECNOLOGIA E SISTEMAS LTDA\"\"\"</td></tr><tr><td>\"E.M.E.F.\"\"PROF.VIRGILIO ROSAS DA SILVA\"\"\"</td></tr><tr><td>\"\"\" J.KAR-VEICULOS LTDA\"</td></tr><tr><td>\"ASSOCIACAO COMUNITARIA DOS TRABALHADORES RURAIS \"\"UNIDOS PELA TERRA E LIBERDADE\"\"DO MUNICIPIO DE ITAMARANDIBA-MG\"</td></tr><tr><td>\"INSTITUTO \"\"VOLUNTARIOS EM ACAO\"\"\"</td></tr><tr><td>\"ASSOCIACAO DE PRODUTORES RURAIS DO PROJETO LADEIRINHAS \"\"B\"\"\"</td></tr><tr><td>\"ESCOLA EDUCACAO INFANTIL \"\" ANJINHOS DA GUARDA S/C LTDA\"</td></tr><tr><td>\"ASSOCIACAO \"\"NOSSA SENHORA DA SOLIDADE\"\", DOS TRABALHADORES RURAIS DO POVOADO SOLIDADE\"</td></tr><tr><td>\"UNIAO DE MORADORES \"\"A CAMINHO DA PAZ\"\" DO POVOADO CAITETU\"</td></tr><tr><td>\"MERCEARIA MARCA \"\"S\"\" LTDA\"</td></tr><tr><td>\"ASSOCIACAO \"\"JOVENS FORTES\"\"DOS PEQUENOS PRODUTORES DE ROCADINHO\"</td></tr><tr><td>\"CONSELHO ESCOLAR DA ESCOLA MUNICIPAL \"\"MONTEIRO LOBATO\"\"\"</td></tr><tr><td>\"CIA DE RODEIO \"\"OS BRAZOPOLENSES\"\"\"</td></tr><tr><td>\"\"\"OSMAR GARCIA DOS REIS ABRIDORES\"</td></tr><tr><td>\"IGREJA EVANGELICA MISSIONARIA \"\"SO O SENHOR E DEUS\"\"\"</td></tr><tr><td>\"ASSOCIACAO DE PRODUTORES \"\"TREVO DA SORTE\"\" DE TAPIRAI E REGIAO\"</td></tr><tr><td>\"\"\"NAIR MENDES DE ARAUJO\"\"\"</td></tr><tr><td>\"\"\"L. RAMOS PRODUTOS VETERINARIOS LTDA\"\"\"</td></tr><tr><td>\"ASSOCIACAO DE MORADORES DO RESIDENCIAL \"\"MORADA DO SOL\"\"\"</td></tr><tr><td>\"EMPRESA JORNALISTICA \"\"A VOZ SANDUMONENSE\"\" LTDA\"</td></tr><tr><td>\"ASSOCIACAO CLUBE DE MAES \"\"UNIDOS CHEGAREMOS A CRISTO\"\"\"</td></tr><tr><td>\"FABRICA DE DOCES MOINHO\"\"S LTDA\"</td></tr><tr><td>\"ROD\"\"CAS REPRESENTACOES LTDA\"</td></tr><tr><td>\"LOJA MACONICA \"\"FILHOS DE SALOMAO\"\"\"</td></tr><tr><td>\"\"\" JET GAS COMERCIAL LTDA \"\"\"</td></tr><tr><td>\"ASSOCIACAO CLUBE DE MAES \"\"TIA MARCELINA\"\" DO POVOADO PEDRAS\"</td></tr><tr><td>\"AMARILDO ANACLETO DA COSTA\";\"2135\"</td></tr><tr><td>\"CLUBE DE MAES TRES \"\"M\"\" DO BAIRRO TACCA\"</td></tr><tr><td>\"LUIZ CARLOS BASILIO DE OLIVEIRA \"\"ATELIE\"\"\"</td></tr><tr><td>\"M L PESSOA CASTRO\"\"M E\"\"\"</td></tr><tr><td>\"\"\"ME\"\"PETALAS,COMERCIAL DE MIUDEZAS LTDA\"</td></tr><tr><td>\"MARCIA RODRIGUES ESCOBAR \"\"MICRO EMPRESA\"\"\"</td></tr><tr><td>\"INDUSTRIA DE MAQUINAS ESPECIAIS \"\"SCD\"\" LTDA\"</td></tr><tr><td>\"CARVALHO & MISURA LTDA \"\"MICRO EMPRESA\"\"\"</td></tr><tr><td>\"RUBEM CLENI RODRIGUES CORTES\"\"MICROEMPRESA\"\"\"</td></tr><tr><td>\"MIRIAN DE MOURA \"\"M\"\"E\"</td></tr><tr><td>\"NADIR T R SCHIRMER \"\"M\"\"E\"</td></tr><tr><td>\"SERGIO DA CUNHA MATOS \"\"MICRO EMPRESA\"\"\"</td></tr><tr><td>\"CLUBE DE MULHERES \"\"FRATERNIDADE E ACAO\"\"\"</td></tr><tr><td>\"TECNAGRO\"\"ENGINEERING\"\" S/C LTDA\"</td></tr><tr><td>\"MARISA D\"\"ARC SANTANA CAMARA\"</td></tr><tr><td>\"CARVALHO\"\"CAMPOS & OLIVEIRA LTDA\"</td></tr><tr><td>\"COMERCIO DE MOVEIS E ELETRODOMESTICOS \"\"DENI\"\" LTDA\"</td></tr><tr><td>\"AS.DO DES.INT.DOS MOR.DE JUR.E COT.\"\"PADRE EZEQUIEL RAMI\"</td></tr><tr><td>\"JOSE RIBEIRO DOS SANTOS \"\"O BAIANO\"</td></tr><tr><td>\"CLUBE DE MAES \"\"SANTA IZABEL\"\"\"</td></tr><tr><td>\"COMPANHIA DE TEATRO AMADOR \"\"TEATRO DA TERRA\"\"\"</td></tr><tr><td>\"ASSOCIACAO DOS CONTRIBUINTES DA SISTEL-\"\"ACASIS\"\".\"</td></tr><tr><td>\"RADIODIFUSAO E COMUNICACAO \"\"VOZ DA AMAZONIA\"\" LTDA\"</td></tr><tr><td>\"JOSE BATISTA DA SILVA\"\"O CIGANO\"\"\"</td></tr><tr><td>\"MANOEL PAULO DA SILVA \"\"O GOIANO\"</td></tr><tr><td>\"ANTONIO TENORIO DA SILVA \"\"O LISBOA\"</td></tr><tr><td>\"COOP AGROPEC MISTA VALE DA ESPERAN LTDA \"\" EM LIQUIDACAO\"</td></tr><tr><td>\"KEIKO YAMADA ITSUSHIKI \"\"MICROEMPRESA\"\"\"</td></tr></tbody></table></div>"
      ]
     },
     "metadata": {
      "application/vnd.databricks.v1+output": {
       "addedWidgets": {},
       "aggData": [],
       "aggError": "",
       "aggOverflow": false,
       "aggSchema": [],
       "aggSeriesLimitReached": false,
       "aggType": "",
       "arguments": {},
       "columnCustomDisplayInfos": {},
       "data": [
        [
         "\"NIGTH CLUB \"\"TUTU\"\" LTDA\""
        ],
        [
         "\"\"\"MAISON DUE\"\" CONFECCOES LIMITADA\""
        ],
        [
         "\"\"\"CORACAO PARA CORACAO\"\"-COMERCIO DE DISCOS LTDA\""
        ],
        [
         "\"ECO \"\"60\"\" COMERCIO DE ROUPAS LTDA\""
        ],
        [
         "\"COMERCIAL D\"\"ANGELLO LTDA\""
        ],
        [
         "\"\"\"TC\"\"-ELETRONICA LTDA\""
        ],
        [
         "\"\"\"DIBRASAL\"\" DISTRIBUIDORA BRASILEIRA DE ALIMENTOS LTDA\""
        ],
        [
         "\"\"\"LUQUES & MAGNOLO CENTRO AUTOMOTIVOS LTDA\""
        ],
        [
         "\"\"\"BOBISUL\"\"IND.E COMERCIO DEEMBALAGENS DE MADEIRA LTDA\""
        ],
        [
         "\"MOVEIS E DECORACOES \"\"AGMA\"\" LTDA\""
        ],
        [
         "\"MARCENARIA \"\"SUPORTE\"\" LTDA\""
        ],
        [
         "\"VAL\"\"EL COM DE MATERIAL DE CONST. E MAO DE OBRA LTDA\""
        ],
        [
         "\"BORRACHARIA \"\"PRIMUS\"\" LTDA\""
        ],
        [
         "\"MEDIDA \"\"T\"\" MODAS LTDA\""
        ],
        [
         "\"\"\"MAZZEI\"\"-ROTISSERIE & AVICOLA LTDA\""
        ],
        [
         "\"BAR E LANCHES \"\"DAS PRIMAS\"\" LTDA\""
        ],
        [
         "\"\"\"O COMPANHEIRO AUTO PECAS LTDA\""
        ],
        [
         "\"\"\"AMARAL E PIEDADE REPRESENTACOES LTDA\"\"\""
        ],
        [
         "\"COLT \"\"45\"\" DIVERSOES ELETRONICAS LTDA\""
        ],
        [
         "\"IQT - CONSULTORES \"\"K\"\" LTDA\""
        ],
        [
         "\"CONCRECAIXA \"\"IN LOCO\"\" LTDA\""
        ],
        [
         "\"CLUBE RECREATIVO E ESPORTIVO SAO SIMAO \"\"CRESSI\"\"\""
        ],
        [
         "\"IGREJA PENTECOSTAL JESUS CRISTO \"\"PRINCIPE DA PAZ\"\"\""
        ],
        [
         "\"INDUSTRIA DE BOLSAS \"\" YANKY \"\" LTDA\""
        ],
        [
         "\"CONFECCOES \"\"NE\"\" LTDA\""
        ],
        [
         "\"COMISSAO DA CAMPANHA DE SOLEDARIEDADE \"\"SOS LUCIENE\"\"\""
        ],
        [
         "\"PIZZAS \"\"EXPRESS\"\" DE SANTOS LTDA\""
        ],
        [
         "\"BUFFET INFANTIL \"\"FESTA PARCK\"\" S/C LTDA\""
        ],
        [
         "\"GRUPO DE SERESTA ESTRELA D\"\"ALVA DE JEQUITAI\""
        ],
        [
         "\"CANTINA \"\"DA VILLA\"\" LTDA\""
        ],
        [
         "\"CONDOMINIO DO RESIDENCIAL JARDIM KARINA QUADRA \"\"F\"\"\""
        ],
        [
         "\"NIVALDO PEREIRA ARANHA \"\"JARAGUA\""
        ],
        [
         "\"BAR E MERCEARIA DA \"\"MA\"\" LTDA\""
        ],
        [
         "\"AGROPECUARIA \"\"G10\"\" LTDA\""
        ],
        [
         "\"ASSOCIACAO DE MORADORES DA RUA \"\"E\"\" E ADJACENCIAS\""
        ],
        [
         "\"COMERCIAL \"\"RAGA\"\" LTDA\""
        ],
        [
         "\"CLUBE DE MAES \"\"SANTA ANA\"\".\""
        ],
        [
         "\"CLUBE DE MAES \"\"SO O AMOR CONSTROI\"\".\""
        ],
        [
         "\"BAR E RESTAURANTE LATINO\"\"S LTDA\""
        ],
        [
         "\"ALIANCA DEMOCRATICA CRISTA \"\"A D C\"\"\""
        ],
        [
         "\"CENTRO CATEQUETICO COMUNITARIO CRISTAO \"\" TIA ELCE \"\"\""
        ],
        [
         "\"JOSE A P AGOSTINHO - \"\"BUFFET\""
        ],
        [
         "\"TELHEIRO\"\"S REFEICOES LTDA\""
        ],
        [
         "\"IGREJA EVANGELICA PENTECOSTAL \"\"UNIDOS POR CRISTO\"\"\""
        ],
        [
         "MARIA BARBOSA DOS SANTOS DIAS 'DEDOS MAGICOS\"\""
        ],
        [
         "\"LIVRARIA E PAPELARIA EVANGELICA \"\"O NAZARENO\"\" LTDA\""
        ],
        [
         "\"CIGANO\"\"S BAR E LANCHONETE LTDA\""
        ],
        [
         "\"DAFNE\"\"S NEW COMERCIO E CONFECCOES LTDA\""
        ],
        [
         "\"CAIXA DE CUSTEIO ESCOLAR DA ESCOLA \"\"21 DE ABRIL\"\"\""
        ],
        [
         "\"GRANITO\"\"S COMERCIO E INDUSTRIA DE PIPOCAS LTDA\""
        ],
        [
         "\"ENSINO EDUCACIONAL \"\"A ESTRELINHA\"\" S/C LTDA\""
        ],
        [
         "\"PRODUTOS ALIMENTICIOS \"\"LA PASTA\"\" LTDA\""
        ],
        [
         "\"COM E DISTRIB DE PRODS ALIM \"\"ANASTACIA\"\" LTDA\""
        ],
        [
         "\"TURBO \"\"4\"\" COMERCIO DE MADEIRAS LTDA\""
        ],
        [
         "\"MIGUEL ALCIDES SANCHES \"\"VASSOURAS\""
        ],
        [
         "\"CLUBE DA PIZZA \"\"US FAMOSU DA LICENCA\"\"\""
        ],
        [
         "\"BAR \"\"SEM FRESCURA\"\" LTDA\""
        ],
        [
         "\"ESCOLA CRISTA \"\"MARIA DE NAZARETH\"\"\""
        ],
        [
         "\"ASSOCIACAO D.E.S.C.A. \"\"LAIS CALAZANS DE FREITAS\"\"\""
        ],
        [
         "\"FUNDO DESTAK DE INVESTIMENTOS EM \"\"COMMODITIES\"\"\""
        ],
        [
         "\"PLAY \"\"N\"\" LEARN CENTRO DE ESTUDOS S/C LTDA\""
        ],
        [
         "\"VILA \"\"A\"\" CENTRO ODONTOLOGICO LTDA\""
        ],
        [
         "\"ESCOLA CRISTA EVANGELICA \"\" O SEMEADOR\"\" LTDA\""
        ],
        [
         "\"D\"\"SARON INDUSTRIA E COMERCIO DE CONFECCOES LTDA\""
        ],
        [
         "\"ZU\"\"ARTS\"\"INDUSTRIA E COMERCIO DE ROUP.E ACESSORIOS LTDA\""
        ],
        [
         "\"ZU\"\"ARTS\"\"INDUSTRIA E COMERCIO DE ROUP.E ACESSORIOS LTDA\""
        ],
        [
         "\"ASSOCIACAO COMUNITARIA \"\"COCALINHO, TALHADA E CHAPADINHA\""
        ],
        [
         "\"JOSE PEREIRA DA SILVA \"\"O CARIOCA\"\"\""
        ],
        [
         "\"ASSOC COMUNITARIA \"\"YTAY YPUKU\"\" DA ALDEIA LAGOA COMPRIDA\""
        ],
        [
         "\"BELAIN\"\"S-TUR AGENCIA DE VIAGENS E TURISMO LTDA\""
        ],
        [
         "\"CAIXA DE CUSTEIO DA EEPSG \"\"PROF DALVA VIEIRA ITAVO\"\"\""
        ],
        [
         "\"CLUBE DE MAES \"\"RESERVA INDIGENA DORKAS\"\"\""
        ],
        [
         "\"ILE D\"\"ORIXA ARTS RELIGS LTDA\""
        ],
        [
         "\"FRANCISCO PEREIRA DE SILVA \"\"O PIAUI\""
        ],
        [
         "\"SOCIEDADE CIVIL BENEFICENTE \"\"MAHATMA GANDHI\"\"\""
        ],
        [
         "\"D\"\"NAPOLI SORVETES LTDA\""
        ],
        [
         "\"CENTRO EST.PESQ.ASS.CONS.\"\"REFORMA URBANA E CIDADANIA\"\"\""
        ],
        [
         "\"STUDIO \"\"S\"\" DESIGN LTDA\""
        ],
        [
         "\"SOCIEDADE ACAO SOCIAL DE SAO FRANCISCO \"\"AGUA VIVA\"\"\""
        ],
        [
         "\"CENTRO DE TRADICOES GAUCHAS \"\"BETO SALLES\"\"\""
        ],
        [
         "\"UPDOOR\"\"S REPRESENTACOES LTDA\""
        ],
        [
         "\"TRAN\"\"SET TRANSFORMADORES LTDA\""
        ],
        [
         "\"ZEKA\"\"S BAR LTDA\""
        ],
        [
         "\"FUNDO UNIBANCO \"\"F\"\" DE RENDA FIXA\""
        ],
        [
         "\"APM DA EEPG \"\"A\"\" PROF APARECIDA MARIA DE SOUZA\""
        ],
        [
         "\"ASSOCIACAO DE CAPOERIA \"\"S\"\" DOBRADO\""
        ],
        [
         "\"GRUPO DE IDOSOS \"\"ALEGRIA E VIVER\"\"\""
        ],
        [
         "\"ASSOC ASSIST TEC AGROP AO CAMPO GUAR D\"\"OESTE\""
        ],
        [
         "\"CURSO DE INGLES \"\"I LOVE ENGLISH\"\" LTDA\""
        ],
        [
         "\"ASSOCIACAO DE JUDO DO \"\"TIO ZEZINHO\"\"\""
        ],
        [
         "\"LAVA RAPIDO \"\"HP-699\"\" S/C LTDA\""
        ],
        [
         "\"CLUBE ESCOLA \"\" FUM JUMP \"\" DE PARA-QUEDISMO\""
        ],
        [
         "\"URUPA \"\"HAUS\"\" CASAS ESPECIAIS LTDA\""
        ],
        [
         "\"ASSOCIACAO DE MORADORES DO CONDOMINIO AMARALINA \"\"B\"\"\""
        ],
        [
         "\"SUPLETIVO \"\"A DISTANCIA\"\" DE 1 E 2 GRAU LTDA\""
        ],
        [
         "\"ACADEMIRO\"\"S ACADEMIA DE GINASTICA E MUSCULACAO LTDA\""
        ],
        [
         "\"ANTONIO CARLOS DE OLIVEIRA SANTA BARBARA D\"\"OESTE\""
        ],
        [
         "\"CLUBE DE MAES \"\"S.O.S. NAVAL\"\"\""
        ],
        [
         "\"LIBERAL-FIRST FUNDO DE INVESTIMENTO EM \"\"COMMODITIES\"\"\""
        ],
        [
         "\"LIBERAL-STAR FUNDO DE INVESTIMENTO EM \"\"COMMODITIES\"\"\""
        ],
        [
         "\"SOS SANTA CASA \"\"UMA QUESTAO DE MISERICORDIA\"\"\""
        ],
        [
         "\"HOTEL DE LAZER \"\"RECANTO DAS AGUIAS\"\" LTDA\""
        ],
        [
         "\"CLUBE DE MAES \"\"SERVIR E VIVER\"\"\""
        ],
        [
         "\"GRUPO \"\"OS VERSATEIS\"\"\""
        ],
        [
         "\"ASSOCIACAO BRASILEIRA DE FISCAIS DE TRIBUTOS \"\"ABRAFIST\"\"\""
        ],
        [
         "\"APP DO CIEP \"\"RODESINDO PAVAN\"\"\""
        ],
        [
         "\"CONDOMINIO RESIDENCIAL JARDIM CONTINENTAL \"\"D\"\"\""
        ],
        [
         "\"FRATERNIDADE DE AMPARO A CRIANCA \"\"AMOR E CARIDADE\"\"\""
        ],
        [
         "\"BAR MELLOW \"\"C\"\" LTDA\""
        ],
        [
         "\"ASSOCIACAO DE PAIS E PROFESSORES E.I. \"\"COLONIA TIGRE\"\"\""
        ],
        [
         "\"CONDOMINIO EDIFICIO PAU D \"\"ARCO III\""
        ],
        [
         "\"DJELOU\"\"S COMERCIO DE VESTUARIO LTDA\""
        ],
        [
         "\"EMPREITEIRA DE MAO DE OBRA DI\"\"HUSO LTDA\""
        ],
        [
         "\"SENADOR \"\"MARCOS FREIRE\"\"\""
        ],
        [
         "\"ASSOCIACAO GRUPO GIRASSOL \"\"AGGIR\"\"\""
        ],
        [
         "\"BREADTH DUNDEE\"\"S BAR LTDA\""
        ],
        [
         "\"GRUPO DE IDOSOS \"\"VIDA E AMOR\"\"\""
        ],
        [
         "\"LANCHONETE DU\"\"PEQUENO LTDA\""
        ],
        [
         "\"CONDOMINIO DO EDIFICIO \"\"DONA CARLOTA\"\"\""
        ],
        [
         "\"SOCIEDADE BENEFICENTE \"\"FLOR GLORIOSA\"\"\""
        ],
        [
         "\"RHOLD\"\"S EMPREITEIRA LTDA\""
        ],
        [
         "\"BAR E LANCHES \"\"KARICA\"\" LTDA\""
        ],
        [
         "\"CLUBE DE RODEIOS E ESPORTES \"\"OS SERTANEJOS\"\"\""
        ],
        [
         "\"EURIPEDES MARTINS \"\"S\"\"\""
        ],
        [
         "\"ASSOCIACAO \"\"DONA MARIA DO CARMO\"\"\""
        ],
        [
         "\"NUK\"\"S COMERCIO DE ALIMENTOS LTDA\""
        ],
        [
         "\"MAGAZINE DOS CALCADOS \"\"F & R\"\" LTDA\""
        ],
        [
         "\"GREMIO RECREATIVO ESCOLA DE SAMBA \"\"FLOR DE MAIO\"\"\""
        ],
        [
         "\"JOSE CARLOS DA COSTA \"\"O JOTACAR\""
        ],
        [
         "\"ASSOCIACAO DE APOIO A ESCOLA ESTADUAL \"\"TABUINHA\"\"\""
        ],
        [
         "\"HALLEY\"\"S EXPRESS SERVICOS LTDA\""
        ],
        [
         "\"ASSOCIACAO PEQ. PRODUTORES RURAIS \"\"CHICO MENDES\"\"\""
        ],
        [
         "\"ASSOCIACAO DE PEQ. PROD. RURAIS \"\"CHICO MENDES\"\"\""
        ],
        [
         "\"EZEQUIAS GONCALVES \"\"KIAS\""
        ],
        [
         "\"OSNI PEREIRA \"\"O EBENEZER\""
        ],
        [
         "\"ASSOCIACAO DO CONJUNTO RESIDENCIAL \"\"PE. MARIO LANO \"\"\""
        ],
        [
         "\"SOCIEDADE DE APOIO AO LAR CARENTE \"\"FRANCISCA CELIRA\"\"\""
        ],
        [
         "\"SORVECHUR\"\"S LTDA\""
        ],
        [
         "\"\"\"SAO FRANCISCO RACOES LTDA\""
        ],
        [
         "\"COM. E PRESTACAO DE SERVICOS \"\"LOPES & SILVA\"\" LTDA\""
        ],
        [
         "\"ASSOCIACAO DE MORADORES DO CONDOMINIO \"\"OS POETAS\"\"\""
        ],
        [
         "\"FUNDO DE INVESTIMENTO FINANCEIRO CONFIANCA \"\"A\"\"\""
        ],
        [
         "\"NAUTILL\"\"US TURISMO E LAZER LTDA\""
        ],
        [
         "\"CENTRO DE ESTUDOS \"\" DR. MARIO LUIZ MACCA \"\" DO COMPLEXO HOSPITALAR PADRE BENTO DE GUARULHOS\""
        ],
        [
         "\"CENTRO DE EDUCACAO PRE-ESCOLAR \"\"PASSO A PASSO\"\" LTDA\""
        ],
        [
         "\"LAVAJATO \"\"CAR WASH\"\" S/C LTDA\""
        ],
        [
         "\"PEDRO GOULART \"\" BILHAR OESTE\""
        ],
        [
         "\"FUNDO DE INVESTIMENTO FINANCEIRO CONFIANCA \"\"D\"\"\""
        ],
        [
         "\"ASSOCIACAO DOS PEQUENOS PRODUTORES RURAIS DO FORMOSO\"\"A\"\"\""
        ],
        [
         "\"ASSOCIACAO FRATERNIDADE \"\"MAOS DE LUZ\"\" DO EST. S. PAULO\""
        ],
        [
         "\"ASSISTENCIA SOCIAL AMIGOS ORGANIZADOS \"\"SO AMOR\"\"\""
        ],
        [
         "\"ASSOCIACAO PASTORAL JUNENIL \"\"MJCO\"\"\""
        ],
        [
         "\"CLUBE DE MAES\"\"EM BUSCA DA PAZ\"\"\""
        ],
        [
         "\"SEVERINO ROBERTO DA SILVA \"\"CARTONAGEM\""
        ],
        [
         "\"ASSOCIACAO BENEFICENTE \"\"COMECAR DE NOVO\"\"\""
        ],
        [
         "\"ASSOCIACAO UNIVERSITARIA DE PALMARES DO SUL \"\"AUPS\"\"\""
        ],
        [
         "\"LAR ASSISTENCIAL A CRIANCA \"\"O CAMINHO\"\"\""
        ],
        [
         "\"CENTRO EDUCACIONAL \"\"CONTO DE FADAS\"\" SC LTDA\""
        ],
        [
         "\"FUNDO DE INVESTIMENTO FINANCEIRO CONFIANCA \"\"H\"\"\""
        ],
        [
         "\"NET PART\"\"S COMERCIO E IMPORTACAO LTDA\""
        ],
        [
         "\"ASSOCIACAO CULTURAL \"\"BANDA DE MUS. FILADELFO J SILVA\""
        ],
        [
         "\"ASSOCIACAO DE MORADORES DO CONJ HABIT \"\"SANENGE III\"\"\""
        ],
        [
         "\"FUNDO DE INVESTIMENTO FINANCEIRO CONFIANCA \"\"O\"\"\""
        ],
        [
         "\"FUNDO DE INVESTIMENTO FINANCEIRO CONFIANCA \"\"Q\"\"\""
        ],
        [
         "\"FUNDO DE INVESTIMENTO FINANCEIRO CONFIANCA \"\"T\"\"\""
        ],
        [
         "\"ASS DO PROJETO SEM TETO \"\"B\"\" PRO-MORADIA DE UBERABA/MG\""
        ],
        [
         "\"\"\"KALOPETE CONFECCOES LTDA\""
        ],
        [
         "\"ASSOCIACAO DE AMIGOS \"\"CONFRARIA CLUB\"\"\""
        ],
        [
         "\"ASSOCIACAO DE PAIS E MESTRES DA EMPG \"\"GUAIBA\"\"\""
        ],
        [
         "\"MERCADO \"\"DO DENE \"\" LTDA\""
        ],
        [
         "\"NILL\"\"S BAR LTDA\""
        ],
        [
         "\"MERCADINHO \"\"LOS LOBOS\"\" LTDA\""
        ],
        [
         "\"RECREACAO E EDUCACAO INFANTIL \"\"MINDINHO\"\"\""
        ],
        [
         "\"ASSOCIACAO ATLETICA ACADEMICA \"\"08 DE DEZEMBRO\"\"\""
        ],
        [
         "\"CENTRO DE ORIENT. PROFIS. DE ADOLESCENTES \"\"COPA\"\"\""
        ],
        [
         "\"COMPANHIA TEATRAL \"\"CADE OTELO\"\"\""
        ],
        [
         "\"SOCIEDADE ILE \"\"AXE\"\" DE OBALUAE\""
        ],
        [
         "\"DEPOSITO \"\"O GRANDE\"\" LTDA\""
        ],
        [
         "\"FRANCA\"\"S CAR LOCADORA DE VEICULOS LTDA\""
        ],
        [
         "\"ASSOCIACAO DOS MORADORES DO JARDIM GUAPIRA \"\"AMOJAGUA\"\"\""
        ],
        [
         "\"FUNDO DE INVESTIMENTO FINANCEIRO FIDELIDADE \"\"A\"\"\""
        ],
        [
         "\"FUNDO DE INVESTIMENTO FINANCEIRO FIDELIDADE \"\"C\"\"\""
        ],
        [
         "\"ASSOCIACAO PRO-QUEIMADOS DE GUARATINGUETA \"\"O BOM PASTOR\""
        ],
        [
         "\"ASSOCIACAO DE \"\"MULHERES DO JARDIM SILVIA E ADJACENCIAS\"\"\""
        ],
        [
         "\"ASSOCIACAO \"\"CHAMA VIVA\"\" DE S.PAULO POR UM BRASIL MELHOR\""
        ],
        [
         "\"ASSOCIACAO DE PAIS E MESTRES APM DO CAIC \"\"WALTER FUCHS\"\"\""
        ],
        [
         "\"COLIGACAO \"\" UNIDOS PELO POCO\"\"\""
        ],
        [
         "\"SOCIETA TALIANA \"\"TALIANI SU I MONTI\"\"\""
        ],
        [
         "\"FUNDO DE INVESTIMENTO FINANCEIRO FIDELIDADE \"\"N\"\"\""
        ],
        [
         "\"FUNDO DE INVESTIMENTO FINANCEIRO FIDELIDADE \"\"M\"\"\""
        ],
        [
         "\"FUNDO DE INVESTIMENTO FINANCEIRO FIDELIDADE \"\"K\"\"\""
        ],
        [
         "\"FUNDO DE INVESTIMENTO FINANCEIRO FIDELIDADE \"\"J\"\"\""
        ],
        [
         "\"FUNDO DE INVESTIMENTO FINANCEIRO FIDELIDADE \"\"H\"\"\""
        ],
        [
         "\"FUNDO DE INVESTIMENTO FINANCEIRO FIDELIDADE \"\"F\"\"\""
        ],
        [
         "\"FUNDO DE INVESTIMENTO FINANCEIRO FIDELIDADE \"\"E\"\"\""
        ],
        [
         "\"FUNDO DE INVESTIMENTO FINANCEIRO FIDELIDADE \"\"I\"\"\""
        ],
        [
         "\"PANIFICADORA E CONFEITARIA \"\"DOCES SONHOS\"\" LTDA\""
        ],
        [
         "\"POLICLINICA VETERINARIA \"\"UNIVET\"\" LTDA.\""
        ],
        [
         "\"ASSOCIACAO COMUNIT DE MORADORES UNIDOS DA QUADRA \"\"S\"\"\""
        ],
        [
         "\"ASSOC PROP CENTRAL TELEFONICA DO \"\"GRUPO DOS NOVE\"\"\""
        ],
        [
         "\"RIKA\"\"S COMERCIAL E IMPORTADORA LTDA\""
        ],
        [
         "\"IGREJA EVANG. PENTECOSTAL\"\"AS FONTES DAS AGUAS DA VIDA\"\"\""
        ],
        [
         "\"ASSOCIACAO DOS PRODUTORES RURAIS \"\"NOVA ESPERANCA\"\"\""
        ],
        [
         "\"ADRIANO DE DEUS COUTINHO \"\"MICROEMPRESA\"\"\""
        ],
        [
         "\"IGREJA EVANGELICA \"\"MINHA IGREJA - MT. 16:18\"\"\""
        ],
        [
         "\"APM DOS EXCEPCIONAIS EM APOIO AO ARCO IRIS \"\"APAME\"\"\""
        ],
        [
         "\"LIONS CLUBE PIUMA \"\"CIDADE DAS CONCHAS\"\"\""
        ],
        [
         "\"ESCOLA INFANTIL OS \"\"PIRILAMPOS\"\" LTDA\""
        ],
        [
         "\"APM DA EEPG(R) \"\"PROF. JOSE NEGRIN\"\"\""
        ],
        [
         "\"QUITANDA E MERCEARIA IRMAOS \"\"R\"\" LTDA\""
        ],
        [
         "\"BAR E LANCHES \"\"EDFRAN\"\" S LTDA\""
        ],
        [
         "\"ESPORTE CLUBE D\"\"AGOSTINE\""
        ],
        [
         "\"VIDEO \"\"IN HOUSE\"\" LTDA\""
        ],
        [
         "\"UPC. - \"\" UNIAO PAULISTA DE COBRANCA S/C LTDA. \"\"\""
        ],
        [
         "\"NUCLEO DE EDUCACAO INFANTIL \"\"ESTACAO CRIANCA\"\" S/C LTDA\""
        ],
        [
         "\"ADEMILDE DA PAIXAO SANT\"\"ANNA\""
        ],
        [
         "\"FUNDO DE INVESTIMENTO FINANCEIRO FIDELIDADE \"\"O\"\"\""
        ],
        [
         "\"FUNDO DE INVESTIMENTO FINANCEIRO FIDELIDADE \"\"P\"\"\""
        ],
        [
         "\"FUNDO DE INVESTIMENTO FINANCEIRO FIDELIDADE \"\"T\"\"\""
        ],
        [
         "\"CENTRO ESPIRITA E NUCLEO ASSIST \"\"IRMA MARIA BERNARDETE\"\"\""
        ],
        [
         "\"IGREJA EVANGELICA PENTECOSTAL \"\"SERVOS DE DEUS\"\"\""
        ],
        [
         "\"RETIFICA PRIMU\"\"S DE PILARES LTDA\""
        ],
        [
         "\"SOUZA & D\"\"ALESSANDRE ROSSI LTDA\""
        ],
        [
         "\"IGREJA EVANGELICA ASSEMBLEIA DE DEUS \"\"A NOVA JERUSALEM\"\"\""
        ],
        [
         "\"ESCOLA DE 1\"\" GRAU PROFESSORA CATARINA TAVARES\""
        ],
        [
         "\"IGREJA PENTECOSTAL \"\"O SENHOR E A NOSSA BANDEIRA\"\"\""
        ],
        [
         "\"IGREJA EVAN.PENTECOSTAL \"\"PROMESSA DE CRISTO P/O BRASIL\"\"\""
        ],
        [
         "\"ASS.DOS USUA.DA CENT-PABX DO COND.PALMEIRAL II BL.\"\"A\"\"\""
        ],
        [
         "\"NATATALLYU\"\"S COMERCIO E REPRESENTACOES DE SEGUROS LTDA\""
        ],
        [
         "\"ESPACO \"\"B\"\" COMUNICACAO E MARKETING LTDA\""
        ],
        [
         "\"CENTRO ACADEMICO DE ENGENHARIA CIVIL \"\"11 DE DEZEMBRO\"\"\""
        ],
        [
         "\"FUNDO DE INVESTIMENTO FINANCEIRO FIDELIDADE \"\"Y\"\"\""
        ],
        [
         "\"FUNDO DE INVESTIMENTO FINANCEIRO FIDELIDADE \"\"X\"\"\""
        ],
        [
         "\"FUNDO DE INVESTIMENTO FINANCEIRO FIDELIDADE \"\"V\"\"\""
        ],
        [
         "\"ASSOCIACAO BRAS DE PILOTOS E EQUIP DE CATEG \"\"STOCK CAR\"\"\""
        ],
        [
         "\"NUCLEO EDUCACIONAL \"\" MEU FILHOTE \"\" S/C LTDA\""
        ],
        [
         "\"FABIANA DE MATOS \"\" A HONORARY\""
        ],
        [
         "\"DONN\"\"ITA CONFEITARIA LTDA\""
        ],
        [
         "\"FUNDO DE APL EM QTAS DE FDOS DE INVEST TRADICAO \"\"A\"\"\""
        ],
        [
         "\"FUNDO DE APL EM QTAS DE FDOS DE INVEST TRADICAO \"\"B\"\"\""
        ],
        [
         "\"FUNDO DE APL EM QTAS DE FDOS DE INVEST TRADICAO \"\"C\"\"\""
        ],
        [
         "\"FUNDO DE APL EM QTAS DE FDOS DE INVEST TRADICAO \"\"D\"\"\""
        ],
        [
         "\"FUNDO DE APL EM QTAS DE FDOS DE INVEST TRADICAO \"\"E\"\"\""
        ],
        [
         "\"FUNDO DE APL EM QTAS DE FDOS DE INVEST TRADICAO \"\"F\"\"\""
        ],
        [
         "\"FUNDO DE APL EM QTAS DE FDOS DE INVEST TRADICAO \"\"H\"\"\""
        ],
        [
         "\"FUNDO DE APL EM QTAS DE FDOS DE INVESTIMENTO TARGET \"\"B\"\"\""
        ],
        [
         "\"FUNDO DE APL EM QTAS DE FDOS DE INVESTIMENTO TARGET \"\"C\"\"\""
        ],
        [
         "\"FUNDO DE APL EM QTAS DE FDOS DE INVESTIMENTO TARGET \"\"E\"\"\""
        ],
        [
         "\"FUNDO DE APL EM QTAS DE FDOS DE INVESTIMENTO TARGET \"\"F\"\"\""
        ],
        [
         "\"F\"\"DE A\"\" DO CARMO SILVA DANCETERIA\""
        ],
        [
         "\"ROZANE GONCALVES FELIX \"\"AVENIL\"\"\""
        ],
        [
         "\"ZOTTIS E GRAL\"\" ADVOGADOS ASSOCIADOS\""
        ],
        [
         "\"ELETRON \"\"SP\"\" COMERCIO INFORMATICA LTDA\""
        ],
        [
         "\"SOCIEDADE CIVIL \"\"ESCOLA VIVA\"\" LTDA\""
        ],
        [
         "\"ASSOCIACAO AMIGOS DO PARQUE NATURAL \"\"CHICO MENDES\"\"\""
        ],
        [
         "\"CORAL PALMEIRENSE \"\"PE. JOSE MAURICIO NUNES GARCIA\""
        ],
        [
         "\"HAWKS\"\" CAR SOUND LTDA\""
        ],
        [
         "\"GRUPO DA TERCEIRA IDADE \"\"NOVA ESPERANCA\"\"\""
        ],
        [
         "\"BERCARIO \"\"BEIJA-FLOR\"\" S/C LTDA\""
        ],
        [
         "\"ASSOCIACAO ESPORTIVA \"\" GERACAO FUTURO \"\"\""
        ],
        [
         "\"CONDOMINIO DO BLOCO \"\"C\"\"\""
        ],
        [
         "\"SOCIEDADE CRISTA DE EDUCACAO \"\"O MESTRE\"\"\""
        ],
        [
         "\"AGREMIACAO CARNAVALESCA \"\" TOMBO DA ILHA \"\"\""
        ],
        [
         "\"ASSOCIACAO CULTURAL E COMUNITARIA \"\"SAMUEL HAHNEMANN\"\"\""
        ],
        [
         "\"LAK \"\"W\"\" COMERCIO DE MOVEIS LTDA\""
        ],
        [
         "\"JOSE PINHEIRO \"\"O ZECA\"\"\""
        ],
        [
         "\"FUNDO DE APLIC EM QUOTAS DE FUNDOS DE INVEST TARGET \"\"R\"\"\""
        ],
        [
         "\"CLASSE \"\"A\"\" PERSIANAS LTDA\""
        ],
        [
         "\"FUNDO DE APLIC EM QUOTAS DE FDOS DE INV TRADICAO \"\"J\"\"\""
        ],
        [
         "\"FUNDO DE APLIC EM QTAS DE FDOS DE INVEST TRADICAO \"\"K\"\"\""
        ],
        [
         "\"FUNDO DE APLIC EM QTAS DE FDOS DE INVEST TRADICAO \"\"L\"\"\""
        ],
        [
         "\"FUNDO DE APLIC EM QTAS DE FUNDOS DE INV TRADICAO \"\"M\"\"\""
        ],
        [
         "\"FDO DE APLIC EM QTAS DE FUNDOS DE INV TRADICAO \"\"R\"\"\""
        ],
        [
         "\"ASSOCIACAO DOS LOJISTAS DO SHOP \"\"GE\"\"\""
        ],
        [
         "\"ASSOCIACAO DE GRUPO DE IDOSOS \"\" GENTE FELIZ \"\" DO BAIRRO\""
        ],
        [
         "\"CONSELHO ESCOLAR \"\"UNIDADE ESCOLAR MINISTRO PEDRO BORGES\""
        ],
        [
         "\"KELLY CRISTINA DOS SANTOS \"\"BAR\""
        ],
        [
         "\"CENTRO ESPIRITA \"\"CASA DE CARIDADE CONGO E MANO \"\"\""
        ],
        [
         "\"BAR E LANCHES \"\"DAMA DE OURO\"\" LTDA\""
        ],
        [
         "\"RECUPERADORA DE DISCOS \"\"2-J\"\" LTDA\""
        ],
        [
         "\"COOPERATIVA DE PRODUCAO E SERVICOS \"\"LUIS BRAILLE\"\" COOPE\""
        ],
        [
         "\"ASSOCIACAO CULTURAL COMUNITARIA AMIGA \"\"ACCA\"\"\""
        ],
        [
         "\"CONSELHO ESCOLAR UNIDADE ESCOLAR \"\"DOMINGOS JORGE VELHO\"\"\""
        ],
        [
         "\"ROGERIO DA SILVA \"\"O DORIVAN\""
        ],
        [
         "\"DIRETORIO ACADEMICO \"\"PONTES DE MIRANDA\"\"\""
        ],
        [
         "\"COMERCIAL DE FRUTAS E VERDURAS \"\"H.H.\"\"LTDA\""
        ],
        [
         "\"ASSOCIACAO DAS MICRO E PEQUENAS EMPRESARIAS DO \"\"MUTIRAO\""
        ],
        [
         "\"\"\"T\"\" COMERCIAL DE FRUTAS E VERDURAS LTDA\""
        ],
        [
         "\"ASSOCIACAO DOS TRAVALHADORES SEM TERRA DA ZONA OESTE \"\"R\""
        ],
        [
         "\"TAN\"\"SAFETY COMERCIO E REPRESENTACOES LTDA\""
        ],
        [
         "\"GREMIO RECREATIVO CULTURAL ESCOLA DE SAMBA \"\"DRAGOES DO\""
        ],
        [
         "\"JOANA D\"\"ARC PEREIRA DE OLIVEIRA\""
        ],
        [
         "\"TEMPLO UMBANDISTA DE CARIDADE \"\"REINO DE OXUM/TIA CATARI\""
        ],
        [
         "ASSOCIACAO DE MORADORES DE CEILANDIA NORTE\"\""
        ],
        [
         "\"RONALD RIBEIRO CARDOSO\";\"2135\""
        ],
        [
         "\"CLINICA DE ODONTOLOGIA PREVENTIVA E RESTAURADORA \"\"R.S\"\"\""
        ],
        [
         "\"FRIOPAN FRIOS & CONDIMENTOS LTDA\";\"2062\""
        ],
        [
         "\"ASSOCIACAO DOS PROPRIETARIOS DO CONDOMINIO \"\" EL CONDORO\""
        ],
        [
         "\"CENTRO ESPIRITA DE UMBANDA\"\"AMIGOS DE JESUS'\""
        ],
        [
         "\"GRUPO DE TEATRO \"\"BACCO PARI\"\"\""
        ],
        [
         "\"ALBINO D\"\"AGHETTI\""
        ],
        [
         "\"ASSOCIACAO DE PAIS E MESTRES DA ESCOLA MUNICIPAL \"\"DOM P\""
        ],
        [
         "\"CENTRO ACADEMICO DE ZOOTECNIA \"\"13 DE MAIO\"\"\""
        ],
        [
         "\"CENTRO ESPIRITA \"\"PAI MUNDIM\"\"\""
        ],
        [
         "\"CORAL MUNICIPAL DE RIO CLARO \"\"O MENSAGEIRO\"\"\""
        ],
        [
         "\"CLUBE DE RODEIO \"\"SUL DAS GERAIS\"\"\""
        ],
        [
         "\"ASSOCIACAO DE RADIOAMADORES E FAIXA DO CIDADAO \"\"SENTINE\""
        ],
        [
         "\"ASSOCIACAO ESCOLA COMUNIDADE- AEC \"\"CLOVIS BORGES MIGUEL\""
        ],
        [
         "\"ASSOCIACAO ESCOLA COMUNIDADE \"\"ANTONIO LUIZ VALIATI\"\"\""
        ],
        [
         "\"LA\"\" BIRILLA COMERCIO DE PAES E DOCES LTDA\""
        ],
        [
         "\"CLUBE DE PARA-QUEDISMO \"\"SKYLIMITS\"\"\""
        ],
        [
         "\"ASSOCIACAO PILARENSE DOS CAMINHONEIROS - \"\"A.P.C.\"\"\""
        ],
        [
         "\"ASSOCIACAO ESCOLA COMUNIDADE (AEC) \"\"EPSG\"\" \"\"CORREGO DE S\""
        ],
        [
         "\"IGREJA EVANGELICA \"\"O SENHOR JUSTICA NOSSA\"\"\""
        ],
        [
         "\"ASSOCIACAO \"\"V\"\" UNIAO\""
        ],
        [
         "\"ASSOCIACAO CULTURAL E INFORMATIVA \"\"O SERTANEJO\"\"\""
        ],
        [
         "\"DALMA\"\"S CONFECCOES LTDA\""
        ],
        [
         "\"GRUPO DE MULHERES \"\"BERTHA LUTZ\"\"\""
        ],
        [
         "\"ASSOCIACAO DOS TRABALHADORES SEM TERRA DA ZONA OESTE \"\"R\""
        ],
        [
         "\"ASSOCIACAO DE MORADORES DO BAIRRO CAIXA D\"\"AGUA\""
        ],
        [
         "\"ASSOC. ESCOLA COMUNIDADE \"\"JUNTOS VENCEREMOS\"\"\""
        ],
        [
         "\"CAIXA ESCOLAR DORGIVAL PINHEIRO DE SOUSA\";\"3999\""
        ],
        [
         "\"JOAO BEZERRA DA SILVA \"\"BEBIDAS\""
        ],
        [
         "\"ASSOCIACAO\"\"2000 SEM GUERRAS\"\"\""
        ],
        [
         "\"CONSELHO ESCOLAR DA E E DE 1 GRAU \"\"AUGUSTO MONTENEGRO\"\"\""
        ],
        [
         "\"\"\"ERGA OMNES\"\" LIVRARIA LTDA\""
        ],
        [
         "\"CAIXA ESCOLAR \"\"JOSE AVELINO DE ALMEIDA\"\"\""
        ],
        [
         "\"CAIXA ESCOLAR \"\"DR. TELMO MAGALHAES FERNANDES\"\"\""
        ],
        [
         "\"ASSOCIACAO ESCOLA COMUNIDADE AEC DE 1 GRAU\"\"CIPRIANO COC\""
        ],
        [
         "\"ASSOCIACAO DOS LOGISTAS DO \"\"TATUI CENTER SHOP\"\"\""
        ],
        [
         "\"ASSOCIACAO ATLETA CAIXA D\"\"AGUA\""
        ],
        [
         "\"ASSOCIACAO ESCOLA COMUNIDADE - E.P.G. \"\"MARIA ELEONORA D\""
        ],
        [
         "\"ASSOCIACAO DE PRODUTORES RURAIS \"\"SEGURA NA MAO DE DEUS\"\"\""
        ],
        [
         "\"CONSELHO ESCOLAR DA ESCOLA ESTADUAL DE 1 GRAU \"\"DR AGOST\""
        ],
        [
         "\"GRUPO DE JOVENS: \"\"JUVENTUDE EM ACAO\"\"- JUA\""
        ],
        [
         "\"LANCHONETE E MERCEARIA DA \"\"ZU\"\" LTDA\""
        ],
        [
         "\"ASSOCIACAO ESCOLA COMUNIDADE \"\"NATALIA VIEIRA LOPES\"\"\""
        ],
        [
         "\"COMERCIO E CONFECCOES \"\"SETE MARES\"\" LTDA.\""
        ],
        [
         "\"ASSOCIACAO COMUNITARIA DA VIA EXPRESSA \"\"ASCAPE\"\"\""
        ],
        [
         "\"CLUBE DE MAES \"\"SAGRADO CORACAO DE JESUS\"\"\""
        ],
        [
         "\"CAIXA ESCOLAR \"\"PROFESSOR OLIVEIRA ROMA\"\"\""
        ],
        [
         "\"CONSELHO ESCOLAR E R C \"\"14 DE ABRIL\"\"\""
        ],
        [
         "\"INSTITUICAO \"\"CAMINHO DO BEM\"\"\""
        ],
        [
         "\"ASSOCIACAO DA RADIO COMUNITARIA E CULTURAL \"\"ATALAIA\"\" -\""
        ],
        [
         "\"ML.\"\"98\"\"SERVICOS MEDICOS S/C LTDA\""
        ],
        [
         "\"CONSELHO ESCOLAR DA E R C \"\"NOSSA SENHORA DO CARMO\"\"\""
        ],
        [
         "\"CONSELHO ESCOLAR DA ERC CENTRO EDUCACIONAL \"\"TURMA DA MO\""
        ],
        [
         "\"MARLI DA ROSA \"\"LUDINIL\""
        ],
        [
         "\"CONSELHO ESCOLAR DA E R C \"\"MANOEL ANTONIO DA COSTA\"\"\""
        ],
        [
         "\"CONSELHO ESCOLAR E E DE 1 GRAU \"\"PROF BELA AURORA DE JES\""
        ],
        [
         "\"CONSELHO ESCOLAR DA E R C \"\"MARIA LUIZA\"\"\""
        ],
        [
         "\"CONSELHO ESCOLAR DA ESCOLA R C \"\"UNIDOS VENCEREMOS\"\"\""
        ],
        [
         "\"CONSELHO ESCOLAR DA E E DE 1 E 2 GRAUS \"\"PROF MARIA ELIZ\""
        ],
        [
         "\"IMOBILIARIA \"\"MR\"\" LTDA\""
        ],
        [
         "\"GRUPO DE IDOSOS\"\"SAO PEDRO\"\"\""
        ],
        [
         "\"ASSOCIACAO DOS MORADORES DA AREA LIVRE \"\"A2\"\"\""
        ],
        [
         "\"CAIXA ESCOLAR \"\"MONICA\"\"\""
        ],
        [
         "\"CONSELHO ESCOLAR DA ESCOLA ESTADUAL DE 1 GRAU ANEXO \"\"PR\""
        ],
        [
         "\"CONSELHO ESCOLAR DA E R C ESCOLA DE 1 GRAU \"\"DISNEYLANDI\""
        ],
        [
         "\"CAIXA ESCOLAR \"\"ESTADO DO PARANA\"\"\""
        ],
        [
         "\"CAIXA ESCOLAR \"\"PROFESSORA MARIA ONILZA BORGES\"\"\""
        ],
        [
         "\"CAIXA ESCOLAR \"\"AMERICO VERANO DA CRUZ\"\"\""
        ],
        [
         "\"CAIXA ESCOLAR \"\"CRIANCA FELIZ\"\"\""
        ],
        [
         "\"CAIXA ESCOLAR \"\"MARCELINO FREITAS\"\"\""
        ],
        [
         "\"CAIXA ESCOLAR \"\"PEQUENO PRINCIPE\"\"\""
        ],
        [
         "\"ASSOCIACAO ESCOLA COMUNIDADE (AEC) \"\"UNIDADE EXECUTORA D\""
        ],
        [
         "\"ASSSOCIACAO DOS MORADORES DO EDIFICIO \"\"MORADA DO SOL \"\"\""
        ],
        [
         "\"CONSELHO ESCOLAR DA ESCOLA ESTADUAL DE 1 GRAU \"\"MAJOR JOAO RODRIGUES SOUTO\"\"\""
        ],
        [
         "\"ASSOCIACAO DE MORADORES DO EDIFICIO \"\"POR DO SOL\"\"\""
        ],
        [
         "\"CAIXA ESCOLAR \"\"JOAO LISBOA\"\"\""
        ],
        [
         "\"ASSOCIACAO DOS TRABALHADORES EM CONFECCOES COHAB \"\"B\"\"\""
        ],
        [
         "\"CONSELHO ESCOLAR \"\"ARCA DE NOE\"\"\""
        ],
        [
         "\"DELTA \"\"S\"\" ESCOLA PROFISSIONALIZANTE LTDA\""
        ],
        [
         "\"CENTRAL DE DOCUMENTOS \"\"CIDADE SORRISO\"\" SC LTDA\""
        ],
        [
         "\"CAIXA ESCOLAR DA ESCOLA MUNICIPAL \"\"GINO ANDRE BARBOSA\"\"\""
        ],
        [
         "\"CENTRAL DE DOCUMENTOS \"\"CIDADE SORRISO\"\"SC LTDA\""
        ],
        [
         "\"ASSOCIACAO DOS TRABALHADORES EM CONFECCOES BARRETO \"\"A\"\"\""
        ],
        [
         "\"CAIXA ESCOLAR \"\"SAO BERNARDO\"\"\""
        ],
        [
         "\"ASSOCIACAO DOS TRABALHADORES EM CONFECCOES BARRETO \"\"B\"\"\""
        ],
        [
         "\"WAND\"\"AS MODAS COMERCIO LTDA\""
        ],
        [
         "\"ASSOCIACAO DOS USUARIOS DO SISTEMA DE TELEFONIA DO CONJUNTO HABITACIONAL C.D.H.U. CUBATAO \"\"F\"\" SAO JUDAS II\""
        ],
        [
         "\"PEIXARIA & LANCHONETE \"\"ALASKA\"\" LTDA\""
        ],
        [
         "\"AUTO ELETRICA TRIANGULO LTDA \"\"MICROEMPRESA\"\"\""
        ],
        [
         "\"ASSOCIACAO DOS TRABALHADORES EM CONFECCOES COHAB \"\"A\"\"\""
        ],
        [
         "\"GRUPO DE DANCAS GERMANICAS \"\"FROHLICHE JUGEND\"\"\""
        ],
        [
         "\"AEC DA ESCOLA DE 1 GRAU \"\"SANTA RITA DE CASSIA\"\"\""
        ],
        [
         "\"ASSOCIACAO DOS MORADORES - ASSENTADOS \"\" BOA ESPERANCA \"\"\""
        ],
        [
         "\"ORGANIZACAO DA MULHER \"\"MENSAGEIRAS DA ALEGRIA\"\"\""
        ],
        [
         "\"J. D\"\"ARC RODRIGUES\""
        ],
        [
         "\"COOPERATIVA DE TRAB.DOS MOT.NOS SEG.TRANSP.\"\"B.GUARATIBA\"\"\""
        ],
        [
         "\"GRUPO FRATERNO \"\"OS MENSAGEIROS\"\"\""
        ],
        [
         "\"UNIDADE EXECUTORA CAIXA ESCOLAR \"\"SAO FRANCISCO DAS CHAGAS\"\"\""
        ],
        [
         "\"CONSELHO E.DA E.E.DE 1 GRAU\"\"JULIAO BERTOLDO DE CASTRO\"\"\""
        ],
        [
         "\"ASSOCIACAO PRESBITERIANA BENEFICENTE \"\"MORIA\"\"\""
        ],
        [
         "\"ASSOCIACAO COMUNITARIA STUDIO PARA O DESENVOLVIMENTO CULTURAL E ARTISTICO \"\" STUDIO \"\"\""
        ],
        [
         "\"ASSOCIACAO DA MAIORIDADE DE MANDURI \"\"ASSOMA\"\"\""
        ],
        [
         "\"CLUBE DE JOVEM \"\"JUVENTUDE E CORAGEM\"\"\""
        ],
        [
         "\"ACAO SOCIAL COMUNITARIA SETELAGOANA \"\"ASCOSEL\"\"\""
        ],
        [
         "\"COMISSAO DE FORMATURA \"\"CONTA ATIVA/99\"\"\""
        ],
        [
         "BIANCHI\"\""
        ],
        [
         "\"CONSELHO ESCOLAR DA E.E. \"\"DIVINO ESPIRITO SANTO\"\"\""
        ],
        [
         "\"CONSELHO ESCOLAR DA ESCOLA ESTADUAL \"\"FORTUNATO CERDEIRA\"\"\""
        ],
        [
         "\"ASSOCIACAO ESCOLA-COMUNIDADE (AEC) DA ESCOLA DE 1 GRAU MU-NICIPAL \"\"PROFA. IZAURA DE ALMEIDA SILVA\"\"\""
        ],
        [
         "\"CENTRO CULTURAL E ESPORTIVO \"\"CLUBINHO 110\"\"\""
        ],
        [
         "\"CAIXA ESCOLAR \"\"BETEL DA ASSEMBLEIA DE DEUS\"\"\""
        ],
        [
         "\"CONSELHO ESCOLAR DA E.E. DE 1.GRAU \"\"SAO JOSE\"\"\""
        ],
        [
         "\"GRUPO DE DIVULGACAO MARIANA \"\"MILICIA DA PAZ\"\"\""
        ],
        [
         "\"ASSOCIACAO ESCOLA-COMUNIDADE (AEC) \"\" ESCOLA DE 1. GRAU PONTAL \"\"\""
        ],
        [
         "\"ASSOCIACAO ESCOLA-COMUNIDADE (AEC) DA ESCOLA DE PRIMEIRO GRAU \"\" ATILIO PIZZOL \"\"\""
        ],
        [
         "\"CAIXA ESCOLAR \"\"LUCIA PINILLOS\"\" DO GRUPO ESCOLAR DR. PEDRO CATALAO\""
        ],
        [
         "\"CREPERIA \"\"DATA VENIA\"\" LTDA.\""
        ],
        [
         "\"CAIXA ESCOLAR DA E. M. \"\"JOSE CAMPOS\"\"\""
        ],
        [
         "\"CAIXA ESCOLAR DA E. M. \"\"JOSE TRIUNFO LOBATO\"\"\""
        ],
        [
         "\"CAIXA ESCOLAR DA E. M. \"\"D. JOSE MEDEIROS LEITE\"\"\""
        ],
        [
         "\"CAIXA ESCOLAR DA E. M. \"\"JOAO PINHEIRO\"\"\""
        ],
        [
         "\"CAIXA ESCOLAR DA E. M. \"\"FRANCISCO M. SOBRINHO\"\"\""
        ],
        [
         "\"CAIXA ESCOLAR DA E. M. \"\"JOSE LEANDRO\""
        ],
        [
         "\"CAIXA ESCOLAR DA E. M. \"\"GERALDO FERREIRA PACHECO\"\"\""
        ],
        [
         "\"CAIXA ESCOLAR DA E. M. \"\"JOAO DE PAULA FREIRE\""
        ],
        [
         "\"ANDRE SANT\"\"ANA MUNIZ\""
        ],
        [
         "\"PONTO NO \"\"I\"\" COMERCIO E REPRESENTACOES LTDA\""
        ],
        [
         "\"CAIXA ESCOLAR \"\"ACADEMICO ABGAR RENAULT\"\"\""
        ],
        [
         "\"CAIXA ESCOLAR \"\"EMBAIXATRIZ CORINA ANDRADA\"\"\""
        ],
        [
         "\"ASSOCIACAO DE MULHERES \"\"PROJETO CONVIVER\"\"\""
        ],
        [
         "\"FUNDACAO \"\"ATELIER - H\"\"ATENCAO,LIBERDADE E REDIMENSAO HUMANA\""
        ],
        [
         "\"CAIXA ESCOLAR DA ESCOLA MUNICIPAL \"\"SANTA CRUZ\"\"\""
        ],
        [
         "CAIXA ESCOLAR DA ESCOLA MUNICIPAL SAO SEBASTIAO\"\""
        ],
        [
         "\"CAIXA ESCOLAR DA ESCOLA MUNICIPAL \"\"SAO BERNARDO\"\"\""
        ],
        [
         "\"CAIXA ESCOLAR DA ESCOLA MUNICIPAL \"\"SAO FRANCISCO\"\"\""
        ],
        [
         "\"TENDA DE UMBANDA \"\"CACIQUE URUNA\"\"\""
        ],
        [
         "\"UNIDADE EXECUTORA CAIXA ESCOALR COLEGIO MUNICIPAL \"\"LUCAS COELHO\"\"\""
        ],
        [
         "\"TENDA DE UMBANDA \"\"O REINO DOS PRETOS VELHOS\"\"\""
        ],
        [
         "\"TENDA DE UMBANDA \"\"OGUM ROMPE MATO\"\"\""
        ],
        [
         "\"CLUBE DE MAES \"\"VILA ALMEIDA\"\"\""
        ],
        [
         "CLUBE DE MAES EULALIA PIRRES\"\""
        ],
        [
         "\"ASSOCIACAO DE DEFESA DO MEIO AMBIENTE \"\"GAIVOTAS ATLANTICO SUL\"\" - EDUCACAO AMBIENTAL/ECOTURISMO\""
        ],
        [
         "\"AEC- ASSOCIACAO ESCOLA COMUNIDADE-EPSG \"\"FRANCISCA PEIXOTO MIGUEL\"\"\""
        ],
        [
         "GRAPHUS ENERGIA FUNDO DE INVESTIMENTO FINANCEIRO - 60\"\""
        ],
        [
         "\"UNIDADE EXECUTORA \"\"UNIAO DE PAIS E MESTRES\"\" DA ESCOLA JARDIM DE INFANCIA PARAISO DAS CRIANCAS\""
        ],
        [
         "\"RETIRO ESPIRITUAL \"\"AMOR E PAZ\"\"\""
        ],
        [
         "\"CONSELHO ESCOLAR DA ESCOLA \"\"SANTO ANTONIO DE LISBOA\"\"\""
        ],
        [
         "\"ASSOCIACAO DE MOTORISTAS AUTONOMOS HIPERTAXI \"\" AMAHT \"\"\""
        ],
        [
         "\"IGREJA PENTECOSTAL \"\"JESUS JA VEM\"\"\""
        ],
        [
         "\"CLASSE \"\"A\"\" CALCADOS LTDA\""
        ],
        [
         "\"ASSOCIACAO DE MULHERES \"\" OLIVIA SALAMONI\"\"\""
        ],
        [
         "\"NUCLEO RECREATIVO \"\"JOSE MARTI\"\" LTDA\""
        ],
        [
         "\"EMPORIO \"\"K\"\" LTDA\""
        ],
        [
         "\"ASSOCIACAO \"\"EULER PARANHOS\"\"\""
        ],
        [
         "\"CLUBE DE MAES \"\"UNIAO DE MAES\"\" DO SETOR V CPA III\""
        ],
        [
         "\"CONSELHO ESCOLAR DA ESCOLA MUNICIPAL DE 1 GRAU \"\"DOM GUIDO\"\"\""
        ],
        [
         "\"ASSOCIACAO PARA O BEM ESTAR SOCIAL \"\"LUZ VERDE\"\"\""
        ],
        [
         "\"ASSOCIACAO ESCOLA COMUNIDADE DA ESCOLA DE 1.GRAU \"\"MARIO CASANOVA\"\"\""
        ],
        [
         "\"CLINICA DE FISIOTERAPIA \"\"FERNANDA CHICONELI\"\" S/C LTDA\""
        ],
        [
         "\"ASSOCIACAO COMUNITARIA DESENVOLVIMENTO SOCIAL,CULTURAL E ARTISTICO-PROJETO \"\"VIDATIVA\"\"\""
        ],
        [
         "\"ESTUDIO \"\"A\"\" PRODUCOES S/C LTDA\""
        ],
        [
         "\"AEC - RENASCER DA EPG \"\" MINISTRO PETRONIO PORTELLA\"\"\""
        ],
        [
         "\"CONSELHO ESCOLAR DO GINASIO ESTADUAL \"\"NOSSA SENHORA DA CONCEICAO\"\"\""
        ],
        [
         "\"ABCA - ASSOCIACAO DO BAIRRO \"\"CHACARAS AVEIRO\"\"\""
        ],
        [
         "\"ASSOCIACAO ATLETICA ACADEMICA \"\"LUCAS MACHADO\"\"\""
        ],
        [
         "\"ASSOCIACAO DE MORADORES DO EDIFICIO \"\"ALVORADA\"\"\""
        ],
        [
         "\"ASSOCIACAO DE PROPRIETARIOS DO DISTRITO INDUSTRIAL SANTA ANTONIETA \"\"A.P.D.I.\"\"\""
        ],
        [
         "\"ASSOCIACAO DOS MORADORES DE BOA VISTA \"\"DEUS PROVEERA\"\"\""
        ],
        [
         "\"AEC - ASSOCIACAO ESCOLA COMUNIDADE DA ESCOLA DE 1.GRAU \"\"PROFESSOR ANTONIO AZEREDO COUTINHO\"\"\""
        ],
        [
         "\"ASSOCIACAO DOS USUARIOS DO SISTEMA DE TELEFONIA DO CONJUNTO HABITACIONAL C.D.H.U. - CUBATAO \"\"F\"\" - SAO JUDAS I\""
        ],
        [
         "\"ASSOCIACAO DE USUARIOS DO CENTRO EDUCACIONAL E ESPORTIVO \"\"ALFREDO IGNACIO TRINDADE\"\"\""
        ],
        [
         "\"CONSELHO ESCOLAR E.R.C. CENT.COMUNIT.\"\"SAO FRANCISCO DE ASSIS\"\"\""
        ],
        [
         "\"V S P SALVAREZ - CENTRO EDUCACIONAL \"\"ABC\"\"\""
        ],
        [
         "\"RITO\"\"S CABELEIREIROS LTDA\""
        ],
        [
         "\"CONSELHO ESCOLAR DA ESCOLA ESTADUAL DE 1 GRAU \"\"CORONEL NO-VAES\"\"\""
        ],
        [
         "\"MARIA DE LOURDES SERAFIM \"\"A LOURDINHA\""
        ],
        [
         "\"ESCOLA \"\"ALEGRIA DE SABER\"\"\""
        ],
        [
         "\"HUGO CESAR MARTINS PEIXOTO \"\"CONSTRUCAO\""
        ],
        [
         "\"BUFFET \"\"LA PAELLA\"\" LTDA\""
        ],
        [
         "\"COMERCIO DE PNEUS\"\"GRAN PNEUS\"\"LTDA\""
        ],
        [
         "\"CAIXA ESCOLAR \"\"PREFEITO ANTONIO DIAS DE MEDEIROS\"\"\""
        ],
        [
         "\"CAIXA ESCOLAR \"\"ARNALDINO PERES DOS SANTOS\"\"\""
        ],
        [
         "\"CENTRO DE FACILITACAO DE NEGOCIOS-\"\"TRADE POINT MANAUS\"\"\""
        ],
        [
         "\"ACAO SOCIAL COMUNITARIA PIRAPAMENSE \"\"ASCOP\"\"\""
        ],
        [
         "\"ASSOCIACAO DOS PEQUENOS PRODUTORES RURAIS \"\" RENASCER \"\"\""
        ],
        [
         "\"ASSOCIACAO CULTURAL \"\"FRANKLIN DE CARVALHO\"\"\""
        ],
        [
         "\"CLUBE DE MAES \"\"PAZ E AMOR\"\"\""
        ],
        [
         "\"C.E.ESC.EST.1.GRAU \"\"JADER BARBALHO\"\"\""
        ],
        [
         "\"CASA DE TRADICAO E CULTURA AFRO-BRASILEIRA-\"\"ILE ASE OMO OYA ONIRA LECY E OBA SONGO\"\"\""
        ],
        [
         "\"CLUBE DE MAES \"\"NOSSA SENHORA APARECIDA\"\" DDO POVOADO CENTRODOS RODRIGUES\""
        ],
        [
         "\"ASSOCIACAO DOS MORADORES \"\"UNIDA PELO POVO DO JAPAO\"\"\""
        ],
        [
         "\"CAIXA ESCOLAR \"\"BENEDITO RIBEIRO DA SILVA\"\"\""
        ],
        [
         "\"CONSELHO ESCOLAR DA E E DE 1 GRAU \"\"ANGELO NASCIMENTO\"\"\""
        ],
        [
         "\"MAROMBA\"\"S REPAROS NAVAIS LTDA\""
        ],
        [
         "\"ALFA DOIS \"\"J\"\"SERVICOS GERAIS LTDA\""
        ],
        [
         "\"CENTRO ED. DE ASSIST. SOCIAL A INFANCIA, ADOLESCENCIA E IDOSO \"\"NOSSA SENHORA MAE DOS HOMENS\"\"\""
        ],
        [
         "\"CENTRO DE DESENVOLVIMENTO INFANTIL \"\"RABISCO\"\" LTDA\""
        ],
        [
         "\"CONSELHO ESCOLAR DA E E DE 1 GRAU \"\"DR JOSE MALCHER\"\"\""
        ],
        [
         "\"SISTEMA DE EDUCACAO \"\"BEITH ISRAEL\"\" LTDA\""
        ],
        [
         "\"ASSOCIACAO ESCOLA COMUNIDADE (AEC) EPG \"\"FEU ROSA\"\"\""
        ],
        [
         "\"A E C JARDIM DE INFANCIA \"\" NOSSA ESPERANCA \"\"\""
        ],
        [
         "\"IGREJA MISSIONARIA \"\"OS GUERREIROS DE JEOVA\"\" DO BRASIL\""
        ],
        [
         "\"D\"\"ALLGAS RESTAURANTE LTDA.\""
        ],
        [
         "\"CAIXA ESCOLAR \"\"OSORIO EVANGELISTA DOS SANTOS\"\" E.E. OSORIO EVANGELISTA DOS SANTOS\""
        ],
        [
         "\"D\"\" GONZAGA LTDA.\""
        ],
        [
         "\"ASSOCIACAO DOS MORADORES DA COMUNIDADE DE SANTA IZABEL - \"\"AMSIBEL\"\"\""
        ],
        [
         "\"CAIXA ESCOLAR \"\"JESSICA CASSIA RUELA\"\"\""
        ],
        [
         "\"APM DA ESCOLA MUNICIPAL DE PRIMEIRO E SEGUNDO GRAUS \"\"DR. NAUFAL ANTONIO MOURANI\"\"\""
        ],
        [
         "\"DIRETORIO ACADEMICO \"\"XXV DE MAIO\"\"\""
        ],
        [
         "\"GRUPO DE JOVENS \"\"NOEL\"\" DE SEARA\""
        ],
        [
         "\"ASSOCIACAO DOS PEQUENOS PRODUTORES DO SITIO BARRO BRANCO \"\"ANTONIO PEREIRA DA SILVA\""
        ],
        [
         "\"ASSOCIACAO DE MORADORES DO CONJUNTO HABITACIONAL \"\"JOAO BATISTA PAIXAO\"\"\""
        ],
        [
         "\"FRATERNIDADE ESPIRITA \"\"CAMINHO DA LUZ\"\"\""
        ],
        [
         "\"ASSOC. MOBILIZADORA DE ORIENTACAO E RESGATE-PROJETO \"\"AMOR\"\"\""
        ],
        [
         "\"COOPERATIVA TECNICA DE PRESTACAO DE SERVICOS DE APUI \"\"COOTEPRASA\"\"\""
        ],
        [
         "\"CONSELHO ESCOLAR DA E.E.DE 1 GRAU ANEXO \"\"DR.ANTONIO T. GUEIROS\"\"\""
        ],
        [
         "\"CONSELHO ESCOLAR DO CENTRO COMUNITARIO JUVENTUDE \"\"LA PAZ\"\"\""
        ],
        [
         "\"ASSOCIACAO ESCOLA COMUNIDADE (AEC)-E.P.S.C.-\"\"ALVARO CASTE-LO\"\"\""
        ],
        [
         "\"STEMP\"\"S MODAS LTDA\""
        ],
        [
         "\"POINT RIO \"\"72\"\" - COMERCIO DE INFORMATICA LTDA.\""
        ],
        [
         "\"NEUSA MARIA DE OLIVEIRA \"\"A MINEIRA\"\"\""
        ],
        [
         "\"ASSOCIACAO AGRICOLA \"\"ESTRELA DO PONTAL\"\" DO MUNICIPIO DE SANDOVALINA\""
        ],
        [
         "\"GRUPO DO LAR \"\"SOL NASCENTE\"\"\""
        ],
        [
         "\"ASSOC COMUNITARIA \"\"NOVO PARAISO\"\" DA BOCA DO TUPANA\""
        ],
        [
         "\"PADARIA \"\"VIA NORTE\"\"LTDA\""
        ],
        [
         "\"ICOM\"\"ART INDUSTRIA E COMERCIO DE ARTEFATOS DE RESINA LTDA\""
        ],
        [
         "\"CONFEITARIA E PADARIA \"\"BOM DIA\"\" LTDA\""
        ],
        [
         "\"CONSELHO DE ESCOLA MUNICIPAL JARDIM DE INFANCIA \"\"LUIZ DALLA BERNARDINA\"\"\""
        ],
        [
         "\"ASSOCIACAO DOS PRODUTORES RURAIS \"\"RODEIO BONITO\"\"\""
        ],
        [
         "\"\"\"K.O.\"\" INDUSTRIA E COMERCIO DE BRINDES LTDA\""
        ],
        [
         "\"CLUBE DE DAMAS \"\"UNIDAS VENCEREMOS\"\".\""
        ],
        [
         "\"CLUBE DE MAES \"\"LUTAR PARA VENCER\"\"\""
        ],
        [
         "\"TEQUILA\"\"S ABC LAVA RAPIDO LANCHONETE LTDA\""
        ],
        [
         "\"INDUSTRIA E COMERCIO DE MASSAS \"\"PASTA DI PRIMA\"\" LTDA\""
        ],
        [
         "\"JORGE FRANCISCO DE SOUZA \"\"MECANICA\""
        ],
        [
         "\"ASSOCIACAO DE BENEMERENCIA ITAPOLITANA \"\"CHICO ALVES\"\"\""
        ],
        [
         "\"PRIMO\"\"S CAR SERVICOS DE LAVAGEM DE CARROS S/C LTDA\""
        ],
        [
         "\"SOLANGE DA S.LEITE GOES\";\"2135\""
        ],
        [
         "\"IGREJA EVANGELICA \"\"CHAMADA MISSIONARIA \"\"\""
        ],
        [
         "\"INSTITUTO DE PESQUISA \"\"DR. MARCUS PEREIRA HONDA\"\" S/C LTDA\""
        ],
        [
         "\"PISCICULTURA \"\"PESQUE E PAGUE\"\" PALACIO LTDA\""
        ],
        [
         "\"GRUPO DE IDOSOS \"\" TERCEIRO MILENIO\"\"\""
        ],
        [
         "\"TV O ESTADO \"\"ON LINE\"\" LTDA\""
        ],
        [
         "\"ASSOCIACAO DE MORADORES DAS LOCALIDADES \"\"CHAPADINHA E NOVAVIDA\"\"\""
        ],
        [
         "\"\"\"DOLCE SONNO LTDA\""
        ],
        [
         "\"COMISSAO DE FORMATURA DOS ESTUDANTES DE ODONTOLOGIA DA TURMA \"\"A\"\" 97/01-PUC PR\""
        ],
        [
         "\"ASSOCIACAO BENEFICIENTE \"\"POVO DE DEUS\"\"\""
        ],
        [
         "\"CONSELHO ESCOLAR DA ESCOLA ESTADUAL DE 1 GRAU DE PERIMETRO\"\"B\"\"\""
        ],
        [
         "\"ASSOCIACAO \"\"CHE GUEVARA\"\"\""
        ],
        [
         "\"CENTRO DE ENSINO SUPERIOR \"\"AFIRMATIVO\"\" DE MARINGA\""
        ],
        [
         "\"CAIXA ESCOLAR \"\"IZANIRA RIBEIRO COSTA\"\"\""
        ],
        [
         "\"CAIXA ESCOLAR \"\"OSWALDO CAMPOS DO AMARAL\"\"\""
        ],
        [
         "\"CAIXA ESCOLAR \"\"FELICIANO MARQUES TELES\"\"\""
        ],
        [
         "\"CAIXA ESCOLAR \"\"LUZIA RENNO MOREIRA\"\"\""
        ],
        [
         "\"CAIXA ESCOLAR \"\"FRANCISCO BALBINO PEREIRA\"\"\""
        ],
        [
         "\"CAIXA ESCOLAR \"\"JOAO DE FARIA CARDOSO\"\"\""
        ],
        [
         "\"CAIXA ESCOLAR \"\"JOAO DE CAMARGO\"\"\""
        ],
        [
         "\"CAIXA ESCOLAR \"\"MARIA JOSE RAPOSO\"\"\""
        ],
        [
         "\"\"\"RAQUEL & RESENDE LTDA\""
        ],
        [
         "\"ASSOCIACAO DA TERCEIRA IDADE \"\"BOM JESUS DOS PASSOS\"\"\""
        ],
        [
         "\"INSTITUTO DE ARTES E CULTURA JAPONESA \"\"DOJO ZEMBUKAY\"\"\""
        ],
        [
         "\"CORAL MUNICIPAL INFANTO JUVENIL \"\"SAO JOAO BATISTA\"\".\""
        ],
        [
         "\"\"\"QUERENCA CLUBE - PRODUCAO PROMOCAO E DIVULGACOES ARTISTICAS LTDA\""
        ],
        [
         "\"ASSOCIACAO DOS PEQUENOS PRODUTORES DO SITIO BELEZA \"\"FRANCISCA PEREIRA DA SILVA\"\"\""
        ],
        [
         "\"ASSOCIACAO DE MORADORES \"\"NOSSA SENHORA DO LIVRAMENTO\"\" PO VOADO BARRIGUDA DO INSONO\""
        ],
        [
         "\"\"\"PANIFICADORA GOLDEN PARK LTDA\""
        ],
        [
         "\"\"\"A & R \"\"- MOTO COURIERS LTDA\""
        ],
        [
         "\"CONSELHO ESCOLAR DA E.R.C. \"\"ELCIONE BARBALHO\"\"\""
        ],
        [
         "\"\"\"T.C.S\"\" CONSTRUCOES E SERVICOS LTDA\""
        ],
        [
         "\"CLUBE ESCOLA DE PARAQUEDISMO \"\"SONHO AZUL\"\"\""
        ],
        [
         "\"ASSOCIACAO DOS PEQUENOS PRODUTORES RURAIS DE OLHO D\"\"AGUA GRANDE\""
        ],
        [
         "\"DOUBLE \"\"C\"\" TRAVEL & TOURS LTDA\""
        ],
        [
         "\"SOCIEDADE \"\"PROJETO ABRACO \"\"\""
        ],
        [
         "\"CASA DE CARNES \"\"ESQUINA TIETE\"\" LTDA\""
        ],
        [
         "\"ASSOC.DE MULHERES,PAIS,JOVENS E CRIANCAS DE PERIQUITO-MG \"\"AMPJCP\"\"\""
        ],
        [
         "\"\"\"SIME\"\" PROPAGANDA E MARKETING S/C LTDA\""
        ],
        [
         "\"ASSOCIACAO COMUNITARIA DE MORADORES DO POLIGONO \"\"D\"\" - QUATRO IRMAOS.\""
        ],
        [
         "\"ASSOCIACAO ESCOLA COMUNIDADE (AEC) \"\"PARQUE INFANTIL MARIA QUEIROZ LINDEMBERG\"\"\""
        ],
        [
         "\"ASSOCIACAO ESCOLA COMUNIDADE AEC JARDIM DE INFANCIA PUPILEIRA \"\"ZELIA VIANA DE AGUIAR \"\"\""
        ],
        [
         "\"ASSOCIACAO DE MORADORES DO POVOADO \"\"ABAIS E ADJACENCIAS\"\"\""
        ],
        [
         "\"COMERCIAL DE FERRAMENTAS \"\"BRINCO DE OURO\"\" LTDA\""
        ],
        [
         "\"\"\"DIGITA - PROCESSAMENTOS DE JUAZEIRO LTDA\"\"\""
        ],
        [
         "\"\"\"J.C.\"\" - MOTO EXPRESS S/C LTDA\""
        ],
        [
         "\"AUTO MECANICA \"\"L CAR\"\" S/C LTDA\""
        ],
        [
         "\"\"\"QUALY COMERCIO DE OVOS LTDA \"\"\""
        ],
        [
         "\"\"\"JOAO GILBERTO ROSA VICTORIANO\""
        ],
        [
         "\"MARLENE BORBA\"\"A LEGMAR\""
        ],
        [
         "\"BELA CINTRA \"\"460\"\" DISTRIBUIDORA LTDA\""
        ],
        [
         "\"ASSOCIACAO \"\"SAO FRANCISCO\"\" DOS TRABALHADORES E PRODUTORES RURAIS DA REGIAO CENTRO DO OSVALDO\""
        ],
        [
         "\"\"\"SALTENHA LANCHONETE LTDA\""
        ],
        [
         "\"ASSOCIACAO \"\"PADRE CICERO\"\" DE MORADORES DO POVOADO AZEDO E ADJACENCIAS\""
        ],
        [
         "\"\"\"A E C\"\" ASSOCIACAO ESCOLA COMUNIDADE DA EPG XIII DE SETEMBRO\""
        ],
        [
         "\"IGREJA EVANGELICA PENTECOSTAL DE CRISTO \"\"OS PIONEIROS DA FE\"\"\""
        ],
        [
         "\"\"\"TOME SUCO\"\" - COMERCIO DE SUCOS E LANCHES LTDA\""
        ],
        [
         "\"\"\" DOHITA BORBELY\""
        ],
        [
         "\"ASSOCIACAO CULTURAL BENEFICIENTE E COMUNITARIA \"\"CAMINHOS DA VIDA\"\"\""
        ],
        [
         "\"ASSOCIACAO DOS MORADORES E AMIGOS DO BAIRRO VILA DO SOL \"\"AMAVISOL\"\"\""
        ],
        [
         "\"\"\"ELITE CONSULTORIA E TREINAMENTO EM SEGURANCA,HIGIENE E MEDICINA DO TRABALHO LTDA\"\"\""
        ],
        [
         "\"IGREJA EVANGELICA PENTECOSTAL - \"\"DEUS ESTA PRESENTE\"\"\""
        ],
        [
         "\"\"\"DATA-ECO\"\" PROCESSAMENTO DE DADOS S/C LTDA\""
        ],
        [
         "\"GREMIO ESCOLAR RECREATIVO \"\"PROFESSOR PAULO FREIRE\"\"\""
        ],
        [
         "\"\"\" LEILA MARIA M PEREIRA\""
        ],
        [
         "\"\"\" ENIO JESUS PEREIRA\""
        ],
        [
         "\"SOCIEDADE BENEFICENTE \"\"CASA 22 DE JULHO\"\"\""
        ],
        [
         "\"AMBVD-ASSOCIACAO DOS MORADORES DO BAIRRO \"\"VILA DIAMANTINA\"\"\""
        ],
        [
         "\"ASSOCIACAO COMUNITARIA \"\"UNIDOS PARA VENCER\"\" DE PORTO BELO I\""
        ],
        [
         "\"ASSOCIACAO DE ADOLESCENTES \"\" OS INOCENTES \"\" DE POCO BRANCO\""
        ],
        [
         "\"ASSOCIACAO COMUNITARIA LOGRADOR RIACHO DA PINHEIRA XIQUE- XIQUE \"\"JUVENCIO ALMEIDA COSTA\"\"\""
        ],
        [
         "\"CLUBE DE MAES \"\"MARIA FIOREZZE\"\"\""
        ],
        [
         "\"CENTRO DE UMBANDA \"\"MANE BAIANO PAI\"\"\""
        ],
        [
         "\"TROCA CARNAVALESCA MISTA \"\"O FRAGOSAO\"\"\""
        ],
        [
         "\"\"\"PMG ASSISTENCIA TECNICA LTDA\""
        ],
        [
         "\"ASS.\"\"PAZ RURAL\"\" DA ESCOLA MUNICIPAL SAO JOAO BATISTA\""
        ],
        [
         "\"INDUSTRIA DE REFRIGERANTES \"\"TROPICAL\"\" LTDA.\""
        ],
        [
         "\"ASSOCIACAO BENEFICENTE DE SANTA FILOMENA - \"\"A.B.S.F.\"\"\""
        ],
        [
         "\"ASSOCIACAO COMUNITARIA DE VARZEA DO MEIO - \"\"A.C.V.M.\"\"\""
        ],
        [
         "\"GRUPO DE CANDIDATOS DE CAMPINAS E REGIAO DO INST.DE PSICANALISE \"\"DURVAL MARCONDES\"\"DA SOC.BRAS.DE PSICAN.DE S. PAULO\""
        ],
        [
         "\"ASSOCIACAO COMUNITARIA SOCIO CULTURAL \"\"FRANCISCO SALES DE MENEZES\"\"\""
        ],
        [
         "\"COMISSAO DE REPRESENTANTES DOS COMPROMISSARIOS COMPRADORESUNID.RES.CONDOMINIO EDIF. \"\"LONDON PALACE\"\" EM CONSTRUCAO.\""
        ],
        [
         "\"ASSOCIACAO \"\"ATIVIDADES ORNITOLOGICAS\"\"\""
        ],
        [
         "\"ASSOCIACAO DOS PRODUTORES RURAIS DE CARNE D\"\"ANTA\""
        ],
        [
         "\"CENTRO SOCIAL DE INTEGRACAO DO MENOR CARENTE \"\"MONTE DAS OLIVEIRAS\"\"\""
        ],
        [
         "\"COMERCIAL \"\"DENERAL\"\" LTDA\""
        ],
        [
         "\"ASSOCIACAO COMUNITARIA \"\"A CORAGEM FEMININA\"\"\""
        ],
        [
         "\"CONSELHO ESCOLAR DA ESCOLA ESTADUAL MEC/SEDUC KM 60 \"\"A\"\"\""
        ],
        [
         "\"JOANA D\"\"ARC\""
        ],
        [
         "\"CONDOMINIO MARES DO SUL - BLOCO \"\"F\"\"\""
        ],
        [
         "\"CONSELHO ESCOLAR DA ESCOLA ESTADUAL MEC/SEDUC KM 172 \"\"B\"\"\""
        ],
        [
         "\"CENTRO DE CONVIVENCIA DO IDOSO\"\"VEREADOR BATISTA MARCARI\"\"DEFLORINEA-SP\""
        ],
        [
         "\"\"\"NOSSO LAR\"\" ASSOCIACAO DE MORADORES\""
        ],
        [
         "\"ASSOCIACAO DE ASSISTENCIA E AJUDA MUTUA \"\"CEU AZUL\"\"\""
        ],
        [
         "\"CONDOMINIO RESIDENCIAL PRODUBAN - BLOCO \"\"C\"\"\""
        ],
        [
         "\"LA\"\" COMIDEIRA COMERCIO DE COMIDA CASEIRA LTDA\""
        ],
        [
         "\"ASSOCIACAO DE INTEGRACAO SOCIAL \"\"LOS GAROTOS\"\"\""
        ],
        [
         "\"NUCLEO DE FORMACAO HUMANA \"\"N.F.H\""
        ],
        [
         "\"ASSOCIACAO DE PAIS E MESTRES - EMEI \"\"SITIO DO PICA- PAU-AMARELO\"\"\""
        ],
        [
         "\"\"\"CENTEL\"\" CENTRAL TELEMARKETING MOCOCA LTDA\""
        ],
        [
         "\"IGREJA PENTECOSTAL \"\"JEOVA JIREH\"\"\""
        ],
        [
         "\"RADIO COMUNITARIA PARAIZO DE GUIDOVAL \"\"RCPG\"\"\""
        ],
        [
         "\"\"\"JM\"\" REPRESENTACOES LTDA\""
        ],
        [
         "\"ALBERTO VITALINO DE CAMPOS\"\"MICROEMPRESA\"\"\""
        ],
        [
         "\"ASSOCIACAO DOS MORADORES DO LOTEAMENTO \"\"OSMAR CABRAL\"\"\""
        ],
        [
         "\"CONDOMINIO DO EDIFICIO \"\"UMARI BLOCO A\"\"\""
        ],
        [
         "\"CLUBE DE MAES CARENTES \"\"MARIA DE NAZARE\"\"\""
        ],
        [
         "\"\"\"GRAPHUS SUL FIF 60\"\"\""
        ],
        [
         "\"IGREJA EVANGELICA PENTENCOSTAL \"\"JESUS CRISTO FONTE DE RENOVACAO\"\"\""
        ],
        [
         "\"ESCOLA DE RECREACAO INFANTIL \"\" SONHO ENCANTADO \"\"\""
        ],
        [
         "\"\"\"K. & F. TRANSPORTES LTDA\"\"\""
        ],
        [
         "\"ASSOCIACAO COMUNITARIA DA VILA RURAL \"\"NOVA ESPERANCA\"\"\""
        ],
        [
         "\"CLUBE DE MAES: \"\"MAE APARECIDA\"\"\""
        ],
        [
         "\"ASSOCIACAO DOS MORADORES \"\"BELA VISTA DO PLACIDO\"\"\""
        ],
        [
         "\"CENTRO DE RECREACAO INFANTIL \"\"OS PEQUENINOS\"\" S/C LTDA\""
        ],
        [
         "\"\"\"AGRO CENTERCAO\"\" LTDA\""
        ],
        [
         "\"ASSOCIACAO \"\"NATAL CRIANCA FELIZ\"\" NACRIFE\""
        ],
        [
         "\"\"\"CAIXA COMUNIDADE DO CENTRO DE CONVIVENCIA PERPETUO SOCORRO\"\"\""
        ],
        [
         "\"ASSOCIACAO DOS MORADORES DO GAVIAO \"\"BENEDITO MOREIRA MENDES\"\"\""
        ],
        [
         "\"\"\"28\"\" - LIMPEZA E CONSERVACAO DE VEICULOS LTDA\""
        ],
        [
         "\"BAR E RESTAURANTE \"\"DA BIZA\"\" LTDA\""
        ],
        [
         "\"\"\"DA LUCRIS \"\" - EMBALAGENS LTDA MICROEMPRESA\""
        ],
        [
         "\"MARCIA REGINA DOS SANTOS \"\"RESAN\""
        ],
        [
         "\"COOPERATIVA AGRICOLA DOS PEQUENOS PRODUTORES RURAIS DE CAMPO AZUL \"\"COOPERCAMPO\"\"\""
        ],
        [
         "\"ASSOCIACAO COMUNITARIA VILA RURAL \"\"PROF.JUDITE DE OLIVEIRARODRIGUES \"\"\""
        ],
        [
         "\"APM DA ESCOLA MUNICIPAL \"\"NOVO MUNDO POLO\"\" -SALA OUROLANDIA\""
        ],
        [
         "\"ASSOCIACAO DOS EX-ALUNOS DA FACULDADE DE COMUNICACAO SOCIAL \"\"CASPER LIBERO\"\"\""
        ],
        [
         "\"COOPERATIVA MIST.DE TRABALHO E PROD.DOS ALUNOS E FUNC. DA ESC.AGROINDUSTRIAL \"\"JUSCELINO KUBIT.DE OLIVEIRA - CEAJUK\""
        ],
        [
         "\"\"\" GRUPO NOSSA SENHORA DA SALETE \"\".\""
        ],
        [
         "\"E M E I - \"\"SANTO GARBIN\"\"\""
        ],
        [
         "\"E.M.E.I PAULO \"\"BIMBO\"\" GOMES\""
        ],
        [
         "\"ESCOLA MUNICIPAL DE EDUCACAO INFANTIL \"\"PROF. MARIA LUCIA BERTI\"\".\""
        ],
        [
         "\"E.M.E.I. \"\"ENFERMEIRA MARIA MAGDALENA BRASIL\"\"\""
        ],
        [
         "\"ESCOLA MUNICIPAL DE EDUCACAO INFANTIL \"\"PROFA. IRMA DE MIRANDA MELLO\"\"\""
        ],
        [
         "\"E.M.E.I. \"\"PROFA. ELAINE MARIA ALVES SILVEIRA\"\"\""
        ],
        [
         "\"E.M.E.I. \"\"DR. ARLINDO MORANDINI\"\"\""
        ],
        [
         "\"ALIRIO DE CARVALHO \"\"MICROEMPRESA\"\"\""
        ],
        [
         "\"MARIA MARLENE DE SOUZA SILVA \"\"MICROEMPRESA\""
        ],
        [
         "\"JOSE MENDONCA FILHO \"\"MICROEMPRESA\"\"\""
        ],
        [
         "\"ASSOCIACAO COMUNITARIA AGRICOLA \"\"SAO FRANCISCO\"\" COMUNIDADESAO FRANCISCO DO MASTRO\""
        ],
        [
         "\"CRECHE E PRE ESCOLA \"\"ISAURA ROQUE QUERCIA\"\"\""
        ],
        [
         "\"CRECHE E PRE-ESCOLA \"\"IZOLINA ZANCOPE MUNARI\"\"\""
        ],
        [
         "\"\"\"ATIVA\"\" - ASSOCIACAO DE MUNICIPIOS\""
        ],
        [
         "\"CRECHE E PRE-ESCOLA \"\"ODETE LEITE DE MORAES\"\"\""
        ],
        [
         "\"IGREJA EVANGELICA PENTECOSTAL \"\"DEUS E ESPERANCA\"\"\""
        ],
        [
         "\"ASSOCIACAO COMUNITARIA \"\"JOSE FLAUZINO FRANCO\"\"\""
        ],
        [
         "\"ASSOCIACAO COMUNITARIA VILA RURAL \"\"PORTA DO CEU\"\"\""
        ],
        [
         "\"CLUBE DE MAES \"\"TIA ORFILA\"\"\""
        ],
        [
         "\"CLUBE DE MAES \"\"NOSSA SENHORA DO PERPETUO SOCORRO\"\"\""
        ],
        [
         "\"APM DA ESCOLA MUNICIPAL DE EDUCACAO INFANTIL \"\"JARDIM CAROLINA \"\"\""
        ],
        [
         "\"FRANCISCO DAS CHAGAS DE LIMA \"\"VESTUARIO\""
        ],
        [
         "\"CLUBE DE MAES \"\" NOVO HORIZONTE \"\"\""
        ],
        [
         "\"\"\"ASP TECNOLOGIA E SISTEMAS LTDA\"\"\""
        ],
        [
         "\"E.M.E.F.\"\"PROF.VIRGILIO ROSAS DA SILVA\"\"\""
        ],
        [
         "\"\"\" J.KAR-VEICULOS LTDA\""
        ],
        [
         "\"ASSOCIACAO COMUNITARIA DOS TRABALHADORES RURAIS \"\"UNIDOS PELA TERRA E LIBERDADE\"\"DO MUNICIPIO DE ITAMARANDIBA-MG\""
        ],
        [
         "\"INSTITUTO \"\"VOLUNTARIOS EM ACAO\"\"\""
        ],
        [
         "\"ASSOCIACAO DE PRODUTORES RURAIS DO PROJETO LADEIRINHAS \"\"B\"\"\""
        ],
        [
         "\"ESCOLA EDUCACAO INFANTIL \"\" ANJINHOS DA GUARDA S/C LTDA\""
        ],
        [
         "\"ASSOCIACAO \"\"NOSSA SENHORA DA SOLIDADE\"\", DOS TRABALHADORES RURAIS DO POVOADO SOLIDADE\""
        ],
        [
         "\"UNIAO DE MORADORES \"\"A CAMINHO DA PAZ\"\" DO POVOADO CAITETU\""
        ],
        [
         "\"MERCEARIA MARCA \"\"S\"\" LTDA\""
        ],
        [
         "\"ASSOCIACAO \"\"JOVENS FORTES\"\"DOS PEQUENOS PRODUTORES DE ROCADINHO\""
        ],
        [
         "\"CONSELHO ESCOLAR DA ESCOLA MUNICIPAL \"\"MONTEIRO LOBATO\"\"\""
        ],
        [
         "\"CIA DE RODEIO \"\"OS BRAZOPOLENSES\"\"\""
        ],
        [
         "\"\"\"OSMAR GARCIA DOS REIS ABRIDORES\""
        ],
        [
         "\"IGREJA EVANGELICA MISSIONARIA \"\"SO O SENHOR E DEUS\"\"\""
        ],
        [
         "\"ASSOCIACAO DE PRODUTORES \"\"TREVO DA SORTE\"\" DE TAPIRAI E REGIAO\""
        ],
        [
         "\"\"\"NAIR MENDES DE ARAUJO\"\"\""
        ],
        [
         "\"\"\"L. RAMOS PRODUTOS VETERINARIOS LTDA\"\"\""
        ],
        [
         "\"ASSOCIACAO DE MORADORES DO RESIDENCIAL \"\"MORADA DO SOL\"\"\""
        ],
        [
         "\"EMPRESA JORNALISTICA \"\"A VOZ SANDUMONENSE\"\" LTDA\""
        ],
        [
         "\"ASSOCIACAO CLUBE DE MAES \"\"UNIDOS CHEGAREMOS A CRISTO\"\"\""
        ],
        [
         "\"FABRICA DE DOCES MOINHO\"\"S LTDA\""
        ],
        [
         "\"ROD\"\"CAS REPRESENTACOES LTDA\""
        ],
        [
         "\"LOJA MACONICA \"\"FILHOS DE SALOMAO\"\"\""
        ],
        [
         "\"\"\" JET GAS COMERCIAL LTDA \"\"\""
        ],
        [
         "\"ASSOCIACAO CLUBE DE MAES \"\"TIA MARCELINA\"\" DO POVOADO PEDRAS\""
        ],
        [
         "\"AMARILDO ANACLETO DA COSTA\";\"2135\""
        ],
        [
         "\"CLUBE DE MAES TRES \"\"M\"\" DO BAIRRO TACCA\""
        ],
        [
         "\"LUIZ CARLOS BASILIO DE OLIVEIRA \"\"ATELIE\"\"\""
        ],
        [
         "\"M L PESSOA CASTRO\"\"M E\"\"\""
        ],
        [
         "\"\"\"ME\"\"PETALAS,COMERCIAL DE MIUDEZAS LTDA\""
        ],
        [
         "\"MARCIA RODRIGUES ESCOBAR \"\"MICRO EMPRESA\"\"\""
        ],
        [
         "\"INDUSTRIA DE MAQUINAS ESPECIAIS \"\"SCD\"\" LTDA\""
        ],
        [
         "\"CARVALHO & MISURA LTDA \"\"MICRO EMPRESA\"\"\""
        ],
        [
         "\"RUBEM CLENI RODRIGUES CORTES\"\"MICROEMPRESA\"\"\""
        ],
        [
         "\"MIRIAN DE MOURA \"\"M\"\"E\""
        ],
        [
         "\"NADIR T R SCHIRMER \"\"M\"\"E\""
        ],
        [
         "\"SERGIO DA CUNHA MATOS \"\"MICRO EMPRESA\"\"\""
        ],
        [
         "\"CLUBE DE MULHERES \"\"FRATERNIDADE E ACAO\"\"\""
        ],
        [
         "\"TECNAGRO\"\"ENGINEERING\"\" S/C LTDA\""
        ],
        [
         "\"MARISA D\"\"ARC SANTANA CAMARA\""
        ],
        [
         "\"CARVALHO\"\"CAMPOS & OLIVEIRA LTDA\""
        ],
        [
         "\"COMERCIO DE MOVEIS E ELETRODOMESTICOS \"\"DENI\"\" LTDA\""
        ],
        [
         "\"AS.DO DES.INT.DOS MOR.DE JUR.E COT.\"\"PADRE EZEQUIEL RAMI\""
        ],
        [
         "\"JOSE RIBEIRO DOS SANTOS \"\"O BAIANO\""
        ],
        [
         "\"CLUBE DE MAES \"\"SANTA IZABEL\"\"\""
        ],
        [
         "\"COMPANHIA DE TEATRO AMADOR \"\"TEATRO DA TERRA\"\"\""
        ],
        [
         "\"ASSOCIACAO DOS CONTRIBUINTES DA SISTEL-\"\"ACASIS\"\".\""
        ],
        [
         "\"RADIODIFUSAO E COMUNICACAO \"\"VOZ DA AMAZONIA\"\" LTDA\""
        ],
        [
         "\"JOSE BATISTA DA SILVA\"\"O CIGANO\"\"\""
        ],
        [
         "\"MANOEL PAULO DA SILVA \"\"O GOIANO\""
        ],
        [
         "\"ANTONIO TENORIO DA SILVA \"\"O LISBOA\""
        ],
        [
         "\"COOP AGROPEC MISTA VALE DA ESPERAN LTDA \"\" EM LIQUIDACAO\""
        ],
        [
         "\"KEIKO YAMADA ITSUSHIKI \"\"MICROEMPRESA\"\"\""
        ]
       ],
       "datasetInfos": [],
       "dbfsResultPath": null,
       "isJsonSchema": true,
       "metadata": {},
       "overflow": false,
       "plotOptions": {
        "customPlotOptions": {},
        "displayType": "table",
        "pivotAggregation": null,
        "pivotColumns": null,
        "xColumns": null,
        "yColumns": null
       },
       "removedWidgets": [],
       "schema": [
        {
         "metadata": "{}",
         "name": "_c1",
         "type": "\"string\""
        }
       ],
       "type": "table"
      }
     },
     "output_type": "display_data"
    }
   ],
   "source": [
    "df_raw_emp.select(\"_c1\").filter(col(\"_c1\").like('%\"%')).limit(1000).display()"
   ]
  },
  {
   "cell_type": "code",
   "execution_count": 0,
   "metadata": {
    "application/vnd.databricks.v1+cell": {
     "cellMetadata": {
      "byteLimit": 2048000,
      "rowLimit": 10000
     },
     "inputWidgets": {},
     "nuid": "d11cd12a-442b-4738-a54f-e950ae6fcee2",
     "showTitle": false,
     "tableResultSettingsMap": {},
     "title": ""
    }
   },
   "outputs": [
    {
     "output_type": "display_data",
     "data": {
      "text/html": [
       "<style scoped>\n",
       "  .table-result-container {\n",
       "    max-height: 300px;\n",
       "    overflow: auto;\n",
       "  }\n",
       "  table, th, td {\n",
       "    border: 1px solid black;\n",
       "    border-collapse: collapse;\n",
       "  }\n",
       "  th, td {\n",
       "    padding: 5px;\n",
       "  }\n",
       "  th {\n",
       "    text-align: left;\n",
       "  }\n",
       "</style><div class='table-result-container'><table class='table-result'><thead style='background-color: white'><tr><th>_c1</th></tr></thead><tbody><tr><td> T & T INDUSTRIA DE VIDROS E SERVICOS LTDA</td></tr><tr><td> MARINEIDE FERREIRA RAMOS</td></tr><tr><td> 1  IGREJA BATISTA BRASILEIRA DE LUCAS DO RIO VERDE-MT</td></tr><tr><td> COMERCIAL AD GOMES LTDA-ME</td></tr><tr><td> GRAMADO PARKS INVESTIMENTOS E INTERMEDIACOES S.A - EM RECUPERACAO JUDICIAL</td></tr><tr><td> BEL DA VILA RESTAURANTE - LTDA</td></tr><tr><td> V. G. SALVADOR REPRESENTACOES</td></tr><tr><td> CONSELHO ESCOLA-COMUNIDADE DA ESCOLA MUNICIPAL CLEMENTINO FRAGA</td></tr><tr><td> ROGERIO LIMA DE REZENDE CPF 833.417.226-53</td></tr><tr><td> EM LIQUIDACAO</td></tr><tr><td> SINDICATO DOS EMPREGADOS EM EMPRESAS DE CARRO FORTE E TRANSPORTE DE VALORES DO ESTADO DA BAHIA SINDFORTE</td></tr><tr><td> PARTIDO DA SOCIAL DEMOCRACIA BRASILEIRA DE POMBAL DIRETORIO MUNICIPAL DE POMBAL</td></tr><tr><td> ASSOCIACAO DE APOIO A ESCOLA DO CIEP BRIZOLAO 271 JOSE BONIFACIO TASSARA</td></tr><tr><td> AAE CENTRO DE ENSINO INTEGRADO AGROECOLOGICO BARAO  DE LANGSDORFF</td></tr><tr><td> 1097 THERMAS LTDA</td></tr><tr><td> WILMERS REPRESENTACOES COMERCIAIS LTDA</td></tr><tr><td>  NOVA  IMUNI  DESINSETIZACAO  LTDA ME</td></tr><tr><td> ADO SERVICOS ADMINISTRATIVOS ME LTDA</td></tr><tr><td> M & P ASSESSORIA CONTABIL LTDA</td></tr><tr><td> TECPOLO MANUTENCAO E MONTAGENS LTDA</td></tr><tr><td>  R J F BRASIL COMERCIAL LTDA</td></tr><tr><td> CONSELHO ESCOLA-COMUNIDADE DA ESCOLA MUNICIPAL MATO GROSSO</td></tr><tr><td> CASA PROPRIA CONSTRUCOES LTDA.</td></tr><tr><td> CONSELHO ESCOLA COMUNIDADE DA ESCOLA MUNICIPAL MARIA ISABEL BIVAR</td></tr><tr><td> D.D. MALHAS - SERVICOS DE CHAPISCO LTDA</td></tr><tr><td> M G ANDRADE SERVICOS</td></tr><tr><td> T R H ARAKIAN LTDA</td></tr><tr><td> MOZELI COMERCIAL DE ROUPAS E MERCEARIA LTDA.</td></tr><tr><td>                     C.A.M. CONSULTORIA EM ENGENHARIA LTDA.</td></tr><tr><td> C S DE ANDRADE FLESCH</td></tr><tr><td> ALFANDEGA 31 - RESTAURANTE EIRELI</td></tr><tr><td> INDUSTRIA E COMERCIO IMPORTACAO E EXPORTACAO DE MADEIRAS SOUZA MARTINS EIRELI</td></tr><tr><td> A.TOMOKO IWAKURA NASCIMENTO</td></tr><tr><td> AGRIMAR EMPREITEIRA, PAVIMENTACAO E TERRAPLANAGEM LTDA.</td></tr><tr><td> NOVA GLOBALTOUR SANTOS AGENCIA DE VIAGENS E EVENTOS LTDA</td></tr><tr><td> JMC STOPPIGLIA ADMINISTRACAO DE BENS PROPRIOS LTDA</td></tr><tr><td> G M E - GARCA MOTORES ELETRICOS LTDA -</td></tr><tr><td> NOSSO GESSO DECORACOES EIRELI</td></tr><tr><td> L & J  ENGENHARIA LTDA</td></tr><tr><td> FARMACIA DE MANIPULACAO BEZERRA DA SILVA LTDA</td></tr><tr><td> D'OLIM TRANSPORTES E LOGISTICA INTEGRADA LTDA. EM LIQUIDACAO</td></tr><tr><td> EMPREENDIMENTOS OLIVEIRA SILVA LTDA</td></tr><tr><td> M. CUNHA FERREIRA & PADILHA LTDA</td></tr><tr><td> MARIA DE FATIMA OLIVEIRA - CONFECCOES</td></tr><tr><td> MARTINS & MARTINS LTDA</td></tr><tr><td> TOLEDO REPRESENTACOES S/S LTDA</td></tr><tr><td> V C DOS SANTOS BAR</td></tr><tr><td> P F CUIDADOS AUTOMOTIVOS LTDA</td></tr><tr><td> F.GOMES & GOMES ASSESSORIA E REPRESENTACOES COMERCIAIS LTDA</td></tr><tr><td> CGK PARTICIPACOES LTDA.</td></tr><tr><td> V M  DA  SILVA</td></tr><tr><td> PARTIDO DOS TRABALHADORES - COMISSAO PROVISORIA MUNICIPAL  DE SAO JOAO DA PONTE MG</td></tr><tr><td> B RAMOS BAZAR</td></tr><tr><td> R C RODRIGUES UTILIDADES  IMPORTACAO E EXPORTACAO</td></tr><tr><td> R C FRANCO & CIA LTDA</td></tr><tr><td> M G C SERRARIA LTDA</td></tr><tr><td> JOSE LOURENCO DE SOUZA PALMA & CIA LTDA</td></tr><tr><td> PERFIL PLUG BUSCA E CONEXAO LTDA</td></tr><tr><td> LACERDA & LACERDA LTDA.</td></tr><tr><td> ALEXANDRE APARECIDO ANTUNES</td></tr><tr><td> PAULO CAETANO PINTO & CIA LTDA</td></tr><tr><td> TRANSCETRO LOG E SERVICOS LTDA</td></tr></tbody></table></div>"
      ]
     },
     "metadata": {
      "application/vnd.databricks.v1+output": {
       "addedWidgets": {},
       "aggData": [],
       "aggError": "",
       "aggOverflow": false,
       "aggSchema": [],
       "aggSeriesLimitReached": false,
       "aggType": "",
       "arguments": {},
       "columnCustomDisplayInfos": {},
       "data": [
        [
         " T & T INDUSTRIA DE VIDROS E SERVICOS LTDA"
        ],
        [
         " MARINEIDE FERREIRA RAMOS"
        ],
        [
         " 1  IGREJA BATISTA BRASILEIRA DE LUCAS DO RIO VERDE-MT"
        ],
        [
         " COMERCIAL AD GOMES LTDA-ME"
        ],
        [
         " GRAMADO PARKS INVESTIMENTOS E INTERMEDIACOES S.A - EM RECUPERACAO JUDICIAL"
        ],
        [
         " BEL DA VILA RESTAURANTE - LTDA"
        ],
        [
         " V. G. SALVADOR REPRESENTACOES"
        ],
        [
         " CONSELHO ESCOLA-COMUNIDADE DA ESCOLA MUNICIPAL CLEMENTINO FRAGA"
        ],
        [
         " ROGERIO LIMA DE REZENDE CPF 833.417.226-53"
        ],
        [
         " EM LIQUIDACAO"
        ],
        [
         " SINDICATO DOS EMPREGADOS EM EMPRESAS DE CARRO FORTE E TRANSPORTE DE VALORES DO ESTADO DA BAHIA SINDFORTE"
        ],
        [
         " PARTIDO DA SOCIAL DEMOCRACIA BRASILEIRA DE POMBAL DIRETORIO MUNICIPAL DE POMBAL"
        ],
        [
         " ASSOCIACAO DE APOIO A ESCOLA DO CIEP BRIZOLAO 271 JOSE BONIFACIO TASSARA"
        ],
        [
         " AAE CENTRO DE ENSINO INTEGRADO AGROECOLOGICO BARAO  DE LANGSDORFF"
        ],
        [
         " 1097 THERMAS LTDA"
        ],
        [
         " WILMERS REPRESENTACOES COMERCIAIS LTDA"
        ],
        [
         "  NOVA  IMUNI  DESINSETIZACAO  LTDA ME"
        ],
        [
         " ADO SERVICOS ADMINISTRATIVOS ME LTDA"
        ],
        [
         " M & P ASSESSORIA CONTABIL LTDA"
        ],
        [
         " TECPOLO MANUTENCAO E MONTAGENS LTDA"
        ],
        [
         "  R J F BRASIL COMERCIAL LTDA"
        ],
        [
         " CONSELHO ESCOLA-COMUNIDADE DA ESCOLA MUNICIPAL MATO GROSSO"
        ],
        [
         " CASA PROPRIA CONSTRUCOES LTDA."
        ],
        [
         " CONSELHO ESCOLA COMUNIDADE DA ESCOLA MUNICIPAL MARIA ISABEL BIVAR"
        ],
        [
         " D.D. MALHAS - SERVICOS DE CHAPISCO LTDA"
        ],
        [
         " M G ANDRADE SERVICOS"
        ],
        [
         " T R H ARAKIAN LTDA"
        ],
        [
         " MOZELI COMERCIAL DE ROUPAS E MERCEARIA LTDA."
        ],
        [
         "                     C.A.M. CONSULTORIA EM ENGENHARIA LTDA."
        ],
        [
         " C S DE ANDRADE FLESCH"
        ],
        [
         " ALFANDEGA 31 - RESTAURANTE EIRELI"
        ],
        [
         " INDUSTRIA E COMERCIO IMPORTACAO E EXPORTACAO DE MADEIRAS SOUZA MARTINS EIRELI"
        ],
        [
         " A.TOMOKO IWAKURA NASCIMENTO"
        ],
        [
         " AGRIMAR EMPREITEIRA, PAVIMENTACAO E TERRAPLANAGEM LTDA."
        ],
        [
         " NOVA GLOBALTOUR SANTOS AGENCIA DE VIAGENS E EVENTOS LTDA"
        ],
        [
         " JMC STOPPIGLIA ADMINISTRACAO DE BENS PROPRIOS LTDA"
        ],
        [
         " G M E - GARCA MOTORES ELETRICOS LTDA -"
        ],
        [
         " NOSSO GESSO DECORACOES EIRELI"
        ],
        [
         " L & J  ENGENHARIA LTDA"
        ],
        [
         " FARMACIA DE MANIPULACAO BEZERRA DA SILVA LTDA"
        ],
        [
         " D'OLIM TRANSPORTES E LOGISTICA INTEGRADA LTDA. EM LIQUIDACAO"
        ],
        [
         " EMPREENDIMENTOS OLIVEIRA SILVA LTDA"
        ],
        [
         " M. CUNHA FERREIRA & PADILHA LTDA"
        ],
        [
         " MARIA DE FATIMA OLIVEIRA - CONFECCOES"
        ],
        [
         " MARTINS & MARTINS LTDA"
        ],
        [
         " TOLEDO REPRESENTACOES S/S LTDA"
        ],
        [
         " V C DOS SANTOS BAR"
        ],
        [
         " P F CUIDADOS AUTOMOTIVOS LTDA"
        ],
        [
         " F.GOMES & GOMES ASSESSORIA E REPRESENTACOES COMERCIAIS LTDA"
        ],
        [
         " CGK PARTICIPACOES LTDA."
        ],
        [
         " V M  DA  SILVA"
        ],
        [
         " PARTIDO DOS TRABALHADORES - COMISSAO PROVISORIA MUNICIPAL  DE SAO JOAO DA PONTE MG"
        ],
        [
         " B RAMOS BAZAR"
        ],
        [
         " R C RODRIGUES UTILIDADES  IMPORTACAO E EXPORTACAO"
        ],
        [
         " R C FRANCO & CIA LTDA"
        ],
        [
         " M G C SERRARIA LTDA"
        ],
        [
         " JOSE LOURENCO DE SOUZA PALMA & CIA LTDA"
        ],
        [
         " PERFIL PLUG BUSCA E CONEXAO LTDA"
        ],
        [
         " LACERDA & LACERDA LTDA."
        ],
        [
         " ALEXANDRE APARECIDO ANTUNES"
        ],
        [
         " PAULO CAETANO PINTO & CIA LTDA"
        ],
        [
         " TRANSCETRO LOG E SERVICOS LTDA"
        ]
       ],
       "datasetInfos": [],
       "dbfsResultPath": null,
       "isJsonSchema": true,
       "metadata": {},
       "overflow": false,
       "plotOptions": {
        "customPlotOptions": {},
        "displayType": "table",
        "pivotAggregation": null,
        "pivotColumns": null,
        "xColumns": null,
        "yColumns": null
       },
       "removedWidgets": [],
       "schema": [
        {
         "metadata": "{}",
         "name": "_c1",
         "type": "\"string\""
        }
       ],
       "type": "table"
      }
     },
     "output_type": "display_data"
    }
   ],
   "source": [
    "df_raw_emp.select(\"_c1\").filter(col(\"_c1\").like(' %')).limit(1000).display()"
   ]
  },
  {
   "cell_type": "code",
   "execution_count": 0,
   "metadata": {
    "application/vnd.databricks.v1+cell": {
     "cellMetadata": {
      "byteLimit": 2048000,
      "rowLimit": 10000
     },
     "inputWidgets": {},
     "nuid": "105142be-8769-4e20-88d4-f2c20d00ad23",
     "showTitle": false,
     "tableResultSettingsMap": {},
     "title": ""
    }
   },
   "outputs": [
    {
     "output_type": "display_data",
     "data": {
      "text/html": [
       "<style scoped>\n",
       "  .table-result-container {\n",
       "    max-height: 300px;\n",
       "    overflow: auto;\n",
       "  }\n",
       "  table, th, td {\n",
       "    border: 1px solid black;\n",
       "    border-collapse: collapse;\n",
       "  }\n",
       "  th, td {\n",
       "    padding: 5px;\n",
       "  }\n",
       "  th {\n",
       "    text-align: left;\n",
       "  }\n",
       "</style><div class='table-result-container'><table class='table-result'><thead style='background-color: white'><tr><th>_c6</th></tr></thead><tbody><tr><td>null</td></tr><tr><td>ABADIA DE GOIAS - GO</td></tr><tr><td>ABADIANIA - GO</td></tr><tr><td>ABAETE - MG</td></tr><tr><td>ABAETETUBA - PA</td></tr><tr><td>ABAIARA - CE</td></tr><tr><td>ABRE CAMPO - MG</td></tr><tr><td>ABREULANDIA - TO</td></tr><tr><td>ACAIACA - MG</td></tr><tr><td>ACAJUTIBA - BA</td></tr><tr><td>ACARA - PA</td></tr><tr><td>ACARAPE - CE</td></tr><tr><td>ACARAU - CE</td></tr><tr><td>ACAUA - PI</td></tr><tr><td>ACEGUA - RS</td></tr><tr><td>ACORIZAL - MT</td></tr><tr><td>ACRE</td></tr><tr><td>ACRELANDIA - AC</td></tr><tr><td>ACREUNA - GO</td></tr><tr><td>ACUCENA - MG</td></tr><tr><td>ADAMANTINA - SP</td></tr><tr><td>ADELANDIA - GO</td></tr><tr><td>ADRIANOPOLIS - PR</td></tr><tr><td>ADUSTINA - BA</td></tr><tr><td>AFONSO CLAUDIO - ES</td></tr><tr><td>AFONSO CUNHA - MA</td></tr><tr><td>AFRANIO - PE</td></tr><tr><td>AFUA - PA</td></tr><tr><td>AGRICOLANDIA - PI</td></tr><tr><td>AGUA AZUL DO NORTE - PA</td></tr><tr><td>AGUA BOA - MG</td></tr><tr><td>AGUA BOA - MT</td></tr><tr><td>AGUA BRANCA - AL</td></tr><tr><td>AGUA BRANCA - PB</td></tr><tr><td>AGUA BRANCA - PI</td></tr><tr><td>AGUA CLARA - MS</td></tr><tr><td>AGUA DOCE - SC</td></tr><tr><td>AGUA DOCE DO MARANHAO - MA</td></tr><tr><td>AGUA DOCE DO NORTE - ES</td></tr><tr><td>AGUA FRIA DE GOIAS - GO</td></tr><tr><td>AGUA LIMPA - GO</td></tr><tr><td>AGUANIL - MG</td></tr><tr><td>AGUAS DA PRATA - SP</td></tr><tr><td>AGUAS DE CHAPECO - SC</td></tr><tr><td>AGUAS DE SANTA BARBARA - SP</td></tr><tr><td>AGUAS FORMOSAS - MG</td></tr><tr><td>AGUAS LINDAS DE GOIAS - GO</td></tr><tr><td>AGUAS MORNAS - SC</td></tr><tr><td>AGUDOS DO SUL - PR</td></tr><tr><td>AGUIA BRANCA - ES</td></tr><tr><td>AGUIARNOPOLIS - TO</td></tr><tr><td>AIMORES - MG</td></tr><tr><td>AIURUOCA - MG</td></tr><tr><td>AJURICABA - RS</td></tr><tr><td>ALAGOA NOVA - PB</td></tr><tr><td>ALAGOAS</td></tr><tr><td>ALAGOINHA - PB</td></tr><tr><td>ALAGOINHA - PE</td></tr><tr><td>ALAGOINHA DO PIAUI - PI</td></tr><tr><td>ALCANTARAS - CE</td></tr><tr><td>ALCANTIL - PB</td></tr><tr><td>ALCOBACA - BA</td></tr><tr><td>ALEGRETE DO PIAUI - PI</td></tr><tr><td>ALENQUER - PA</td></tr><tr><td>ALEXANIA - GO</td></tr><tr><td>ALFENAS - MG</td></tr><tr><td>ALFREDO CHAVES - ES</td></tr><tr><td>ALFREDO MARCONDES - SP</td></tr><tr><td>ALFREDO WAGNER - SC</td></tr><tr><td>ALGODAO DE JANDAIRA - PB</td></tr><tr><td>ALHANDRA - PB</td></tr><tr><td>ALIANCA - PE</td></tr><tr><td>ALMADINA - BA</td></tr><tr><td>ALMAS - TO</td></tr><tr><td>ALMEIRIM - PA</td></tr><tr><td>ALMENARA - MG</td></tr><tr><td>ALMIRANTE TAMANDARE - PR</td></tr><tr><td>ALMIRANTE TAMANDARE DO SUL - RS</td></tr><tr><td>ALOANDIA - GO</td></tr><tr><td>ALPERCATA - MG</td></tr><tr><td>ALPINOPOLIS - MG</td></tr><tr><td>ALTA FLORESTA - MT</td></tr><tr><td>ALTA FLORESTA D'OESTE - RO</td></tr><tr><td>ALTAMIRA - PA</td></tr><tr><td>ALTAMIRA DO PARANA - PR</td></tr><tr><td>ALTEROSA - MG</td></tr><tr><td>ALTINOPOLIS - SP</td></tr><tr><td>ALTO ALEGRE - RR</td></tr><tr><td>ALTO ALEGRE - SP</td></tr><tr><td>ALTO ALEGRE DO MARANHAO - MA</td></tr><tr><td>ALTO ALEGRE DO PINDARE - MA</td></tr><tr><td>ALTO ALEGRE DOS PARECIS - RO</td></tr><tr><td>ALTO ARAGUAIA - MT</td></tr><tr><td>ALTO BELA VISTA - SC</td></tr><tr><td>ALTO BOA VISTA - MT</td></tr><tr><td>ALTO CAPARAO - MG</td></tr><tr><td>ALTO GARCAS - MT</td></tr><tr><td>ALTO JEQUITIBA - MG</td></tr><tr><td>ALTO PARAGUAI - MT</td></tr><tr><td>ALTO PARAISO - RO</td></tr></tbody></table></div>"
      ]
     },
     "metadata": {
      "application/vnd.databricks.v1+output": {
       "addedWidgets": {},
       "aggData": [],
       "aggError": "",
       "aggOverflow": false,
       "aggSchema": [],
       "aggSeriesLimitReached": false,
       "aggType": "",
       "arguments": {},
       "columnCustomDisplayInfos": {},
       "data": [
        [
         null
        ],
        [
         "ABADIA DE GOIAS - GO"
        ],
        [
         "ABADIANIA - GO"
        ],
        [
         "ABAETE - MG"
        ],
        [
         "ABAETETUBA - PA"
        ],
        [
         "ABAIARA - CE"
        ],
        [
         "ABRE CAMPO - MG"
        ],
        [
         "ABREULANDIA - TO"
        ],
        [
         "ACAIACA - MG"
        ],
        [
         "ACAJUTIBA - BA"
        ],
        [
         "ACARA - PA"
        ],
        [
         "ACARAPE - CE"
        ],
        [
         "ACARAU - CE"
        ],
        [
         "ACAUA - PI"
        ],
        [
         "ACEGUA - RS"
        ],
        [
         "ACORIZAL - MT"
        ],
        [
         "ACRE"
        ],
        [
         "ACRELANDIA - AC"
        ],
        [
         "ACREUNA - GO"
        ],
        [
         "ACUCENA - MG"
        ],
        [
         "ADAMANTINA - SP"
        ],
        [
         "ADELANDIA - GO"
        ],
        [
         "ADRIANOPOLIS - PR"
        ],
        [
         "ADUSTINA - BA"
        ],
        [
         "AFONSO CLAUDIO - ES"
        ],
        [
         "AFONSO CUNHA - MA"
        ],
        [
         "AFRANIO - PE"
        ],
        [
         "AFUA - PA"
        ],
        [
         "AGRICOLANDIA - PI"
        ],
        [
         "AGUA AZUL DO NORTE - PA"
        ],
        [
         "AGUA BOA - MG"
        ],
        [
         "AGUA BOA - MT"
        ],
        [
         "AGUA BRANCA - AL"
        ],
        [
         "AGUA BRANCA - PB"
        ],
        [
         "AGUA BRANCA - PI"
        ],
        [
         "AGUA CLARA - MS"
        ],
        [
         "AGUA DOCE - SC"
        ],
        [
         "AGUA DOCE DO MARANHAO - MA"
        ],
        [
         "AGUA DOCE DO NORTE - ES"
        ],
        [
         "AGUA FRIA DE GOIAS - GO"
        ],
        [
         "AGUA LIMPA - GO"
        ],
        [
         "AGUANIL - MG"
        ],
        [
         "AGUAS DA PRATA - SP"
        ],
        [
         "AGUAS DE CHAPECO - SC"
        ],
        [
         "AGUAS DE SANTA BARBARA - SP"
        ],
        [
         "AGUAS FORMOSAS - MG"
        ],
        [
         "AGUAS LINDAS DE GOIAS - GO"
        ],
        [
         "AGUAS MORNAS - SC"
        ],
        [
         "AGUDOS DO SUL - PR"
        ],
        [
         "AGUIA BRANCA - ES"
        ],
        [
         "AGUIARNOPOLIS - TO"
        ],
        [
         "AIMORES - MG"
        ],
        [
         "AIURUOCA - MG"
        ],
        [
         "AJURICABA - RS"
        ],
        [
         "ALAGOA NOVA - PB"
        ],
        [
         "ALAGOAS"
        ],
        [
         "ALAGOINHA - PB"
        ],
        [
         "ALAGOINHA - PE"
        ],
        [
         "ALAGOINHA DO PIAUI - PI"
        ],
        [
         "ALCANTARAS - CE"
        ],
        [
         "ALCANTIL - PB"
        ],
        [
         "ALCOBACA - BA"
        ],
        [
         "ALEGRETE DO PIAUI - PI"
        ],
        [
         "ALENQUER - PA"
        ],
        [
         "ALEXANIA - GO"
        ],
        [
         "ALFENAS - MG"
        ],
        [
         "ALFREDO CHAVES - ES"
        ],
        [
         "ALFREDO MARCONDES - SP"
        ],
        [
         "ALFREDO WAGNER - SC"
        ],
        [
         "ALGODAO DE JANDAIRA - PB"
        ],
        [
         "ALHANDRA - PB"
        ],
        [
         "ALIANCA - PE"
        ],
        [
         "ALMADINA - BA"
        ],
        [
         "ALMAS - TO"
        ],
        [
         "ALMEIRIM - PA"
        ],
        [
         "ALMENARA - MG"
        ],
        [
         "ALMIRANTE TAMANDARE - PR"
        ],
        [
         "ALMIRANTE TAMANDARE DO SUL - RS"
        ],
        [
         "ALOANDIA - GO"
        ],
        [
         "ALPERCATA - MG"
        ],
        [
         "ALPINOPOLIS - MG"
        ],
        [
         "ALTA FLORESTA - MT"
        ],
        [
         "ALTA FLORESTA D'OESTE - RO"
        ],
        [
         "ALTAMIRA - PA"
        ],
        [
         "ALTAMIRA DO PARANA - PR"
        ],
        [
         "ALTEROSA - MG"
        ],
        [
         "ALTINOPOLIS - SP"
        ],
        [
         "ALTO ALEGRE - RR"
        ],
        [
         "ALTO ALEGRE - SP"
        ],
        [
         "ALTO ALEGRE DO MARANHAO - MA"
        ],
        [
         "ALTO ALEGRE DO PINDARE - MA"
        ],
        [
         "ALTO ALEGRE DOS PARECIS - RO"
        ],
        [
         "ALTO ARAGUAIA - MT"
        ],
        [
         "ALTO BELA VISTA - SC"
        ],
        [
         "ALTO BOA VISTA - MT"
        ],
        [
         "ALTO CAPARAO - MG"
        ],
        [
         "ALTO GARCAS - MT"
        ],
        [
         "ALTO JEQUITIBA - MG"
        ],
        [
         "ALTO PARAGUAI - MT"
        ],
        [
         "ALTO PARAISO - RO"
        ]
       ],
       "datasetInfos": [],
       "dbfsResultPath": null,
       "isJsonSchema": true,
       "metadata": {},
       "overflow": false,
       "plotOptions": {
        "customPlotOptions": {},
        "displayType": "table",
        "pivotAggregation": null,
        "pivotColumns": null,
        "xColumns": null,
        "yColumns": null
       },
       "removedWidgets": [],
       "schema": [
        {
         "metadata": "{}",
         "name": "_c6",
         "type": "\"string\""
        }
       ],
       "type": "table"
      }
     },
     "output_type": "display_data"
    }
   ],
   "source": [
    "# cidade e estado\n",
    "df_raw_emp.select(\"_c6\").distinct().orderBy(\"_c6\", ascending=True).limit(100).display()"
   ]
  },
  {
   "cell_type": "code",
   "execution_count": 0,
   "metadata": {
    "application/vnd.databricks.v1+cell": {
     "cellMetadata": {
      "byteLimit": 2048000,
      "rowLimit": 10000
     },
     "inputWidgets": {},
     "nuid": "33c41058-13ec-4e1c-8d57-23f346279600",
     "showTitle": false,
     "tableResultSettingsMap": {
      "0": {
       "filterBlob": "{\"filterGroups\":[],\"syncTimestamp\":1738896691315}",
       "tableResultIndex": 0
      }
     },
     "title": ""
    }
   },
   "outputs": [
    {
     "output_type": "display_data",
     "data": {
      "text/html": [
       "<style scoped>\n",
       "  .table-result-container {\n",
       "    max-height: 300px;\n",
       "    overflow: auto;\n",
       "  }\n",
       "  table, th, td {\n",
       "    border: 1px solid black;\n",
       "    border-collapse: collapse;\n",
       "  }\n",
       "  th, td {\n",
       "    padding: 5px;\n",
       "  }\n",
       "  th {\n",
       "    text-align: left;\n",
       "  }\n",
       "</style><div class='table-result-container'><table class='table-result'><thead style='background-color: white'><tr><th>_c0</th><th>_c1</th><th>_c2</th><th>_c3</th><th>_c4</th><th>_c5</th><th>_c6</th></tr></thead><tbody><tr><td>4537740</td><td>SECRETARIA MUNICIPAL DE DESENVOLVIMENTO ECONOMICO E TRABALHO</td><td>1031</td><td>05</td><td>0,00</td><td>5</td><td>SAO PAULO - SP</td></tr><tr><td>4543079</td><td>SECRETARIA EXECUTIVA DE COMUNICACAO</td><td>1031</td><td>05</td><td>0,00</td><td>5</td><td>SAO PAULO - SP</td></tr><tr><td>4545693</td><td>SECRETARIA MUNICIPAL DE JUSTICA</td><td>1031</td><td>05</td><td>0,00</td><td>5</td><td>SAO PAULO - SP</td></tr><tr><td>4545723</td><td>SECRETARIA MUNICIPAL DE RELACOES INTERNACIONAIS - SMRI</td><td>1031</td><td>05</td><td>0,00</td><td>5</td><td>SAO PAULO - SP</td></tr></tbody></table></div>"
      ]
     },
     "metadata": {
      "application/vnd.databricks.v1+output": {
       "addedWidgets": {},
       "aggData": [],
       "aggError": "",
       "aggOverflow": false,
       "aggSchema": [],
       "aggSeriesLimitReached": false,
       "aggType": "",
       "arguments": {},
       "columnCustomDisplayInfos": {},
       "data": [
        [
         4537740,
         "SECRETARIA MUNICIPAL DE DESENVOLVIMENTO ECONOMICO E TRABALHO",
         1031,
         "05",
         "0,00",
         5,
         "SAO PAULO - SP"
        ],
        [
         4543079,
         "SECRETARIA EXECUTIVA DE COMUNICACAO",
         1031,
         "05",
         "0,00",
         5,
         "SAO PAULO - SP"
        ],
        [
         4545693,
         "SECRETARIA MUNICIPAL DE JUSTICA",
         1031,
         "05",
         "0,00",
         5,
         "SAO PAULO - SP"
        ],
        [
         4545723,
         "SECRETARIA MUNICIPAL DE RELACOES INTERNACIONAIS - SMRI",
         1031,
         "05",
         "0,00",
         5,
         "SAO PAULO - SP"
        ]
       ],
       "datasetInfos": [],
       "dbfsResultPath": null,
       "isJsonSchema": true,
       "metadata": {},
       "overflow": false,
       "plotOptions": {
        "customPlotOptions": {},
        "displayType": "table",
        "pivotAggregation": null,
        "pivotColumns": null,
        "xColumns": null,
        "yColumns": null
       },
       "removedWidgets": [],
       "schema": [
        {
         "metadata": "{}",
         "name": "_c0",
         "type": "\"integer\""
        },
        {
         "metadata": "{}",
         "name": "_c1",
         "type": "\"string\""
        },
        {
         "metadata": "{}",
         "name": "_c2",
         "type": "\"integer\""
        },
        {
         "metadata": "{}",
         "name": "_c3",
         "type": "\"string\""
        },
        {
         "metadata": "{}",
         "name": "_c4",
         "type": "\"string\""
        },
        {
         "metadata": "{}",
         "name": "_c5",
         "type": "\"integer\""
        },
        {
         "metadata": "{}",
         "name": "_c6",
         "type": "\"string\""
        }
       ],
       "type": "table"
      }
     },
     "output_type": "display_data"
    }
   ],
   "source": [
    "# empresas localizadas em sao paulo\n",
    "\n",
    "df_raw_emp \\\n",
    "    .select(\"*\") \\\n",
    "        .filter((col(\"_c6\") == \"SAO PAULO - SP\")) \\\n",
    "            .limit(100) \\\n",
    "                    .display()"
   ]
  },
  {
   "cell_type": "code",
   "execution_count": 0,
   "metadata": {
    "application/vnd.databricks.v1+cell": {
     "cellMetadata": {
      "byteLimit": 2048000,
      "rowLimit": 10000
     },
     "inputWidgets": {},
     "nuid": "ef4793ca-8879-43a1-b431-47aa584ad417",
     "showTitle": false,
     "tableResultSettingsMap": {},
     "title": ""
    }
   },
   "outputs": [
    {
     "output_type": "display_data",
     "data": {
      "text/html": [
       "<style scoped>\n",
       "  .table-result-container {\n",
       "    max-height: 300px;\n",
       "    overflow: auto;\n",
       "  }\n",
       "  table, th, td {\n",
       "    border: 1px solid black;\n",
       "    border-collapse: collapse;\n",
       "  }\n",
       "  th, td {\n",
       "    padding: 5px;\n",
       "  }\n",
       "  th {\n",
       "    text-align: left;\n",
       "  }\n",
       "</style><div class='table-result-container'><table class='table-result'><thead style='background-color: white'><tr><th>_c0</th></tr></thead><tbody><tr><td>4631960</td></tr><tr><td>4631959</td></tr><tr><td>4631957</td></tr><tr><td>4631956</td></tr><tr><td>4631955</td></tr><tr><td>4631954</td></tr><tr><td>4631953</td></tr><tr><td>4631952</td></tr><tr><td>4631951</td></tr><tr><td>4631950</td></tr><tr><td>4631949</td></tr><tr><td>4631948</td></tr><tr><td>4631947</td></tr><tr><td>4631946</td></tr><tr><td>4631945</td></tr><tr><td>4631944</td></tr><tr><td>4631943</td></tr><tr><td>4631942</td></tr><tr><td>4631940</td></tr><tr><td>4631939</td></tr><tr><td>4631938</td></tr><tr><td>4631937</td></tr><tr><td>4631936</td></tr><tr><td>4631935</td></tr><tr><td>4631934</td></tr><tr><td>4631932</td></tr><tr><td>4631931</td></tr><tr><td>4631930</td></tr><tr><td>4631929</td></tr><tr><td>4631928</td></tr><tr><td>4631927</td></tr><tr><td>4631926</td></tr><tr><td>4631924</td></tr><tr><td>4631923</td></tr><tr><td>4631922</td></tr><tr><td>4631921</td></tr><tr><td>4631920</td></tr><tr><td>4631919</td></tr><tr><td>4631918</td></tr><tr><td>4631916</td></tr><tr><td>4631915</td></tr><tr><td>4631914</td></tr><tr><td>4631913</td></tr><tr><td>4631912</td></tr><tr><td>4631911</td></tr><tr><td>4631910</td></tr><tr><td>4631908</td></tr><tr><td>4631907</td></tr><tr><td>4631906</td></tr><tr><td>4631905</td></tr><tr><td>4631904</td></tr><tr><td>4631903</td></tr><tr><td>4631902</td></tr><tr><td>4631901</td></tr><tr><td>4631900</td></tr><tr><td>4631899</td></tr><tr><td>4631898</td></tr><tr><td>4631897</td></tr><tr><td>4631896</td></tr><tr><td>4631895</td></tr><tr><td>4631894</td></tr><tr><td>4631893</td></tr><tr><td>4631892</td></tr><tr><td>4631890</td></tr><tr><td>4631889</td></tr><tr><td>4631888</td></tr><tr><td>4631887</td></tr><tr><td>4631886</td></tr><tr><td>4631885</td></tr><tr><td>4631884</td></tr><tr><td>4631882</td></tr><tr><td>4631881</td></tr><tr><td>4631880</td></tr><tr><td>4631879</td></tr><tr><td>4631878</td></tr><tr><td>4631877</td></tr><tr><td>4631876</td></tr><tr><td>4631874</td></tr><tr><td>4631873</td></tr><tr><td>4631872</td></tr><tr><td>4631871</td></tr><tr><td>4631870</td></tr><tr><td>4631869</td></tr><tr><td>4631868</td></tr><tr><td>4631866</td></tr><tr><td>4631865</td></tr><tr><td>4631864</td></tr><tr><td>4631863</td></tr><tr><td>4631862</td></tr><tr><td>4631861</td></tr><tr><td>4631860</td></tr><tr><td>4631858</td></tr><tr><td>4631857</td></tr><tr><td>4631856</td></tr><tr><td>4631855</td></tr><tr><td>4631854</td></tr><tr><td>4631853</td></tr><tr><td>4631852</td></tr><tr><td>4631851</td></tr><tr><td>4631850</td></tr></tbody></table></div>"
      ]
     },
     "metadata": {
      "application/vnd.databricks.v1+output": {
       "addedWidgets": {},
       "aggData": [],
       "aggError": "",
       "aggOverflow": false,
       "aggSchema": [],
       "aggSeriesLimitReached": false,
       "aggType": "",
       "arguments": {},
       "columnCustomDisplayInfos": {},
       "data": [
        [
         4631960
        ],
        [
         4631959
        ],
        [
         4631957
        ],
        [
         4631956
        ],
        [
         4631955
        ],
        [
         4631954
        ],
        [
         4631953
        ],
        [
         4631952
        ],
        [
         4631951
        ],
        [
         4631950
        ],
        [
         4631949
        ],
        [
         4631948
        ],
        [
         4631947
        ],
        [
         4631946
        ],
        [
         4631945
        ],
        [
         4631944
        ],
        [
         4631943
        ],
        [
         4631942
        ],
        [
         4631940
        ],
        [
         4631939
        ],
        [
         4631938
        ],
        [
         4631937
        ],
        [
         4631936
        ],
        [
         4631935
        ],
        [
         4631934
        ],
        [
         4631932
        ],
        [
         4631931
        ],
        [
         4631930
        ],
        [
         4631929
        ],
        [
         4631928
        ],
        [
         4631927
        ],
        [
         4631926
        ],
        [
         4631924
        ],
        [
         4631923
        ],
        [
         4631922
        ],
        [
         4631921
        ],
        [
         4631920
        ],
        [
         4631919
        ],
        [
         4631918
        ],
        [
         4631916
        ],
        [
         4631915
        ],
        [
         4631914
        ],
        [
         4631913
        ],
        [
         4631912
        ],
        [
         4631911
        ],
        [
         4631910
        ],
        [
         4631908
        ],
        [
         4631907
        ],
        [
         4631906
        ],
        [
         4631905
        ],
        [
         4631904
        ],
        [
         4631903
        ],
        [
         4631902
        ],
        [
         4631901
        ],
        [
         4631900
        ],
        [
         4631899
        ],
        [
         4631898
        ],
        [
         4631897
        ],
        [
         4631896
        ],
        [
         4631895
        ],
        [
         4631894
        ],
        [
         4631893
        ],
        [
         4631892
        ],
        [
         4631890
        ],
        [
         4631889
        ],
        [
         4631888
        ],
        [
         4631887
        ],
        [
         4631886
        ],
        [
         4631885
        ],
        [
         4631884
        ],
        [
         4631882
        ],
        [
         4631881
        ],
        [
         4631880
        ],
        [
         4631879
        ],
        [
         4631878
        ],
        [
         4631877
        ],
        [
         4631876
        ],
        [
         4631874
        ],
        [
         4631873
        ],
        [
         4631872
        ],
        [
         4631871
        ],
        [
         4631870
        ],
        [
         4631869
        ],
        [
         4631868
        ],
        [
         4631866
        ],
        [
         4631865
        ],
        [
         4631864
        ],
        [
         4631863
        ],
        [
         4631862
        ],
        [
         4631861
        ],
        [
         4631860
        ],
        [
         4631858
        ],
        [
         4631857
        ],
        [
         4631856
        ],
        [
         4631855
        ],
        [
         4631854
        ],
        [
         4631853
        ],
        [
         4631852
        ],
        [
         4631851
        ],
        [
         4631850
        ]
       ],
       "datasetInfos": [],
       "dbfsResultPath": null,
       "isJsonSchema": true,
       "metadata": {},
       "overflow": false,
       "plotOptions": {
        "customPlotOptions": {},
        "displayType": "table",
        "pivotAggregation": null,
        "pivotColumns": null,
        "xColumns": null,
        "yColumns": null
       },
       "removedWidgets": [],
       "schema": [
        {
         "metadata": "{}",
         "name": "_c0",
         "type": "\"integer\""
        }
       ],
       "type": "table"
      }
     },
     "output_type": "display_data"
    }
   ],
   "source": [
    "df_raw_emp.select(\"_c0\").distinct().orderBy(\"_c0\", ascending=False).limit(100).display()"
   ]
  },
  {
   "cell_type": "code",
   "execution_count": 0,
   "metadata": {
    "application/vnd.databricks.v1+cell": {
     "cellMetadata": {
      "byteLimit": 2048000,
      "rowLimit": 10000
     },
     "inputWidgets": {},
     "nuid": "c5b92597-3e05-4f57-ac49-a1976be15039",
     "showTitle": false,
     "tableResultSettingsMap": {},
     "title": ""
    }
   },
   "outputs": [
    {
     "output_type": "display_data",
     "data": {
      "text/html": [
       "<style scoped>\n",
       "  .table-result-container {\n",
       "    max-height: 300px;\n",
       "    overflow: auto;\n",
       "  }\n",
       "  table, th, td {\n",
       "    border: 1px solid black;\n",
       "    border-collapse: collapse;\n",
       "  }\n",
       "  th, td {\n",
       "    padding: 5px;\n",
       "  }\n",
       "  th {\n",
       "    text-align: left;\n",
       "  }\n",
       "</style><div class='table-result-container'><table class='table-result'><thead style='background-color: white'><tr><th>_c0</th><th>_c1</th><th>_c2</th><th>_c3</th><th>_c4</th><th>_c5</th><th>_c6</th></tr></thead><tbody><tr><td>0</td><td>BANCO DO BRASIL SA</td><td>2038</td><td>10</td><td>120000000000,00</td><td>5</td><td>null</td></tr><tr><td>1</td><td>ASSOCIACAO DE AMIGOS DE BAIRRO DO CONJ PAULISTANO</td><td>3999</td><td>16</td><td>0,00</td><td>5</td><td>null</td></tr><tr><td>2</td><td>WM&R EMPREITEIRA DE CONSTRUCAO CIVIL LIMITADA</td><td>2240</td><td>49</td><td>0,00</td><td>5</td><td>null</td></tr><tr><td>3</td><td>CASA CARIDADE LUZETE ROBERTA DE MORAIS CONJ PAULISTANO</td><td>3999</td><td>16</td><td>0,00</td><td>5</td><td>null</td></tr><tr><td>4</td><td>ASSOCIACAO DO PEQUENO ADOLECENTE DO CONJ PAULISTANO</td><td>3999</td><td>16</td><td>0,00</td><td>5</td><td>null</td></tr><tr><td>5</td><td>SERRALHERIA PORTA DE ACO REAL S/C LTDA</td><td>2240</td><td>28</td><td>0,00</td><td>5</td><td>null</td></tr><tr><td>6</td><td>ACADEMIA DE BALLET PAULA FIRETTI LTDA</td><td>2062</td><td>49</td><td>1000,00</td><td>1</td><td>null</td></tr><tr><td>7</td><td>ADVOCACIA BERGANTIN E ASSOCIADOS</td><td>2240</td><td>49</td><td>0,00</td><td>1</td><td>null</td></tr><tr><td>8</td><td>A.R. ZANOTI E SILVA S/C LTDA</td><td>2240</td><td>49</td><td>0,00</td><td>1</td><td>null</td></tr><tr><td>9</td><td>SUWAN REPRESENTACOES LTDA</td><td>2240</td><td>49</td><td>0,00</td><td>1</td><td>null</td></tr></tbody></table></div>"
      ]
     },
     "metadata": {
      "application/vnd.databricks.v1+output": {
       "addedWidgets": {},
       "aggData": [],
       "aggError": "",
       "aggOverflow": false,
       "aggSchema": [],
       "aggSeriesLimitReached": false,
       "aggType": "",
       "arguments": {},
       "columnCustomDisplayInfos": {},
       "data": [
        [
         0,
         "BANCO DO BRASIL SA",
         2038,
         "10",
         "120000000000,00",
         5,
         null
        ],
        [
         1,
         "ASSOCIACAO DE AMIGOS DE BAIRRO DO CONJ PAULISTANO",
         3999,
         "16",
         "0,00",
         5,
         null
        ],
        [
         2,
         "WM&R EMPREITEIRA DE CONSTRUCAO CIVIL LIMITADA",
         2240,
         "49",
         "0,00",
         5,
         null
        ],
        [
         3,
         "CASA CARIDADE LUZETE ROBERTA DE MORAIS CONJ PAULISTANO",
         3999,
         "16",
         "0,00",
         5,
         null
        ],
        [
         4,
         "ASSOCIACAO DO PEQUENO ADOLECENTE DO CONJ PAULISTANO",
         3999,
         "16",
         "0,00",
         5,
         null
        ],
        [
         5,
         "SERRALHERIA PORTA DE ACO REAL S/C LTDA",
         2240,
         "28",
         "0,00",
         5,
         null
        ],
        [
         6,
         "ACADEMIA DE BALLET PAULA FIRETTI LTDA",
         2062,
         "49",
         "1000,00",
         1,
         null
        ],
        [
         7,
         "ADVOCACIA BERGANTIN E ASSOCIADOS",
         2240,
         "49",
         "0,00",
         1,
         null
        ],
        [
         8,
         "A.R. ZANOTI E SILVA S/C LTDA",
         2240,
         "49",
         "0,00",
         1,
         null
        ],
        [
         9,
         "SUWAN REPRESENTACOES LTDA",
         2240,
         "49",
         "0,00",
         1,
         null
        ]
       ],
       "datasetInfos": [],
       "dbfsResultPath": null,
       "isJsonSchema": true,
       "metadata": {},
       "overflow": false,
       "plotOptions": {
        "customPlotOptions": {},
        "displayType": "table",
        "pivotAggregation": null,
        "pivotColumns": null,
        "xColumns": null,
        "yColumns": null
       },
       "removedWidgets": [],
       "schema": [
        {
         "metadata": "{}",
         "name": "_c0",
         "type": "\"integer\""
        },
        {
         "metadata": "{}",
         "name": "_c1",
         "type": "\"string\""
        },
        {
         "metadata": "{}",
         "name": "_c2",
         "type": "\"integer\""
        },
        {
         "metadata": "{}",
         "name": "_c3",
         "type": "\"string\""
        },
        {
         "metadata": "{}",
         "name": "_c4",
         "type": "\"string\""
        },
        {
         "metadata": "{}",
         "name": "_c5",
         "type": "\"integer\""
        },
        {
         "metadata": "{}",
         "name": "_c6",
         "type": "\"string\""
        }
       ],
       "type": "table"
      }
     },
     "output_type": "display_data"
    }
   ],
   "source": [
    "df_raw_emp.limit(10).display()"
   ]
  },
  {
   "cell_type": "code",
   "execution_count": 0,
   "metadata": {
    "application/vnd.databricks.v1+cell": {
     "cellMetadata": {
      "byteLimit": 2048000,
      "rowLimit": 10000
     },
     "inputWidgets": {},
     "nuid": "0cd41913-bcd4-404a-9650-05f082d8f83b",
     "showTitle": false,
     "tableResultSettingsMap": {},
     "title": ""
    }
   },
   "outputs": [
    {
     "output_type": "stream",
     "name": "stdout",
     "output_type": "stream",
     "text": [
      "root\n |-- id: integer (nullable = true)\n |-- razao_social: string (nullable = true)\n |-- cod_natureza_juridica: integer (nullable = true)\n |-- cod_qualificao_responsavel: integer (nullable = true)\n |-- capital_social: float (nullable = true)\n |-- cod_porte: string (nullable = true)\n |-- localizacao: string (nullable = true)\n\n"
     ]
    }
   ],
   "source": [
    "# definicao de schema\n",
    "schemaEmpresas = StructType([\n",
    "    StructField(\"id\", IntegerType(), True),\n",
    "    StructField(\"razao_social\", StringType(), True),\n",
    "    StructField(\"cod_natureza_juridica\", IntegerType(), True),\n",
    "    StructField(\"cod_qualificao_responsavel\", IntegerType(), True),\n",
    "    StructField(\"capital_social\", FloatType(), True),\n",
    "    StructField(\"cod_porte\", StringType(), True),\n",
    "    StructField(\"localizacao\", StringType(), True)\n",
    "])\n",
    "\n",
    "df_list_emp = spark.read.options(header=False, inferSchema=True, sep=';') \\\n",
    "                .format(\"csv\") \\\n",
    "                    .schema(schemaEmpresas) \\\n",
    "                        .load(path_bronze_empre)\n",
    "\n",
    "df_list_emp.printSchema()"
   ]
  },
  {
   "cell_type": "code",
   "execution_count": 0,
   "metadata": {
    "application/vnd.databricks.v1+cell": {
     "cellMetadata": {
      "byteLimit": 2048000,
      "rowLimit": 10000
     },
     "inputWidgets": {},
     "nuid": "38247c81-6364-4956-9ede-edd36455200d",
     "showTitle": false,
     "tableResultSettingsMap": {},
     "title": ""
    }
   },
   "outputs": [
    {
     "output_type": "display_data",
     "data": {
      "text/html": [
       "<style scoped>\n",
       "  .table-result-container {\n",
       "    max-height: 300px;\n",
       "    overflow: auto;\n",
       "  }\n",
       "  table, th, td {\n",
       "    border: 1px solid black;\n",
       "    border-collapse: collapse;\n",
       "  }\n",
       "  th, td {\n",
       "    padding: 5px;\n",
       "  }\n",
       "  th {\n",
       "    text-align: left;\n",
       "  }\n",
       "</style><div class='table-result-container'><table class='table-result'><thead style='background-color: white'><tr><th>id</th><th>razao_social</th><th>cod_natureza_juridica</th><th>cod_qualificao_responsavel</th><th>capital_social</th><th>cod_porte</th><th>localizacao</th></tr></thead><tbody><tr><td>0</td><td>BANCO DO BRASIL SA</td><td>2038</td><td>10</td><td>null</td><td>05</td><td>null</td></tr><tr><td>1</td><td>ASSOCIACAO DE AMIGOS DE BAIRRO DO CONJ PAULISTANO</td><td>3999</td><td>16</td><td>null</td><td>05</td><td>null</td></tr><tr><td>2</td><td>WM&R EMPREITEIRA DE CONSTRUCAO CIVIL LIMITADA</td><td>2240</td><td>49</td><td>null</td><td>05</td><td>null</td></tr><tr><td>3</td><td>CASA CARIDADE LUZETE ROBERTA DE MORAIS CONJ PAULISTANO</td><td>3999</td><td>16</td><td>null</td><td>05</td><td>null</td></tr><tr><td>4</td><td>ASSOCIACAO DO PEQUENO ADOLECENTE DO CONJ PAULISTANO</td><td>3999</td><td>16</td><td>null</td><td>05</td><td>null</td></tr><tr><td>5</td><td>SERRALHERIA PORTA DE ACO REAL S/C LTDA</td><td>2240</td><td>28</td><td>null</td><td>05</td><td>null</td></tr><tr><td>6</td><td>ACADEMIA DE BALLET PAULA FIRETTI LTDA</td><td>2062</td><td>49</td><td>null</td><td>01</td><td>null</td></tr><tr><td>7</td><td>ADVOCACIA BERGANTIN E ASSOCIADOS</td><td>2240</td><td>49</td><td>null</td><td>01</td><td>null</td></tr><tr><td>8</td><td>A.R. ZANOTI E SILVA S/C LTDA</td><td>2240</td><td>49</td><td>null</td><td>01</td><td>null</td></tr><tr><td>9</td><td>SUWAN REPRESENTACOES LTDA</td><td>2240</td><td>49</td><td>null</td><td>01</td><td>null</td></tr><tr><td>10</td><td>ADUB SERVICOS GERAIS DE AUTOS LTDA</td><td>2240</td><td>28</td><td>null</td><td>05</td><td>null</td></tr><tr><td>11</td><td>KAWANISHI MANUTENCAO ELETRICA INDUSTRIAL S/C LTDA</td><td>2240</td><td>49</td><td>null</td><td>01</td><td>null</td></tr><tr><td>12</td><td>APARTH ADMINISTRACAO S/C LTDA</td><td>2240</td><td>49</td><td>null</td><td>05</td><td>null</td></tr><tr><td>13</td><td>SAMPAIO SERVICOS CONTABEIS LTDA</td><td>2240</td><td>49</td><td>null</td><td>01</td><td>null</td></tr><tr><td>14</td><td>CLUBE DE MAES DA CASA VERDE ALTA E ADJACENCIAS</td><td>3999</td><td>16</td><td>null</td><td>05</td><td>null</td></tr><tr><td>15</td><td>DOS - INSTALACAO DE SISTEMAS DE AUDIO E VIDEO S/S LTDA</td><td>2240</td><td>49</td><td>null</td><td>01</td><td>null</td></tr><tr><td>16</td><td>MICRO-ARTE COMUNICACOES VISUAIS LTDA</td><td>2062</td><td>49</td><td>null</td><td>05</td><td>null</td></tr><tr><td>17</td><td>ASSOCIACAO VIVER EM CRISTO</td><td>3999</td><td>16</td><td>null</td><td>05</td><td>null</td></tr><tr><td>18</td><td>AUTOMAR AGROPECUARIA DO URUCUIA LIMITADA</td><td>2062</td><td>49</td><td>null</td><td>05</td><td>null</td></tr><tr><td>19</td><td>DOCENA & DOCENA CONSULTORES EM INFORMATICA E ASSOCIADOS LTDA</td><td>2062</td><td>49</td><td>null</td><td>05</td><td>null</td></tr></tbody></table></div>"
      ]
     },
     "metadata": {
      "application/vnd.databricks.v1+output": {
       "addedWidgets": {},
       "aggData": [],
       "aggError": "",
       "aggOverflow": false,
       "aggSchema": [],
       "aggSeriesLimitReached": false,
       "aggType": "",
       "arguments": {},
       "columnCustomDisplayInfos": {},
       "data": [
        [
         0,
         "BANCO DO BRASIL SA",
         2038,
         10,
         null,
         "05",
         null
        ],
        [
         1,
         "ASSOCIACAO DE AMIGOS DE BAIRRO DO CONJ PAULISTANO",
         3999,
         16,
         null,
         "05",
         null
        ],
        [
         2,
         "WM&R EMPREITEIRA DE CONSTRUCAO CIVIL LIMITADA",
         2240,
         49,
         null,
         "05",
         null
        ],
        [
         3,
         "CASA CARIDADE LUZETE ROBERTA DE MORAIS CONJ PAULISTANO",
         3999,
         16,
         null,
         "05",
         null
        ],
        [
         4,
         "ASSOCIACAO DO PEQUENO ADOLECENTE DO CONJ PAULISTANO",
         3999,
         16,
         null,
         "05",
         null
        ],
        [
         5,
         "SERRALHERIA PORTA DE ACO REAL S/C LTDA",
         2240,
         28,
         null,
         "05",
         null
        ],
        [
         6,
         "ACADEMIA DE BALLET PAULA FIRETTI LTDA",
         2062,
         49,
         null,
         "01",
         null
        ],
        [
         7,
         "ADVOCACIA BERGANTIN E ASSOCIADOS",
         2240,
         49,
         null,
         "01",
         null
        ],
        [
         8,
         "A.R. ZANOTI E SILVA S/C LTDA",
         2240,
         49,
         null,
         "01",
         null
        ],
        [
         9,
         "SUWAN REPRESENTACOES LTDA",
         2240,
         49,
         null,
         "01",
         null
        ],
        [
         10,
         "ADUB SERVICOS GERAIS DE AUTOS LTDA",
         2240,
         28,
         null,
         "05",
         null
        ],
        [
         11,
         "KAWANISHI MANUTENCAO ELETRICA INDUSTRIAL S/C LTDA",
         2240,
         49,
         null,
         "01",
         null
        ],
        [
         12,
         "APARTH ADMINISTRACAO S/C LTDA",
         2240,
         49,
         null,
         "05",
         null
        ],
        [
         13,
         "SAMPAIO SERVICOS CONTABEIS LTDA",
         2240,
         49,
         null,
         "01",
         null
        ],
        [
         14,
         "CLUBE DE MAES DA CASA VERDE ALTA E ADJACENCIAS",
         3999,
         16,
         null,
         "05",
         null
        ],
        [
         15,
         "DOS - INSTALACAO DE SISTEMAS DE AUDIO E VIDEO S/S LTDA",
         2240,
         49,
         null,
         "01",
         null
        ],
        [
         16,
         "MICRO-ARTE COMUNICACOES VISUAIS LTDA",
         2062,
         49,
         null,
         "05",
         null
        ],
        [
         17,
         "ASSOCIACAO VIVER EM CRISTO",
         3999,
         16,
         null,
         "05",
         null
        ],
        [
         18,
         "AUTOMAR AGROPECUARIA DO URUCUIA LIMITADA",
         2062,
         49,
         null,
         "05",
         null
        ],
        [
         19,
         "DOCENA & DOCENA CONSULTORES EM INFORMATICA E ASSOCIADOS LTDA",
         2062,
         49,
         null,
         "05",
         null
        ]
       ],
       "datasetInfos": [],
       "dbfsResultPath": null,
       "isJsonSchema": true,
       "metadata": {},
       "overflow": false,
       "plotOptions": {
        "customPlotOptions": {},
        "displayType": "table",
        "pivotAggregation": null,
        "pivotColumns": null,
        "xColumns": null,
        "yColumns": null
       },
       "removedWidgets": [],
       "schema": [
        {
         "metadata": "{}",
         "name": "id",
         "type": "\"integer\""
        },
        {
         "metadata": "{}",
         "name": "razao_social",
         "type": "\"string\""
        },
        {
         "metadata": "{}",
         "name": "cod_natureza_juridica",
         "type": "\"integer\""
        },
        {
         "metadata": "{}",
         "name": "cod_qualificao_responsavel",
         "type": "\"integer\""
        },
        {
         "metadata": "{}",
         "name": "capital_social",
         "type": "\"float\""
        },
        {
         "metadata": "{}",
         "name": "cod_porte",
         "type": "\"string\""
        },
        {
         "metadata": "{}",
         "name": "localizacao",
         "type": "\"string\""
        }
       ],
       "type": "table"
      }
     },
     "output_type": "display_data"
    }
   ],
   "source": [
    "df_list_emp.limit(20).display()"
   ]
  },
  {
   "cell_type": "code",
   "execution_count": 0,
   "metadata": {
    "application/vnd.databricks.v1+cell": {
     "cellMetadata": {
      "byteLimit": 2048000,
      "rowLimit": 10000
     },
     "inputWidgets": {},
     "nuid": "0e661570-1494-45fc-aa22-2aeee31de2e6",
     "showTitle": false,
     "tableResultSettingsMap": {},
     "title": ""
    }
   },
   "outputs": [],
   "source": [
    "# lista de referencia para qualificação do responsável consta na documentação\n",
    "df_emp_quali_resp = df_list_emp.withColumn(\"desc_qualificacao_responsavel\",\n",
    "                       F.when(col(\"cod_qualificao_responsavel\") == 5, \"Administrador\")\n",
    "                       .when(col(\"cod_qualificao_responsavel\") == 10, \"Diretor\")\n",
    "                       .when(col(\"cod_qualificao_responsavel\") == 16, \"Presidente\")\n",
    "                       .when(col(\"cod_qualificao_responsavel\") == 17, \"Procurador\")\n",
    "                       .when(col(\"cod_qualificao_responsavel\") == 19, \"Síndico (Condomínio)\")\n",
    "                       .when(col(\"cod_qualificao_responsavel\") == 24, \"Sócio Comanditado\")\n",
    "                       .when(col(\"cod_qualificao_responsavel\") == 31, \"Sócio Ostensivo\")\n",
    "                       .when(col(\"cod_qualificao_responsavel\") == 32, \"Tabelião\")\n",
    "                       .when(col(\"cod_qualificao_responsavel\") == 34, \"Titular de Empresa Individual Imobiliária\")\n",
    "                       .when(col(\"cod_qualificao_responsavel\") == 39, \"Diplomata\")\n",
    "                       .when(col(\"cod_qualificao_responsavel\") == 40, \"Cônsul\")\n",
    "                       .when(col(\"cod_qualificao_responsavel\") == 41, \"Representante de Organização Internacional\")\n",
    "                       .when(col(\"cod_qualificao_responsavel\") == 42, \"Oficial de Registro\")\n",
    "                       .when(col(\"cod_qualificao_responsavel\") == 43, \"Responsável\")\n",
    "                       .when(col(\"cod_qualificao_responsavel\") == 46, \"Ministro de Estado das Relações Exteriores\")\n",
    "                       .when(col(\"cod_qualificao_responsavel\") == 49, \"Sócio- Administrador\")\n",
    "                       .when(col(\"cod_qualificao_responsavel\") == 50, \"Empresário\")\n",
    "                       .when(col(\"cod_qualificao_responsavel\") == 51, \"Candidato a Cargo Político Eletivo\")\n",
    "                       .when(col(\"cod_qualificao_responsavel\") == 54, \"Fundador\")\n",
    "                       .when(col(\"cod_qualificao_responsavel\") == 59, \"Produtor Rural\")\n",
    "                       .when(col(\"cod_qualificao_responsavel\") == 60, \"Cônsul Honorário\")\n",
    "                       .when(col(\"cod_qualificao_responsavel\") == 61, \"Responsável Indígena\")\n",
    "                       .when(col(\"cod_qualificao_responsavel\") == 62, \"Representante da Instituição Extraterritorial\")\n",
    "                       .when(col(\"cod_qualificao_responsavel\") == 65, \"Titular Pessoa Física Residente ou Domiciliado no Brasil\")\n",
    "                       .otherwise(\"Qualificação Indefinida\")\n",
    "                       )"
   ]
  },
  {
   "cell_type": "code",
   "execution_count": 0,
   "metadata": {
    "application/vnd.databricks.v1+cell": {
     "cellMetadata": {
      "byteLimit": 2048000,
      "rowLimit": 10000
     },
     "inputWidgets": {},
     "nuid": "aae34e76-d0c9-4ea2-9c9c-2b538ca306b1",
     "showTitle": false,
     "tableResultSettingsMap": {},
     "title": ""
    }
   },
   "outputs": [
    {
     "output_type": "display_data",
     "data": {
      "text/html": [
       "<style scoped>\n",
       "  .table-result-container {\n",
       "    max-height: 300px;\n",
       "    overflow: auto;\n",
       "  }\n",
       "  table, th, td {\n",
       "    border: 1px solid black;\n",
       "    border-collapse: collapse;\n",
       "  }\n",
       "  th, td {\n",
       "    padding: 5px;\n",
       "  }\n",
       "  th {\n",
       "    text-align: left;\n",
       "  }\n",
       "</style><div class='table-result-container'><table class='table-result'><thead style='background-color: white'><tr><th>id</th><th>razao_social</th><th>cod_natureza_juridica</th><th>cod_qualificao_responsavel</th><th>capital_social</th><th>cod_porte</th><th>localizacao</th><th>desc_qualificacao_responsavel</th></tr></thead><tbody><tr><td>0</td><td>BANCO DO BRASIL SA</td><td>2038</td><td>10</td><td>null</td><td>05</td><td>null</td><td>Diretor</td></tr><tr><td>1</td><td>ASSOCIACAO DE AMIGOS DE BAIRRO DO CONJ PAULISTANO</td><td>3999</td><td>16</td><td>null</td><td>05</td><td>null</td><td>Presidente</td></tr><tr><td>2</td><td>WM&R EMPREITEIRA DE CONSTRUCAO CIVIL LIMITADA</td><td>2240</td><td>49</td><td>null</td><td>05</td><td>null</td><td>Sócio- Administrador</td></tr><tr><td>3</td><td>CASA CARIDADE LUZETE ROBERTA DE MORAIS CONJ PAULISTANO</td><td>3999</td><td>16</td><td>null</td><td>05</td><td>null</td><td>Presidente</td></tr><tr><td>4</td><td>ASSOCIACAO DO PEQUENO ADOLECENTE DO CONJ PAULISTANO</td><td>3999</td><td>16</td><td>null</td><td>05</td><td>null</td><td>Presidente</td></tr><tr><td>5</td><td>SERRALHERIA PORTA DE ACO REAL S/C LTDA</td><td>2240</td><td>28</td><td>null</td><td>05</td><td>null</td><td>Qualificação Indefinida</td></tr><tr><td>6</td><td>ACADEMIA DE BALLET PAULA FIRETTI LTDA</td><td>2062</td><td>49</td><td>null</td><td>01</td><td>null</td><td>Sócio- Administrador</td></tr><tr><td>7</td><td>ADVOCACIA BERGANTIN E ASSOCIADOS</td><td>2240</td><td>49</td><td>null</td><td>01</td><td>null</td><td>Sócio- Administrador</td></tr><tr><td>8</td><td>A.R. ZANOTI E SILVA S/C LTDA</td><td>2240</td><td>49</td><td>null</td><td>01</td><td>null</td><td>Sócio- Administrador</td></tr><tr><td>9</td><td>SUWAN REPRESENTACOES LTDA</td><td>2240</td><td>49</td><td>null</td><td>01</td><td>null</td><td>Sócio- Administrador</td></tr><tr><td>10</td><td>ADUB SERVICOS GERAIS DE AUTOS LTDA</td><td>2240</td><td>28</td><td>null</td><td>05</td><td>null</td><td>Qualificação Indefinida</td></tr><tr><td>11</td><td>KAWANISHI MANUTENCAO ELETRICA INDUSTRIAL S/C LTDA</td><td>2240</td><td>49</td><td>null</td><td>01</td><td>null</td><td>Sócio- Administrador</td></tr><tr><td>12</td><td>APARTH ADMINISTRACAO S/C LTDA</td><td>2240</td><td>49</td><td>null</td><td>05</td><td>null</td><td>Sócio- Administrador</td></tr><tr><td>13</td><td>SAMPAIO SERVICOS CONTABEIS LTDA</td><td>2240</td><td>49</td><td>null</td><td>01</td><td>null</td><td>Sócio- Administrador</td></tr><tr><td>14</td><td>CLUBE DE MAES DA CASA VERDE ALTA E ADJACENCIAS</td><td>3999</td><td>16</td><td>null</td><td>05</td><td>null</td><td>Presidente</td></tr><tr><td>15</td><td>DOS - INSTALACAO DE SISTEMAS DE AUDIO E VIDEO S/S LTDA</td><td>2240</td><td>49</td><td>null</td><td>01</td><td>null</td><td>Sócio- Administrador</td></tr><tr><td>16</td><td>MICRO-ARTE COMUNICACOES VISUAIS LTDA</td><td>2062</td><td>49</td><td>null</td><td>05</td><td>null</td><td>Sócio- Administrador</td></tr><tr><td>17</td><td>ASSOCIACAO VIVER EM CRISTO</td><td>3999</td><td>16</td><td>null</td><td>05</td><td>null</td><td>Presidente</td></tr><tr><td>18</td><td>AUTOMAR AGROPECUARIA DO URUCUIA LIMITADA</td><td>2062</td><td>49</td><td>null</td><td>05</td><td>null</td><td>Sócio- Administrador</td></tr><tr><td>19</td><td>DOCENA & DOCENA CONSULTORES EM INFORMATICA E ASSOCIADOS LTDA</td><td>2062</td><td>49</td><td>null</td><td>05</td><td>null</td><td>Sócio- Administrador</td></tr><tr><td>20</td><td>ASSISTEC.SYS MANUTENCAO DE MICROINFORMATICA S/C LTDA</td><td>2240</td><td>28</td><td>null</td><td>05</td><td>null</td><td>Qualificação Indefinida</td></tr><tr><td>21</td><td>OMEGA ASSESSORIA DE SERVICES E SEGURANCA S/C LTDA</td><td>2240</td><td>49</td><td>null</td><td>05</td><td>null</td><td>Sócio- Administrador</td></tr><tr><td>22</td><td>SIMTEC INFORMATICA S/C LTDA</td><td>2240</td><td>49</td><td>null</td><td>01</td><td>null</td><td>Sócio- Administrador</td></tr><tr><td>23</td><td>CAMACHO E FERIGOLLI INFORMATICA S/C LTDA</td><td>2240</td><td>49</td><td>null</td><td>05</td><td>null</td><td>Sócio- Administrador</td></tr><tr><td>24</td><td>CAIXA DE CUSTEIO DA EEPSG PROF JACOMO STAVALE</td><td>3999</td><td>16</td><td>null</td><td>05</td><td>null</td><td>Presidente</td></tr><tr><td>25</td><td>SOCIEDADE AMIGOS DE BAIRRO DR ULISSES GUIMARAES</td><td>3999</td><td>16</td><td>null</td><td>05</td><td>null</td><td>Presidente</td></tr><tr><td>26</td><td>PARTIDO DEMOCRATICO SOCIAL</td><td>3999</td><td>16</td><td>null</td><td>05</td><td>null</td><td>Presidente</td></tr><tr><td>27</td><td>CONDUS CONSULTORIA DE ENGENHARIA S/C LTDA</td><td>2240</td><td>28</td><td>null</td><td>05</td><td>null</td><td>Qualificação Indefinida</td></tr><tr><td>28</td><td>TARGET ENGENHARIA E CONSULTORIA LTDA.</td><td>2062</td><td>49</td><td>null</td><td>05</td><td>null</td><td>Sócio- Administrador</td></tr><tr><td>29</td><td>MCL ASSESSORIA EMPRESARIAL S/C LTDA</td><td>2240</td><td>49</td><td>null</td><td>01</td><td>null</td><td>Sócio- Administrador</td></tr></tbody></table></div>"
      ]
     },
     "metadata": {
      "application/vnd.databricks.v1+output": {
       "addedWidgets": {},
       "aggData": [],
       "aggError": "",
       "aggOverflow": false,
       "aggSchema": [],
       "aggSeriesLimitReached": false,
       "aggType": "",
       "arguments": {},
       "columnCustomDisplayInfos": {},
       "data": [
        [
         0,
         "BANCO DO BRASIL SA",
         2038,
         10,
         null,
         "05",
         null,
         "Diretor"
        ],
        [
         1,
         "ASSOCIACAO DE AMIGOS DE BAIRRO DO CONJ PAULISTANO",
         3999,
         16,
         null,
         "05",
         null,
         "Presidente"
        ],
        [
         2,
         "WM&R EMPREITEIRA DE CONSTRUCAO CIVIL LIMITADA",
         2240,
         49,
         null,
         "05",
         null,
         "Sócio- Administrador"
        ],
        [
         3,
         "CASA CARIDADE LUZETE ROBERTA DE MORAIS CONJ PAULISTANO",
         3999,
         16,
         null,
         "05",
         null,
         "Presidente"
        ],
        [
         4,
         "ASSOCIACAO DO PEQUENO ADOLECENTE DO CONJ PAULISTANO",
         3999,
         16,
         null,
         "05",
         null,
         "Presidente"
        ],
        [
         5,
         "SERRALHERIA PORTA DE ACO REAL S/C LTDA",
         2240,
         28,
         null,
         "05",
         null,
         "Qualificação Indefinida"
        ],
        [
         6,
         "ACADEMIA DE BALLET PAULA FIRETTI LTDA",
         2062,
         49,
         null,
         "01",
         null,
         "Sócio- Administrador"
        ],
        [
         7,
         "ADVOCACIA BERGANTIN E ASSOCIADOS",
         2240,
         49,
         null,
         "01",
         null,
         "Sócio- Administrador"
        ],
        [
         8,
         "A.R. ZANOTI E SILVA S/C LTDA",
         2240,
         49,
         null,
         "01",
         null,
         "Sócio- Administrador"
        ],
        [
         9,
         "SUWAN REPRESENTACOES LTDA",
         2240,
         49,
         null,
         "01",
         null,
         "Sócio- Administrador"
        ],
        [
         10,
         "ADUB SERVICOS GERAIS DE AUTOS LTDA",
         2240,
         28,
         null,
         "05",
         null,
         "Qualificação Indefinida"
        ],
        [
         11,
         "KAWANISHI MANUTENCAO ELETRICA INDUSTRIAL S/C LTDA",
         2240,
         49,
         null,
         "01",
         null,
         "Sócio- Administrador"
        ],
        [
         12,
         "APARTH ADMINISTRACAO S/C LTDA",
         2240,
         49,
         null,
         "05",
         null,
         "Sócio- Administrador"
        ],
        [
         13,
         "SAMPAIO SERVICOS CONTABEIS LTDA",
         2240,
         49,
         null,
         "01",
         null,
         "Sócio- Administrador"
        ],
        [
         14,
         "CLUBE DE MAES DA CASA VERDE ALTA E ADJACENCIAS",
         3999,
         16,
         null,
         "05",
         null,
         "Presidente"
        ],
        [
         15,
         "DOS - INSTALACAO DE SISTEMAS DE AUDIO E VIDEO S/S LTDA",
         2240,
         49,
         null,
         "01",
         null,
         "Sócio- Administrador"
        ],
        [
         16,
         "MICRO-ARTE COMUNICACOES VISUAIS LTDA",
         2062,
         49,
         null,
         "05",
         null,
         "Sócio- Administrador"
        ],
        [
         17,
         "ASSOCIACAO VIVER EM CRISTO",
         3999,
         16,
         null,
         "05",
         null,
         "Presidente"
        ],
        [
         18,
         "AUTOMAR AGROPECUARIA DO URUCUIA LIMITADA",
         2062,
         49,
         null,
         "05",
         null,
         "Sócio- Administrador"
        ],
        [
         19,
         "DOCENA & DOCENA CONSULTORES EM INFORMATICA E ASSOCIADOS LTDA",
         2062,
         49,
         null,
         "05",
         null,
         "Sócio- Administrador"
        ],
        [
         20,
         "ASSISTEC.SYS MANUTENCAO DE MICROINFORMATICA S/C LTDA",
         2240,
         28,
         null,
         "05",
         null,
         "Qualificação Indefinida"
        ],
        [
         21,
         "OMEGA ASSESSORIA DE SERVICES E SEGURANCA S/C LTDA",
         2240,
         49,
         null,
         "05",
         null,
         "Sócio- Administrador"
        ],
        [
         22,
         "SIMTEC INFORMATICA S/C LTDA",
         2240,
         49,
         null,
         "01",
         null,
         "Sócio- Administrador"
        ],
        [
         23,
         "CAMACHO E FERIGOLLI INFORMATICA S/C LTDA",
         2240,
         49,
         null,
         "05",
         null,
         "Sócio- Administrador"
        ],
        [
         24,
         "CAIXA DE CUSTEIO DA EEPSG PROF JACOMO STAVALE",
         3999,
         16,
         null,
         "05",
         null,
         "Presidente"
        ],
        [
         25,
         "SOCIEDADE AMIGOS DE BAIRRO DR ULISSES GUIMARAES",
         3999,
         16,
         null,
         "05",
         null,
         "Presidente"
        ],
        [
         26,
         "PARTIDO DEMOCRATICO SOCIAL",
         3999,
         16,
         null,
         "05",
         null,
         "Presidente"
        ],
        [
         27,
         "CONDUS CONSULTORIA DE ENGENHARIA S/C LTDA",
         2240,
         28,
         null,
         "05",
         null,
         "Qualificação Indefinida"
        ],
        [
         28,
         "TARGET ENGENHARIA E CONSULTORIA LTDA.",
         2062,
         49,
         null,
         "05",
         null,
         "Sócio- Administrador"
        ],
        [
         29,
         "MCL ASSESSORIA EMPRESARIAL S/C LTDA",
         2240,
         49,
         null,
         "01",
         null,
         "Sócio- Administrador"
        ]
       ],
       "datasetInfos": [],
       "dbfsResultPath": null,
       "isJsonSchema": true,
       "metadata": {},
       "overflow": false,
       "plotOptions": {
        "customPlotOptions": {},
        "displayType": "table",
        "pivotAggregation": null,
        "pivotColumns": null,
        "xColumns": null,
        "yColumns": null
       },
       "removedWidgets": [],
       "schema": [
        {
         "metadata": "{}",
         "name": "id",
         "type": "\"integer\""
        },
        {
         "metadata": "{}",
         "name": "razao_social",
         "type": "\"string\""
        },
        {
         "metadata": "{}",
         "name": "cod_natureza_juridica",
         "type": "\"integer\""
        },
        {
         "metadata": "{}",
         "name": "cod_qualificao_responsavel",
         "type": "\"integer\""
        },
        {
         "metadata": "{}",
         "name": "capital_social",
         "type": "\"float\""
        },
        {
         "metadata": "{}",
         "name": "cod_porte",
         "type": "\"string\""
        },
        {
         "metadata": "{}",
         "name": "localizacao",
         "type": "\"string\""
        },
        {
         "metadata": "{}",
         "name": "desc_qualificacao_responsavel",
         "type": "\"string\""
        }
       ],
       "type": "table"
      }
     },
     "output_type": "display_data"
    }
   ],
   "source": [
    "df_emp_quali_resp.limit(30).display()"
   ]
  },
  {
   "cell_type": "code",
   "execution_count": 0,
   "metadata": {
    "application/vnd.databricks.v1+cell": {
     "cellMetadata": {
      "byteLimit": 2048000,
      "rowLimit": 10000
     },
     "inputWidgets": {},
     "nuid": "2b25e99b-5dfa-487e-a16a-55f27052ffc9",
     "showTitle": false,
     "tableResultSettingsMap": {},
     "title": ""
    }
   },
   "outputs": [],
   "source": [
    "df_list_emp = (df_list_emp\n",
    "               .withColumn(\"razao_social_format\",\n",
    "                           F.regexp_replace(col(\"razao_social\"), \"^\\\\s+\", \"\"))\n",
    "                    .drop(\"razao_social\")\n",
    "                        .withColumnRenamed(\"razao_social_format\", \"razao_social\")\n",
    "                        ).select(\n",
    "                            'id'\n",
    "                            , 'razao_social'\n",
    "                            , 'cod_natureza_juridica'\n",
    "                            , 'cod_qualificao_responsavel'\n",
    "                            , 'capital_social'\n",
    "                            , 'cod_porte'\n",
    "                            , 'localizacao'\n",
    "                        )"
   ]
  },
  {
   "cell_type": "code",
   "execution_count": 0,
   "metadata": {
    "application/vnd.databricks.v1+cell": {
     "cellMetadata": {
      "byteLimit": 2048000,
      "rowLimit": 10000
     },
     "inputWidgets": {},
     "nuid": "6536b56d-6a0b-4f6f-846b-6cf88970cf6b",
     "showTitle": false,
     "tableResultSettingsMap": {},
     "title": ""
    }
   },
   "outputs": [
    {
     "output_type": "display_data",
     "data": {
      "text/html": [
       "<style scoped>\n",
       "  .table-result-container {\n",
       "    max-height: 300px;\n",
       "    overflow: auto;\n",
       "  }\n",
       "  table, th, td {\n",
       "    border: 1px solid black;\n",
       "    border-collapse: collapse;\n",
       "  }\n",
       "  th, td {\n",
       "    padding: 5px;\n",
       "  }\n",
       "  th {\n",
       "    text-align: left;\n",
       "  }\n",
       "</style><div class='table-result-container'><table class='table-result'><thead style='background-color: white'><tr><th>id</th><th>cod_natureza_juridica</th><th>cod_qualificao_responsavel</th><th>capital_social</th><th>cod_porte</th><th>localizacao</th><th>razao_social</th></tr></thead><tbody><tr><td>0</td><td>2038</td><td>10</td><td>null</td><td>05</td><td>null</td><td>BANCO DO BRASIL SA</td></tr><tr><td>1</td><td>3999</td><td>16</td><td>null</td><td>05</td><td>null</td><td>ASSOCIACAO DE AMIGOS DE BAIRRO DO CONJ PAULISTANO</td></tr><tr><td>2</td><td>2240</td><td>49</td><td>null</td><td>05</td><td>null</td><td>WM&R EMPREITEIRA DE CONSTRUCAO CIVIL LIMITADA</td></tr><tr><td>3</td><td>3999</td><td>16</td><td>null</td><td>05</td><td>null</td><td>CASA CARIDADE LUZETE ROBERTA DE MORAIS CONJ PAULISTANO</td></tr><tr><td>4</td><td>3999</td><td>16</td><td>null</td><td>05</td><td>null</td><td>ASSOCIACAO DO PEQUENO ADOLECENTE DO CONJ PAULISTANO</td></tr><tr><td>5</td><td>2240</td><td>28</td><td>null</td><td>05</td><td>null</td><td>SERRALHERIA PORTA DE ACO REAL S/C LTDA</td></tr><tr><td>6</td><td>2062</td><td>49</td><td>null</td><td>01</td><td>null</td><td>ACADEMIA DE BALLET PAULA FIRETTI LTDA</td></tr><tr><td>7</td><td>2240</td><td>49</td><td>null</td><td>01</td><td>null</td><td>ADVOCACIA BERGANTIN E ASSOCIADOS</td></tr><tr><td>8</td><td>2240</td><td>49</td><td>null</td><td>01</td><td>null</td><td>A.R. ZANOTI E SILVA S/C LTDA</td></tr><tr><td>9</td><td>2240</td><td>49</td><td>null</td><td>01</td><td>null</td><td>SUWAN REPRESENTACOES LTDA</td></tr><tr><td>10</td><td>2240</td><td>28</td><td>null</td><td>05</td><td>null</td><td>ADUB SERVICOS GERAIS DE AUTOS LTDA</td></tr><tr><td>11</td><td>2240</td><td>49</td><td>null</td><td>01</td><td>null</td><td>KAWANISHI MANUTENCAO ELETRICA INDUSTRIAL S/C LTDA</td></tr><tr><td>12</td><td>2240</td><td>49</td><td>null</td><td>05</td><td>null</td><td>APARTH ADMINISTRACAO S/C LTDA</td></tr><tr><td>13</td><td>2240</td><td>49</td><td>null</td><td>01</td><td>null</td><td>SAMPAIO SERVICOS CONTABEIS LTDA</td></tr><tr><td>14</td><td>3999</td><td>16</td><td>null</td><td>05</td><td>null</td><td>CLUBE DE MAES DA CASA VERDE ALTA E ADJACENCIAS</td></tr><tr><td>15</td><td>2240</td><td>49</td><td>null</td><td>01</td><td>null</td><td>DOS - INSTALACAO DE SISTEMAS DE AUDIO E VIDEO S/S LTDA</td></tr><tr><td>16</td><td>2062</td><td>49</td><td>null</td><td>05</td><td>null</td><td>MICRO-ARTE COMUNICACOES VISUAIS LTDA</td></tr><tr><td>17</td><td>3999</td><td>16</td><td>null</td><td>05</td><td>null</td><td>ASSOCIACAO VIVER EM CRISTO</td></tr><tr><td>18</td><td>2062</td><td>49</td><td>null</td><td>05</td><td>null</td><td>AUTOMAR AGROPECUARIA DO URUCUIA LIMITADA</td></tr><tr><td>19</td><td>2062</td><td>49</td><td>null</td><td>05</td><td>null</td><td>DOCENA & DOCENA CONSULTORES EM INFORMATICA E ASSOCIADOS LTDA</td></tr></tbody></table></div>"
      ]
     },
     "metadata": {
      "application/vnd.databricks.v1+output": {
       "addedWidgets": {},
       "aggData": [],
       "aggError": "",
       "aggOverflow": false,
       "aggSchema": [],
       "aggSeriesLimitReached": false,
       "aggType": "",
       "arguments": {},
       "columnCustomDisplayInfos": {},
       "data": [
        [
         0,
         2038,
         10,
         null,
         "05",
         null,
         "BANCO DO BRASIL SA"
        ],
        [
         1,
         3999,
         16,
         null,
         "05",
         null,
         "ASSOCIACAO DE AMIGOS DE BAIRRO DO CONJ PAULISTANO"
        ],
        [
         2,
         2240,
         49,
         null,
         "05",
         null,
         "WM&R EMPREITEIRA DE CONSTRUCAO CIVIL LIMITADA"
        ],
        [
         3,
         3999,
         16,
         null,
         "05",
         null,
         "CASA CARIDADE LUZETE ROBERTA DE MORAIS CONJ PAULISTANO"
        ],
        [
         4,
         3999,
         16,
         null,
         "05",
         null,
         "ASSOCIACAO DO PEQUENO ADOLECENTE DO CONJ PAULISTANO"
        ],
        [
         5,
         2240,
         28,
         null,
         "05",
         null,
         "SERRALHERIA PORTA DE ACO REAL S/C LTDA"
        ],
        [
         6,
         2062,
         49,
         null,
         "01",
         null,
         "ACADEMIA DE BALLET PAULA FIRETTI LTDA"
        ],
        [
         7,
         2240,
         49,
         null,
         "01",
         null,
         "ADVOCACIA BERGANTIN E ASSOCIADOS"
        ],
        [
         8,
         2240,
         49,
         null,
         "01",
         null,
         "A.R. ZANOTI E SILVA S/C LTDA"
        ],
        [
         9,
         2240,
         49,
         null,
         "01",
         null,
         "SUWAN REPRESENTACOES LTDA"
        ],
        [
         10,
         2240,
         28,
         null,
         "05",
         null,
         "ADUB SERVICOS GERAIS DE AUTOS LTDA"
        ],
        [
         11,
         2240,
         49,
         null,
         "01",
         null,
         "KAWANISHI MANUTENCAO ELETRICA INDUSTRIAL S/C LTDA"
        ],
        [
         12,
         2240,
         49,
         null,
         "05",
         null,
         "APARTH ADMINISTRACAO S/C LTDA"
        ],
        [
         13,
         2240,
         49,
         null,
         "01",
         null,
         "SAMPAIO SERVICOS CONTABEIS LTDA"
        ],
        [
         14,
         3999,
         16,
         null,
         "05",
         null,
         "CLUBE DE MAES DA CASA VERDE ALTA E ADJACENCIAS"
        ],
        [
         15,
         2240,
         49,
         null,
         "01",
         null,
         "DOS - INSTALACAO DE SISTEMAS DE AUDIO E VIDEO S/S LTDA"
        ],
        [
         16,
         2062,
         49,
         null,
         "05",
         null,
         "MICRO-ARTE COMUNICACOES VISUAIS LTDA"
        ],
        [
         17,
         3999,
         16,
         null,
         "05",
         null,
         "ASSOCIACAO VIVER EM CRISTO"
        ],
        [
         18,
         2062,
         49,
         null,
         "05",
         null,
         "AUTOMAR AGROPECUARIA DO URUCUIA LIMITADA"
        ],
        [
         19,
         2062,
         49,
         null,
         "05",
         null,
         "DOCENA & DOCENA CONSULTORES EM INFORMATICA E ASSOCIADOS LTDA"
        ]
       ],
       "datasetInfos": [],
       "dbfsResultPath": null,
       "isJsonSchema": true,
       "metadata": {},
       "overflow": false,
       "plotOptions": {
        "customPlotOptions": {},
        "displayType": "table",
        "pivotAggregation": null,
        "pivotColumns": null,
        "xColumns": null,
        "yColumns": null
       },
       "removedWidgets": [],
       "schema": [
        {
         "metadata": "{}",
         "name": "id",
         "type": "\"integer\""
        },
        {
         "metadata": "{}",
         "name": "cod_natureza_juridica",
         "type": "\"integer\""
        },
        {
         "metadata": "{}",
         "name": "cod_qualificao_responsavel",
         "type": "\"integer\""
        },
        {
         "metadata": "{}",
         "name": "capital_social",
         "type": "\"float\""
        },
        {
         "metadata": "{}",
         "name": "cod_porte",
         "type": "\"string\""
        },
        {
         "metadata": "{}",
         "name": "localizacao",
         "type": "\"string\""
        },
        {
         "metadata": "{}",
         "name": "razao_social",
         "type": "\"string\""
        }
       ],
       "type": "table"
      }
     },
     "output_type": "display_data"
    }
   ],
   "source": [
    "df_list_emp.limit(20).display()"
   ]
  },
  {
   "cell_type": "code",
   "execution_count": 0,
   "metadata": {
    "application/vnd.databricks.v1+cell": {
     "cellMetadata": {
      "byteLimit": 2048000,
      "rowLimit": 10000
     },
     "inputWidgets": {},
     "nuid": "f4851b93-c8c5-4842-8175-dd2886ce225f",
     "showTitle": false,
     "tableResultSettingsMap": {},
     "title": ""
    }
   },
   "outputs": [
    {
     "output_type": "display_data",
     "data": {
      "text/html": [
       "<style scoped>\n",
       "  .table-result-container {\n",
       "    max-height: 300px;\n",
       "    overflow: auto;\n",
       "  }\n",
       "  table, th, td {\n",
       "    border: 1px solid black;\n",
       "    border-collapse: collapse;\n",
       "  }\n",
       "  th, td {\n",
       "    padding: 5px;\n",
       "  }\n",
       "  th {\n",
       "    text-align: left;\n",
       "  }\n",
       "</style><div class='table-result-container'><table class='table-result'><thead style='background-color: white'><tr><th>razao_social</th></tr></thead><tbody></tbody></table></div>"
      ]
     },
     "metadata": {
      "application/vnd.databricks.v1+output": {
       "addedWidgets": {},
       "aggData": [],
       "aggError": "",
       "aggOverflow": false,
       "aggSchema": [],
       "aggSeriesLimitReached": false,
       "aggType": "",
       "arguments": {},
       "columnCustomDisplayInfos": {},
       "data": [],
       "datasetInfos": [],
       "dbfsResultPath": null,
       "isJsonSchema": true,
       "metadata": {},
       "overflow": false,
       "plotOptions": {
        "customPlotOptions": {},
        "displayType": "table",
        "pivotAggregation": null,
        "pivotColumns": null,
        "xColumns": null,
        "yColumns": null
       },
       "removedWidgets": [],
       "schema": [
        {
         "metadata": "{}",
         "name": "razao_social",
         "type": "\"string\""
        }
       ],
       "type": "table"
      }
     },
     "output_type": "display_data"
    }
   ],
   "source": [
    "df_list_emp.select(\"razao_social\").filter(col(\"razao_social_format\").like(' %')).display()"
   ]
  },
  {
   "cell_type": "code",
   "execution_count": 0,
   "metadata": {
    "application/vnd.databricks.v1+cell": {
     "cellMetadata": {
      "byteLimit": 2048000,
      "rowLimit": 10000
     },
     "inputWidgets": {},
     "nuid": "ba8bf330-11a6-4a89-991c-1785a3b095a9",
     "showTitle": false,
     "tableResultSettingsMap": {},
     "title": ""
    }
   },
   "outputs": [
    {
     "output_type": "display_data",
     "data": {
      "text/html": [
       "<style scoped>\n",
       "  .table-result-container {\n",
       "    max-height: 300px;\n",
       "    overflow: auto;\n",
       "  }\n",
       "  table, th, td {\n",
       "    border: 1px solid black;\n",
       "    border-collapse: collapse;\n",
       "  }\n",
       "  th, td {\n",
       "    padding: 5px;\n",
       "  }\n",
       "  th {\n",
       "    text-align: left;\n",
       "  }\n",
       "</style><div class='table-result-container'><table class='table-result'><thead style='background-color: white'><tr><th>razao_social_format</th></tr></thead><tbody><tr><td>BANCO DO BRASIL SA</td></tr><tr><td>ASSOCIACAO DE AMIGOS DE BAIRRO DO CONJ PAULISTANO</td></tr><tr><td>WM&R EMPREITEIRA DE CONSTRUCAO CIVIL LIMITADA</td></tr><tr><td>CASA CARIDADE LUZETE ROBERTA DE MORAIS CONJ PAULISTANO</td></tr><tr><td>ASSOCIACAO DO PEQUENO ADOLECENTE DO CONJ PAULISTANO</td></tr><tr><td>SERRALHERIA PORTA DE ACO REAL S/C LTDA</td></tr><tr><td>ACADEMIA DE BALLET PAULA FIRETTI LTDA</td></tr><tr><td>ADVOCACIA BERGANTIN E ASSOCIADOS</td></tr><tr><td>A.R. ZANOTI E SILVA S/C LTDA</td></tr><tr><td>SUWAN REPRESENTACOES LTDA</td></tr><tr><td>ADUB SERVICOS GERAIS DE AUTOS LTDA</td></tr><tr><td>KAWANISHI MANUTENCAO ELETRICA INDUSTRIAL S/C LTDA</td></tr><tr><td>APARTH ADMINISTRACAO S/C LTDA</td></tr><tr><td>SAMPAIO SERVICOS CONTABEIS LTDA</td></tr><tr><td>CLUBE DE MAES DA CASA VERDE ALTA E ADJACENCIAS</td></tr><tr><td>DOS - INSTALACAO DE SISTEMAS DE AUDIO E VIDEO S/S LTDA</td></tr><tr><td>MICRO-ARTE COMUNICACOES VISUAIS LTDA</td></tr><tr><td>ASSOCIACAO VIVER EM CRISTO</td></tr><tr><td>AUTOMAR AGROPECUARIA DO URUCUIA LIMITADA</td></tr><tr><td>DOCENA & DOCENA CONSULTORES EM INFORMATICA E ASSOCIADOS LTDA</td></tr><tr><td>ASSISTEC.SYS MANUTENCAO DE MICROINFORMATICA S/C LTDA</td></tr><tr><td>OMEGA ASSESSORIA DE SERVICES E SEGURANCA S/C LTDA</td></tr><tr><td>SIMTEC INFORMATICA S/C LTDA</td></tr><tr><td>CAMACHO E FERIGOLLI INFORMATICA S/C LTDA</td></tr><tr><td>CAIXA DE CUSTEIO DA EEPSG PROF JACOMO STAVALE</td></tr><tr><td>SOCIEDADE AMIGOS DE BAIRRO DR ULISSES GUIMARAES</td></tr><tr><td>PARTIDO DEMOCRATICO SOCIAL</td></tr><tr><td>CONDUS CONSULTORIA DE ENGENHARIA S/C LTDA</td></tr><tr><td>TARGET ENGENHARIA E CONSULTORIA LTDA.</td></tr><tr><td>MCL ASSESSORIA EMPRESARIAL S/C LTDA</td></tr></tbody></table></div>"
      ]
     },
     "metadata": {
      "application/vnd.databricks.v1+output": {
       "addedWidgets": {},
       "aggData": [],
       "aggError": "",
       "aggOverflow": false,
       "aggSchema": [],
       "aggSeriesLimitReached": false,
       "aggType": "",
       "arguments": {},
       "columnCustomDisplayInfos": {},
       "data": [
        [
         "BANCO DO BRASIL SA"
        ],
        [
         "ASSOCIACAO DE AMIGOS DE BAIRRO DO CONJ PAULISTANO"
        ],
        [
         "WM&R EMPREITEIRA DE CONSTRUCAO CIVIL LIMITADA"
        ],
        [
         "CASA CARIDADE LUZETE ROBERTA DE MORAIS CONJ PAULISTANO"
        ],
        [
         "ASSOCIACAO DO PEQUENO ADOLECENTE DO CONJ PAULISTANO"
        ],
        [
         "SERRALHERIA PORTA DE ACO REAL S/C LTDA"
        ],
        [
         "ACADEMIA DE BALLET PAULA FIRETTI LTDA"
        ],
        [
         "ADVOCACIA BERGANTIN E ASSOCIADOS"
        ],
        [
         "A.R. ZANOTI E SILVA S/C LTDA"
        ],
        [
         "SUWAN REPRESENTACOES LTDA"
        ],
        [
         "ADUB SERVICOS GERAIS DE AUTOS LTDA"
        ],
        [
         "KAWANISHI MANUTENCAO ELETRICA INDUSTRIAL S/C LTDA"
        ],
        [
         "APARTH ADMINISTRACAO S/C LTDA"
        ],
        [
         "SAMPAIO SERVICOS CONTABEIS LTDA"
        ],
        [
         "CLUBE DE MAES DA CASA VERDE ALTA E ADJACENCIAS"
        ],
        [
         "DOS - INSTALACAO DE SISTEMAS DE AUDIO E VIDEO S/S LTDA"
        ],
        [
         "MICRO-ARTE COMUNICACOES VISUAIS LTDA"
        ],
        [
         "ASSOCIACAO VIVER EM CRISTO"
        ],
        [
         "AUTOMAR AGROPECUARIA DO URUCUIA LIMITADA"
        ],
        [
         "DOCENA & DOCENA CONSULTORES EM INFORMATICA E ASSOCIADOS LTDA"
        ],
        [
         "ASSISTEC.SYS MANUTENCAO DE MICROINFORMATICA S/C LTDA"
        ],
        [
         "OMEGA ASSESSORIA DE SERVICES E SEGURANCA S/C LTDA"
        ],
        [
         "SIMTEC INFORMATICA S/C LTDA"
        ],
        [
         "CAMACHO E FERIGOLLI INFORMATICA S/C LTDA"
        ],
        [
         "CAIXA DE CUSTEIO DA EEPSG PROF JACOMO STAVALE"
        ],
        [
         "SOCIEDADE AMIGOS DE BAIRRO DR ULISSES GUIMARAES"
        ],
        [
         "PARTIDO DEMOCRATICO SOCIAL"
        ],
        [
         "CONDUS CONSULTORIA DE ENGENHARIA S/C LTDA"
        ],
        [
         "TARGET ENGENHARIA E CONSULTORIA LTDA."
        ],
        [
         "MCL ASSESSORIA EMPRESARIAL S/C LTDA"
        ]
       ],
       "datasetInfos": [],
       "dbfsResultPath": null,
       "isJsonSchema": true,
       "metadata": {},
       "overflow": false,
       "plotOptions": {
        "customPlotOptions": {},
        "displayType": "table",
        "pivotAggregation": null,
        "pivotColumns": null,
        "xColumns": null,
        "yColumns": null
       },
       "removedWidgets": [],
       "schema": [
        {
         "metadata": "{}",
         "name": "razao_social_format",
         "type": "\"string\""
        }
       ],
       "type": "table"
      }
     },
     "output_type": "display_data"
    }
   ],
   "source": [
    "df_list_emp.select(\"razao_social_format\").limit(30).display()"
   ]
  },
  {
   "cell_type": "code",
   "execution_count": 0,
   "metadata": {
    "application/vnd.databricks.v1+cell": {
     "cellMetadata": {
      "byteLimit": 2048000,
      "rowLimit": 10000
     },
     "inputWidgets": {},
     "nuid": "020c89d2-e8f4-40b6-898f-8dfb0e624100",
     "showTitle": false,
     "tableResultSettingsMap": {},
     "title": ""
    }
   },
   "outputs": [
    {
     "output_type": "display_data",
     "data": {
      "text/html": [
       "<style scoped>\n",
       "  .table-result-container {\n",
       "    max-height: 300px;\n",
       "    overflow: auto;\n",
       "  }\n",
       "  table, th, td {\n",
       "    border: 1px solid black;\n",
       "    border-collapse: collapse;\n",
       "  }\n",
       "  th, td {\n",
       "    padding: 5px;\n",
       "  }\n",
       "  th {\n",
       "    text-align: left;\n",
       "  }\n",
       "</style><div class='table-result-container'><table class='table-result'><thead style='background-color: white'><tr><th>razao_social</th></tr></thead><tbody><tr><td>\"RONALD RIBEIRO CARDOSO\";\"2135\"</td></tr><tr><td>\"FRIOPAN FRIOS & CONDIMENTOS LTDA\";\"2062\"</td></tr><tr><td>\"CAIXA ESCOLAR DORGIVAL PINHEIRO DE SOUSA\";\"3999\"</td></tr><tr><td>\"SOLANGE DA S.LEITE GOES\";\"2135\"</td></tr><tr><td>\"AMARILDO ANACLETO DA COSTA\";\"2135\"</td></tr></tbody></table></div>"
      ]
     },
     "metadata": {
      "application/vnd.databricks.v1+output": {
       "addedWidgets": {},
       "aggData": [],
       "aggError": "",
       "aggOverflow": false,
       "aggSchema": [],
       "aggSeriesLimitReached": false,
       "aggType": "",
       "arguments": {},
       "columnCustomDisplayInfos": {},
       "data": [
        [
         "\"RONALD RIBEIRO CARDOSO\";\"2135\""
        ],
        [
         "\"FRIOPAN FRIOS & CONDIMENTOS LTDA\";\"2062\""
        ],
        [
         "\"CAIXA ESCOLAR DORGIVAL PINHEIRO DE SOUSA\";\"3999\""
        ],
        [
         "\"SOLANGE DA S.LEITE GOES\";\"2135\""
        ],
        [
         "\"AMARILDO ANACLETO DA COSTA\";\"2135\""
        ]
       ],
       "datasetInfos": [],
       "dbfsResultPath": null,
       "isJsonSchema": true,
       "metadata": {},
       "overflow": false,
       "plotOptions": {
        "customPlotOptions": {},
        "displayType": "table",
        "pivotAggregation": null,
        "pivotColumns": null,
        "xColumns": null,
        "yColumns": null
       },
       "removedWidgets": [],
       "schema": [
        {
         "metadata": "{}",
         "name": "razao_social",
         "type": "\"string\""
        }
       ],
       "type": "table"
      }
     },
     "output_type": "display_data"
    }
   ],
   "source": [
    "df_list_emp.select(\"razao_social\").filter(col(\"razao_social\").like('%\";\"%')).limit(100).display()"
   ]
  },
  {
   "cell_type": "code",
   "execution_count": 0,
   "metadata": {
    "application/vnd.databricks.v1+cell": {
     "cellMetadata": {
      "byteLimit": 2048000,
      "rowLimit": 10000
     },
     "inputWidgets": {},
     "nuid": "2429eecf-d857-4ec8-95e0-221fe9f4554c",
     "showTitle": false,
     "tableResultSettingsMap": {},
     "title": ""
    }
   },
   "outputs": [
    {
     "output_type": "display_data",
     "data": {
      "text/html": [
       "<style scoped>\n",
       "  .table-result-container {\n",
       "    max-height: 300px;\n",
       "    overflow: auto;\n",
       "  }\n",
       "  table, th, td {\n",
       "    border: 1px solid black;\n",
       "    border-collapse: collapse;\n",
       "  }\n",
       "  th, td {\n",
       "    padding: 5px;\n",
       "  }\n",
       "  th {\n",
       "    text-align: left;\n",
       "  }\n",
       "</style><div class='table-result-container'><table class='table-result'><thead style='background-color: white'><tr><th>id</th><th>razao_social</th><th>cod_natureza_juridica</th><th>cod_qualificao_responsavel</th><th>capital_social</th><th>cod_porte</th><th>localizacao</th><th>desc_qualificacao_responsavel</th><th>razao_social_format</th></tr></thead><tbody><tr><td>List(1718532)</td><td>List(\"RONALD RIBEIRO CARDOSO\", \"2135\")</td><td>List(50)</td><td>null</td><td>List(1.0)</td><td>null</td><td>null</td><td>List(Qualificação Indefinida)</td><td>List(\"RONALD RIBEIRO CARDOSO\", \"2135\")</td></tr><tr><td>List(1724006)</td><td>List(\"FRIOPAN FRIOS & CONDIMENTOS LTDA\", \"2062\")</td><td>List(49)</td><td>null</td><td>List(5.0)</td><td>null</td><td>null</td><td>List(Qualificação Indefinida)</td><td>List(\"FRIOPAN FRIOS & CONDIMENTOS LTDA\", \"2062\")</td></tr><tr><td>List(1794396)</td><td>List(\"CAIXA ESCOLAR DORGIVAL PINHEIRO DE SOUSA\", \"3999\")</td><td>List(16)</td><td>null</td><td>List(5.0)</td><td>null</td><td>null</td><td>List(Qualificação Indefinida)</td><td>List(\"CAIXA ESCOLAR DORGIVAL PINHEIRO DE SOUSA\", \"3999\")</td></tr><tr><td>List(2209756)</td><td>List(\"SOLANGE DA S.LEITE GOES\", \"2135\")</td><td>List(50)</td><td>null</td><td>List(5.0)</td><td>null</td><td>null</td><td>List(Qualificação Indefinida)</td><td>List(\"SOLANGE DA S.LEITE GOES\", \"2135\")</td></tr><tr><td>List(2649520)</td><td>List(\"AMARILDO ANACLETO DA COSTA\", \"2135\")</td><td>List(50)</td><td>null</td><td>List(1.0)</td><td>null</td><td>null</td><td>List(Qualificação Indefinida)</td><td>List(\"AMARILDO ANACLETO DA COSTA\", \"2135\")</td></tr></tbody></table></div>"
      ]
     },
     "metadata": {
      "application/vnd.databricks.v1+output": {
       "addedWidgets": {},
       "aggData": [],
       "aggError": "",
       "aggOverflow": false,
       "aggSchema": [],
       "aggSeriesLimitReached": false,
       "aggType": "",
       "arguments": {},
       "columnCustomDisplayInfos": {},
       "data": [
        [
         [
          "1718532"
         ],
         [
          "\"RONALD RIBEIRO CARDOSO\"",
          "\"2135\""
         ],
         [
          "50"
         ],
         null,
         [
          "1.0"
         ],
         null,
         null,
         [
          "Qualificação Indefinida"
         ],
         [
          "\"RONALD RIBEIRO CARDOSO\"",
          "\"2135\""
         ]
        ],
        [
         [
          "1724006"
         ],
         [
          "\"FRIOPAN FRIOS & CONDIMENTOS LTDA\"",
          "\"2062\""
         ],
         [
          "49"
         ],
         null,
         [
          "5.0"
         ],
         null,
         null,
         [
          "Qualificação Indefinida"
         ],
         [
          "\"FRIOPAN FRIOS & CONDIMENTOS LTDA\"",
          "\"2062\""
         ]
        ],
        [
         [
          "1794396"
         ],
         [
          "\"CAIXA ESCOLAR DORGIVAL PINHEIRO DE SOUSA\"",
          "\"3999\""
         ],
         [
          "16"
         ],
         null,
         [
          "5.0"
         ],
         null,
         null,
         [
          "Qualificação Indefinida"
         ],
         [
          "\"CAIXA ESCOLAR DORGIVAL PINHEIRO DE SOUSA\"",
          "\"3999\""
         ]
        ],
        [
         [
          "2209756"
         ],
         [
          "\"SOLANGE DA S.LEITE GOES\"",
          "\"2135\""
         ],
         [
          "50"
         ],
         null,
         [
          "5.0"
         ],
         null,
         null,
         [
          "Qualificação Indefinida"
         ],
         [
          "\"SOLANGE DA S.LEITE GOES\"",
          "\"2135\""
         ]
        ],
        [
         [
          "2649520"
         ],
         [
          "\"AMARILDO ANACLETO DA COSTA\"",
          "\"2135\""
         ],
         [
          "50"
         ],
         null,
         [
          "1.0"
         ],
         null,
         null,
         [
          "Qualificação Indefinida"
         ],
         [
          "\"AMARILDO ANACLETO DA COSTA\"",
          "\"2135\""
         ]
        ]
       ],
       "datasetInfos": [],
       "dbfsResultPath": null,
       "isJsonSchema": true,
       "metadata": {},
       "overflow": false,
       "plotOptions": {
        "customPlotOptions": {},
        "displayType": "table",
        "pivotAggregation": null,
        "pivotColumns": null,
        "xColumns": null,
        "yColumns": null
       },
       "removedWidgets": [],
       "schema": [
        {
         "metadata": "{}",
         "name": "id",
         "type": "{\"type\":\"array\",\"elementType\":\"string\",\"containsNull\":false}"
        },
        {
         "metadata": "{}",
         "name": "razao_social",
         "type": "{\"type\":\"array\",\"elementType\":\"string\",\"containsNull\":false}"
        },
        {
         "metadata": "{}",
         "name": "cod_natureza_juridica",
         "type": "{\"type\":\"array\",\"elementType\":\"string\",\"containsNull\":false}"
        },
        {
         "metadata": "{}",
         "name": "cod_qualificao_responsavel",
         "type": "{\"type\":\"array\",\"elementType\":\"string\",\"containsNull\":false}"
        },
        {
         "metadata": "{}",
         "name": "capital_social",
         "type": "{\"type\":\"array\",\"elementType\":\"string\",\"containsNull\":false}"
        },
        {
         "metadata": "{}",
         "name": "cod_porte",
         "type": "{\"type\":\"array\",\"elementType\":\"string\",\"containsNull\":false}"
        },
        {
         "metadata": "{}",
         "name": "localizacao",
         "type": "{\"type\":\"array\",\"elementType\":\"string\",\"containsNull\":false}"
        },
        {
         "metadata": "{}",
         "name": "desc_qualificacao_responsavel",
         "type": "{\"type\":\"array\",\"elementType\":\"string\",\"containsNull\":false}"
        },
        {
         "metadata": "{}",
         "name": "razao_social_format",
         "type": "{\"type\":\"array\",\"elementType\":\"string\",\"containsNull\":false}"
        }
       ],
       "type": "table"
      }
     },
     "output_type": "display_data"
    }
   ],
   "source": [
    "split_df = (df_list_emp.filter(col(\"razao_social\").like('%\";\"%'))\n",
    "            .select([split(col(c), ';').alias(c) for c in df_list_emp.columns]))\n",
    "\n",
    "display(split_df)"
   ]
  },
  {
   "cell_type": "code",
   "execution_count": 0,
   "metadata": {
    "application/vnd.databricks.v1+cell": {
     "cellMetadata": {
      "byteLimit": 2048000,
      "rowLimit": 10000
     },
     "inputWidgets": {},
     "nuid": "6b4a8d47-422e-4e56-b0be-bddd5fcb8eb9",
     "showTitle": false,
     "tableResultSettingsMap": {},
     "title": ""
    }
   },
   "outputs": [
    {
     "output_type": "display_data",
     "data": {
      "text/html": [
       "<style scoped>\n",
       "  .table-result-container {\n",
       "    max-height: 300px;\n",
       "    overflow: auto;\n",
       "  }\n",
       "  table, th, td {\n",
       "    border: 1px solid black;\n",
       "    border-collapse: collapse;\n",
       "  }\n",
       "  th, td {\n",
       "    padding: 5px;\n",
       "  }\n",
       "  th {\n",
       "    text-align: left;\n",
       "  }\n",
       "</style><div class='table-result-container'><table class='table-result'><thead style='background-color: white'><tr><th>id</th><th>razao_social</th><th>cod_natureza_juridica</th><th>cod_qualificao_responsavel</th><th>capital_social</th><th>cod_porte</th><th>localizacao</th><th>desc_qualificacao_responsavel</th><th>razao_social_format</th></tr></thead><tbody><tr><td>1718532</td><td>\"RONALD RIBEIRO CARDOSO\", \"2135\"</td><td>50</td><td>null</td><td>1.0</td><td>null</td><td>null</td><td>Qualificação Indefinida</td><td>\"RONALD RIBEIRO CARDOSO\", \"2135\"</td></tr><tr><td>1724006</td><td>\"FRIOPAN FRIOS & CONDIMENTOS LTDA\", \"2062\"</td><td>49</td><td>null</td><td>5.0</td><td>null</td><td>null</td><td>Qualificação Indefinida</td><td>\"FRIOPAN FRIOS & CONDIMENTOS LTDA\", \"2062\"</td></tr><tr><td>1794396</td><td>\"CAIXA ESCOLAR DORGIVAL PINHEIRO DE SOUSA\", \"3999\"</td><td>16</td><td>null</td><td>5.0</td><td>null</td><td>null</td><td>Qualificação Indefinida</td><td>\"CAIXA ESCOLAR DORGIVAL PINHEIRO DE SOUSA\", \"3999\"</td></tr><tr><td>2209756</td><td>\"SOLANGE DA S.LEITE GOES\", \"2135\"</td><td>50</td><td>null</td><td>5.0</td><td>null</td><td>null</td><td>Qualificação Indefinida</td><td>\"SOLANGE DA S.LEITE GOES\", \"2135\"</td></tr><tr><td>2649520</td><td>\"AMARILDO ANACLETO DA COSTA\", \"2135\"</td><td>50</td><td>null</td><td>1.0</td><td>null</td><td>null</td><td>Qualificação Indefinida</td><td>\"AMARILDO ANACLETO DA COSTA\", \"2135\"</td></tr></tbody></table></div>"
      ]
     },
     "metadata": {
      "application/vnd.databricks.v1+output": {
       "addedWidgets": {},
       "aggData": [],
       "aggError": "",
       "aggOverflow": false,
       "aggSchema": [],
       "aggSeriesLimitReached": false,
       "aggType": "",
       "arguments": {},
       "columnCustomDisplayInfos": {},
       "data": [
        [
         "1718532",
         "\"RONALD RIBEIRO CARDOSO\", \"2135\"",
         "50",
         null,
         "1.0",
         null,
         null,
         "Qualificação Indefinida",
         "\"RONALD RIBEIRO CARDOSO\", \"2135\""
        ],
        [
         "1724006",
         "\"FRIOPAN FRIOS & CONDIMENTOS LTDA\", \"2062\"",
         "49",
         null,
         "5.0",
         null,
         null,
         "Qualificação Indefinida",
         "\"FRIOPAN FRIOS & CONDIMENTOS LTDA\", \"2062\""
        ],
        [
         "1794396",
         "\"CAIXA ESCOLAR DORGIVAL PINHEIRO DE SOUSA\", \"3999\"",
         "16",
         null,
         "5.0",
         null,
         null,
         "Qualificação Indefinida",
         "\"CAIXA ESCOLAR DORGIVAL PINHEIRO DE SOUSA\", \"3999\""
        ],
        [
         "2209756",
         "\"SOLANGE DA S.LEITE GOES\", \"2135\"",
         "50",
         null,
         "5.0",
         null,
         null,
         "Qualificação Indefinida",
         "\"SOLANGE DA S.LEITE GOES\", \"2135\""
        ],
        [
         "2649520",
         "\"AMARILDO ANACLETO DA COSTA\", \"2135\"",
         "50",
         null,
         "1.0",
         null,
         null,
         "Qualificação Indefinida",
         "\"AMARILDO ANACLETO DA COSTA\", \"2135\""
        ]
       ],
       "datasetInfos": [],
       "dbfsResultPath": null,
       "isJsonSchema": true,
       "metadata": {},
       "overflow": false,
       "plotOptions": {
        "customPlotOptions": {},
        "displayType": "table",
        "pivotAggregation": null,
        "pivotColumns": null,
        "xColumns": null,
        "yColumns": null
       },
       "removedWidgets": [],
       "schema": [
        {
         "metadata": "{}",
         "name": "id",
         "type": "\"string\""
        },
        {
         "metadata": "{}",
         "name": "razao_social",
         "type": "\"string\""
        },
        {
         "metadata": "{}",
         "name": "cod_natureza_juridica",
         "type": "\"string\""
        },
        {
         "metadata": "{}",
         "name": "cod_qualificao_responsavel",
         "type": "\"string\""
        },
        {
         "metadata": "{}",
         "name": "capital_social",
         "type": "\"string\""
        },
        {
         "metadata": "{}",
         "name": "cod_porte",
         "type": "\"string\""
        },
        {
         "metadata": "{}",
         "name": "localizacao",
         "type": "\"string\""
        },
        {
         "metadata": "{}",
         "name": "desc_qualificacao_responsavel",
         "type": "\"string\""
        },
        {
         "metadata": "{}",
         "name": "razao_social_format",
         "type": "\"string\""
        }
       ],
       "type": "table"
      }
     },
     "output_type": "display_data"
    }
   ],
   "source": [
    "%python\n",
    "from pyspark.sql.functions import col, split, regexp_replace\n",
    "\n",
    "# Split all columns by ';'\n",
    "split_df = (df_list_emp.filter(col(\"razao_social\").like('%\";\"%'))\n",
    "            .select([split(col(c), ';').alias(c) for c in df_list_emp.columns]))\n",
    "\n",
    "# Remove square brackets from all columns\n",
    "cleaned_df = split_df.select([regexp_replace(col(c).cast(\"string\"), r'[\\[\\]]', '').alias(c) for c in split_df.columns])\n",
    "\n",
    "display(cleaned_df)"
   ]
  },
  {
   "cell_type": "code",
   "execution_count": 0,
   "metadata": {
    "application/vnd.databricks.v1+cell": {
     "cellMetadata": {
      "byteLimit": 2048000,
      "rowLimit": 10000
     },
     "inputWidgets": {},
     "nuid": "d3b3f96b-c6cc-4ecb-a1f7-7878854e105d",
     "showTitle": false,
     "tableResultSettingsMap": {},
     "title": ""
    }
   },
   "outputs": [
    {
     "output_type": "display_data",
     "data": {
      "text/html": [
       "<style scoped>\n",
       "  .table-result-container {\n",
       "    max-height: 300px;\n",
       "    overflow: auto;\n",
       "  }\n",
       "  table, th, td {\n",
       "    border: 1px solid black;\n",
       "    border-collapse: collapse;\n",
       "  }\n",
       "  th, td {\n",
       "    padding: 5px;\n",
       "  }\n",
       "  th {\n",
       "    text-align: left;\n",
       "  }\n",
       "</style><div class='table-result-container'><table class='table-result'><thead style='background-color: white'><tr><th>id</th><th>razao_social</th><th>cod_natureza_juridica</th><th>cod_qualificao_responsavel</th><th>capital_social</th><th>cod_porte</th><th>localizacao</th><th>desc_qualificacao_responsavel</th><th>razao_social_format</th></tr></thead><tbody><tr><td>0</td><td>BANCO DO BRASIL SA</td><td>2038</td><td>10</td><td>null</td><td>05</td><td>null</td><td>Diretor</td><td>BANCO DO BRASIL SA</td></tr><tr><td>1</td><td>ASSOCIACAO DE AMIGOS DE BAIRRO DO CONJ PAULISTANO</td><td>3999</td><td>16</td><td>null</td><td>05</td><td>null</td><td>Presidente</td><td>ASSOCIACAO DE AMIGOS DE BAIRRO DO CONJ PAULISTANO</td></tr><tr><td>2</td><td>WM&R EMPREITEIRA DE CONSTRUCAO CIVIL LIMITADA</td><td>2240</td><td>49</td><td>null</td><td>05</td><td>null</td><td>Sócio- Administrador</td><td>WM&R EMPREITEIRA DE CONSTRUCAO CIVIL LIMITADA</td></tr><tr><td>3</td><td>CASA CARIDADE LUZETE ROBERTA DE MORAIS CONJ PAULISTANO</td><td>3999</td><td>16</td><td>null</td><td>05</td><td>null</td><td>Presidente</td><td>CASA CARIDADE LUZETE ROBERTA DE MORAIS CONJ PAULISTANO</td></tr><tr><td>4</td><td>ASSOCIACAO DO PEQUENO ADOLECENTE DO CONJ PAULISTANO</td><td>3999</td><td>16</td><td>null</td><td>05</td><td>null</td><td>Presidente</td><td>ASSOCIACAO DO PEQUENO ADOLECENTE DO CONJ PAULISTANO</td></tr><tr><td>5</td><td>SERRALHERIA PORTA DE ACO REAL S/C LTDA</td><td>2240</td><td>28</td><td>null</td><td>05</td><td>null</td><td>Qualificação Indefinida</td><td>SERRALHERIA PORTA DE ACO REAL S/C LTDA</td></tr><tr><td>6</td><td>ACADEMIA DE BALLET PAULA FIRETTI LTDA</td><td>2062</td><td>49</td><td>null</td><td>01</td><td>null</td><td>Sócio- Administrador</td><td>ACADEMIA DE BALLET PAULA FIRETTI LTDA</td></tr><tr><td>7</td><td>ADVOCACIA BERGANTIN E ASSOCIADOS</td><td>2240</td><td>49</td><td>null</td><td>01</td><td>null</td><td>Sócio- Administrador</td><td>ADVOCACIA BERGANTIN E ASSOCIADOS</td></tr><tr><td>8</td><td>A.R. ZANOTI E SILVA S/C LTDA</td><td>2240</td><td>49</td><td>null</td><td>01</td><td>null</td><td>Sócio- Administrador</td><td>A.R. ZANOTI E SILVA S/C LTDA</td></tr><tr><td>9</td><td>SUWAN REPRESENTACOES LTDA</td><td>2240</td><td>49</td><td>null</td><td>01</td><td>null</td><td>Sócio- Administrador</td><td>SUWAN REPRESENTACOES LTDA</td></tr><tr><td>10</td><td>ADUB SERVICOS GERAIS DE AUTOS LTDA</td><td>2240</td><td>28</td><td>null</td><td>05</td><td>null</td><td>Qualificação Indefinida</td><td>ADUB SERVICOS GERAIS DE AUTOS LTDA</td></tr><tr><td>11</td><td>KAWANISHI MANUTENCAO ELETRICA INDUSTRIAL S/C LTDA</td><td>2240</td><td>49</td><td>null</td><td>01</td><td>null</td><td>Sócio- Administrador</td><td>KAWANISHI MANUTENCAO ELETRICA INDUSTRIAL S/C LTDA</td></tr><tr><td>12</td><td>APARTH ADMINISTRACAO S/C LTDA</td><td>2240</td><td>49</td><td>null</td><td>05</td><td>null</td><td>Sócio- Administrador</td><td>APARTH ADMINISTRACAO S/C LTDA</td></tr><tr><td>13</td><td>SAMPAIO SERVICOS CONTABEIS LTDA</td><td>2240</td><td>49</td><td>null</td><td>01</td><td>null</td><td>Sócio- Administrador</td><td>SAMPAIO SERVICOS CONTABEIS LTDA</td></tr><tr><td>14</td><td>CLUBE DE MAES DA CASA VERDE ALTA E ADJACENCIAS</td><td>3999</td><td>16</td><td>null</td><td>05</td><td>null</td><td>Presidente</td><td>CLUBE DE MAES DA CASA VERDE ALTA E ADJACENCIAS</td></tr><tr><td>15</td><td>DOS - INSTALACAO DE SISTEMAS DE AUDIO E VIDEO S/S LTDA</td><td>2240</td><td>49</td><td>null</td><td>01</td><td>null</td><td>Sócio- Administrador</td><td>DOS - INSTALACAO DE SISTEMAS DE AUDIO E VIDEO S/S LTDA</td></tr><tr><td>16</td><td>MICRO-ARTE COMUNICACOES VISUAIS LTDA</td><td>2062</td><td>49</td><td>null</td><td>05</td><td>null</td><td>Sócio- Administrador</td><td>MICRO-ARTE COMUNICACOES VISUAIS LTDA</td></tr><tr><td>17</td><td>ASSOCIACAO VIVER EM CRISTO</td><td>3999</td><td>16</td><td>null</td><td>05</td><td>null</td><td>Presidente</td><td>ASSOCIACAO VIVER EM CRISTO</td></tr><tr><td>18</td><td>AUTOMAR AGROPECUARIA DO URUCUIA LIMITADA</td><td>2062</td><td>49</td><td>null</td><td>05</td><td>null</td><td>Sócio- Administrador</td><td>AUTOMAR AGROPECUARIA DO URUCUIA LIMITADA</td></tr><tr><td>19</td><td>DOCENA & DOCENA CONSULTORES EM INFORMATICA E ASSOCIADOS LTDA</td><td>2062</td><td>49</td><td>null</td><td>05</td><td>null</td><td>Sócio- Administrador</td><td>DOCENA & DOCENA CONSULTORES EM INFORMATICA E ASSOCIADOS LTDA</td></tr></tbody></table></div>"
      ]
     },
     "metadata": {
      "application/vnd.databricks.v1+output": {
       "addedWidgets": {},
       "aggData": [],
       "aggError": "",
       "aggOverflow": false,
       "aggSchema": [],
       "aggSeriesLimitReached": false,
       "aggType": "",
       "arguments": {},
       "columnCustomDisplayInfos": {},
       "data": [
        [
         0,
         "BANCO DO BRASIL SA",
         2038,
         10,
         null,
         "05",
         null,
         "Diretor",
         "BANCO DO BRASIL SA"
        ],
        [
         1,
         "ASSOCIACAO DE AMIGOS DE BAIRRO DO CONJ PAULISTANO",
         3999,
         16,
         null,
         "05",
         null,
         "Presidente",
         "ASSOCIACAO DE AMIGOS DE BAIRRO DO CONJ PAULISTANO"
        ],
        [
         2,
         "WM&R EMPREITEIRA DE CONSTRUCAO CIVIL LIMITADA",
         2240,
         49,
         null,
         "05",
         null,
         "Sócio- Administrador",
         "WM&R EMPREITEIRA DE CONSTRUCAO CIVIL LIMITADA"
        ],
        [
         3,
         "CASA CARIDADE LUZETE ROBERTA DE MORAIS CONJ PAULISTANO",
         3999,
         16,
         null,
         "05",
         null,
         "Presidente",
         "CASA CARIDADE LUZETE ROBERTA DE MORAIS CONJ PAULISTANO"
        ],
        [
         4,
         "ASSOCIACAO DO PEQUENO ADOLECENTE DO CONJ PAULISTANO",
         3999,
         16,
         null,
         "05",
         null,
         "Presidente",
         "ASSOCIACAO DO PEQUENO ADOLECENTE DO CONJ PAULISTANO"
        ],
        [
         5,
         "SERRALHERIA PORTA DE ACO REAL S/C LTDA",
         2240,
         28,
         null,
         "05",
         null,
         "Qualificação Indefinida",
         "SERRALHERIA PORTA DE ACO REAL S/C LTDA"
        ],
        [
         6,
         "ACADEMIA DE BALLET PAULA FIRETTI LTDA",
         2062,
         49,
         null,
         "01",
         null,
         "Sócio- Administrador",
         "ACADEMIA DE BALLET PAULA FIRETTI LTDA"
        ],
        [
         7,
         "ADVOCACIA BERGANTIN E ASSOCIADOS",
         2240,
         49,
         null,
         "01",
         null,
         "Sócio- Administrador",
         "ADVOCACIA BERGANTIN E ASSOCIADOS"
        ],
        [
         8,
         "A.R. ZANOTI E SILVA S/C LTDA",
         2240,
         49,
         null,
         "01",
         null,
         "Sócio- Administrador",
         "A.R. ZANOTI E SILVA S/C LTDA"
        ],
        [
         9,
         "SUWAN REPRESENTACOES LTDA",
         2240,
         49,
         null,
         "01",
         null,
         "Sócio- Administrador",
         "SUWAN REPRESENTACOES LTDA"
        ],
        [
         10,
         "ADUB SERVICOS GERAIS DE AUTOS LTDA",
         2240,
         28,
         null,
         "05",
         null,
         "Qualificação Indefinida",
         "ADUB SERVICOS GERAIS DE AUTOS LTDA"
        ],
        [
         11,
         "KAWANISHI MANUTENCAO ELETRICA INDUSTRIAL S/C LTDA",
         2240,
         49,
         null,
         "01",
         null,
         "Sócio- Administrador",
         "KAWANISHI MANUTENCAO ELETRICA INDUSTRIAL S/C LTDA"
        ],
        [
         12,
         "APARTH ADMINISTRACAO S/C LTDA",
         2240,
         49,
         null,
         "05",
         null,
         "Sócio- Administrador",
         "APARTH ADMINISTRACAO S/C LTDA"
        ],
        [
         13,
         "SAMPAIO SERVICOS CONTABEIS LTDA",
         2240,
         49,
         null,
         "01",
         null,
         "Sócio- Administrador",
         "SAMPAIO SERVICOS CONTABEIS LTDA"
        ],
        [
         14,
         "CLUBE DE MAES DA CASA VERDE ALTA E ADJACENCIAS",
         3999,
         16,
         null,
         "05",
         null,
         "Presidente",
         "CLUBE DE MAES DA CASA VERDE ALTA E ADJACENCIAS"
        ],
        [
         15,
         "DOS - INSTALACAO DE SISTEMAS DE AUDIO E VIDEO S/S LTDA",
         2240,
         49,
         null,
         "01",
         null,
         "Sócio- Administrador",
         "DOS - INSTALACAO DE SISTEMAS DE AUDIO E VIDEO S/S LTDA"
        ],
        [
         16,
         "MICRO-ARTE COMUNICACOES VISUAIS LTDA",
         2062,
         49,
         null,
         "05",
         null,
         "Sócio- Administrador",
         "MICRO-ARTE COMUNICACOES VISUAIS LTDA"
        ],
        [
         17,
         "ASSOCIACAO VIVER EM CRISTO",
         3999,
         16,
         null,
         "05",
         null,
         "Presidente",
         "ASSOCIACAO VIVER EM CRISTO"
        ],
        [
         18,
         "AUTOMAR AGROPECUARIA DO URUCUIA LIMITADA",
         2062,
         49,
         null,
         "05",
         null,
         "Sócio- Administrador",
         "AUTOMAR AGROPECUARIA DO URUCUIA LIMITADA"
        ],
        [
         19,
         "DOCENA & DOCENA CONSULTORES EM INFORMATICA E ASSOCIADOS LTDA",
         2062,
         49,
         null,
         "05",
         null,
         "Sócio- Administrador",
         "DOCENA & DOCENA CONSULTORES EM INFORMATICA E ASSOCIADOS LTDA"
        ]
       ],
       "datasetInfos": [],
       "dbfsResultPath": null,
       "isJsonSchema": true,
       "metadata": {},
       "overflow": false,
       "plotOptions": {
        "customPlotOptions": {},
        "displayType": "table",
        "pivotAggregation": null,
        "pivotColumns": null,
        "xColumns": null,
        "yColumns": null
       },
       "removedWidgets": [],
       "schema": [
        {
         "metadata": "{}",
         "name": "id",
         "type": "\"integer\""
        },
        {
         "metadata": "{}",
         "name": "razao_social",
         "type": "\"string\""
        },
        {
         "metadata": "{}",
         "name": "cod_natureza_juridica",
         "type": "\"integer\""
        },
        {
         "metadata": "{}",
         "name": "cod_qualificao_responsavel",
         "type": "\"integer\""
        },
        {
         "metadata": "{}",
         "name": "capital_social",
         "type": "\"float\""
        },
        {
         "metadata": "{}",
         "name": "cod_porte",
         "type": "\"string\""
        },
        {
         "metadata": "{}",
         "name": "localizacao",
         "type": "\"string\""
        },
        {
         "metadata": "{}",
         "name": "desc_qualificacao_responsavel",
         "type": "\"string\""
        },
        {
         "metadata": "{}",
         "name": "razao_social_format",
         "type": "\"string\""
        }
       ],
       "type": "table"
      }
     },
     "output_type": "display_data"
    }
   ],
   "source": [
    "df_list_emp.limit(20).display()"
   ]
  },
  {
   "cell_type": "code",
   "execution_count": 0,
   "metadata": {
    "application/vnd.databricks.v1+cell": {
     "cellMetadata": {
      "byteLimit": 2048000,
      "rowLimit": 10000
     },
     "inputWidgets": {},
     "nuid": "087471f9-d405-424b-a51c-f61c0681d5cf",
     "showTitle": false,
     "tableResultSettingsMap": {},
     "title": ""
    }
   },
   "outputs": [],
   "source": [
    "# Criar schema no metastore\n",
    "spark.sql(\"CREATE SCHEMA IF NOT EXISTS hive_metastore.db_rfb\")\n",
    "# Salvar tabela delta\n",
    "df_list_emp.write.mode(\"append\").format(\"delta\").saveAsTable(\"hive_metastore.db_rfb.tbl_slv_empresas\")"
   ]
  },
  {
   "cell_type": "code",
   "execution_count": 0,
   "metadata": {
    "application/vnd.databricks.v1+cell": {
     "cellMetadata": {
      "byteLimit": 2048000,
      "rowLimit": 10000
     },
     "inputWidgets": {},
     "nuid": "52415ee8-2762-47b5-acf0-93cb21f7da3a",
     "showTitle": false,
     "tableResultSettingsMap": {},
     "title": ""
    }
   },
   "outputs": [],
   "source": [
    "# Path source\n",
    "path_bronze_empre = \"dbfs:/FileStore/shared_uploads/default_user/bronze/*EMPRECSV\"\n",
    "\n",
    "# definicao de schema\n",
    "schemaEmpresas = StructType([\n",
    "    StructField(\"cnpj\", IntegerType(), True),\n",
    "    StructField(\"razao_social\", StringType(), True),\n",
    "    StructField(\"natureza_juridica\", IntegerType(), True),\n",
    "    StructField(\"qualificao_responsavel\", IntegerType(), True),\n",
    "    StructField(\"capital_social\", FloatType(), True),\n",
    "    StructField(\"cod_porte\", StringType(), True),\n",
    "    StructField(\"localizacao\", StringType(), True)\n",
    "])\n",
    "\n",
    "# Leitura de arquivo bruto\n",
    "df_list_emp = spark.read.options(header=False, inferSchema=True, sep=';') \\\n",
    "                .format(\"csv\") \\\n",
    "                    .schema(schemaEmpresas) \\\n",
    "                        .load(path_bronze_empre)\n",
    "\n",
    "# Remoção de espaços em branco                       \n",
    "df_list_emp = (df_list_emp\n",
    "               .withColumn(\"razao_social_format\",\n",
    "                           F.regexp_replace(col(\"razao_social\"), \"^\\\\s+\", \"\"))\n",
    "                    .drop(\"razao_social\")\n",
    "                        .withColumnRenamed(\"razao_social_format\", \"razao_social\")\n",
    "                        ).select(\n",
    "                            'cnpj'\n",
    "                            , 'razao_social'\n",
    "                            , 'natureza_juridica'\n",
    "                            , 'qualificao_responsavel'\n",
    "                            , 'capital_social'\n",
    "                            , 'cod_porte'\n",
    "                        )"
   ]
  },
  {
   "cell_type": "code",
   "execution_count": 0,
   "metadata": {
    "application/vnd.databricks.v1+cell": {
     "cellMetadata": {
      "byteLimit": 2048000,
      "rowLimit": 10000
     },
     "inputWidgets": {},
     "nuid": "048780de-5fb1-4f73-93c9-4ef438968a66",
     "showTitle": false,
     "tableResultSettingsMap": {},
     "title": ""
    }
   },
   "outputs": [],
   "source": [
    "# Criar schema no metastore\n",
    "spark.sql(\"CREATE SCHEMA IF NOT EXISTS hive_metastore.db_rfb\")\n",
    "# Salvar tabela delta\n",
    "df_list_emp.write.mode(\"append\").format(\"delta\").saveAsTable(\"hive_metastore.db_rfb.tbl_slv_empresas\")"
   ]
  }
 ],
 "metadata": {
  "application/vnd.databricks.v1+notebook": {
   "computePreferences": null,
   "dashboards": [],
   "environmentMetadata": {
    "base_environment": "",
    "environment_version": "2"
   },
   "language": "python",
   "notebookMetadata": {
    "mostRecentlyExecutedCommandWithImplicitDF": {
     "commandId": 6880638831654468,
     "dataframes": [
      "_sqldf"
     ]
    },
    "pythonIndentUnit": 4
   },
   "notebookName": "analise_empresas_silver",
   "widgets": {}
  },
  "language_info": {
   "name": "python"
  }
 },
 "nbformat": 4,
 "nbformat_minor": 0
}