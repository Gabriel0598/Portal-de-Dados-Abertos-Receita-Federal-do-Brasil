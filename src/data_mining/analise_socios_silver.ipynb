{
 "cells": [
  {
   "cell_type": "code",
   "execution_count": 0,
   "metadata": {
    "application/vnd.databricks.v1+cell": {
     "cellMetadata": {
      "byteLimit": 2048000,
      "rowLimit": 10000
     },
     "inputWidgets": {},
     "nuid": "db0415a1-46f5-43d6-b13d-6be2cc1e54c3",
     "showTitle": false,
     "tableResultSettingsMap": {},
     "title": ""
    }
   },
   "outputs": [],
   "source": [
    "# libs\n",
    "import os\n",
    "from pyspark.sql.types import StructType, StructField, StringType, IntegerType, FloatType\n",
    "from pyspark.sql.functions import col, split\n",
    "from pyspark.sql import functions as F\n",
    "\n",
    "# paths\n",
    "path_bronze_soc = \"dbfs:/FileStore/shared_uploads/default_user/bronze/*SOCIOCSV\""
   ]
  },
  {
   "cell_type": "code",
   "execution_count": 0,
   "metadata": {
    "application/vnd.databricks.v1+cell": {
     "cellMetadata": {
      "byteLimit": 2048000,
      "rowLimit": 10000
     },
     "inputWidgets": {},
     "nuid": "2375a0c8-c94b-47dc-9b75-b1def0c3af68",
     "showTitle": false,
     "tableResultSettingsMap": {},
     "title": ""
    }
   },
   "outputs": [
    {
     "output_type": "stream",
     "name": "stdout",
     "output_type": "stream",
     "text": [
      "root\n |-- _c0: integer (nullable = true)\n |-- _c1: integer (nullable = true)\n |-- _c2: string (nullable = true)\n |-- _c3: string (nullable = true)\n |-- _c4: integer (nullable = true)\n |-- _c5: integer (nullable = true)\n |-- _c6: integer (nullable = true)\n |-- _c7: string (nullable = true)\n |-- _c8: string (nullable = true)\n |-- _c9: integer (nullable = true)\n |-- _c10: integer (nullable = true)\n\n"
     ]
    }
   ],
   "source": [
    "df_raw_soc = spark.read.options(header=False, inferSchema=True, sep=';').format(\"csv\").load(path_bronze_soc)\n",
    "df_raw_soc.printSchema()"
   ]
  },
  {
   "cell_type": "code",
   "execution_count": 0,
   "metadata": {
    "application/vnd.databricks.v1+cell": {
     "cellMetadata": {
      "byteLimit": 2048000,
      "rowLimit": 10000
     },
     "inputWidgets": {},
     "nuid": "3bd19e6d-2083-4803-8c3c-bb41b8fcf5fe",
     "showTitle": false,
     "tableResultSettingsMap": {},
     "title": ""
    }
   },
   "outputs": [
    {
     "output_type": "display_data",
     "data": {
      "text/html": [
       "<style scoped>\n",
       "  .table-result-container {\n",
       "    max-height: 300px;\n",
       "    overflow: auto;\n",
       "  }\n",
       "  table, th, td {\n",
       "    border: 1px solid black;\n",
       "    border-collapse: collapse;\n",
       "  }\n",
       "  th, td {\n",
       "    padding: 5px;\n",
       "  }\n",
       "  th {\n",
       "    text-align: left;\n",
       "  }\n",
       "</style><div class='table-result-container'><table class='table-result'><thead style='background-color: white'><tr><th>_c0</th><th>_c1</th><th>_c2</th><th>_c3</th><th>_c4</th><th>_c5</th><th>_c6</th><th>_c7</th><th>_c8</th><th>_c9</th><th>_c10</th></tr></thead><tbody><tr><td>7396865</td><td>2</td><td>GERSON HOFFMANN</td><td>***240659**</td><td>49</td><td>20050518</td><td>null</td><td>***000000**</td><td>null</td><td>0</td><td>5</td></tr><tr><td>7396865</td><td>2</td><td>MITZI HARTMANN</td><td>***126339**</td><td>22</td><td>20080509</td><td>null</td><td>***000000**</td><td>null</td><td>0</td><td>4</td></tr><tr><td>52302726</td><td>2</td><td>BENEDITO BEZERRA DE CARVALHO</td><td>***061354**</td><td>49</td><td>20050921</td><td>null</td><td>***000000**</td><td>null</td><td>0</td><td>7</td></tr><tr><td>7396923</td><td>2</td><td>RENATO PEDUTO</td><td>***069508**</td><td>49</td><td>20050516</td><td>null</td><td>***000000**</td><td>null</td><td>0</td><td>6</td></tr><tr><td>7396923</td><td>2</td><td>ELAINE GARCIA</td><td>***971118**</td><td>49</td><td>20050516</td><td>null</td><td>***000000**</td><td>null</td><td>0</td><td>6</td></tr><tr><td>3650261</td><td>2</td><td>DILTO DE SOUZA</td><td>***236669**</td><td>49</td><td>19991217</td><td>null</td><td>***000000**</td><td>null</td><td>0</td><td>7</td></tr><tr><td>3650261</td><td>2</td><td>TAMARA SOUZA FREITAS</td><td>***042859**</td><td>22</td><td>20050328</td><td>null</td><td>***000000**</td><td>null</td><td>0</td><td>4</td></tr><tr><td>7396929</td><td>2</td><td>PAOLA CACELLA LADEIRO</td><td>***763888**</td><td>49</td><td>20050504</td><td>null</td><td>***000000**</td><td>null</td><td>0</td><td>5</td></tr><tr><td>7396929</td><td>2</td><td>FABIANO AUGUSTO RUGGIERO CACHELE</td><td>***807908**</td><td>49</td><td>20051124</td><td>null</td><td>***000000**</td><td>null</td><td>0</td><td>6</td></tr><tr><td>25040718</td><td>2</td><td>BENJAMIN BENONI MARTINS SPADONI</td><td>***205061**</td><td>16</td><td>20050912</td><td>null</td><td>***000000**</td><td>null</td><td>0</td><td>9</td></tr><tr><td>7396936</td><td>2</td><td>LUIZ FERNANDO FERREIRA GUIMARAES</td><td>***111236**</td><td>49</td><td>20050525</td><td>null</td><td>***000000**</td><td>null</td><td>0</td><td>6</td></tr><tr><td>7396936</td><td>2</td><td>IRINETE REGINA SILVA GUIMARAES</td><td>***487336**</td><td>22</td><td>20050525</td><td>null</td><td>***000000**</td><td>null</td><td>0</td><td>6</td></tr><tr><td>7396943</td><td>2</td><td>LUCIANO SOVIERZOSKI</td><td>***917839**</td><td>49</td><td>20050524</td><td>null</td><td>***000000**</td><td>null</td><td>0</td><td>6</td></tr><tr><td>7396943</td><td>2</td><td>ADRIANO SOVIERZOSKI</td><td>***053209**</td><td>22</td><td>20050524</td><td>null</td><td>***000000**</td><td>null</td><td>0</td><td>6</td></tr><tr><td>79457842</td><td>2</td><td>ANTONIO MOREIRA</td><td>***706629**</td><td>49</td><td>20110527</td><td>null</td><td>***000000**</td><td>null</td><td>0</td><td>9</td></tr><tr><td>79457842</td><td>2</td><td>BRUNO MATHEUS ALVES MOREIRA</td><td>***028829**</td><td>30</td><td>20110527</td><td>null</td><td>***268358**</td><td>MARCELO MOREIRA</td><td>15</td><td>2</td></tr><tr><td>591451</td><td>2</td><td>ISMAR JOSE KOHLER</td><td>***677319**</td><td>49</td><td>19950417</td><td>null</td><td>***000000**</td><td>null</td><td>0</td><td>6</td></tr><tr><td>591451</td><td>2</td><td>VANDA CECILIA KOHLER</td><td>***286988**</td><td>22</td><td>20141118</td><td>null</td><td>***000000**</td><td>null</td><td>0</td><td>6</td></tr><tr><td>3738052</td><td>2</td><td>ROSILDA JOSE DO NASCIMENTO</td><td>***672704**</td><td>49</td><td>20000406</td><td>null</td><td>***000000**</td><td>null</td><td>0</td><td>7</td></tr><tr><td>3738052</td><td>2</td><td>SONIA CRISTINA ARAUJO HINRICHSEN</td><td>***336724**</td><td>49</td><td>20000406</td><td>null</td><td>***000000**</td><td>null</td><td>0</td><td>7</td></tr><tr><td>7032062</td><td>2</td><td>JOAQUIM JOSE TEIXEIRA</td><td>***703093**</td><td>49</td><td>20041018</td><td>null</td><td>***000000**</td><td>null</td><td>0</td><td>8</td></tr><tr><td>7032062</td><td>2</td><td>MANOEL NESTOR TEIXEIRA</td><td>***332263**</td><td>49</td><td>20041018</td><td>null</td><td>***000000**</td><td>null</td><td>0</td><td>9</td></tr><tr><td>64861016</td><td>2</td><td>EDSON WILSON PEREIRA</td><td>***043008**</td><td>49</td><td>19901018</td><td>null</td><td>***000000**</td><td>null</td><td>0</td><td>8</td></tr><tr><td>64861016</td><td>2</td><td>CECILIA FERNANDES DA FONSECA PEREIRA</td><td>***204128**</td><td>22</td><td>19930901</td><td>null</td><td>***000000**</td><td>null</td><td>0</td><td>7</td></tr><tr><td>7397004</td><td>2</td><td>HUMBERTO RODRIGUES DOS SANTOS</td><td>***880651**</td><td>49</td><td>20050518</td><td>null</td><td>***000000**</td><td>null</td><td>0</td><td>6</td></tr><tr><td>7397004</td><td>2</td><td>MARLENE FERNANDES SILVA</td><td>***166781**</td><td>22</td><td>20050518</td><td>null</td><td>***000000**</td><td>null</td><td>0</td><td>6</td></tr><tr><td>6914936</td><td>2</td><td>HELDER CUSTODIO DE ARAUJO</td><td>***287126**</td><td>49</td><td>20040812</td><td>null</td><td>***000000**</td><td>null</td><td>0</td><td>7</td></tr><tr><td>6914936</td><td>2</td><td>GERALDO MAGELA DE ARAUJO</td><td>***993596**</td><td>49</td><td>20060626</td><td>null</td><td>***000000**</td><td>null</td><td>0</td><td>6</td></tr><tr><td>6914936</td><td>2</td><td>JAIME PINTO NEVES FILHO</td><td>***479836**</td><td>49</td><td>20130311</td><td>null</td><td>***000000**</td><td>null</td><td>0</td><td>7</td></tr><tr><td>6914936</td><td>2</td><td>ROSANA CONEGUNDES ARAUJO</td><td>***536686**</td><td>22</td><td>20190311</td><td>null</td><td>***000000**</td><td>null</td><td>0</td><td>5</td></tr><tr><td>7397012</td><td>2</td><td>MARIZA DA SILVA</td><td>***124149**</td><td>49</td><td>20050505</td><td>null</td><td>***000000**</td><td>null</td><td>0</td><td>5</td></tr><tr><td>7397012</td><td>2</td><td>MARIA JACI BITTENCOURT DA SILVA</td><td>***818859**</td><td>22</td><td>20050505</td><td>null</td><td>***000000**</td><td>null</td><td>0</td><td>9</td></tr><tr><td>7397017</td><td>2</td><td>JOSE BEZERRA FILHO</td><td>***853504**</td><td>49</td><td>20050511</td><td>null</td><td>***000000**</td><td>null</td><td>0</td><td>7</td></tr><tr><td>7397017</td><td>2</td><td>MARILEIA BEZERRA SILVA DA ROCHA</td><td>***115634**</td><td>22</td><td>20050511</td><td>null</td><td>***000000**</td><td>null</td><td>0</td><td>7</td></tr><tr><td>5893869</td><td>2</td><td>SANTIAGO SCHULTZ</td><td>***902688**</td><td>49</td><td>20030916</td><td>null</td><td>***000000**</td><td>null</td><td>0</td><td>5</td></tr><tr><td>6215436</td><td>2</td><td>FERNANDO DE PAULA CARNEIRO RIBEIRO</td><td>***048108**</td><td>49</td><td>20040415</td><td>null</td><td>***000000**</td><td>null</td><td>0</td><td>6</td></tr><tr><td>6215436</td><td>2</td><td>RAFAEL DE PAULA CARNEIRO RIBEIRO</td><td>***582428**</td><td>49</td><td>20040415</td><td>null</td><td>***000000**</td><td>null</td><td>0</td><td>5</td></tr><tr><td>6215436</td><td>1</td><td>ARUJA EMPREENDIMENTOS LTDA</td><td>46006664000169</td><td>22</td><td>20120725</td><td>null</td><td>***582428**</td><td>RAFAEL DE PAULA CARNEIRO RIBEIRO</td><td>5</td><td>0</td></tr><tr><td>35735885</td><td>2</td><td>LUIZ CARLOS SANDES PARANHOS</td><td>***048454**</td><td>49</td><td>19961113</td><td>null</td><td>***000000**</td><td>null</td><td>0</td><td>8</td></tr><tr><td>35735885</td><td>2</td><td>LUCIA DE FATIMA RANGEL PARANHOS</td><td>***803204**</td><td>22</td><td>19961113</td><td>null</td><td>***000000**</td><td>null</td><td>0</td><td>7</td></tr><tr><td>35735885</td><td>2</td><td>LUIZ CARLOS SANDES PARANHOS JUNIOR</td><td>***035334**</td><td>22</td><td>19961113</td><td>null</td><td>***000000**</td><td>null</td><td>0</td><td>5</td></tr><tr><td>7397047</td><td>2</td><td>JEANE ROSA FREIRE</td><td>***074771**</td><td>49</td><td>20050517</td><td>null</td><td>***000000**</td><td>null</td><td>0</td><td>5</td></tr><tr><td>7397047</td><td>2</td><td>ALEXANDER FREIRE DOS SANTOS</td><td>***205901**</td><td>30</td><td>20120803</td><td>null</td><td>***074771**</td><td>JEANE ROSA FREIRE</td><td>14</td><td>3</td></tr><tr><td>80320104</td><td>2</td><td>PEDRO DOMINGOS PIGOZZO</td><td>***742169**</td><td>49</td><td>19870901</td><td>null</td><td>***000000**</td><td>null</td><td>0</td><td>9</td></tr><tr><td>80320104</td><td>2</td><td>MARIA LUIZA MILANI PIGOZZO</td><td>***954829**</td><td>22</td><td>19870901</td><td>null</td><td>***000000**</td><td>null</td><td>0</td><td>9</td></tr><tr><td>7397065</td><td>2</td><td>JOAO FRANCISCO TORRES</td><td>***182527**</td><td>49</td><td>20050520</td><td>null</td><td>***000000**</td><td>null</td><td>0</td><td>8</td></tr><tr><td>7397065</td><td>1</td><td>BRASILIA INVESTIMENTOS LTDA. S/S</td><td>01756852000176</td><td>22</td><td>20050520</td><td>null</td><td>***000000**</td><td>null</td><td>0</td><td>0</td></tr><tr><td>3116132</td><td>2</td><td>CARLA REGINA DE VASCONCELLOS CASTELLANI NAHAISSI</td><td>***196298**</td><td>49</td><td>19990428</td><td>null</td><td>***000000**</td><td>null</td><td>0</td><td>6</td></tr><tr><td>3116132</td><td>2</td><td>CLODOALDO HUGO DE VASCONCELLOS CASTELLANI</td><td>***240808**</td><td>49</td><td>19990428</td><td>null</td><td>***000000**</td><td>null</td><td>0</td><td>9</td></tr><tr><td>3116132</td><td>2</td><td>TATIANA MARIA DE VASCONCELLOS CASTELLANI DA FONTE</td><td>***091948**</td><td>22</td><td>20010924</td><td>null</td><td>***000000**</td><td>null</td><td>0</td><td>6</td></tr></tbody></table></div>"
      ]
     },
     "metadata": {
      "application/vnd.databricks.v1+output": {
       "addedWidgets": {},
       "aggData": [],
       "aggError": "",
       "aggOverflow": false,
       "aggSchema": [],
       "aggSeriesLimitReached": false,
       "aggType": "",
       "arguments": {},
       "columnCustomDisplayInfos": {},
       "data": [
        [
         7396865,
         2,
         "GERSON HOFFMANN",
         "***240659**",
         49,
         20050518,
         null,
         "***000000**",
         null,
         0,
         5
        ],
        [
         7396865,
         2,
         "MITZI HARTMANN",
         "***126339**",
         22,
         20080509,
         null,
         "***000000**",
         null,
         0,
         4
        ],
        [
         52302726,
         2,
         "BENEDITO BEZERRA DE CARVALHO",
         "***061354**",
         49,
         20050921,
         null,
         "***000000**",
         null,
         0,
         7
        ],
        [
         7396923,
         2,
         "RENATO PEDUTO",
         "***069508**",
         49,
         20050516,
         null,
         "***000000**",
         null,
         0,
         6
        ],
        [
         7396923,
         2,
         "ELAINE GARCIA",
         "***971118**",
         49,
         20050516,
         null,
         "***000000**",
         null,
         0,
         6
        ],
        [
         3650261,
         2,
         "DILTO DE SOUZA",
         "***236669**",
         49,
         19991217,
         null,
         "***000000**",
         null,
         0,
         7
        ],
        [
         3650261,
         2,
         "TAMARA SOUZA FREITAS",
         "***042859**",
         22,
         20050328,
         null,
         "***000000**",
         null,
         0,
         4
        ],
        [
         7396929,
         2,
         "PAOLA CACELLA LADEIRO",
         "***763888**",
         49,
         20050504,
         null,
         "***000000**",
         null,
         0,
         5
        ],
        [
         7396929,
         2,
         "FABIANO AUGUSTO RUGGIERO CACHELE",
         "***807908**",
         49,
         20051124,
         null,
         "***000000**",
         null,
         0,
         6
        ],
        [
         25040718,
         2,
         "BENJAMIN BENONI MARTINS SPADONI",
         "***205061**",
         16,
         20050912,
         null,
         "***000000**",
         null,
         0,
         9
        ],
        [
         7396936,
         2,
         "LUIZ FERNANDO FERREIRA GUIMARAES",
         "***111236**",
         49,
         20050525,
         null,
         "***000000**",
         null,
         0,
         6
        ],
        [
         7396936,
         2,
         "IRINETE REGINA SILVA GUIMARAES",
         "***487336**",
         22,
         20050525,
         null,
         "***000000**",
         null,
         0,
         6
        ],
        [
         7396943,
         2,
         "LUCIANO SOVIERZOSKI",
         "***917839**",
         49,
         20050524,
         null,
         "***000000**",
         null,
         0,
         6
        ],
        [
         7396943,
         2,
         "ADRIANO SOVIERZOSKI",
         "***053209**",
         22,
         20050524,
         null,
         "***000000**",
         null,
         0,
         6
        ],
        [
         79457842,
         2,
         "ANTONIO MOREIRA",
         "***706629**",
         49,
         20110527,
         null,
         "***000000**",
         null,
         0,
         9
        ],
        [
         79457842,
         2,
         "BRUNO MATHEUS ALVES MOREIRA",
         "***028829**",
         30,
         20110527,
         null,
         "***268358**",
         "MARCELO MOREIRA",
         15,
         2
        ],
        [
         591451,
         2,
         "ISMAR JOSE KOHLER",
         "***677319**",
         49,
         19950417,
         null,
         "***000000**",
         null,
         0,
         6
        ],
        [
         591451,
         2,
         "VANDA CECILIA KOHLER",
         "***286988**",
         22,
         20141118,
         null,
         "***000000**",
         null,
         0,
         6
        ],
        [
         3738052,
         2,
         "ROSILDA JOSE DO NASCIMENTO",
         "***672704**",
         49,
         20000406,
         null,
         "***000000**",
         null,
         0,
         7
        ],
        [
         3738052,
         2,
         "SONIA CRISTINA ARAUJO HINRICHSEN",
         "***336724**",
         49,
         20000406,
         null,
         "***000000**",
         null,
         0,
         7
        ],
        [
         7032062,
         2,
         "JOAQUIM JOSE TEIXEIRA",
         "***703093**",
         49,
         20041018,
         null,
         "***000000**",
         null,
         0,
         8
        ],
        [
         7032062,
         2,
         "MANOEL NESTOR TEIXEIRA",
         "***332263**",
         49,
         20041018,
         null,
         "***000000**",
         null,
         0,
         9
        ],
        [
         64861016,
         2,
         "EDSON WILSON PEREIRA",
         "***043008**",
         49,
         19901018,
         null,
         "***000000**",
         null,
         0,
         8
        ],
        [
         64861016,
         2,
         "CECILIA FERNANDES DA FONSECA PEREIRA",
         "***204128**",
         22,
         19930901,
         null,
         "***000000**",
         null,
         0,
         7
        ],
        [
         7397004,
         2,
         "HUMBERTO RODRIGUES DOS SANTOS",
         "***880651**",
         49,
         20050518,
         null,
         "***000000**",
         null,
         0,
         6
        ],
        [
         7397004,
         2,
         "MARLENE FERNANDES SILVA",
         "***166781**",
         22,
         20050518,
         null,
         "***000000**",
         null,
         0,
         6
        ],
        [
         6914936,
         2,
         "HELDER CUSTODIO DE ARAUJO",
         "***287126**",
         49,
         20040812,
         null,
         "***000000**",
         null,
         0,
         7
        ],
        [
         6914936,
         2,
         "GERALDO MAGELA DE ARAUJO",
         "***993596**",
         49,
         20060626,
         null,
         "***000000**",
         null,
         0,
         6
        ],
        [
         6914936,
         2,
         "JAIME PINTO NEVES FILHO",
         "***479836**",
         49,
         20130311,
         null,
         "***000000**",
         null,
         0,
         7
        ],
        [
         6914936,
         2,
         "ROSANA CONEGUNDES ARAUJO",
         "***536686**",
         22,
         20190311,
         null,
         "***000000**",
         null,
         0,
         5
        ],
        [
         7397012,
         2,
         "MARIZA DA SILVA",
         "***124149**",
         49,
         20050505,
         null,
         "***000000**",
         null,
         0,
         5
        ],
        [
         7397012,
         2,
         "MARIA JACI BITTENCOURT DA SILVA",
         "***818859**",
         22,
         20050505,
         null,
         "***000000**",
         null,
         0,
         9
        ],
        [
         7397017,
         2,
         "JOSE BEZERRA FILHO",
         "***853504**",
         49,
         20050511,
         null,
         "***000000**",
         null,
         0,
         7
        ],
        [
         7397017,
         2,
         "MARILEIA BEZERRA SILVA DA ROCHA",
         "***115634**",
         22,
         20050511,
         null,
         "***000000**",
         null,
         0,
         7
        ],
        [
         5893869,
         2,
         "SANTIAGO SCHULTZ",
         "***902688**",
         49,
         20030916,
         null,
         "***000000**",
         null,
         0,
         5
        ],
        [
         6215436,
         2,
         "FERNANDO DE PAULA CARNEIRO RIBEIRO",
         "***048108**",
         49,
         20040415,
         null,
         "***000000**",
         null,
         0,
         6
        ],
        [
         6215436,
         2,
         "RAFAEL DE PAULA CARNEIRO RIBEIRO",
         "***582428**",
         49,
         20040415,
         null,
         "***000000**",
         null,
         0,
         5
        ],
        [
         6215436,
         1,
         "ARUJA EMPREENDIMENTOS LTDA",
         "46006664000169",
         22,
         20120725,
         null,
         "***582428**",
         "RAFAEL DE PAULA CARNEIRO RIBEIRO",
         5,
         0
        ],
        [
         35735885,
         2,
         "LUIZ CARLOS SANDES PARANHOS",
         "***048454**",
         49,
         19961113,
         null,
         "***000000**",
         null,
         0,
         8
        ],
        [
         35735885,
         2,
         "LUCIA DE FATIMA RANGEL PARANHOS",
         "***803204**",
         22,
         19961113,
         null,
         "***000000**",
         null,
         0,
         7
        ],
        [
         35735885,
         2,
         "LUIZ CARLOS SANDES PARANHOS JUNIOR",
         "***035334**",
         22,
         19961113,
         null,
         "***000000**",
         null,
         0,
         5
        ],
        [
         7397047,
         2,
         "JEANE ROSA FREIRE",
         "***074771**",
         49,
         20050517,
         null,
         "***000000**",
         null,
         0,
         5
        ],
        [
         7397047,
         2,
         "ALEXANDER FREIRE DOS SANTOS",
         "***205901**",
         30,
         20120803,
         null,
         "***074771**",
         "JEANE ROSA FREIRE",
         14,
         3
        ],
        [
         80320104,
         2,
         "PEDRO DOMINGOS PIGOZZO",
         "***742169**",
         49,
         19870901,
         null,
         "***000000**",
         null,
         0,
         9
        ],
        [
         80320104,
         2,
         "MARIA LUIZA MILANI PIGOZZO",
         "***954829**",
         22,
         19870901,
         null,
         "***000000**",
         null,
         0,
         9
        ],
        [
         7397065,
         2,
         "JOAO FRANCISCO TORRES",
         "***182527**",
         49,
         20050520,
         null,
         "***000000**",
         null,
         0,
         8
        ],
        [
         7397065,
         1,
         "BRASILIA INVESTIMENTOS LTDA. S/S",
         "01756852000176",
         22,
         20050520,
         null,
         "***000000**",
         null,
         0,
         0
        ],
        [
         3116132,
         2,
         "CARLA REGINA DE VASCONCELLOS CASTELLANI NAHAISSI",
         "***196298**",
         49,
         19990428,
         null,
         "***000000**",
         null,
         0,
         6
        ],
        [
         3116132,
         2,
         "CLODOALDO HUGO DE VASCONCELLOS CASTELLANI",
         "***240808**",
         49,
         19990428,
         null,
         "***000000**",
         null,
         0,
         9
        ],
        [
         3116132,
         2,
         "TATIANA MARIA DE VASCONCELLOS CASTELLANI DA FONTE",
         "***091948**",
         22,
         20010924,
         null,
         "***000000**",
         null,
         0,
         6
        ]
       ],
       "datasetInfos": [],
       "dbfsResultPath": null,
       "isJsonSchema": true,
       "metadata": {},
       "overflow": false,
       "plotOptions": {
        "customPlotOptions": {},
        "displayType": "table",
        "pivotAggregation": null,
        "pivotColumns": null,
        "xColumns": null,
        "yColumns": null
       },
       "removedWidgets": [],
       "schema": [
        {
         "metadata": "{}",
         "name": "_c0",
         "type": "\"integer\""
        },
        {
         "metadata": "{}",
         "name": "_c1",
         "type": "\"integer\""
        },
        {
         "metadata": "{}",
         "name": "_c2",
         "type": "\"string\""
        },
        {
         "metadata": "{}",
         "name": "_c3",
         "type": "\"string\""
        },
        {
         "metadata": "{}",
         "name": "_c4",
         "type": "\"integer\""
        },
        {
         "metadata": "{}",
         "name": "_c5",
         "type": "\"integer\""
        },
        {
         "metadata": "{}",
         "name": "_c6",
         "type": "\"integer\""
        },
        {
         "metadata": "{}",
         "name": "_c7",
         "type": "\"string\""
        },
        {
         "metadata": "{}",
         "name": "_c8",
         "type": "\"string\""
        },
        {
         "metadata": "{}",
         "name": "_c9",
         "type": "\"integer\""
        },
        {
         "metadata": "{}",
         "name": "_c10",
         "type": "\"integer\""
        }
       ],
       "type": "table"
      }
     },
     "output_type": "display_data"
    }
   ],
   "source": [
    "df_raw_soc.limit(50).display()"
   ]
  },
  {
   "cell_type": "code",
   "execution_count": 0,
   "metadata": {
    "application/vnd.databricks.v1+cell": {
     "cellMetadata": {
      "byteLimit": 2048000,
      "rowLimit": 10000
     },
     "inputWidgets": {},
     "nuid": "d7119068-73d8-4299-9f7b-b3a208ed909e",
     "showTitle": false,
     "tableResultSettingsMap": {},
     "title": ""
    }
   },
   "outputs": [
    {
     "output_type": "display_data",
     "data": {
      "text/html": [
       "<style scoped>\n",
       "  .table-result-container {\n",
       "    max-height: 300px;\n",
       "    overflow: auto;\n",
       "  }\n",
       "  table, th, td {\n",
       "    border: 1px solid black;\n",
       "    border-collapse: collapse;\n",
       "  }\n",
       "  th, td {\n",
       "    padding: 5px;\n",
       "  }\n",
       "  th {\n",
       "    text-align: left;\n",
       "  }\n",
       "</style><div class='table-result-container'><table class='table-result'><thead style='background-color: white'><tr><th>_c1</th></tr></thead><tbody><tr><td>1</td></tr><tr><td>2</td></tr><tr><td>3</td></tr></tbody></table></div>"
      ]
     },
     "metadata": {
      "application/vnd.databricks.v1+output": {
       "addedWidgets": {},
       "aggData": [],
       "aggError": "",
       "aggOverflow": false,
       "aggSchema": [],
       "aggSeriesLimitReached": false,
       "aggType": "",
       "arguments": {},
       "columnCustomDisplayInfos": {},
       "data": [
        [
         1
        ],
        [
         2
        ],
        [
         3
        ]
       ],
       "datasetInfos": [],
       "dbfsResultPath": null,
       "isJsonSchema": true,
       "metadata": {},
       "overflow": false,
       "plotOptions": {
        "customPlotOptions": {},
        "displayType": "table",
        "pivotAggregation": null,
        "pivotColumns": null,
        "xColumns": null,
        "yColumns": null
       },
       "removedWidgets": [],
       "schema": [
        {
         "metadata": "{}",
         "name": "_c1",
         "type": "\"integer\""
        }
       ],
       "type": "table"
      }
     },
     "output_type": "display_data"
    }
   ],
   "source": [
    "# tipo de socio\n",
    "df_raw_soc.select(\"_c1\").distinct().orderBy(\"_c1\", ascending=True).limit(100).display()"
   ]
  },
  {
   "cell_type": "code",
   "execution_count": 0,
   "metadata": {
    "application/vnd.databricks.v1+cell": {
     "cellMetadata": {
      "byteLimit": 2048000,
      "rowLimit": 10000
     },
     "inputWidgets": {},
     "nuid": "c5f0445b-e318-4166-aefd-55c4e6e97386",
     "showTitle": false,
     "tableResultSettingsMap": {},
     "title": ""
    }
   },
   "outputs": [
    {
     "output_type": "display_data",
     "data": {
      "text/html": [
       "<style scoped>\n",
       "  .table-result-container {\n",
       "    max-height: 300px;\n",
       "    overflow: auto;\n",
       "  }\n",
       "  table, th, td {\n",
       "    border: 1px solid black;\n",
       "    border-collapse: collapse;\n",
       "  }\n",
       "  th, td {\n",
       "    padding: 5px;\n",
       "  }\n",
       "  th {\n",
       "    text-align: left;\n",
       "  }\n",
       "</style><div class='table-result-container'><table class='table-result'><thead style='background-color: white'><tr><th>_c6</th></tr></thead><tbody><tr><td>null</td></tr><tr><td>13</td></tr><tr><td>23</td></tr><tr><td>31</td></tr><tr><td>37</td></tr><tr><td>40</td></tr><tr><td>41</td></tr><tr><td>47</td></tr><tr><td>53</td></tr><tr><td>63</td></tr><tr><td>69</td></tr><tr><td>72</td></tr><tr><td>77</td></tr><tr><td>83</td></tr><tr><td>87</td></tr><tr><td>88</td></tr><tr><td>90</td></tr><tr><td>97</td></tr><tr><td>105</td></tr><tr><td>111</td></tr><tr><td>137</td></tr><tr><td>149</td></tr><tr><td>150</td></tr><tr><td>158</td></tr><tr><td>160</td></tr><tr><td>161</td></tr><tr><td>163</td></tr><tr><td>169</td></tr><tr><td>187</td></tr><tr><td>190</td></tr><tr><td>196</td></tr><tr><td>199</td></tr><tr><td>232</td></tr><tr><td>239</td></tr><tr><td>244</td></tr><tr><td>245</td></tr><tr><td>246</td></tr><tr><td>247</td></tr><tr><td>249</td></tr><tr><td>251</td></tr><tr><td>271</td></tr><tr><td>275</td></tr><tr><td>289</td></tr><tr><td>291</td></tr><tr><td>293</td></tr><tr><td>297</td></tr><tr><td>301</td></tr><tr><td>317</td></tr><tr><td>325</td></tr><tr><td>345</td></tr><tr><td>351</td></tr><tr><td>355</td></tr><tr><td>357</td></tr><tr><td>359</td></tr><tr><td>361</td></tr><tr><td>367</td></tr><tr><td>369</td></tr><tr><td>372</td></tr><tr><td>375</td></tr><tr><td>379</td></tr><tr><td>383</td></tr><tr><td>386</td></tr><tr><td>399</td></tr><tr><td>427</td></tr><tr><td>431</td></tr><tr><td>434</td></tr><tr><td>440</td></tr><tr><td>445</td></tr><tr><td>447</td></tr><tr><td>467</td></tr><tr><td>474</td></tr><tr><td>476</td></tr><tr><td>485</td></tr><tr><td>493</td></tr><tr><td>494</td></tr><tr><td>495</td></tr><tr><td>528</td></tr><tr><td>531</td></tr><tr><td>538</td></tr><tr><td>548</td></tr><tr><td>551</td></tr><tr><td>573</td></tr><tr><td>580</td></tr><tr><td>586</td></tr><tr><td>589</td></tr><tr><td>599</td></tr><tr><td>603</td></tr><tr><td>607</td></tr><tr><td>611</td></tr><tr><td>628</td></tr><tr><td>647</td></tr><tr><td>670</td></tr><tr><td>675</td></tr><tr><td>676</td></tr><tr><td>678</td></tr><tr><td>687</td></tr><tr><td>695</td></tr><tr><td>705</td></tr><tr><td>715</td></tr><tr><td>731</td></tr></tbody></table></div>"
      ]
     },
     "metadata": {
      "application/vnd.databricks.v1+output": {
       "addedWidgets": {},
       "aggData": [],
       "aggError": "",
       "aggOverflow": false,
       "aggSchema": [],
       "aggSeriesLimitReached": false,
       "aggType": "",
       "arguments": {},
       "columnCustomDisplayInfos": {},
       "data": [
        [
         null
        ],
        [
         13
        ],
        [
         23
        ],
        [
         31
        ],
        [
         37
        ],
        [
         40
        ],
        [
         41
        ],
        [
         47
        ],
        [
         53
        ],
        [
         63
        ],
        [
         69
        ],
        [
         72
        ],
        [
         77
        ],
        [
         83
        ],
        [
         87
        ],
        [
         88
        ],
        [
         90
        ],
        [
         97
        ],
        [
         105
        ],
        [
         111
        ],
        [
         137
        ],
        [
         149
        ],
        [
         150
        ],
        [
         158
        ],
        [
         160
        ],
        [
         161
        ],
        [
         163
        ],
        [
         169
        ],
        [
         187
        ],
        [
         190
        ],
        [
         196
        ],
        [
         199
        ],
        [
         232
        ],
        [
         239
        ],
        [
         244
        ],
        [
         245
        ],
        [
         246
        ],
        [
         247
        ],
        [
         249
        ],
        [
         251
        ],
        [
         271
        ],
        [
         275
        ],
        [
         289
        ],
        [
         291
        ],
        [
         293
        ],
        [
         297
        ],
        [
         301
        ],
        [
         317
        ],
        [
         325
        ],
        [
         345
        ],
        [
         351
        ],
        [
         355
        ],
        [
         357
        ],
        [
         359
        ],
        [
         361
        ],
        [
         367
        ],
        [
         369
        ],
        [
         372
        ],
        [
         375
        ],
        [
         379
        ],
        [
         383
        ],
        [
         386
        ],
        [
         399
        ],
        [
         427
        ],
        [
         431
        ],
        [
         434
        ],
        [
         440
        ],
        [
         445
        ],
        [
         447
        ],
        [
         467
        ],
        [
         474
        ],
        [
         476
        ],
        [
         485
        ],
        [
         493
        ],
        [
         494
        ],
        [
         495
        ],
        [
         528
        ],
        [
         531
        ],
        [
         538
        ],
        [
         548
        ],
        [
         551
        ],
        [
         573
        ],
        [
         580
        ],
        [
         586
        ],
        [
         589
        ],
        [
         599
        ],
        [
         603
        ],
        [
         607
        ],
        [
         611
        ],
        [
         628
        ],
        [
         647
        ],
        [
         670
        ],
        [
         675
        ],
        [
         676
        ],
        [
         678
        ],
        [
         687
        ],
        [
         695
        ],
        [
         705
        ],
        [
         715
        ],
        [
         731
        ]
       ],
       "datasetInfos": [],
       "dbfsResultPath": null,
       "isJsonSchema": true,
       "metadata": {},
       "overflow": false,
       "plotOptions": {
        "customPlotOptions": {},
        "displayType": "table",
        "pivotAggregation": null,
        "pivotColumns": null,
        "xColumns": null,
        "yColumns": null
       },
       "removedWidgets": [],
       "schema": [
        {
         "metadata": "{}",
         "name": "_c6",
         "type": "\"integer\""
        }
       ],
       "type": "table"
      }
     },
     "output_type": "display_data"
    }
   ],
   "source": [
    "# tipo de socio\n",
    "df_raw_soc.select(\"_c6\").distinct().orderBy(\"_c6\", ascending=True).limit(100).display()"
   ]
  },
  {
   "cell_type": "code",
   "execution_count": 0,
   "metadata": {
    "application/vnd.databricks.v1+cell": {
     "cellMetadata": {
      "byteLimit": 2048000,
      "rowLimit": 10000
     },
     "inputWidgets": {},
     "nuid": "ee7df537-0e38-4c14-881d-c529ccab6186",
     "showTitle": false,
     "tableResultSettingsMap": {},
     "title": ""
    }
   },
   "outputs": [],
   "source": [
    "# definicao de schema\n",
    "schemaSocios = StructType([\n",
    "    StructField(\"cnpj\", IntegerType(), True),\n",
    "    StructField(\"tipo_socio\", IntegerType(), True),\n",
    "    StructField(\"nome_socio\", StringType(), True),\n",
    "    StructField(\"documento_socio\", StringType(), True),\n",
    "    StructField(\"codigo_qualificacao_socio\", IntegerType(), True),\n",
    "    StructField(\"cnpj_seg_num\", IntegerType(), True),\n",
    "    StructField(\"documento_co_responsavel\", StringType(), True),\n",
    "    StructField(\"nome_co_responsavel\", StringType(), True),\n",
    "    StructField(\"codigo_qualificacao_co_responsavel\", IntegerType(), True),\n",
    "    StructField(\"id_registro_co_responsavel\", IntegerType(), True)\n",
    "])\n",
    "\n",
    "df_list_soc = spark.read.options(header=False, inferSchema=True, sep=';') \\\n",
    "                .format(\"csv\") \\\n",
    "                    .schema(schemaSocios) \\\n",
    "                        .load(path_bronze_soc)"
   ]
  },
  {
   "cell_type": "code",
   "execution_count": 0,
   "metadata": {
    "application/vnd.databricks.v1+cell": {
     "cellMetadata": {
      "byteLimit": 2048000,
      "rowLimit": 10000
     },
     "inputWidgets": {},
     "nuid": "b8517a12-a248-4b99-8a62-cc27ae748ad7",
     "showTitle": false,
     "tableResultSettingsMap": {},
     "title": ""
    }
   },
   "outputs": [
    {
     "output_type": "display_data",
     "data": {
      "text/html": [
       "<style scoped>\n",
       "  .table-result-container {\n",
       "    max-height: 300px;\n",
       "    overflow: auto;\n",
       "  }\n",
       "  table, th, td {\n",
       "    border: 1px solid black;\n",
       "    border-collapse: collapse;\n",
       "  }\n",
       "  th, td {\n",
       "    padding: 5px;\n",
       "  }\n",
       "  th {\n",
       "    text-align: left;\n",
       "  }\n",
       "</style><div class='table-result-container'><table class='table-result'><thead style='background-color: white'><tr><th>id</th><th>tipo_socio</th><th>nome_socio</th><th>documento_socio</th><th>codigo_qualificacao_socio</th><th>id_registro</th><th>documento_co_responsavel</th><th>nome_co_responsavel</th><th>codigo_qualificacao_co_responsavel</th><th>id_registro_co_responsavel</th></tr></thead><tbody><tr><td>7396865</td><td>2</td><td>GERSON HOFFMANN</td><td>***240659**</td><td>49</td><td>20050518</td><td>null</td><td>***000000**</td><td>null</td><td>0</td></tr><tr><td>7396865</td><td>2</td><td>MITZI HARTMANN</td><td>***126339**</td><td>22</td><td>20080509</td><td>null</td><td>***000000**</td><td>null</td><td>0</td></tr><tr><td>52302726</td><td>2</td><td>BENEDITO BEZERRA DE CARVALHO</td><td>***061354**</td><td>49</td><td>20050921</td><td>null</td><td>***000000**</td><td>null</td><td>0</td></tr><tr><td>7396923</td><td>2</td><td>RENATO PEDUTO</td><td>***069508**</td><td>49</td><td>20050516</td><td>null</td><td>***000000**</td><td>null</td><td>0</td></tr><tr><td>7396923</td><td>2</td><td>ELAINE GARCIA</td><td>***971118**</td><td>49</td><td>20050516</td><td>null</td><td>***000000**</td><td>null</td><td>0</td></tr><tr><td>3650261</td><td>2</td><td>DILTO DE SOUZA</td><td>***236669**</td><td>49</td><td>19991217</td><td>null</td><td>***000000**</td><td>null</td><td>0</td></tr><tr><td>3650261</td><td>2</td><td>TAMARA SOUZA FREITAS</td><td>***042859**</td><td>22</td><td>20050328</td><td>null</td><td>***000000**</td><td>null</td><td>0</td></tr><tr><td>7396929</td><td>2</td><td>PAOLA CACELLA LADEIRO</td><td>***763888**</td><td>49</td><td>20050504</td><td>null</td><td>***000000**</td><td>null</td><td>0</td></tr><tr><td>7396929</td><td>2</td><td>FABIANO AUGUSTO RUGGIERO CACHELE</td><td>***807908**</td><td>49</td><td>20051124</td><td>null</td><td>***000000**</td><td>null</td><td>0</td></tr><tr><td>25040718</td><td>2</td><td>BENJAMIN BENONI MARTINS SPADONI</td><td>***205061**</td><td>16</td><td>20050912</td><td>null</td><td>***000000**</td><td>null</td><td>0</td></tr><tr><td>7396936</td><td>2</td><td>LUIZ FERNANDO FERREIRA GUIMARAES</td><td>***111236**</td><td>49</td><td>20050525</td><td>null</td><td>***000000**</td><td>null</td><td>0</td></tr><tr><td>7396936</td><td>2</td><td>IRINETE REGINA SILVA GUIMARAES</td><td>***487336**</td><td>22</td><td>20050525</td><td>null</td><td>***000000**</td><td>null</td><td>0</td></tr><tr><td>7396943</td><td>2</td><td>LUCIANO SOVIERZOSKI</td><td>***917839**</td><td>49</td><td>20050524</td><td>null</td><td>***000000**</td><td>null</td><td>0</td></tr><tr><td>7396943</td><td>2</td><td>ADRIANO SOVIERZOSKI</td><td>***053209**</td><td>22</td><td>20050524</td><td>null</td><td>***000000**</td><td>null</td><td>0</td></tr><tr><td>79457842</td><td>2</td><td>ANTONIO MOREIRA</td><td>***706629**</td><td>49</td><td>20110527</td><td>null</td><td>***000000**</td><td>null</td><td>0</td></tr><tr><td>79457842</td><td>2</td><td>BRUNO MATHEUS ALVES MOREIRA</td><td>***028829**</td><td>30</td><td>20110527</td><td>null</td><td>***268358**</td><td>null</td><td>15</td></tr><tr><td>591451</td><td>2</td><td>ISMAR JOSE KOHLER</td><td>***677319**</td><td>49</td><td>19950417</td><td>null</td><td>***000000**</td><td>null</td><td>0</td></tr><tr><td>591451</td><td>2</td><td>VANDA CECILIA KOHLER</td><td>***286988**</td><td>22</td><td>20141118</td><td>null</td><td>***000000**</td><td>null</td><td>0</td></tr><tr><td>3738052</td><td>2</td><td>ROSILDA JOSE DO NASCIMENTO</td><td>***672704**</td><td>49</td><td>20000406</td><td>null</td><td>***000000**</td><td>null</td><td>0</td></tr><tr><td>3738052</td><td>2</td><td>SONIA CRISTINA ARAUJO HINRICHSEN</td><td>***336724**</td><td>49</td><td>20000406</td><td>null</td><td>***000000**</td><td>null</td><td>0</td></tr></tbody></table></div>"
      ]
     },
     "metadata": {
      "application/vnd.databricks.v1+output": {
       "addedWidgets": {},
       "aggData": [],
       "aggError": "",
       "aggOverflow": false,
       "aggSchema": [],
       "aggSeriesLimitReached": false,
       "aggType": "",
       "arguments": {},
       "columnCustomDisplayInfos": {},
       "data": [
        [
         7396865,
         2,
         "GERSON HOFFMANN",
         "***240659**",
         49,
         20050518,
         null,
         "***000000**",
         null,
         0
        ],
        [
         7396865,
         2,
         "MITZI HARTMANN",
         "***126339**",
         22,
         20080509,
         null,
         "***000000**",
         null,
         0
        ],
        [
         52302726,
         2,
         "BENEDITO BEZERRA DE CARVALHO",
         "***061354**",
         49,
         20050921,
         null,
         "***000000**",
         null,
         0
        ],
        [
         7396923,
         2,
         "RENATO PEDUTO",
         "***069508**",
         49,
         20050516,
         null,
         "***000000**",
         null,
         0
        ],
        [
         7396923,
         2,
         "ELAINE GARCIA",
         "***971118**",
         49,
         20050516,
         null,
         "***000000**",
         null,
         0
        ],
        [
         3650261,
         2,
         "DILTO DE SOUZA",
         "***236669**",
         49,
         19991217,
         null,
         "***000000**",
         null,
         0
        ],
        [
         3650261,
         2,
         "TAMARA SOUZA FREITAS",
         "***042859**",
         22,
         20050328,
         null,
         "***000000**",
         null,
         0
        ],
        [
         7396929,
         2,
         "PAOLA CACELLA LADEIRO",
         "***763888**",
         49,
         20050504,
         null,
         "***000000**",
         null,
         0
        ],
        [
         7396929,
         2,
         "FABIANO AUGUSTO RUGGIERO CACHELE",
         "***807908**",
         49,
         20051124,
         null,
         "***000000**",
         null,
         0
        ],
        [
         25040718,
         2,
         "BENJAMIN BENONI MARTINS SPADONI",
         "***205061**",
         16,
         20050912,
         null,
         "***000000**",
         null,
         0
        ],
        [
         7396936,
         2,
         "LUIZ FERNANDO FERREIRA GUIMARAES",
         "***111236**",
         49,
         20050525,
         null,
         "***000000**",
         null,
         0
        ],
        [
         7396936,
         2,
         "IRINETE REGINA SILVA GUIMARAES",
         "***487336**",
         22,
         20050525,
         null,
         "***000000**",
         null,
         0
        ],
        [
         7396943,
         2,
         "LUCIANO SOVIERZOSKI",
         "***917839**",
         49,
         20050524,
         null,
         "***000000**",
         null,
         0
        ],
        [
         7396943,
         2,
         "ADRIANO SOVIERZOSKI",
         "***053209**",
         22,
         20050524,
         null,
         "***000000**",
         null,
         0
        ],
        [
         79457842,
         2,
         "ANTONIO MOREIRA",
         "***706629**",
         49,
         20110527,
         null,
         "***000000**",
         null,
         0
        ],
        [
         79457842,
         2,
         "BRUNO MATHEUS ALVES MOREIRA",
         "***028829**",
         30,
         20110527,
         null,
         "***268358**",
         null,
         15
        ],
        [
         591451,
         2,
         "ISMAR JOSE KOHLER",
         "***677319**",
         49,
         19950417,
         null,
         "***000000**",
         null,
         0
        ],
        [
         591451,
         2,
         "VANDA CECILIA KOHLER",
         "***286988**",
         22,
         20141118,
         null,
         "***000000**",
         null,
         0
        ],
        [
         3738052,
         2,
         "ROSILDA JOSE DO NASCIMENTO",
         "***672704**",
         49,
         20000406,
         null,
         "***000000**",
         null,
         0
        ],
        [
         3738052,
         2,
         "SONIA CRISTINA ARAUJO HINRICHSEN",
         "***336724**",
         49,
         20000406,
         null,
         "***000000**",
         null,
         0
        ]
       ],
       "datasetInfos": [],
       "dbfsResultPath": null,
       "isJsonSchema": true,
       "metadata": {},
       "overflow": false,
       "plotOptions": {
        "customPlotOptions": {},
        "displayType": "table",
        "pivotAggregation": null,
        "pivotColumns": null,
        "xColumns": null,
        "yColumns": null
       },
       "removedWidgets": [],
       "schema": [
        {
         "metadata": "{}",
         "name": "id",
         "type": "\"integer\""
        },
        {
         "metadata": "{}",
         "name": "tipo_socio",
         "type": "\"integer\""
        },
        {
         "metadata": "{}",
         "name": "nome_socio",
         "type": "\"string\""
        },
        {
         "metadata": "{}",
         "name": "documento_socio",
         "type": "\"string\""
        },
        {
         "metadata": "{}",
         "name": "codigo_qualificacao_socio",
         "type": "\"integer\""
        },
        {
         "metadata": "{}",
         "name": "id_registro",
         "type": "\"integer\""
        },
        {
         "metadata": "{}",
         "name": "documento_co_responsavel",
         "type": "\"string\""
        },
        {
         "metadata": "{}",
         "name": "nome_co_responsavel",
         "type": "\"string\""
        },
        {
         "metadata": "{}",
         "name": "codigo_qualificacao_co_responsavel",
         "type": "\"integer\""
        },
        {
         "metadata": "{}",
         "name": "id_registro_co_responsavel",
         "type": "\"integer\""
        }
       ],
       "type": "table"
      }
     },
     "output_type": "display_data"
    }
   ],
   "source": [
    "df_list_soc.limit(20).display()"
   ]
  },
  {
   "cell_type": "code",
   "execution_count": 0,
   "metadata": {
    "application/vnd.databricks.v1+cell": {
     "cellMetadata": {
      "byteLimit": 2048000,
      "rowLimit": 10000
     },
     "inputWidgets": {},
     "nuid": "705ebc0e-cbea-4fa9-99ad-026a56d68a22",
     "showTitle": false,
     "tableResultSettingsMap": {},
     "title": ""
    }
   },
   "outputs": [
    {
     "output_type": "display_data",
     "data": {
      "text/html": [
       "<style scoped>\n",
       "  .table-result-container {\n",
       "    max-height: 300px;\n",
       "    overflow: auto;\n",
       "  }\n",
       "  table, th, td {\n",
       "    border: 1px solid black;\n",
       "    border-collapse: collapse;\n",
       "  }\n",
       "  th, td {\n",
       "    padding: 5px;\n",
       "  }\n",
       "  th {\n",
       "    text-align: left;\n",
       "  }\n",
       "</style><div class='table-result-container'><table class='table-result'><thead style='background-color: white'><tr><th>nome_socio</th></tr></thead><tbody><tr><td> JMC STOPPIGLIA ADMINISTRACAO DE BENS PROPRIOS LTDA</td></tr><tr><td> SANTA TERESA PARTICIPACOES S.A.</td></tr><tr><td> GRAMADO PARKS INVESTIMENTOS E INTERMEDIACOES S.A - EM RECUPERACAO JUDICIAL</td></tr><tr><td> INCUB PARTICIPACOES EIRELI</td></tr><tr><td> GRAMADO PARKS INVESTIMENTOS E INTERMEDIACOES S.A - EM RECUPERACAO JUDICIAL</td></tr></tbody></table></div>"
      ]
     },
     "metadata": {
      "application/vnd.databricks.v1+output": {
       "addedWidgets": {},
       "aggData": [],
       "aggError": "",
       "aggOverflow": false,
       "aggSchema": [],
       "aggSeriesLimitReached": false,
       "aggType": "",
       "arguments": {},
       "columnCustomDisplayInfos": {},
       "data": [
        [
         " JMC STOPPIGLIA ADMINISTRACAO DE BENS PROPRIOS LTDA"
        ],
        [
         " SANTA TERESA PARTICIPACOES S.A."
        ],
        [
         " GRAMADO PARKS INVESTIMENTOS E INTERMEDIACOES S.A - EM RECUPERACAO JUDICIAL"
        ],
        [
         " INCUB PARTICIPACOES EIRELI"
        ],
        [
         " GRAMADO PARKS INVESTIMENTOS E INTERMEDIACOES S.A - EM RECUPERACAO JUDICIAL"
        ]
       ],
       "datasetInfos": [],
       "dbfsResultPath": null,
       "isJsonSchema": true,
       "metadata": {},
       "overflow": false,
       "plotOptions": {
        "customPlotOptions": {},
        "displayType": "table",
        "pivotAggregation": null,
        "pivotColumns": null,
        "xColumns": null,
        "yColumns": null
       },
       "removedWidgets": [],
       "schema": [
        {
         "metadata": "{}",
         "name": "nome_socio",
         "type": "\"string\""
        }
       ],
       "type": "table"
      }
     },
     "output_type": "display_data"
    }
   ],
   "source": [
    "df_list_soc.select(\"nome_socio\").filter(col(\"nome_socio\").like(\" %\")).limit(100).display()"
   ]
  },
  {
   "cell_type": "code",
   "execution_count": 0,
   "metadata": {
    "application/vnd.databricks.v1+cell": {
     "cellMetadata": {
      "byteLimit": 2048000,
      "rowLimit": 10000
     },
     "inputWidgets": {},
     "nuid": "98b47af0-5e56-408c-ad54-ddf22ffa7c11",
     "showTitle": false,
     "tableResultSettingsMap": {},
     "title": ""
    }
   },
   "outputs": [],
   "source": [
    "# Remoção de espaços em branco                       \n",
    "df_list_soc = (df_list_soc\n",
    "               .withColumn(\"nome_socio_format\",\n",
    "                           F.regexp_replace(col(\"nome_socio\"), \"^\\\\s+\", \"\"))\n",
    "                    .drop(\"nome_socio\")\n",
    "                        .withColumnRenamed(\"nome_socio_format\", \"nome_socio\")\n",
    "                        ).select(\n",
    "                            'cnpj'\n",
    "                            , 'tipo_socio'\n",
    "                            , 'nome_socio'\n",
    "                            , 'documento_socio'\n",
    "                            , 'codigo_qualificacao_socio'\n",
    "                        )"
   ]
  },
  {
   "cell_type": "code",
   "execution_count": 0,
   "metadata": {
    "application/vnd.databricks.v1+cell": {
     "cellMetadata": {
      "byteLimit": 2048000,
      "rowLimit": 10000
     },
     "inputWidgets": {},
     "nuid": "9f3b0593-1804-42a0-9142-1d8c70cf3d62",
     "showTitle": false,
     "tableResultSettingsMap": {},
     "title": ""
    }
   },
   "outputs": [
    {
     "output_type": "display_data",
     "data": {
      "text/html": [
       "<style scoped>\n",
       "  .table-result-container {\n",
       "    max-height: 300px;\n",
       "    overflow: auto;\n",
       "  }\n",
       "  table, th, td {\n",
       "    border: 1px solid black;\n",
       "    border-collapse: collapse;\n",
       "  }\n",
       "  th, td {\n",
       "    padding: 5px;\n",
       "  }\n",
       "  th {\n",
       "    text-align: left;\n",
       "  }\n",
       "</style><div class='table-result-container'><table class='table-result'><thead style='background-color: white'><tr><th>cnpj</th><th>tipo_socio</th><th>nome_socio</th><th>documento_socio</th><th>codigo_qualificacao_socio</th></tr></thead><tbody><tr><td>7396865</td><td>2</td><td>GERSON HOFFMANN</td><td>***240659**</td><td>49</td></tr><tr><td>7396865</td><td>2</td><td>MITZI HARTMANN</td><td>***126339**</td><td>22</td></tr><tr><td>52302726</td><td>2</td><td>BENEDITO BEZERRA DE CARVALHO</td><td>***061354**</td><td>49</td></tr><tr><td>7396923</td><td>2</td><td>RENATO PEDUTO</td><td>***069508**</td><td>49</td></tr><tr><td>7396923</td><td>2</td><td>ELAINE GARCIA</td><td>***971118**</td><td>49</td></tr><tr><td>3650261</td><td>2</td><td>DILTO DE SOUZA</td><td>***236669**</td><td>49</td></tr><tr><td>3650261</td><td>2</td><td>TAMARA SOUZA FREITAS</td><td>***042859**</td><td>22</td></tr><tr><td>7396929</td><td>2</td><td>PAOLA CACELLA LADEIRO</td><td>***763888**</td><td>49</td></tr><tr><td>7396929</td><td>2</td><td>FABIANO AUGUSTO RUGGIERO CACHELE</td><td>***807908**</td><td>49</td></tr><tr><td>25040718</td><td>2</td><td>BENJAMIN BENONI MARTINS SPADONI</td><td>***205061**</td><td>16</td></tr><tr><td>7396936</td><td>2</td><td>LUIZ FERNANDO FERREIRA GUIMARAES</td><td>***111236**</td><td>49</td></tr><tr><td>7396936</td><td>2</td><td>IRINETE REGINA SILVA GUIMARAES</td><td>***487336**</td><td>22</td></tr><tr><td>7396943</td><td>2</td><td>LUCIANO SOVIERZOSKI</td><td>***917839**</td><td>49</td></tr><tr><td>7396943</td><td>2</td><td>ADRIANO SOVIERZOSKI</td><td>***053209**</td><td>22</td></tr><tr><td>79457842</td><td>2</td><td>ANTONIO MOREIRA</td><td>***706629**</td><td>49</td></tr><tr><td>79457842</td><td>2</td><td>BRUNO MATHEUS ALVES MOREIRA</td><td>***028829**</td><td>30</td></tr><tr><td>591451</td><td>2</td><td>ISMAR JOSE KOHLER</td><td>***677319**</td><td>49</td></tr><tr><td>591451</td><td>2</td><td>VANDA CECILIA KOHLER</td><td>***286988**</td><td>22</td></tr><tr><td>3738052</td><td>2</td><td>ROSILDA JOSE DO NASCIMENTO</td><td>***672704**</td><td>49</td></tr><tr><td>3738052</td><td>2</td><td>SONIA CRISTINA ARAUJO HINRICHSEN</td><td>***336724**</td><td>49</td></tr><tr><td>7032062</td><td>2</td><td>JOAQUIM JOSE TEIXEIRA</td><td>***703093**</td><td>49</td></tr><tr><td>7032062</td><td>2</td><td>MANOEL NESTOR TEIXEIRA</td><td>***332263**</td><td>49</td></tr><tr><td>64861016</td><td>2</td><td>EDSON WILSON PEREIRA</td><td>***043008**</td><td>49</td></tr><tr><td>64861016</td><td>2</td><td>CECILIA FERNANDES DA FONSECA PEREIRA</td><td>***204128**</td><td>22</td></tr><tr><td>7397004</td><td>2</td><td>HUMBERTO RODRIGUES DOS SANTOS</td><td>***880651**</td><td>49</td></tr><tr><td>7397004</td><td>2</td><td>MARLENE FERNANDES SILVA</td><td>***166781**</td><td>22</td></tr><tr><td>6914936</td><td>2</td><td>HELDER CUSTODIO DE ARAUJO</td><td>***287126**</td><td>49</td></tr><tr><td>6914936</td><td>2</td><td>GERALDO MAGELA DE ARAUJO</td><td>***993596**</td><td>49</td></tr><tr><td>6914936</td><td>2</td><td>JAIME PINTO NEVES FILHO</td><td>***479836**</td><td>49</td></tr><tr><td>6914936</td><td>2</td><td>ROSANA CONEGUNDES ARAUJO</td><td>***536686**</td><td>22</td></tr><tr><td>7397012</td><td>2</td><td>MARIZA DA SILVA</td><td>***124149**</td><td>49</td></tr><tr><td>7397012</td><td>2</td><td>MARIA JACI BITTENCOURT DA SILVA</td><td>***818859**</td><td>22</td></tr><tr><td>7397017</td><td>2</td><td>JOSE BEZERRA FILHO</td><td>***853504**</td><td>49</td></tr><tr><td>7397017</td><td>2</td><td>MARILEIA BEZERRA SILVA DA ROCHA</td><td>***115634**</td><td>22</td></tr><tr><td>5893869</td><td>2</td><td>SANTIAGO SCHULTZ</td><td>***902688**</td><td>49</td></tr><tr><td>6215436</td><td>2</td><td>FERNANDO DE PAULA CARNEIRO RIBEIRO</td><td>***048108**</td><td>49</td></tr><tr><td>6215436</td><td>2</td><td>RAFAEL DE PAULA CARNEIRO RIBEIRO</td><td>***582428**</td><td>49</td></tr><tr><td>6215436</td><td>1</td><td>ARUJA EMPREENDIMENTOS LTDA</td><td>46006664000169</td><td>22</td></tr><tr><td>35735885</td><td>2</td><td>LUIZ CARLOS SANDES PARANHOS</td><td>***048454**</td><td>49</td></tr><tr><td>35735885</td><td>2</td><td>LUCIA DE FATIMA RANGEL PARANHOS</td><td>***803204**</td><td>22</td></tr><tr><td>35735885</td><td>2</td><td>LUIZ CARLOS SANDES PARANHOS JUNIOR</td><td>***035334**</td><td>22</td></tr><tr><td>7397047</td><td>2</td><td>JEANE ROSA FREIRE</td><td>***074771**</td><td>49</td></tr><tr><td>7397047</td><td>2</td><td>ALEXANDER FREIRE DOS SANTOS</td><td>***205901**</td><td>30</td></tr><tr><td>80320104</td><td>2</td><td>PEDRO DOMINGOS PIGOZZO</td><td>***742169**</td><td>49</td></tr><tr><td>80320104</td><td>2</td><td>MARIA LUIZA MILANI PIGOZZO</td><td>***954829**</td><td>22</td></tr><tr><td>7397065</td><td>2</td><td>JOAO FRANCISCO TORRES</td><td>***182527**</td><td>49</td></tr><tr><td>7397065</td><td>1</td><td>BRASILIA INVESTIMENTOS LTDA. S/S</td><td>01756852000176</td><td>22</td></tr><tr><td>3116132</td><td>2</td><td>CARLA REGINA DE VASCONCELLOS CASTELLANI NAHAISSI</td><td>***196298**</td><td>49</td></tr><tr><td>3116132</td><td>2</td><td>CLODOALDO HUGO DE VASCONCELLOS CASTELLANI</td><td>***240808**</td><td>49</td></tr><tr><td>3116132</td><td>2</td><td>TATIANA MARIA DE VASCONCELLOS CASTELLANI DA FONTE</td><td>***091948**</td><td>22</td></tr></tbody></table></div>"
      ]
     },
     "metadata": {
      "application/vnd.databricks.v1+output": {
       "addedWidgets": {},
       "aggData": [],
       "aggError": "",
       "aggOverflow": false,
       "aggSchema": [],
       "aggSeriesLimitReached": false,
       "aggType": "",
       "arguments": {},
       "columnCustomDisplayInfos": {},
       "data": [
        [
         7396865,
         2,
         "GERSON HOFFMANN",
         "***240659**",
         49
        ],
        [
         7396865,
         2,
         "MITZI HARTMANN",
         "***126339**",
         22
        ],
        [
         52302726,
         2,
         "BENEDITO BEZERRA DE CARVALHO",
         "***061354**",
         49
        ],
        [
         7396923,
         2,
         "RENATO PEDUTO",
         "***069508**",
         49
        ],
        [
         7396923,
         2,
         "ELAINE GARCIA",
         "***971118**",
         49
        ],
        [
         3650261,
         2,
         "DILTO DE SOUZA",
         "***236669**",
         49
        ],
        [
         3650261,
         2,
         "TAMARA SOUZA FREITAS",
         "***042859**",
         22
        ],
        [
         7396929,
         2,
         "PAOLA CACELLA LADEIRO",
         "***763888**",
         49
        ],
        [
         7396929,
         2,
         "FABIANO AUGUSTO RUGGIERO CACHELE",
         "***807908**",
         49
        ],
        [
         25040718,
         2,
         "BENJAMIN BENONI MARTINS SPADONI",
         "***205061**",
         16
        ],
        [
         7396936,
         2,
         "LUIZ FERNANDO FERREIRA GUIMARAES",
         "***111236**",
         49
        ],
        [
         7396936,
         2,
         "IRINETE REGINA SILVA GUIMARAES",
         "***487336**",
         22
        ],
        [
         7396943,
         2,
         "LUCIANO SOVIERZOSKI",
         "***917839**",
         49
        ],
        [
         7396943,
         2,
         "ADRIANO SOVIERZOSKI",
         "***053209**",
         22
        ],
        [
         79457842,
         2,
         "ANTONIO MOREIRA",
         "***706629**",
         49
        ],
        [
         79457842,
         2,
         "BRUNO MATHEUS ALVES MOREIRA",
         "***028829**",
         30
        ],
        [
         591451,
         2,
         "ISMAR JOSE KOHLER",
         "***677319**",
         49
        ],
        [
         591451,
         2,
         "VANDA CECILIA KOHLER",
         "***286988**",
         22
        ],
        [
         3738052,
         2,
         "ROSILDA JOSE DO NASCIMENTO",
         "***672704**",
         49
        ],
        [
         3738052,
         2,
         "SONIA CRISTINA ARAUJO HINRICHSEN",
         "***336724**",
         49
        ],
        [
         7032062,
         2,
         "JOAQUIM JOSE TEIXEIRA",
         "***703093**",
         49
        ],
        [
         7032062,
         2,
         "MANOEL NESTOR TEIXEIRA",
         "***332263**",
         49
        ],
        [
         64861016,
         2,
         "EDSON WILSON PEREIRA",
         "***043008**",
         49
        ],
        [
         64861016,
         2,
         "CECILIA FERNANDES DA FONSECA PEREIRA",
         "***204128**",
         22
        ],
        [
         7397004,
         2,
         "HUMBERTO RODRIGUES DOS SANTOS",
         "***880651**",
         49
        ],
        [
         7397004,
         2,
         "MARLENE FERNANDES SILVA",
         "***166781**",
         22
        ],
        [
         6914936,
         2,
         "HELDER CUSTODIO DE ARAUJO",
         "***287126**",
         49
        ],
        [
         6914936,
         2,
         "GERALDO MAGELA DE ARAUJO",
         "***993596**",
         49
        ],
        [
         6914936,
         2,
         "JAIME PINTO NEVES FILHO",
         "***479836**",
         49
        ],
        [
         6914936,
         2,
         "ROSANA CONEGUNDES ARAUJO",
         "***536686**",
         22
        ],
        [
         7397012,
         2,
         "MARIZA DA SILVA",
         "***124149**",
         49
        ],
        [
         7397012,
         2,
         "MARIA JACI BITTENCOURT DA SILVA",
         "***818859**",
         22
        ],
        [
         7397017,
         2,
         "JOSE BEZERRA FILHO",
         "***853504**",
         49
        ],
        [
         7397017,
         2,
         "MARILEIA BEZERRA SILVA DA ROCHA",
         "***115634**",
         22
        ],
        [
         5893869,
         2,
         "SANTIAGO SCHULTZ",
         "***902688**",
         49
        ],
        [
         6215436,
         2,
         "FERNANDO DE PAULA CARNEIRO RIBEIRO",
         "***048108**",
         49
        ],
        [
         6215436,
         2,
         "RAFAEL DE PAULA CARNEIRO RIBEIRO",
         "***582428**",
         49
        ],
        [
         6215436,
         1,
         "ARUJA EMPREENDIMENTOS LTDA",
         "46006664000169",
         22
        ],
        [
         35735885,
         2,
         "LUIZ CARLOS SANDES PARANHOS",
         "***048454**",
         49
        ],
        [
         35735885,
         2,
         "LUCIA DE FATIMA RANGEL PARANHOS",
         "***803204**",
         22
        ],
        [
         35735885,
         2,
         "LUIZ CARLOS SANDES PARANHOS JUNIOR",
         "***035334**",
         22
        ],
        [
         7397047,
         2,
         "JEANE ROSA FREIRE",
         "***074771**",
         49
        ],
        [
         7397047,
         2,
         "ALEXANDER FREIRE DOS SANTOS",
         "***205901**",
         30
        ],
        [
         80320104,
         2,
         "PEDRO DOMINGOS PIGOZZO",
         "***742169**",
         49
        ],
        [
         80320104,
         2,
         "MARIA LUIZA MILANI PIGOZZO",
         "***954829**",
         22
        ],
        [
         7397065,
         2,
         "JOAO FRANCISCO TORRES",
         "***182527**",
         49
        ],
        [
         7397065,
         1,
         "BRASILIA INVESTIMENTOS LTDA. S/S",
         "01756852000176",
         22
        ],
        [
         3116132,
         2,
         "CARLA REGINA DE VASCONCELLOS CASTELLANI NAHAISSI",
         "***196298**",
         49
        ],
        [
         3116132,
         2,
         "CLODOALDO HUGO DE VASCONCELLOS CASTELLANI",
         "***240808**",
         49
        ],
        [
         3116132,
         2,
         "TATIANA MARIA DE VASCONCELLOS CASTELLANI DA FONTE",
         "***091948**",
         22
        ]
       ],
       "datasetInfos": [],
       "dbfsResultPath": null,
       "isJsonSchema": true,
       "metadata": {},
       "overflow": false,
       "plotOptions": {
        "customPlotOptions": {},
        "displayType": "table",
        "pivotAggregation": null,
        "pivotColumns": null,
        "xColumns": null,
        "yColumns": null
       },
       "removedWidgets": [],
       "schema": [
        {
         "metadata": "{}",
         "name": "cnpj",
         "type": "\"integer\""
        },
        {
         "metadata": "{}",
         "name": "tipo_socio",
         "type": "\"integer\""
        },
        {
         "metadata": "{}",
         "name": "nome_socio",
         "type": "\"string\""
        },
        {
         "metadata": "{}",
         "name": "documento_socio",
         "type": "\"string\""
        },
        {
         "metadata": "{}",
         "name": "codigo_qualificacao_socio",
         "type": "\"integer\""
        }
       ],
       "type": "table"
      }
     },
     "output_type": "display_data"
    }
   ],
   "source": [
    "df_list_soc.limit(50).display()"
   ]
  },
  {
   "cell_type": "code",
   "execution_count": 0,
   "metadata": {
    "application/vnd.databricks.v1+cell": {
     "cellMetadata": {
      "byteLimit": 2048000,
      "rowLimit": 10000
     },
     "inputWidgets": {},
     "nuid": "cef3bd22-876b-44ce-852a-5ccdfeb42997",
     "showTitle": false,
     "tableResultSettingsMap": {},
     "title": ""
    }
   },
   "outputs": [
    {
     "output_type": "execute_result",
     "data": {
      "text/plain": [
       "1975483"
      ]
     },
     "execution_count": 17,
     "metadata": {},
     "output_type": "execute_result"
    }
   ],
   "source": [
    "df_list_soc.select(\"documento_socio\").filter(col(\"documento_socio\").like('%*%')).count()"
   ]
  },
  {
   "cell_type": "code",
   "execution_count": 0,
   "metadata": {
    "application/vnd.databricks.v1+cell": {
     "cellMetadata": {
      "byteLimit": 2048000,
      "rowLimit": 10000
     },
     "inputWidgets": {},
     "nuid": "89331796-ec0a-4f85-99a6-7812d37dd5c3",
     "showTitle": false,
     "tableResultSettingsMap": {},
     "title": ""
    }
   },
   "outputs": [],
   "source": [
    "# Criar schema no metastore\n",
    "spark.sql(\"CREATE SCHEMA IF NOT EXISTS hive_metastore.db_rfb\")\n",
    "# Salvar tabela delta\n",
    "df_list_soc.write.mode(\"append\").format(\"delta\").saveAsTable(\"hive_metastore.db_rfb.tbl_slv_socios\")"
   ]
  }
 ],
 "metadata": {
  "application/vnd.databricks.v1+notebook": {
   "computePreferences": null,
   "dashboards": [],
   "environmentMetadata": {
    "base_environment": "",
    "environment_version": "2"
   },
   "language": "python",
   "notebookMetadata": {
    "pythonIndentUnit": 4
   },
   "notebookName": "analise_socios_silver",
   "widgets": {}
  },
  "language_info": {
   "name": "python"
  }
 },
 "nbformat": 4,
 "nbformat_minor": 0
}