{
 "cells": [
  {
   "cell_type": "code",
   "execution_count": 0,
   "metadata": {
    "application/vnd.databricks.v1+cell": {
     "cellMetadata": {
      "byteLimit": 2048000,
      "rowLimit": 10000
     },
     "inputWidgets": {},
     "nuid": "db0415a1-46f5-43d6-b13d-6be2cc1e54c3",
     "showTitle": false,
     "tableResultSettingsMap": {},
     "title": ""
    }
   },
   "outputs": [],
   "source": [
    "# libs\n",
    "import os\n",
    "from pyspark.sql.types import StructType, StructField, StringType, IntegerType, FloatType\n",
    "from pyspark.sql.functions import col, split\n",
    "from pyspark.sql import functions as F\n",
    "\n",
    "# paths\n",
    "path_bronze_soc = \"dbfs:/FileStore/shared_uploads/default_user/bronze/*SOCIOCSV\""
   ]
  },
  {
   "cell_type": "code",
   "execution_count": 0,
   "metadata": {
    "application/vnd.databricks.v1+cell": {
     "cellMetadata": {
      "byteLimit": 2048000,
      "rowLimit": 10000
     },
     "inputWidgets": {},
     "nuid": "2375a0c8-c94b-47dc-9b75-b1def0c3af68",
     "showTitle": false,
     "tableResultSettingsMap": {},
     "title": ""
    }
   },
   "outputs": [],
   "source": [
    "df_raw_soc = spark.read.options(header=False, inferSchema=True, sep=';').format(\"csv\").load(path_bronze_soc)\n",
    "df_raw_soc.printSchema()"
   ]
  },
  {
   "cell_type": "code",
   "execution_count": 0,
   "metadata": {
    "application/vnd.databricks.v1+cell": {
     "cellMetadata": {
      "byteLimit": 2048000,
      "rowLimit": 10000
     },
     "inputWidgets": {},
     "nuid": "3bd19e6d-2083-4803-8c3c-bb41b8fcf5fe",
     "showTitle": false,
     "tableResultSettingsMap": {},
     "title": ""
    }
   },
   "outputs": [],
   "source": [
    "df_raw_soc.limit(50).display()"
   ]
  },
  {
   "cell_type": "code",
   "execution_count": 0,
   "metadata": {
    "application/vnd.databricks.v1+cell": {
     "cellMetadata": {
      "byteLimit": 2048000,
      "rowLimit": 10000
     },
     "inputWidgets": {},
     "nuid": "d7119068-73d8-4299-9f7b-b3a208ed909e",
     "showTitle": false,
     "tableResultSettingsMap": {},
     "title": ""
    }
   },
   "outputs": [],
   "source": [
    "# tipo de socio\n",
    "df_raw_soc.select(\"_c1\").distinct().orderBy(\"_c1\", ascending=True).limit(100).display()"
   ]
  },
  {
   "cell_type": "code",
   "execution_count": 0,
   "metadata": {
    "application/vnd.databricks.v1+cell": {
     "cellMetadata": {
      "byteLimit": 2048000,
      "rowLimit": 10000
     },
     "inputWidgets": {},
     "nuid": "c5f0445b-e318-4166-aefd-55c4e6e97386",
     "showTitle": false,
     "tableResultSettingsMap": {},
     "title": ""
    }
   },
   "outputs": [],
   "source": [
    "# tipo de socio\n",
    "df_raw_soc.select(\"_c6\").distinct().orderBy(\"_c6\", ascending=True).limit(100).display()"
   ]
  },
  {
   "cell_type": "code",
   "execution_count": 0,
   "metadata": {
    "application/vnd.databricks.v1+cell": {
     "cellMetadata": {
      "byteLimit": 2048000,
      "rowLimit": 10000
     },
     "inputWidgets": {},
     "nuid": "ee7df537-0e38-4c14-881d-c529ccab6186",
     "showTitle": false,
     "tableResultSettingsMap": {},
     "title": ""
    }
   },
   "outputs": [],
   "source": [
    "# definicao de schema\n",
    "schemaSocios = StructType([\n",
    "    StructField(\"cnpj\", IntegerType(), True),\n",
    "    StructField(\"tipo_socio\", IntegerType(), True),\n",
    "    StructField(\"nome_socio\", StringType(), True),\n",
    "    StructField(\"documento_socio\", StringType(), True),\n",
    "    StructField(\"codigo_qualificacao_socio\", IntegerType(), True),\n",
    "    StructField(\"cnpj_seg_num\", IntegerType(), True),\n",
    "    StructField(\"documento_co_responsavel\", StringType(), True),\n",
    "    StructField(\"nome_co_responsavel\", StringType(), True),\n",
    "    StructField(\"codigo_qualificacao_co_responsavel\", IntegerType(), True),\n",
    "    StructField(\"id_registro_co_responsavel\", IntegerType(), True)\n",
    "])\n",
    "\n",
    "df_list_soc = spark.read.options(header=False, inferSchema=True, sep=';') \\\n",
    "                .format(\"csv\") \\\n",
    "                    .schema(schemaSocios) \\\n",
    "                        .load(path_bronze_soc)"
   ]
  },
  {
   "cell_type": "code",
   "execution_count": 0,
   "metadata": {
    "application/vnd.databricks.v1+cell": {
     "cellMetadata": {
      "byteLimit": 2048000,
      "rowLimit": 10000
     },
     "inputWidgets": {},
     "nuid": "b8517a12-a248-4b99-8a62-cc27ae748ad7",
     "showTitle": false,
     "tableResultSettingsMap": {},
     "title": ""
    }
   },
   "outputs": [],
   "source": [
    "df_list_soc.limit(20).display()"
   ]
  },
  {
   "cell_type": "code",
   "execution_count": 0,
   "metadata": {
    "application/vnd.databricks.v1+cell": {
     "cellMetadata": {
      "byteLimit": 2048000,
      "rowLimit": 10000
     },
     "inputWidgets": {},
     "nuid": "705ebc0e-cbea-4fa9-99ad-026a56d68a22",
     "showTitle": false,
     "tableResultSettingsMap": {},
     "title": ""
    }
   },
   "outputs": [],
   "source": [
    "df_list_soc.select(\"nome_socio\").filter(col(\"nome_socio\").like(\" %\")).limit(100).display()"
   ]
  },
  {
   "cell_type": "code",
   "execution_count": 0,
   "metadata": {
    "application/vnd.databricks.v1+cell": {
     "cellMetadata": {
      "byteLimit": 2048000,
      "rowLimit": 10000
     },
     "inputWidgets": {},
     "nuid": "98b47af0-5e56-408c-ad54-ddf22ffa7c11",
     "showTitle": false,
     "tableResultSettingsMap": {},
     "title": ""
    }
   },
   "outputs": [],
   "source": [
    "# Remoção de espaços em branco                       \n",
    "df_list_soc = (df_list_soc\n",
    "               .withColumn(\"nome_socio_format\",\n",
    "                           F.regexp_replace(col(\"nome_socio\"), \"^\\\\s+\", \"\"))\n",
    "                    .drop(\"nome_socio\")\n",
    "                        .withColumnRenamed(\"nome_socio_format\", \"nome_socio\")\n",
    "                        ).select(\n",
    "                            'cnpj'\n",
    "                            , 'tipo_socio'\n",
    "                            , 'nome_socio'\n",
    "                            , 'documento_socio'\n",
    "                            , 'codigo_qualificacao_socio'\n",
    "                        )"
   ]
  },
  {
   "cell_type": "code",
   "execution_count": 0,
   "metadata": {
    "application/vnd.databricks.v1+cell": {
     "cellMetadata": {
      "byteLimit": 2048000,
      "rowLimit": 10000
     },
     "inputWidgets": {},
     "nuid": "9f3b0593-1804-42a0-9142-1d8c70cf3d62",
     "showTitle": false,
     "tableResultSettingsMap": {},
     "title": ""
    }
   },
   "outputs": [],
   "source": [
    "df_list_soc.limit(50).display()"
   ]
  },
  {
   "cell_type": "code",
   "execution_count": 0,
   "metadata": {
    "application/vnd.databricks.v1+cell": {
     "cellMetadata": {
      "byteLimit": 2048000,
      "rowLimit": 10000
     },
     "inputWidgets": {},
     "nuid": "cef3bd22-876b-44ce-852a-5ccdfeb42997",
     "showTitle": false,
     "tableResultSettingsMap": {},
     "title": ""
    }
   },
   "outputs": [],
   "source": [
    "df_list_soc.select(\"documento_socio\").filter(col(\"documento_socio\").like('%*%')).count()"
   ]
  },
  {
   "cell_type": "code",
   "execution_count": 0,
   "metadata": {
    "application/vnd.databricks.v1+cell": {
     "cellMetadata": {
      "byteLimit": 2048000,
      "rowLimit": 10000
     },
     "inputWidgets": {},
     "nuid": "89331796-ec0a-4f85-99a6-7812d37dd5c3",
     "showTitle": false,
     "tableResultSettingsMap": {},
     "title": ""
    }
   },
   "outputs": [],
   "source": [
    "# Criar schema no metastore\n",
    "spark.sql(\"CREATE SCHEMA IF NOT EXISTS hive_metastore.db_rfb\")\n",
    "# Salvar tabela delta\n",
    "df_list_soc.write.mode(\"append\").format(\"delta\").saveAsTable(\"hive_metastore.db_rfb.tbl_slv_socios\")"
   ]
  }
 ],
 "metadata": {
  "application/vnd.databricks.v1+notebook": {
   "computePreferences": null,
   "dashboards": [],
   "environmentMetadata": {
    "base_environment": "",
    "environment_version": "2"
   },
   "language": "python",
   "notebookMetadata": {
    "pythonIndentUnit": 4
   },
   "notebookName": "analise_socios_silver",
   "widgets": {}
  },
  "language_info": {
   "name": "python"
  }
 },
 "nbformat": 4,
 "nbformat_minor": 0
}
